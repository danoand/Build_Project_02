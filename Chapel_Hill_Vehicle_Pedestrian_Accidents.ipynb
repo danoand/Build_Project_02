{
 "cells": [
  {
   "cell_type": "code",
   "execution_count": 1,
   "metadata": {},
   "outputs": [],
   "source": [
    "import pandas as pd\n",
    "import numpy as np"
   ]
  },
  {
   "cell_type": "code",
   "execution_count": 2,
   "metadata": {},
   "outputs": [],
   "source": [
    "# Import the Chapel Hill data\n",
    "df_work = pd.read_csv(\"/Users/danoand/Documents/Companies/LambdaSchool/Build_Project_02/data/pedestrian-crashes-chapel-hill-region_imported.txt\",\n",
    "                     sep='\\t')"
   ]
  },
  {
   "cell_type": "code",
   "execution_count": 3,
   "metadata": {},
   "outputs": [],
   "source": [
    "# Profile the \"work\" dataframe\n",
    "from pandas_profiling import ProfileReport\n",
    "\n",
    "profile = ProfileReport(df_work, title='Pandas Profiling Report', html={'style':{'full_width':True}})\n",
    "profile.to_file(output_file=\"/Users/danoand/Documents/Companies/LambdaSchool/Build_Project_02/data/ChapelHillAccidents.html\")"
   ]
  },
  {
   "cell_type": "code",
   "execution_count": 4,
   "metadata": {},
   "outputs": [],
   "source": [
    "# Define \"ante\" columns (data that can be reasonably known prior to the event)\n",
    "# Notes:\n",
    "#   - removed the lat/long column \n",
    "categories_ante = [\n",
    "    'City',\n",
    "    'County',\n",
    "    'CrashHour',\n",
    "    'CrashMonth',\n",
    "    'Development',\n",
    "    'LightCond',\n",
    "    'Locality',\n",
    "    'NumLanes',\n",
    "    'RdCharacte',\n",
    "    'RdClass',\n",
    "    'RdConditio',\n",
    "    'RdConfig',\n",
    "    'RdDefects',\n",
    "    'RdFeature',\n",
    "    'RdSurface',\n",
    "    'Region',\n",
    "    'RuralUrban',\n",
    "    'SpeedLimit',\n",
    "    'TraffCntrl',\n",
    "    'Weather',\n",
    "    'Workzone',\n",
    "    'PedInjury']        # Source for the target data"
   ]
  },
  {
   "cell_type": "code",
   "execution_count": 6,
   "metadata": {},
   "outputs": [
    {
     "data": {
      "text/html": "<div>\n<style scoped>\n    .dataframe tbody tr th:only-of-type {\n        vertical-align: middle;\n    }\n\n    .dataframe tbody tr th {\n        vertical-align: top;\n    }\n\n    .dataframe thead th {\n        text-align: right;\n    }\n</style>\n<table border=\"1\" class=\"dataframe\">\n  <thead>\n    <tr style=\"text-align: right;\">\n      <th></th>\n      <th>City</th>\n      <th>County</th>\n      <th>CrashHour</th>\n      <th>CrashMonth</th>\n      <th>Development</th>\n      <th>LightCond</th>\n      <th>Locality</th>\n      <th>NumLanes</th>\n      <th>RdCharacte</th>\n      <th>RdClass</th>\n      <th>...</th>\n      <th>RdDefects</th>\n      <th>RdFeature</th>\n      <th>RdSurface</th>\n      <th>Region</th>\n      <th>RuralUrban</th>\n      <th>SpeedLimit</th>\n      <th>TraffCntrl</th>\n      <th>Weather</th>\n      <th>Workzone</th>\n      <th>PedInjury</th>\n    </tr>\n  </thead>\n  <tbody>\n    <tr>\n      <th>9592</th>\n      <td>Asheville</td>\n      <td>Buncombe</td>\n      <td>10</td>\n      <td>December</td>\n      <td>Residential</td>\n      <td>Daylight</td>\n      <td>Urban (&gt;70% Developed)</td>\n      <td>2 lanes</td>\n      <td>Straight - Grade</td>\n      <td>Local Street</td>\n      <td>...</td>\n      <td>None</td>\n      <td>No Special Feature</td>\n      <td>Smooth Asphalt</td>\n      <td>Mountains</td>\n      <td>Urban</td>\n      <td>30 - 35  MPH</td>\n      <td>No Control Present</td>\n      <td>Cloudy</td>\n      <td>No</td>\n      <td>C: Possible Injury</td>\n    </tr>\n    <tr>\n      <th>4092</th>\n      <td>None - Rural Crash</td>\n      <td>Mcdowell</td>\n      <td>17</td>\n      <td>November</td>\n      <td>Residential</td>\n      <td>Dusk</td>\n      <td>Rural (&lt;30% Developed)</td>\n      <td>2 lanes</td>\n      <td>Curve - Level</td>\n      <td>State Secondary Route</td>\n      <td>...</td>\n      <td>None</td>\n      <td>No Special Feature</td>\n      <td>Smooth Asphalt</td>\n      <td>Mountains</td>\n      <td>Rural</td>\n      <td>30 - 35  MPH</td>\n      <td>Double Yellow Line, No Passing Zone</td>\n      <td>Clear</td>\n      <td>No</td>\n      <td>A: Suspected Serious Injury</td>\n    </tr>\n    <tr>\n      <th>20104</th>\n      <td>None - Rural Crash</td>\n      <td>Beaufort</td>\n      <td>6</td>\n      <td>October</td>\n      <td>Farms, Woods, Pastures</td>\n      <td>Dark - Roadway Not Lighted</td>\n      <td>Mixed (30% To 70% Developed)</td>\n      <td>2 lanes</td>\n      <td>Straight - Level</td>\n      <td>NC Route</td>\n      <td>...</td>\n      <td>None</td>\n      <td>No Special Feature</td>\n      <td>Smooth Asphalt</td>\n      <td>Coastal</td>\n      <td>Rural</td>\n      <td>50 - 55  MPH</td>\n      <td>No Control Present</td>\n      <td>Cloudy</td>\n      <td>No</td>\n      <td>K: Killed</td>\n    </tr>\n    <tr>\n      <th>4018</th>\n      <td>None - Rural Crash</td>\n      <td>Craven</td>\n      <td>17</td>\n      <td>November</td>\n      <td>Residential</td>\n      <td>Daylight</td>\n      <td>Mixed (30% To 70% Developed)</td>\n      <td>2 lanes</td>\n      <td>Straight - Level</td>\n      <td>NC Route</td>\n      <td>...</td>\n      <td>None</td>\n      <td>No Special Feature</td>\n      <td>Coarse Asphalt</td>\n      <td>Coastal</td>\n      <td>Rural</td>\n      <td>50 - 55  MPH</td>\n      <td>No Control Present</td>\n      <td>Clear</td>\n      <td>No</td>\n      <td>B: Suspected Minor Injury</td>\n    </tr>\n    <tr>\n      <th>8881</th>\n      <td>None - Rural Crash</td>\n      <td>Harnett</td>\n      <td>11</td>\n      <td>October</td>\n      <td>Farms, Woods, Pastures</td>\n      <td>Dark - Roadway Not Lighted</td>\n      <td>Rural (&lt;30% Developed)</td>\n      <td>2 lanes</td>\n      <td>Straight - Level</td>\n      <td>State Secondary Route</td>\n      <td>...</td>\n      <td>Obstruction In Roadway</td>\n      <td>No Special Feature</td>\n      <td>Coarse Asphalt</td>\n      <td>Coastal</td>\n      <td>Rural</td>\n      <td>50 - 55  MPH</td>\n      <td>Double Yellow Line, No Passing Zone</td>\n      <td>Clear</td>\n      <td>No</td>\n      <td>A: Suspected Serious Injury</td>\n    </tr>\n    <tr>\n      <th>17040</th>\n      <td>Wilmington</td>\n      <td>New Hanover</td>\n      <td>17</td>\n      <td>April</td>\n      <td>Commercial</td>\n      <td>Daylight</td>\n      <td>Urban (&gt;70% Developed)</td>\n      <td>1 lane</td>\n      <td>Straight - Level</td>\n      <td>Public Vehicular Area</td>\n      <td>...</td>\n      <td>None</td>\n      <td>Missing</td>\n      <td>Smooth Asphalt</td>\n      <td>Coastal</td>\n      <td>Urban</td>\n      <td>5 - 15 MPH</td>\n      <td>No Control Present</td>\n      <td>Clear</td>\n      <td>No</td>\n      <td>C: Possible Injury</td>\n    </tr>\n    <tr>\n      <th>15305</th>\n      <td>Raleigh</td>\n      <td>Wake</td>\n      <td>17</td>\n      <td>April</td>\n      <td>Commercial</td>\n      <td>Daylight</td>\n      <td>Urban (&gt;70% Developed)</td>\n      <td>3 lanes</td>\n      <td>Straight - Grade</td>\n      <td>Local Street</td>\n      <td>...</td>\n      <td>None</td>\n      <td>No Special Feature</td>\n      <td>Smooth Asphalt</td>\n      <td>Piedmont</td>\n      <td>Urban</td>\n      <td>30 - 35  MPH</td>\n      <td>Stop And Go Signal</td>\n      <td>Clear</td>\n      <td>No</td>\n      <td>C: Possible Injury</td>\n    </tr>\n    <tr>\n      <th>9846</th>\n      <td>Ahoskie</td>\n      <td>Hertford</td>\n      <td>23</td>\n      <td>August</td>\n      <td>Residential</td>\n      <td>Dark - Roadway Not Lighted</td>\n      <td>Mixed (30% To 70% Developed)</td>\n      <td>2 lanes</td>\n      <td>Straight - Level</td>\n      <td>NC Route</td>\n      <td>...</td>\n      <td>None</td>\n      <td>No Special Feature</td>\n      <td>Coarse Asphalt</td>\n      <td>Coastal</td>\n      <td>Rural</td>\n      <td>50 - 55  MPH</td>\n      <td>Double Yellow Line, No Passing Zone</td>\n      <td>Cloudy</td>\n      <td>No</td>\n      <td>O: No Injury</td>\n    </tr>\n    <tr>\n      <th>25216</th>\n      <td>Lumberton</td>\n      <td>Robeson</td>\n      <td>12</td>\n      <td>December</td>\n      <td>Residential</td>\n      <td>Daylight</td>\n      <td>Urban (&gt;70% Developed)</td>\n      <td>Unknown</td>\n      <td>Straight - Level</td>\n      <td>Public Vehicular Area</td>\n      <td>...</td>\n      <td>None</td>\n      <td>Driveway, Public</td>\n      <td>Coarse Asphalt</td>\n      <td>Coastal</td>\n      <td>Urban</td>\n      <td>5 - 15 MPH</td>\n      <td>No Control Present</td>\n      <td>Clear</td>\n      <td>No</td>\n      <td>C: Possible Injury</td>\n    </tr>\n    <tr>\n      <th>23323</th>\n      <td>Lumberton</td>\n      <td>Robeson</td>\n      <td>18</td>\n      <td>May</td>\n      <td>Industrial</td>\n      <td>Daylight</td>\n      <td>Urban (&gt;70% Developed)</td>\n      <td>Unknown</td>\n      <td>Missing</td>\n      <td>Interstate</td>\n      <td>...</td>\n      <td>None</td>\n      <td>Missing</td>\n      <td>Missing</td>\n      <td>Coastal</td>\n      <td>Urban</td>\n      <td>Unknown</td>\n      <td>No Control Present</td>\n      <td>Clear</td>\n      <td>No</td>\n      <td>K: Killed</td>\n    </tr>\n  </tbody>\n</table>\n<p>10 rows × 22 columns</p>\n</div>",
      "text/plain": "                     City       County  CrashHour CrashMonth  \\\n9592            Asheville     Buncombe         10   December   \n4092   None - Rural Crash     Mcdowell         17   November   \n20104  None - Rural Crash     Beaufort          6    October   \n4018   None - Rural Crash       Craven         17   November   \n8881   None - Rural Crash      Harnett         11    October   \n17040          Wilmington  New Hanover         17      April   \n15305             Raleigh         Wake         17      April   \n9846              Ahoskie     Hertford         23     August   \n25216           Lumberton      Robeson         12   December   \n23323           Lumberton      Robeson         18        May   \n\n                  Development                   LightCond  \\\n9592              Residential                    Daylight   \n4092              Residential                        Dusk   \n20104  Farms, Woods, Pastures  Dark - Roadway Not Lighted   \n4018              Residential                    Daylight   \n8881   Farms, Woods, Pastures  Dark - Roadway Not Lighted   \n17040              Commercial                    Daylight   \n15305              Commercial                    Daylight   \n9846              Residential  Dark - Roadway Not Lighted   \n25216             Residential                    Daylight   \n23323              Industrial                    Daylight   \n\n                           Locality NumLanes        RdCharacte  \\\n9592         Urban (>70% Developed)  2 lanes  Straight - Grade   \n4092         Rural (<30% Developed)  2 lanes     Curve - Level   \n20104  Mixed (30% To 70% Developed)  2 lanes  Straight - Level   \n4018   Mixed (30% To 70% Developed)  2 lanes  Straight - Level   \n8881         Rural (<30% Developed)  2 lanes  Straight - Level   \n17040        Urban (>70% Developed)   1 lane  Straight - Level   \n15305        Urban (>70% Developed)  3 lanes  Straight - Grade   \n9846   Mixed (30% To 70% Developed)  2 lanes  Straight - Level   \n25216        Urban (>70% Developed)  Unknown  Straight - Level   \n23323        Urban (>70% Developed)  Unknown           Missing   \n\n                     RdClass  ...               RdDefects           RdFeature  \\\n9592            Local Street  ...                    None  No Special Feature   \n4092   State Secondary Route  ...                    None  No Special Feature   \n20104               NC Route  ...                    None  No Special Feature   \n4018                NC Route  ...                    None  No Special Feature   \n8881   State Secondary Route  ...  Obstruction In Roadway  No Special Feature   \n17040  Public Vehicular Area  ...                    None             Missing   \n15305           Local Street  ...                    None  No Special Feature   \n9846                NC Route  ...                    None  No Special Feature   \n25216  Public Vehicular Area  ...                    None    Driveway, Public   \n23323             Interstate  ...                    None             Missing   \n\n            RdSurface     Region RuralUrban    SpeedLimit  \\\n9592   Smooth Asphalt  Mountains      Urban  30 - 35  MPH   \n4092   Smooth Asphalt  Mountains      Rural  30 - 35  MPH   \n20104  Smooth Asphalt    Coastal      Rural  50 - 55  MPH   \n4018   Coarse Asphalt    Coastal      Rural  50 - 55  MPH   \n8881   Coarse Asphalt    Coastal      Rural  50 - 55  MPH   \n17040  Smooth Asphalt    Coastal      Urban    5 - 15 MPH   \n15305  Smooth Asphalt   Piedmont      Urban  30 - 35  MPH   \n9846   Coarse Asphalt    Coastal      Rural  50 - 55  MPH   \n25216  Coarse Asphalt    Coastal      Urban    5 - 15 MPH   \n23323         Missing    Coastal      Urban       Unknown   \n\n                                TraffCntrl Weather Workzone  \\\n9592                    No Control Present  Cloudy       No   \n4092   Double Yellow Line, No Passing Zone   Clear       No   \n20104                   No Control Present  Cloudy       No   \n4018                    No Control Present   Clear       No   \n8881   Double Yellow Line, No Passing Zone   Clear       No   \n17040                   No Control Present   Clear       No   \n15305                   Stop And Go Signal   Clear       No   \n9846   Double Yellow Line, No Passing Zone  Cloudy       No   \n25216                   No Control Present   Clear       No   \n23323                   No Control Present   Clear       No   \n\n                         PedInjury  \n9592            C: Possible Injury  \n4092   A: Suspected Serious Injury  \n20104                    K: Killed  \n4018     B: Suspected Minor Injury  \n8881   A: Suspected Serious Injury  \n17040           C: Possible Injury  \n15305           C: Possible Injury  \n9846                  O: No Injury  \n25216           C: Possible Injury  \n23323                    K: Killed  \n\n[10 rows x 22 columns]"
     },
     "execution_count": 6,
     "metadata": {},
     "output_type": "execute_result"
    }
   ],
   "source": [
    "# Define a dataframe with \"ante\" data\n",
    "df_ante = df_work[categories_ante]\n",
    "\n",
    "df_ante.sample(10)"
   ]
  },
  {
   "cell_type": "code",
   "execution_count": 7,
   "metadata": {},
   "outputs": [],
   "source": [
    "# Profile the df_ante dataframe\n",
    "from pandas_profiling import ProfileReport\n",
    "\n",
    "profile_ante = ProfileReport(df_ante, title='Pandas Profiling Report', html={'style':{'full_width':True}})\n",
    "profile_ante.to_file(output_file=\"/Users/danoand/Documents/Companies/LambdaSchool/Build_Project_02/data/ChapelHillAccidents_Ante.html\")"
   ]
  },
  {
   "cell_type": "code",
   "execution_count": 8,
   "metadata": {},
   "outputs": [
    {
     "name": "stdout",
     "output_type": "stream",
     "text": "Shape of df_ante_train: (28650, 22); Shape of df_ante_test: (5057, 22)\n"
    }
   ],
   "source": [
    "# Split the data into training, validation, and testing datasets\n",
    "from sklearn.model_selection import train_test_split\n",
    "df_ante_train, df_ante_test = train_test_split(df_ante, train_size=0.85, test_size=0.15, \n",
    "                              stratify=df_ante['PedInjury'], random_state=42)\n",
    "\n",
    "print(f'Shape of df_ante_train: {df_ante_train.shape}; Shape of df_ante_test: {df_ante_test.shape}')"
   ]
  },
  {
   "cell_type": "code",
   "execution_count": 9,
   "metadata": {},
   "outputs": [
    {
     "name": "stdout",
     "output_type": "stream",
     "text": "Shape of df_ante_train: (23593, 22); Shape of df_ante_val: (5057, 22); Shape of df_ante_test: (5057, 22)\n"
    }
   ],
   "source": [
    "# Split the train data into a training subset and a validation subset\n",
    "df_ante_train, df_ante_val = train_test_split(df_ante_train, test_size=len(df_ante_test), \n",
    "                              stratify=df_ante_train['PedInjury'], random_state=42)\n",
    "\n",
    "print(f'Shape of df_ante_train: {df_ante_train.shape}; Shape of df_ante_val: {df_ante_val.shape}; Shape of df_ante_test: {df_ante_test.shape}')"
   ]
  },
  {
   "cell_type": "code",
   "execution_count": 10,
   "metadata": {},
   "outputs": [
    {
     "data": {
      "text/plain": "C: Possible Injury             0.409020\nB: Suspected Minor Injury      0.354597\nA: Suspected Serious Injury    0.072140\nK: Killed                      0.063917\nO: No Injury                   0.059975\nUnknown Injury                 0.040351\nName: PedInjury, dtype: float64"
     },
     "execution_count": 10,
     "metadata": {},
     "output_type": "execute_result"
    }
   ],
   "source": [
    "# Breakdown the target attribute by class value\n",
    "df_ante_train['PedInjury'].value_counts(normalize=True)"
   ]
  },
  {
   "cell_type": "code",
   "execution_count": 11,
   "metadata": {},
   "outputs": [],
   "source": [
    "# Wrangle the modeling data\n",
    "outcome_serious = ['K: Killed', 'A: Suspected Serious Injury']\n",
    "\n",
    "# has_fatality is a function that returns a boolean value if the inbound value represents a serious outcome (True) or not (False)\n",
    "def has_serious_outcome(val):\n",
    "  if (val in outcome_serious): \n",
    "    return True\n",
    "\n",
    "  return False\n",
    "\n",
    "# wrangle returns a dataframe with updated/created columns for a given input dataframe \n",
    "def wrangle(DF):\n",
    "  X = DF.copy()\n",
    "\n",
    "  # Create a boolean target column reflecting an outcome (serious injury or not)\n",
    "  X['ped_serious_outcome'] = X['PedInjury'].apply(has_serious_outcome)\n",
    "\n",
    "  # List columns to be dropped\n",
    "  cols_drop = ['PedInjury'] # PedInjury - use the engineered 'ped_fatality' column\n",
    "\n",
    "  # Drop undesired columns\n",
    "  X = X.drop(columns=cols_drop)\n",
    "\n",
    "  return X"
   ]
  },
  {
   "cell_type": "code",
   "execution_count": 12,
   "metadata": {},
   "outputs": [
    {
     "name": "stdout",
     "output_type": "stream",
     "text": "Shape of df_wrgl_train: (23593, 22); Shape of df_wrgl_val: (5057, 22); Shape of df_wrgl_test: (5057, 22)\n"
    }
   ],
   "source": [
    "# Wrangle the training, validation, and test datasets\n",
    "df_wrgl_train = wrangle(df_ante_train)\n",
    "df_wrgl_val   = wrangle(df_ante_val)\n",
    "df_wrgl_test  = wrangle(df_ante_test)\n",
    "\n",
    "print(f'Shape of df_wrgl_train: {df_wrgl_train.shape}; Shape of df_wrgl_val: {df_wrgl_val.shape}; Shape of df_wrgl_test: {df_wrgl_test.shape}')"
   ]
  },
  {
   "cell_type": "code",
   "execution_count": 13,
   "metadata": {},
   "outputs": [
    {
     "data": {
      "text/html": "<div>\n<style scoped>\n    .dataframe tbody tr th:only-of-type {\n        vertical-align: middle;\n    }\n\n    .dataframe tbody tr th {\n        vertical-align: top;\n    }\n\n    .dataframe thead th {\n        text-align: right;\n    }\n</style>\n<table border=\"1\" class=\"dataframe\">\n  <thead>\n    <tr style=\"text-align: right;\">\n      <th></th>\n      <th>City</th>\n      <th>County</th>\n      <th>CrashHour</th>\n      <th>CrashMonth</th>\n      <th>Development</th>\n      <th>LightCond</th>\n      <th>Locality</th>\n      <th>NumLanes</th>\n      <th>RdCharacte</th>\n      <th>RdClass</th>\n      <th>...</th>\n      <th>RdDefects</th>\n      <th>RdFeature</th>\n      <th>RdSurface</th>\n      <th>Region</th>\n      <th>RuralUrban</th>\n      <th>SpeedLimit</th>\n      <th>TraffCntrl</th>\n      <th>Weather</th>\n      <th>Workzone</th>\n      <th>ped_serious_outcome</th>\n    </tr>\n  </thead>\n  <tbody>\n    <tr>\n      <th>33525</th>\n      <td>Charlotte</td>\n      <td>Mecklenburg</td>\n      <td>22</td>\n      <td>July</td>\n      <td>Residential</td>\n      <td>Dark - Roadway Not Lighted</td>\n      <td>Urban (&gt;70% Developed)</td>\n      <td>1 lane</td>\n      <td>Curve - Level</td>\n      <td>Local Street</td>\n      <td>...</td>\n      <td>None</td>\n      <td>No Special Feature</td>\n      <td>Concrete</td>\n      <td>Piedmont</td>\n      <td>Urban</td>\n      <td>30 - 35  MPH</td>\n      <td>No Control Present</td>\n      <td>Clear</td>\n      <td>No</td>\n      <td>False</td>\n    </tr>\n    <tr>\n      <th>32892</th>\n      <td>Kinston</td>\n      <td>Lenoir</td>\n      <td>21</td>\n      <td>August</td>\n      <td>Residential</td>\n      <td>Dark - Lighted Roadway</td>\n      <td>Urban (&gt;70% Developed)</td>\n      <td>2 lanes</td>\n      <td>Straight - Level</td>\n      <td>Local Street</td>\n      <td>...</td>\n      <td>None</td>\n      <td>No Special Feature</td>\n      <td>Coarse Asphalt</td>\n      <td>Coastal</td>\n      <td>Urban</td>\n      <td>30 - 35  MPH</td>\n      <td>No Control Present</td>\n      <td>Clear</td>\n      <td>No</td>\n      <td>True</td>\n    </tr>\n    <tr>\n      <th>25520</th>\n      <td>Greensboro</td>\n      <td>Guilford</td>\n      <td>14</td>\n      <td>February</td>\n      <td>Commercial</td>\n      <td>Daylight</td>\n      <td>Urban (&gt;70% Developed)</td>\n      <td>2 lanes</td>\n      <td>Straight - Level</td>\n      <td>Public Vehicular Area</td>\n      <td>...</td>\n      <td>None</td>\n      <td>No Special Feature</td>\n      <td>Smooth Asphalt</td>\n      <td>Piedmont</td>\n      <td>Urban</td>\n      <td>5 - 15 MPH</td>\n      <td>No Control Present</td>\n      <td>Clear</td>\n      <td>No</td>\n      <td>False</td>\n    </tr>\n    <tr>\n      <th>6946</th>\n      <td>Kannapolis</td>\n      <td>Cabarrus</td>\n      <td>7</td>\n      <td>December</td>\n      <td>Institutional</td>\n      <td>Daylight</td>\n      <td>Urban (&gt;70% Developed)</td>\n      <td>4 lanes</td>\n      <td>Straight - Level</td>\n      <td>Local Street</td>\n      <td>...</td>\n      <td>None</td>\n      <td>Other</td>\n      <td>Smooth Asphalt</td>\n      <td>Piedmont</td>\n      <td>Urban</td>\n      <td>30 - 35  MPH</td>\n      <td>No Control Present</td>\n      <td>Clear</td>\n      <td>No</td>\n      <td>True</td>\n    </tr>\n    <tr>\n      <th>24742</th>\n      <td>Durham</td>\n      <td>Durham</td>\n      <td>18</td>\n      <td>August</td>\n      <td>Residential</td>\n      <td>Daylight</td>\n      <td>Urban (&gt;70% Developed)</td>\n      <td>2 lanes</td>\n      <td>Straight - Level</td>\n      <td>Local Street</td>\n      <td>...</td>\n      <td>None</td>\n      <td>No Special Feature</td>\n      <td>Smooth Asphalt</td>\n      <td>Piedmont</td>\n      <td>Urban</td>\n      <td>30 - 35  MPH</td>\n      <td>No Control Present</td>\n      <td>Clear</td>\n      <td>No</td>\n      <td>False</td>\n    </tr>\n  </tbody>\n</table>\n<p>5 rows × 22 columns</p>\n</div>",
      "text/plain": "             City       County  CrashHour CrashMonth    Development  \\\n33525   Charlotte  Mecklenburg         22       July    Residential   \n32892     Kinston       Lenoir         21     August    Residential   \n25520  Greensboro     Guilford         14   February     Commercial   \n6946   Kannapolis     Cabarrus          7   December  Institutional   \n24742      Durham       Durham         18     August    Residential   \n\n                        LightCond                Locality NumLanes  \\\n33525  Dark - Roadway Not Lighted  Urban (>70% Developed)   1 lane   \n32892      Dark - Lighted Roadway  Urban (>70% Developed)  2 lanes   \n25520                    Daylight  Urban (>70% Developed)  2 lanes   \n6946                     Daylight  Urban (>70% Developed)  4 lanes   \n24742                    Daylight  Urban (>70% Developed)  2 lanes   \n\n             RdCharacte                RdClass  ... RdDefects  \\\n33525     Curve - Level           Local Street  ...      None   \n32892  Straight - Level           Local Street  ...      None   \n25520  Straight - Level  Public Vehicular Area  ...      None   \n6946   Straight - Level           Local Street  ...      None   \n24742  Straight - Level           Local Street  ...      None   \n\n                RdFeature       RdSurface    Region RuralUrban    SpeedLimit  \\\n33525  No Special Feature        Concrete  Piedmont      Urban  30 - 35  MPH   \n32892  No Special Feature  Coarse Asphalt   Coastal      Urban  30 - 35  MPH   \n25520  No Special Feature  Smooth Asphalt  Piedmont      Urban    5 - 15 MPH   \n6946                Other  Smooth Asphalt  Piedmont      Urban  30 - 35  MPH   \n24742  No Special Feature  Smooth Asphalt  Piedmont      Urban  30 - 35  MPH   \n\n               TraffCntrl Weather Workzone ped_serious_outcome  \n33525  No Control Present   Clear       No               False  \n32892  No Control Present   Clear       No                True  \n25520  No Control Present   Clear       No               False  \n6946   No Control Present   Clear       No                True  \n24742  No Control Present   Clear       No               False  \n\n[5 rows x 22 columns]"
     },
     "execution_count": 13,
     "metadata": {},
     "output_type": "execute_result"
    }
   ],
   "source": [
    "df_wrgl_train.sample(5)"
   ]
  },
  {
   "cell_type": "code",
   "execution_count": 14,
   "metadata": {},
   "outputs": [],
   "source": [
    "# Construct the modeling datasets\n",
    "target = 'ped_serious_outcome'\n",
    "X_train = df_wrgl_train.drop(columns=target)\n",
    "y_train = df_wrgl_train[target]\n",
    "\n",
    "X_val   = df_wrgl_val.drop(columns=target)\n",
    "y_val   = df_wrgl_val[target]\n",
    "\n",
    "X_test  = df_wrgl_test.drop(columns=target)\n",
    "y_test  = df_wrgl_test[target]"
   ]
  },
  {
   "cell_type": "code",
   "execution_count": 17,
   "metadata": {},
   "outputs": [
    {
     "name": "stdout",
     "output_type": "stream",
     "text": "Baseline prediction score for the training set is: 0.7647\n"
    }
   ],
   "source": [
    "# Create a baseline prediction using a dummy classifier\n",
    "from sklearn.dummy import DummyClassifier\n",
    "clfr_dummy = DummyClassifier(strategy=\"stratified\")\n",
    "\n",
    "clfr_dummy.fit(X_train, y_train)\n",
    "clfr_dummy.predict(X_train)\n",
    "\n",
    "print(f'Baseline prediction score for the training set is: {round(clfr_dummy.score(X_train, y_train), 4)}')"
   ]
  },
  {
   "cell_type": "code",
   "execution_count": 18,
   "metadata": {},
   "outputs": [
    {
     "data": {
      "text/plain": "Pipeline(memory=None,\n         steps=[('ordinalencoder',\n                 OrdinalEncoder(cols=['City', 'County', 'CrashMonth',\n                                      'Development', 'LightCond', 'Locality',\n                                      'NumLanes', 'RdCharacte', 'RdClass',\n                                      'RdConditio', 'RdConfig', 'RdDefects',\n                                      'RdFeature', 'RdSurface', 'Region',\n                                      'RuralUrban', 'SpeedLimit', 'TraffCntrl',\n                                      'Weather', 'Workzone'],\n                                drop_invariant=False, handle_missing='value',\n                                handle_un...\n                ('randomforestclassifier',\n                 RandomForestClassifier(bootstrap=True, class_weight=None,\n                                        criterion='gini', max_depth=None,\n                                        max_features='auto',\n                                        max_leaf_nodes=None,\n                                        min_impurity_decrease=0.0,\n                                        min_impurity_split=None,\n                                        min_samples_leaf=1, min_samples_split=2,\n                                        min_weight_fraction_leaf=0.0,\n                                        n_estimators=10, n_jobs=-1,\n                                        oob_score=False, random_state=42,\n                                        verbose=0, warm_start=False))],\n         verbose=False)"
     },
     "execution_count": 18,
     "metadata": {},
     "output_type": "execute_result"
    }
   ],
   "source": [
    "import category_encoders as ce \n",
    "from sklearn.ensemble import RandomForestClassifier\n",
    "from sklearn.pipeline import make_pipeline\n",
    "\n",
    "# Construct a modeling pipeline\n",
    "pipeline = make_pipeline(\n",
    "    ce.OrdinalEncoder(),\n",
    "    RandomForestClassifier(n_jobs=-1, random_state=42)\n",
    ")\n",
    "\n",
    "# Fit the pipeline to the training dataset\n",
    "pipeline.fit(X_train, y_train)"
   ]
  },
  {
   "cell_type": "code",
   "execution_count": 19,
   "metadata": {},
   "outputs": [],
   "source": [
    "# Determine the validation dataset's accuracy\n",
    "print(f'Validation Accuracy: {round(pipeline.score(X_val, y_val), 5)}')"
   ]
  },
  {
   "cell_type": "code",
   "execution_count": null,
   "metadata": {},
   "outputs": [],
   "source": []
  }
 ],
 "metadata": {
  "kernelspec": {
   "display_name": "Python 3",
   "language": "python",
   "name": "python3"
  },
  "language_info": {
   "codemirror_mode": {
    "name": "ipython",
    "version": 3
   },
   "file_extension": ".py",
   "mimetype": "text/x-python",
   "name": "python",
   "nbconvert_exporter": "python",
   "pygments_lexer": "ipython3",
   "version": "3.7.4-final"
  }
 },
 "nbformat": 4,
 "nbformat_minor": 2
}