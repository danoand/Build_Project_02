{
 "cells": [
  {
   "cell_type": "code",
   "execution_count": 141,
   "metadata": {},
   "outputs": [],
   "source": [
    "import pandas as pd\n",
    "import numpy as np"
   ]
  },
  {
   "cell_type": "code",
   "execution_count": 142,
   "metadata": {},
   "outputs": [],
   "source": [
    "# Import the Chapel Hill data\n",
    "df_work = pd.read_csv(\"/Users/danoand/Documents/Companies/LambdaSchool/Build_Project_02/data/pedestrian-crashes-chapel-hill-region_imported.txt\",\n",
    "                     sep='\\t')"
   ]
  },
  {
   "cell_type": "code",
   "execution_count": 143,
   "metadata": {},
   "outputs": [],
   "source": [
    "# Profile the \"work\" dataframe"
   ]
  },
  {
   "cell_type": "code",
   "execution_count": 144,
   "metadata": {},
   "outputs": [],
   "source": [
    "# Define \"ante\" columns (data that can be reasonably known prior to the event)\n",
    "# Notes:\n",
    "#   - removed the lat/long column \n",
    "categories_ante = [\n",
    "    'City',\n",
    "    'County',\n",
    "    'CrashHour',\n",
    "    'CrashMonth',\n",
    "    'Development',\n",
    "    'LightCond',\n",
    "    'Locality',\n",
    "    'NumLanes',\n",
    "    'RdCharacte',\n",
    "    'RdClass',\n",
    "    'RdConditio',\n",
    "    'RdConfig',\n",
    "    'RdDefects',\n",
    "    'RdFeature',\n",
    "    'RdSurface',\n",
    "    'Region',\n",
    "    'RuralUrban',\n",
    "    'SpeedLimit',\n",
    "    'TraffCntrl',\n",
    "    'Weather',\n",
    "    'Workzone',\n",
    "    'PedInjury']        # Source for the target data"
   ]
  },
  {
   "cell_type": "code",
   "execution_count": 145,
   "metadata": {},
   "outputs": [
    {
     "data": {
      "text/html": "<div>\n<style scoped>\n    .dataframe tbody tr th:only-of-type {\n        vertical-align: middle;\n    }\n\n    .dataframe tbody tr th {\n        vertical-align: top;\n    }\n\n    .dataframe thead th {\n        text-align: right;\n    }\n</style>\n<table border=\"1\" class=\"dataframe\">\n  <thead>\n    <tr style=\"text-align: right;\">\n      <th></th>\n      <th>City</th>\n      <th>County</th>\n      <th>CrashHour</th>\n      <th>CrashMonth</th>\n      <th>Development</th>\n      <th>LightCond</th>\n      <th>Locality</th>\n      <th>NumLanes</th>\n      <th>RdCharacte</th>\n      <th>RdClass</th>\n      <th>...</th>\n      <th>RdDefects</th>\n      <th>RdFeature</th>\n      <th>RdSurface</th>\n      <th>Region</th>\n      <th>RuralUrban</th>\n      <th>SpeedLimit</th>\n      <th>TraffCntrl</th>\n      <th>Weather</th>\n      <th>Workzone</th>\n      <th>PedInjury</th>\n    </tr>\n  </thead>\n  <tbody>\n    <tr>\n      <th>1975</th>\n      <td>Raleigh</td>\n      <td>Wake</td>\n      <td>17</td>\n      <td>February</td>\n      <td>Residential</td>\n      <td>Daylight</td>\n      <td>Urban (&gt;70% Developed)</td>\n      <td>4 lanes</td>\n      <td>Straight - Grade</td>\n      <td>Local Street</td>\n      <td>...</td>\n      <td>None</td>\n      <td>No Special Feature</td>\n      <td>Smooth Asphalt</td>\n      <td>Piedmont</td>\n      <td>Urban</td>\n      <td>30 - 35  MPH</td>\n      <td>No Control Present</td>\n      <td>Cloudy</td>\n      <td>No</td>\n      <td>B: Suspected Minor Injury</td>\n    </tr>\n    <tr>\n      <th>12329</th>\n      <td>Charlotte</td>\n      <td>Mecklenburg</td>\n      <td>17</td>\n      <td>March</td>\n      <td>Commercial</td>\n      <td>Daylight</td>\n      <td>Urban (&gt;70% Developed)</td>\n      <td>6 lanes</td>\n      <td>Straight - Level</td>\n      <td>Local Street</td>\n      <td>...</td>\n      <td>None</td>\n      <td>No Special Feature</td>\n      <td>Smooth Asphalt</td>\n      <td>Piedmont</td>\n      <td>Urban</td>\n      <td>40 - 45  MPH</td>\n      <td>No Control Present</td>\n      <td>Clear</td>\n      <td>No</td>\n      <td>B: Suspected Minor Injury</td>\n    </tr>\n    <tr>\n      <th>18898</th>\n      <td>Fayetteville</td>\n      <td>Cumberland</td>\n      <td>8</td>\n      <td>February</td>\n      <td>Residential</td>\n      <td>Daylight</td>\n      <td>Mixed (30% To 70% Developed)</td>\n      <td>Unknown</td>\n      <td>Curve - Level</td>\n      <td>Public Vehicular Area</td>\n      <td>...</td>\n      <td>None</td>\n      <td>Driveway, Public</td>\n      <td>Coarse Asphalt</td>\n      <td>Coastal</td>\n      <td>Urban</td>\n      <td>Unknown</td>\n      <td>No Control Present</td>\n      <td>Clear</td>\n      <td>No</td>\n      <td>A: Suspected Serious Injury</td>\n    </tr>\n    <tr>\n      <th>25131</th>\n      <td>Raleigh</td>\n      <td>Wake</td>\n      <td>21</td>\n      <td>September</td>\n      <td>Commercial</td>\n      <td>Dark - Lighted Roadway</td>\n      <td>Urban (&gt;70% Developed)</td>\n      <td>4 lanes</td>\n      <td>Curve - Grade</td>\n      <td>Local Street</td>\n      <td>...</td>\n      <td>None</td>\n      <td>No Special Feature</td>\n      <td>Smooth Asphalt</td>\n      <td>Piedmont</td>\n      <td>Urban</td>\n      <td>30 - 35  MPH</td>\n      <td>No Control Present</td>\n      <td>Clear</td>\n      <td>No</td>\n      <td>A: Suspected Serious Injury</td>\n    </tr>\n    <tr>\n      <th>6997</th>\n      <td>Greensboro</td>\n      <td>Guilford</td>\n      <td>12</td>\n      <td>September</td>\n      <td>Commercial</td>\n      <td>Daylight</td>\n      <td>Urban (&gt;70% Developed)</td>\n      <td>2 lanes</td>\n      <td>Straight - Level</td>\n      <td>Public Vehicular Area</td>\n      <td>...</td>\n      <td>None</td>\n      <td>Other</td>\n      <td>Smooth Asphalt</td>\n      <td>Piedmont</td>\n      <td>Urban</td>\n      <td>5 - 15 MPH</td>\n      <td>No Control Present</td>\n      <td>Clear</td>\n      <td>No</td>\n      <td>A: Suspected Serious Injury</td>\n    </tr>\n    <tr>\n      <th>2197</th>\n      <td>Raleigh</td>\n      <td>Wake</td>\n      <td>9</td>\n      <td>March</td>\n      <td>Commercial</td>\n      <td>Dawn</td>\n      <td>Urban (&gt;70% Developed)</td>\n      <td>4 lanes</td>\n      <td>Straight - Level</td>\n      <td>Local Street</td>\n      <td>...</td>\n      <td>None</td>\n      <td>Four-Way Intersection</td>\n      <td>Coarse Asphalt</td>\n      <td>Piedmont</td>\n      <td>Urban</td>\n      <td>40 - 45  MPH</td>\n      <td>Stop And Go Signal</td>\n      <td>Cloudy</td>\n      <td>No</td>\n      <td>C: Possible Injury</td>\n    </tr>\n    <tr>\n      <th>8184</th>\n      <td>Raleigh</td>\n      <td>Wake</td>\n      <td>12</td>\n      <td>April</td>\n      <td>Residential</td>\n      <td>Daylight</td>\n      <td>Urban (&gt;70% Developed)</td>\n      <td>1 lane</td>\n      <td>Straight - Grade</td>\n      <td>Private Road, Driveway</td>\n      <td>...</td>\n      <td>None</td>\n      <td>Driveway, Private</td>\n      <td>Concrete</td>\n      <td>Piedmont</td>\n      <td>Urban</td>\n      <td>30 - 35  MPH</td>\n      <td>No Control Present</td>\n      <td>Clear</td>\n      <td>No</td>\n      <td>B: Suspected Minor Injury</td>\n    </tr>\n    <tr>\n      <th>22347</th>\n      <td>Fayetteville</td>\n      <td>Cumberland</td>\n      <td>23</td>\n      <td>October</td>\n      <td>Commercial</td>\n      <td>Dark - Lighted Roadway</td>\n      <td>Urban (&gt;70% Developed)</td>\n      <td>5 lanes</td>\n      <td>Straight - Level</td>\n      <td>Local Street</td>\n      <td>...</td>\n      <td>None</td>\n      <td>Bridge Approach</td>\n      <td>Coarse Asphalt</td>\n      <td>Coastal</td>\n      <td>Urban</td>\n      <td>40 - 45  MPH</td>\n      <td>No Control Present</td>\n      <td>Clear</td>\n      <td>No</td>\n      <td>A: Suspected Serious Injury</td>\n    </tr>\n    <tr>\n      <th>11167</th>\n      <td>None - Rural Crash</td>\n      <td>Moore</td>\n      <td>14</td>\n      <td>October</td>\n      <td>Farms, Woods, Pastures</td>\n      <td>Daylight</td>\n      <td>Rural (&lt;30% Developed)</td>\n      <td>2 lanes</td>\n      <td>Straight - Level</td>\n      <td>State Secondary Route</td>\n      <td>...</td>\n      <td>None</td>\n      <td>Four-Way Intersection</td>\n      <td>Smooth Asphalt</td>\n      <td>Piedmont</td>\n      <td>Rural</td>\n      <td>50 - 55  MPH</td>\n      <td>Human Control</td>\n      <td>Clear</td>\n      <td>No</td>\n      <td>C: Possible Injury</td>\n    </tr>\n    <tr>\n      <th>7005</th>\n      <td>None - Rural Crash</td>\n      <td>Martin</td>\n      <td>18</td>\n      <td>October</td>\n      <td>Farms, Woods, Pastures</td>\n      <td>Dark - Roadway Not Lighted</td>\n      <td>Rural (&lt;30% Developed)</td>\n      <td>2 lanes</td>\n      <td>Straight - Grade</td>\n      <td>NC Route</td>\n      <td>...</td>\n      <td>None</td>\n      <td>No Special Feature</td>\n      <td>Coarse Asphalt</td>\n      <td>Coastal</td>\n      <td>Rural</td>\n      <td>50 - 55  MPH</td>\n      <td>Double Yellow Line, No Passing Zone</td>\n      <td>Cloudy</td>\n      <td>No</td>\n      <td>A: Suspected Serious Injury</td>\n    </tr>\n  </tbody>\n</table>\n<p>10 rows × 22 columns</p>\n</div>",
      "text/plain": "                     City       County  CrashHour CrashMonth  \\\n1975              Raleigh         Wake         17   February   \n12329           Charlotte  Mecklenburg         17      March   \n18898        Fayetteville   Cumberland          8   February   \n25131             Raleigh         Wake         21  September   \n6997           Greensboro     Guilford         12  September   \n2197              Raleigh         Wake          9      March   \n8184              Raleigh         Wake         12      April   \n22347        Fayetteville   Cumberland         23    October   \n11167  None - Rural Crash        Moore         14    October   \n7005   None - Rural Crash       Martin         18    October   \n\n                  Development                   LightCond  \\\n1975              Residential                    Daylight   \n12329              Commercial                    Daylight   \n18898             Residential                    Daylight   \n25131              Commercial      Dark - Lighted Roadway   \n6997               Commercial                    Daylight   \n2197               Commercial                        Dawn   \n8184              Residential                    Daylight   \n22347              Commercial      Dark - Lighted Roadway   \n11167  Farms, Woods, Pastures                    Daylight   \n7005   Farms, Woods, Pastures  Dark - Roadway Not Lighted   \n\n                           Locality NumLanes        RdCharacte  \\\n1975         Urban (>70% Developed)  4 lanes  Straight - Grade   \n12329        Urban (>70% Developed)  6 lanes  Straight - Level   \n18898  Mixed (30% To 70% Developed)  Unknown     Curve - Level   \n25131        Urban (>70% Developed)  4 lanes     Curve - Grade   \n6997         Urban (>70% Developed)  2 lanes  Straight - Level   \n2197         Urban (>70% Developed)  4 lanes  Straight - Level   \n8184         Urban (>70% Developed)   1 lane  Straight - Grade   \n22347        Urban (>70% Developed)  5 lanes  Straight - Level   \n11167        Rural (<30% Developed)  2 lanes  Straight - Level   \n7005         Rural (<30% Developed)  2 lanes  Straight - Grade   \n\n                      RdClass  ... RdDefects              RdFeature  \\\n1975             Local Street  ...      None     No Special Feature   \n12329            Local Street  ...      None     No Special Feature   \n18898   Public Vehicular Area  ...      None       Driveway, Public   \n25131            Local Street  ...      None     No Special Feature   \n6997    Public Vehicular Area  ...      None                  Other   \n2197             Local Street  ...      None  Four-Way Intersection   \n8184   Private Road, Driveway  ...      None      Driveway, Private   \n22347            Local Street  ...      None        Bridge Approach   \n11167   State Secondary Route  ...      None  Four-Way Intersection   \n7005                 NC Route  ...      None     No Special Feature   \n\n            RdSurface    Region RuralUrban    SpeedLimit  \\\n1975   Smooth Asphalt  Piedmont      Urban  30 - 35  MPH   \n12329  Smooth Asphalt  Piedmont      Urban  40 - 45  MPH   \n18898  Coarse Asphalt   Coastal      Urban       Unknown   \n25131  Smooth Asphalt  Piedmont      Urban  30 - 35  MPH   \n6997   Smooth Asphalt  Piedmont      Urban    5 - 15 MPH   \n2197   Coarse Asphalt  Piedmont      Urban  40 - 45  MPH   \n8184         Concrete  Piedmont      Urban  30 - 35  MPH   \n22347  Coarse Asphalt   Coastal      Urban  40 - 45  MPH   \n11167  Smooth Asphalt  Piedmont      Rural  50 - 55  MPH   \n7005   Coarse Asphalt   Coastal      Rural  50 - 55  MPH   \n\n                                TraffCntrl Weather Workzone  \\\n1975                    No Control Present  Cloudy       No   \n12329                   No Control Present   Clear       No   \n18898                   No Control Present   Clear       No   \n25131                   No Control Present   Clear       No   \n6997                    No Control Present   Clear       No   \n2197                    Stop And Go Signal  Cloudy       No   \n8184                    No Control Present   Clear       No   \n22347                   No Control Present   Clear       No   \n11167                        Human Control   Clear       No   \n7005   Double Yellow Line, No Passing Zone  Cloudy       No   \n\n                         PedInjury  \n1975     B: Suspected Minor Injury  \n12329    B: Suspected Minor Injury  \n18898  A: Suspected Serious Injury  \n25131  A: Suspected Serious Injury  \n6997   A: Suspected Serious Injury  \n2197            C: Possible Injury  \n8184     B: Suspected Minor Injury  \n22347  A: Suspected Serious Injury  \n11167           C: Possible Injury  \n7005   A: Suspected Serious Injury  \n\n[10 rows x 22 columns]"
     },
     "execution_count": 145,
     "metadata": {},
     "output_type": "execute_result"
    }
   ],
   "source": [
    "# Define a dataframe with \"ante\" data\n",
    "df_ante = df_work[categories_ante]\n",
    "\n",
    "df_ante.sample(10)"
   ]
  },
  {
   "cell_type": "code",
   "execution_count": 126,
   "metadata": {},
   "outputs": [],
   "source": [
    "# Profile the df_ante dataframe"
   ]
  },
  {
   "cell_type": "code",
   "execution_count": 146,
   "metadata": {},
   "outputs": [
    {
     "name": "stdout",
     "output_type": "stream",
     "text": "Shape of df_ante_train: (28650, 22); Shape of df_ante_test: (5057, 22)\n"
    }
   ],
   "source": [
    "# Split the data into training, validation, and testing datasets\n",
    "from sklearn.model_selection import train_test_split\n",
    "df_ante_train, df_ante_test = train_test_split(df_ante, train_size=0.85, test_size=0.15, \n",
    "                              stratify=df_ante['PedInjury'], random_state=42)\n",
    "\n",
    "print(f'Shape of df_ante_train: {df_ante_train.shape}; Shape of df_ante_test: {df_ante_test.shape}')"
   ]
  },
  {
   "cell_type": "code",
   "execution_count": 147,
   "metadata": {},
   "outputs": [
    {
     "name": "stdout",
     "output_type": "stream",
     "text": "Shape of df_ante_train: (23593, 22); Shape of df_ante_val: (5057, 22); Shape of df_ante_test: (5057, 22)\n"
    }
   ],
   "source": [
    "# Split the train data into a training subset and a validation subset\n",
    "df_ante_train, df_ante_val = train_test_split(df_ante_train, test_size=len(df_ante_test), \n",
    "                              stratify=df_ante_train['PedInjury'], random_state=42)\n",
    "\n",
    "print(f'Shape of df_ante_train: {df_ante_train.shape}; Shape of df_ante_val: {df_ante_val.shape}; Shape of df_ante_test: {df_ante_test.shape}')"
   ]
  },
  {
   "cell_type": "code",
   "execution_count": 148,
   "metadata": {},
   "outputs": [
    {
     "data": {
      "text/plain": "C: Possible Injury             0.409020\nB: Suspected Minor Injury      0.354597\nA: Suspected Serious Injury    0.072140\nK: Killed                      0.063917\nO: No Injury                   0.059975\nUnknown Injury                 0.040351\nName: PedInjury, dtype: float64"
     },
     "execution_count": 148,
     "metadata": {},
     "output_type": "execute_result"
    }
   ],
   "source": [
    "# Breakdown the target attribute by class value\n",
    "df_ante_train['PedInjury'].value_counts(normalize=True)"
   ]
  },
  {
   "cell_type": "code",
   "execution_count": 149,
   "metadata": {},
   "outputs": [],
   "source": [
    "# Wrangle the modeling data\n",
    "outcome_serious = ['K: Killed', 'A: Suspected Serious Injury']\n",
    "\n",
    "# has_fatality is a function that returns a boolean value if the inbound value represents a serious outcome (True) or not (False)\n",
    "def has_serious_outcome(val):\n",
    "  if (val in outcome_serious): \n",
    "    return True\n",
    "\n",
    "  return False\n",
    "\n",
    "# wrangle returns a dataframe with updated/created columns for a given input dataframe \n",
    "def wrangle(DF):\n",
    "  X = DF.copy()\n",
    "\n",
    "  # Create a boolean target column reflecting an outcome (serious injury or not)\n",
    "  X['ped_serious_outcome'] = X['PedInjury'].apply(has_serious_outcome)\n",
    "\n",
    "  # Convert the CrashHour column to a string (from an int)\n",
    "  X['CrashHour'] = X['CrashHour'].apply(str)\n",
    "\n",
    "  # List columns to be dropped\n",
    "  cols_drop = ['PedInjury'] # PedInjury - use the engineered 'ped_fatality' column\n",
    "\n",
    "  # Drop undesired columns\n",
    "  X = X.drop(columns=cols_drop)\n",
    "\n",
    "  return X"
   ]
  },
  {
   "cell_type": "code",
   "execution_count": 150,
   "metadata": {},
   "outputs": [
    {
     "name": "stdout",
     "output_type": "stream",
     "text": "Shape of df_wrgl_train: (23593, 22); Shape of df_wrgl_val: (5057, 22); Shape of df_wrgl_test: (5057, 22)\nCity                   object\nCounty                 object\nCrashHour              object\nCrashMonth             object\nDevelopment            object\nLightCond              object\nLocality               object\nNumLanes               object\nRdCharacte             object\nRdClass                object\nRdConditio             object\nRdConfig               object\nRdDefects              object\nRdFeature              object\nRdSurface              object\nRegion                 object\nRuralUrban             object\nSpeedLimit             object\nTraffCntrl             object\nWeather                object\nWorkzone               object\nped_serious_outcome      bool\ndtype: object\n"
    }
   ],
   "source": [
    "# Wrangle the training, validation, and test datasets\n",
    "df_wrgl_train = wrangle(df_ante_train)\n",
    "df_wrgl_val   = wrangle(df_ante_val)\n",
    "df_wrgl_test  = wrangle(df_ante_test)\n",
    "\n",
    "print(f'Shape of df_wrgl_train: {df_wrgl_train.shape}; Shape of df_wrgl_val: {df_wrgl_val.shape}; Shape of df_wrgl_test: {df_wrgl_test.shape}')\n",
    "\n",
    "print(df_wrgl_val.dtypes)"
   ]
  },
  {
   "cell_type": "code",
   "execution_count": 151,
   "metadata": {},
   "outputs": [
    {
     "data": {
      "text/html": "<div>\n<style scoped>\n    .dataframe tbody tr th:only-of-type {\n        vertical-align: middle;\n    }\n\n    .dataframe tbody tr th {\n        vertical-align: top;\n    }\n\n    .dataframe thead th {\n        text-align: right;\n    }\n</style>\n<table border=\"1\" class=\"dataframe\">\n  <thead>\n    <tr style=\"text-align: right;\">\n      <th></th>\n      <th>City</th>\n      <th>County</th>\n      <th>CrashHour</th>\n      <th>CrashMonth</th>\n      <th>Development</th>\n      <th>LightCond</th>\n      <th>Locality</th>\n      <th>NumLanes</th>\n      <th>RdCharacte</th>\n      <th>RdClass</th>\n      <th>...</th>\n      <th>RdDefects</th>\n      <th>RdFeature</th>\n      <th>RdSurface</th>\n      <th>Region</th>\n      <th>RuralUrban</th>\n      <th>SpeedLimit</th>\n      <th>TraffCntrl</th>\n      <th>Weather</th>\n      <th>Workzone</th>\n      <th>ped_serious_outcome</th>\n    </tr>\n  </thead>\n  <tbody>\n    <tr>\n      <th>12765</th>\n      <td>Hamlet</td>\n      <td>Richmond</td>\n      <td>19</td>\n      <td>February</td>\n      <td>Residential</td>\n      <td>Dark - Lighted Roadway</td>\n      <td>Urban (&gt;70% Developed)</td>\n      <td>2 lanes</td>\n      <td>Straight - Level</td>\n      <td>Local Street</td>\n      <td>...</td>\n      <td>None</td>\n      <td>No Special Feature</td>\n      <td>Smooth Asphalt</td>\n      <td>Piedmont</td>\n      <td>Urban</td>\n      <td>30 - 35  MPH</td>\n      <td>No Control Present</td>\n      <td>Clear</td>\n      <td>No</td>\n      <td>False</td>\n    </tr>\n    <tr>\n      <th>27127</th>\n      <td>Shelby</td>\n      <td>Cleveland</td>\n      <td>9</td>\n      <td>August</td>\n      <td>Residential</td>\n      <td>Daylight</td>\n      <td>Urban (&gt;70% Developed)</td>\n      <td>2 lanes</td>\n      <td>Straight - Level</td>\n      <td>Public Vehicular Area</td>\n      <td>...</td>\n      <td>None</td>\n      <td>No Special Feature</td>\n      <td>Smooth Asphalt</td>\n      <td>Mountains</td>\n      <td>Urban</td>\n      <td>30 - 35  MPH</td>\n      <td>No Control Present</td>\n      <td>Clear</td>\n      <td>No</td>\n      <td>False</td>\n    </tr>\n    <tr>\n      <th>21179</th>\n      <td>None - Rural Crash</td>\n      <td>Robeson</td>\n      <td>3</td>\n      <td>October</td>\n      <td>Farms, Woods, Pastures</td>\n      <td>Dark - Roadway Not Lighted</td>\n      <td>Rural (&lt;30% Developed)</td>\n      <td>4 lanes</td>\n      <td>Straight - Level</td>\n      <td>Interstate</td>\n      <td>...</td>\n      <td>None</td>\n      <td>No Special Feature</td>\n      <td>Smooth Asphalt</td>\n      <td>Coastal</td>\n      <td>Rural</td>\n      <td>60 - 75 MPH</td>\n      <td>No Control Present</td>\n      <td>Fog, Smog, Smoke</td>\n      <td>No</td>\n      <td>True</td>\n    </tr>\n    <tr>\n      <th>21525</th>\n      <td>Raleigh</td>\n      <td>Wake</td>\n      <td>17</td>\n      <td>March</td>\n      <td>Commercial</td>\n      <td>Daylight</td>\n      <td>Urban (&gt;70% Developed)</td>\n      <td>2 lanes</td>\n      <td>Straight - Level</td>\n      <td>Public Vehicular Area</td>\n      <td>...</td>\n      <td>None</td>\n      <td>Driveway, Public</td>\n      <td>Smooth Asphalt</td>\n      <td>Piedmont</td>\n      <td>Urban</td>\n      <td>30 - 35  MPH</td>\n      <td>No Control Present</td>\n      <td>Clear</td>\n      <td>No</td>\n      <td>False</td>\n    </tr>\n    <tr>\n      <th>11476</th>\n      <td>Raleigh</td>\n      <td>Wake</td>\n      <td>8</td>\n      <td>September</td>\n      <td>Commercial</td>\n      <td>Daylight</td>\n      <td>Mixed (30% To 70% Developed)</td>\n      <td>3 lanes</td>\n      <td>Straight - Grade</td>\n      <td>Local Street</td>\n      <td>...</td>\n      <td>None</td>\n      <td>No Special Feature</td>\n      <td>Smooth Asphalt</td>\n      <td>Piedmont</td>\n      <td>Urban</td>\n      <td>30 - 35  MPH</td>\n      <td>No Control Present</td>\n      <td>Clear</td>\n      <td>No</td>\n      <td>True</td>\n    </tr>\n  </tbody>\n</table>\n<p>5 rows × 22 columns</p>\n</div>",
      "text/plain": "                     City     County CrashHour CrashMonth  \\\n12765              Hamlet   Richmond        19   February   \n27127              Shelby  Cleveland         9     August   \n21179  None - Rural Crash    Robeson         3    October   \n21525             Raleigh       Wake        17      March   \n11476             Raleigh       Wake         8  September   \n\n                  Development                   LightCond  \\\n12765             Residential      Dark - Lighted Roadway   \n27127             Residential                    Daylight   \n21179  Farms, Woods, Pastures  Dark - Roadway Not Lighted   \n21525              Commercial                    Daylight   \n11476              Commercial                    Daylight   \n\n                           Locality NumLanes        RdCharacte  \\\n12765        Urban (>70% Developed)  2 lanes  Straight - Level   \n27127        Urban (>70% Developed)  2 lanes  Straight - Level   \n21179        Rural (<30% Developed)  4 lanes  Straight - Level   \n21525        Urban (>70% Developed)  2 lanes  Straight - Level   \n11476  Mixed (30% To 70% Developed)  3 lanes  Straight - Grade   \n\n                     RdClass  ... RdDefects           RdFeature  \\\n12765           Local Street  ...      None  No Special Feature   \n27127  Public Vehicular Area  ...      None  No Special Feature   \n21179             Interstate  ...      None  No Special Feature   \n21525  Public Vehicular Area  ...      None    Driveway, Public   \n11476           Local Street  ...      None  No Special Feature   \n\n            RdSurface     Region RuralUrban    SpeedLimit          TraffCntrl  \\\n12765  Smooth Asphalt   Piedmont      Urban  30 - 35  MPH  No Control Present   \n27127  Smooth Asphalt  Mountains      Urban  30 - 35  MPH  No Control Present   \n21179  Smooth Asphalt    Coastal      Rural   60 - 75 MPH  No Control Present   \n21525  Smooth Asphalt   Piedmont      Urban  30 - 35  MPH  No Control Present   \n11476  Smooth Asphalt   Piedmont      Urban  30 - 35  MPH  No Control Present   \n\n                Weather Workzone ped_serious_outcome  \n12765             Clear       No               False  \n27127             Clear       No               False  \n21179  Fog, Smog, Smoke       No                True  \n21525             Clear       No               False  \n11476             Clear       No                True  \n\n[5 rows x 22 columns]"
     },
     "execution_count": 151,
     "metadata": {},
     "output_type": "execute_result"
    }
   ],
   "source": [
    "df_wrgl_train.sample(5)"
   ]
  },
  {
   "cell_type": "code",
   "execution_count": 152,
   "metadata": {},
   "outputs": [
    {
     "name": "stdout",
     "output_type": "stream",
     "text": "City           object\nCounty         object\nCrashHour      object\nCrashMonth     object\nDevelopment    object\nLightCond      object\nLocality       object\nNumLanes       object\nRdCharacte     object\nRdClass        object\nRdConditio     object\nRdConfig       object\nRdDefects      object\nRdFeature      object\nRdSurface      object\nRegion         object\nRuralUrban     object\nSpeedLimit     object\nTraffCntrl     object\nWeather        object\nWorkzone       object\ndtype: object\n"
    }
   ],
   "source": [
    "# Construct the modeling datasets\n",
    "target = 'ped_serious_outcome'\n",
    "X_train = df_wrgl_train.drop(columns=target)\n",
    "y_train = df_wrgl_train[target]\n",
    "\n",
    "X_val   = df_wrgl_val.drop(columns=target)\n",
    "y_val   = df_wrgl_val[target]\n",
    "\n",
    "X_test  = df_wrgl_test.drop(columns=target)\n",
    "y_test  = df_wrgl_test[target]\n",
    "\n",
    "print(X_val.dtypes)"
   ]
  },
  {
   "cell_type": "code",
   "execution_count": 153,
   "metadata": {},
   "outputs": [
    {
     "name": "stdout",
     "output_type": "stream",
     "text": "Baseline prediction score for the training set is: 0.7638\n"
    }
   ],
   "source": [
    "# Create a baseline prediction using a dummy classifier\n",
    "from sklearn.dummy import DummyClassifier\n",
    "clfr_dummy = DummyClassifier(strategy=\"stratified\")\n",
    "\n",
    "clfr_dummy.fit(X_train, y_train)\n",
    "clfr_dummy.predict(X_train)\n",
    "\n",
    "dummy_train_y_pred = clfr_dummy.predict(X_train)\n",
    "\n",
    "print(f'Baseline prediction score for the training set is: {round(clfr_dummy.score(X_train, y_train), 4)}')"
   ]
  },
  {
   "cell_type": "code",
   "execution_count": 154,
   "metadata": {},
   "outputs": [
    {
     "name": "stdout",
     "output_type": "stream",
     "text": "precision    recall  f1-score   support\n\n       False       0.86      0.87      0.87     20383\n        True       0.14      0.14      0.14      3210\n\n    accuracy                           0.77     23593\n   macro avg       0.50      0.50      0.50     23593\nweighted avg       0.77      0.77      0.77     23593\n\n"
    }
   ],
   "source": [
    "from sklearn.metrics import classification_report\n",
    "\n",
    "print(classification_report(y_train, dummy_train_y_pred))"
   ]
  },
  {
   "cell_type": "code",
   "execution_count": 155,
   "metadata": {},
   "outputs": [
    {
     "name": "stdout",
     "output_type": "stream",
     "text": "City           object\nCounty         object\nCrashHour      object\nCrashMonth     object\nDevelopment    object\nLightCond      object\nLocality       object\nNumLanes       object\nRdCharacte     object\nRdClass        object\nRdConditio     object\nRdConfig       object\nRdDefects      object\nRdFeature      object\nRdSurface      object\nRegion         object\nRuralUrban     object\nSpeedLimit     object\nTraffCntrl     object\nWeather        object\nWorkzone       object\ndtype: object\n"
    },
    {
     "data": {
      "text/plain": "Pipeline(memory=None,\n         steps=[('targetencoder',\n                 TargetEncoder(cols=['City', 'County', 'CrashHour',\n                                     'CrashMonth', 'Development', 'LightCond',\n                                     'Locality', 'NumLanes', 'RdCharacte',\n                                     'RdClass', 'RdConditio', 'RdConfig',\n                                     'RdDefects', 'RdFeature', 'RdSurface',\n                                     'Region', 'RuralUrban', 'SpeedLimit',\n                                     'TraffCntrl', 'Weather', 'Workzone'],\n                               drop_invariant=False, handle_missing='value'...\n                 RandomForestClassifier(bootstrap=True, ccp_alpha=0.0,\n                                        class_weight=None, criterion='gini',\n                                        max_depth=None, max_features='auto',\n                                        max_leaf_nodes=None, max_samples=None,\n                                        min_impurity_decrease=0.0,\n                                        min_impurity_split=None,\n                                        min_samples_leaf=1, min_samples_split=2,\n                                        min_weight_fraction_leaf=0.0,\n                                        n_estimators=100, n_jobs=-1,\n                                        oob_score=False, random_state=42,\n                                        verbose=0, warm_start=False))],\n         verbose=False)"
     },
     "execution_count": 155,
     "metadata": {},
     "output_type": "execute_result"
    }
   ],
   "source": [
    "import category_encoders as ce \n",
    "from sklearn.ensemble import RandomForestClassifier\n",
    "from sklearn.pipeline import make_pipeline\n",
    "\n",
    "print(X_train.dtypes)\n",
    "\n",
    "# Construct a modeling pipeline\n",
    "pipeline = make_pipeline(\n",
    "    ce.TargetEncoder(),\n",
    "    RandomForestClassifier(n_jobs=-1, random_state=42)\n",
    ")\n",
    "\n",
    "# Fit the pipeline to the training dataset\n",
    "pipeline.fit(X_train, y_train)"
   ]
  },
  {
   "cell_type": "code",
   "execution_count": 156,
   "metadata": {},
   "outputs": [
    {
     "name": "stdout",
     "output_type": "stream",
     "text": "City           object\nCounty         object\nCrashHour      object\nCrashMonth     object\nDevelopment    object\nLightCond      object\nLocality       object\nNumLanes       object\nRdCharacte     object\nRdClass        object\nRdConditio     object\nRdConfig       object\nRdDefects      object\nRdFeature      object\nRdSurface      object\nRegion         object\nRuralUrban     object\nSpeedLimit     object\nTraffCntrl     object\nWeather        object\nWorkzone       object\ndtype: object\n"
    }
   ],
   "source": [
    "print(X_train.dtypes)"
   ]
  },
  {
   "cell_type": "code",
   "execution_count": 157,
   "metadata": {},
   "outputs": [
    {
     "ename": "TypeError",
     "evalue": "can't multiply sequence by non-int of type 'float'",
     "output_type": "error",
     "traceback": [
      "\u001b[0;31m---------------------------------------------------------------------------\u001b[0m",
      "\u001b[0;31mTypeError\u001b[0m                                 Traceback (most recent call last)",
      "\u001b[0;32m<ipython-input-157-bade0d6157dd>\u001b[0m in \u001b[0;36m<module>\u001b[0;34m\u001b[0m\n\u001b[1;32m      6\u001b[0m     \u001b[0mmodel_features\u001b[0m \u001b[0;34m=\u001b[0m \u001b[0mX_val\u001b[0m\u001b[0;34m.\u001b[0m\u001b[0mcolumns\u001b[0m\u001b[0;34m,\u001b[0m\u001b[0;34m\u001b[0m\u001b[0;34m\u001b[0m\u001b[0m\n\u001b[1;32m      7\u001b[0m     \u001b[0mn_jobs\u001b[0m         \u001b[0;34m=\u001b[0m \u001b[0;34m-\u001b[0m\u001b[0;36m1\u001b[0m\u001b[0;34m,\u001b[0m\u001b[0;34m\u001b[0m\u001b[0;34m\u001b[0m\u001b[0m\n\u001b[0;32m----> 8\u001b[0;31m     feature        = 'LightCond')\n\u001b[0m\u001b[1;32m      9\u001b[0m \u001b[0;34m\u001b[0m\u001b[0m\n\u001b[1;32m     10\u001b[0m \u001b[0mpdp_plot\u001b[0m\u001b[0;34m(\u001b[0m\u001b[0misolated\u001b[0m\u001b[0;34m,\u001b[0m \u001b[0mfeature_name\u001b[0m\u001b[0;34m=\u001b[0m\u001b[0;34m'LightCond'\u001b[0m\u001b[0;34m)\u001b[0m\u001b[0;34m\u001b[0m\u001b[0;34m\u001b[0m\u001b[0m\n",
      "\u001b[0;32m~/anaconda3/lib/python3.7/site-packages/pdpbox/pdp.py\u001b[0m in \u001b[0;36mpdp_isolate\u001b[0;34m(model, dataset, model_features, feature, num_grid_points, grid_type, percentile_range, grid_range, cust_grid_points, memory_limit, n_jobs, predict_kwds, data_transformer)\u001b[0m\n\u001b[1;32m    144\u001b[0m             feature_grids, percentile_info = _get_grids(\n\u001b[1;32m    145\u001b[0m                 \u001b[0mfeature_values\u001b[0m\u001b[0;34m=\u001b[0m\u001b[0m_dataset\u001b[0m\u001b[0;34m[\u001b[0m\u001b[0mfeature\u001b[0m\u001b[0;34m]\u001b[0m\u001b[0;34m.\u001b[0m\u001b[0mvalues\u001b[0m\u001b[0;34m,\u001b[0m \u001b[0mnum_grid_points\u001b[0m\u001b[0;34m=\u001b[0m\u001b[0mnum_grid_points\u001b[0m\u001b[0;34m,\u001b[0m \u001b[0mgrid_type\u001b[0m\u001b[0;34m=\u001b[0m\u001b[0mgrid_type\u001b[0m\u001b[0;34m,\u001b[0m\u001b[0;34m\u001b[0m\u001b[0;34m\u001b[0m\u001b[0m\n\u001b[0;32m--> 146\u001b[0;31m                 percentile_range=percentile_range, grid_range=grid_range)\n\u001b[0m\u001b[1;32m    147\u001b[0m         \u001b[0;32melse\u001b[0m\u001b[0;34m:\u001b[0m\u001b[0;34m\u001b[0m\u001b[0;34m\u001b[0m\u001b[0m\n\u001b[1;32m    148\u001b[0m             \u001b[0;31m# make sure grid points are unique and in ascending order\u001b[0m\u001b[0;34m\u001b[0m\u001b[0;34m\u001b[0m\u001b[0;34m\u001b[0m\u001b[0m\n",
      "\u001b[0;32m~/anaconda3/lib/python3.7/site-packages/pdpbox/utils.py\u001b[0m in \u001b[0;36m_get_grids\u001b[0;34m(feature_values, num_grid_points, grid_type, percentile_range, grid_range)\u001b[0m\n\u001b[1;32m    235\u001b[0m \u001b[0;34m\u001b[0m\u001b[0m\n\u001b[1;32m    236\u001b[0m         \u001b[0mpercentile_grids\u001b[0m \u001b[0;34m=\u001b[0m \u001b[0mnp\u001b[0m\u001b[0;34m.\u001b[0m\u001b[0mlinspace\u001b[0m\u001b[0;34m(\u001b[0m\u001b[0mstart\u001b[0m\u001b[0;34m=\u001b[0m\u001b[0mstart\u001b[0m\u001b[0;34m,\u001b[0m \u001b[0mstop\u001b[0m\u001b[0;34m=\u001b[0m\u001b[0mend\u001b[0m\u001b[0;34m,\u001b[0m \u001b[0mnum\u001b[0m\u001b[0;34m=\u001b[0m\u001b[0mnum_grid_points\u001b[0m\u001b[0;34m)\u001b[0m\u001b[0;34m\u001b[0m\u001b[0;34m\u001b[0m\u001b[0m\n\u001b[0;32m--> 237\u001b[0;31m         \u001b[0mvalue_grids\u001b[0m \u001b[0;34m=\u001b[0m \u001b[0mnp\u001b[0m\u001b[0;34m.\u001b[0m\u001b[0mpercentile\u001b[0m\u001b[0;34m(\u001b[0m\u001b[0mfeature_values\u001b[0m\u001b[0;34m,\u001b[0m \u001b[0mpercentile_grids\u001b[0m\u001b[0;34m)\u001b[0m\u001b[0;34m\u001b[0m\u001b[0;34m\u001b[0m\u001b[0m\n\u001b[0m\u001b[1;32m    238\u001b[0m \u001b[0;34m\u001b[0m\u001b[0m\n\u001b[1;32m    239\u001b[0m         \u001b[0mgrids_df\u001b[0m \u001b[0;34m=\u001b[0m \u001b[0mpd\u001b[0m\u001b[0;34m.\u001b[0m\u001b[0mDataFrame\u001b[0m\u001b[0;34m(\u001b[0m\u001b[0;34m)\u001b[0m\u001b[0;34m\u001b[0m\u001b[0;34m\u001b[0m\u001b[0m\n",
      "\u001b[0;32m~/anaconda3/lib/python3.7/site-packages/numpy/lib/function_base.py\u001b[0m in \u001b[0;36mpercentile\u001b[0;34m(a, q, axis, out, overwrite_input, interpolation, keepdims)\u001b[0m\n\u001b[1;32m   3705\u001b[0m         \u001b[0;32mraise\u001b[0m \u001b[0mValueError\u001b[0m\u001b[0;34m(\u001b[0m\u001b[0;34m\"Percentiles must be in the range [0, 100]\"\u001b[0m\u001b[0;34m)\u001b[0m\u001b[0;34m\u001b[0m\u001b[0;34m\u001b[0m\u001b[0m\n\u001b[1;32m   3706\u001b[0m     return _quantile_unchecked(\n\u001b[0;32m-> 3707\u001b[0;31m         a, q, axis, out, overwrite_input, interpolation, keepdims)\n\u001b[0m\u001b[1;32m   3708\u001b[0m \u001b[0;34m\u001b[0m\u001b[0m\n\u001b[1;32m   3709\u001b[0m \u001b[0;34m\u001b[0m\u001b[0m\n",
      "\u001b[0;32m~/anaconda3/lib/python3.7/site-packages/numpy/lib/function_base.py\u001b[0m in \u001b[0;36m_quantile_unchecked\u001b[0;34m(a, q, axis, out, overwrite_input, interpolation, keepdims)\u001b[0m\n\u001b[1;32m   3824\u001b[0m     r, k = _ureduce(a, func=_quantile_ureduce_func, q=q, axis=axis, out=out,\n\u001b[1;32m   3825\u001b[0m                     \u001b[0moverwrite_input\u001b[0m\u001b[0;34m=\u001b[0m\u001b[0moverwrite_input\u001b[0m\u001b[0;34m,\u001b[0m\u001b[0;34m\u001b[0m\u001b[0;34m\u001b[0m\u001b[0m\n\u001b[0;32m-> 3826\u001b[0;31m                     interpolation=interpolation)\n\u001b[0m\u001b[1;32m   3827\u001b[0m     \u001b[0;32mif\u001b[0m \u001b[0mkeepdims\u001b[0m\u001b[0;34m:\u001b[0m\u001b[0;34m\u001b[0m\u001b[0;34m\u001b[0m\u001b[0m\n\u001b[1;32m   3828\u001b[0m         \u001b[0;32mreturn\u001b[0m \u001b[0mr\u001b[0m\u001b[0;34m.\u001b[0m\u001b[0mreshape\u001b[0m\u001b[0;34m(\u001b[0m\u001b[0mq\u001b[0m\u001b[0;34m.\u001b[0m\u001b[0mshape\u001b[0m \u001b[0;34m+\u001b[0m \u001b[0mk\u001b[0m\u001b[0;34m)\u001b[0m\u001b[0;34m\u001b[0m\u001b[0;34m\u001b[0m\u001b[0m\n",
      "\u001b[0;32m~/anaconda3/lib/python3.7/site-packages/numpy/lib/function_base.py\u001b[0m in \u001b[0;36m_ureduce\u001b[0;34m(a, func, **kwargs)\u001b[0m\n\u001b[1;32m   3403\u001b[0m         \u001b[0mkeepdim\u001b[0m \u001b[0;34m=\u001b[0m \u001b[0;34m(\u001b[0m\u001b[0;36m1\u001b[0m\u001b[0;34m,\u001b[0m\u001b[0;34m)\u001b[0m \u001b[0;34m*\u001b[0m \u001b[0ma\u001b[0m\u001b[0;34m.\u001b[0m\u001b[0mndim\u001b[0m\u001b[0;34m\u001b[0m\u001b[0;34m\u001b[0m\u001b[0m\n\u001b[1;32m   3404\u001b[0m \u001b[0;34m\u001b[0m\u001b[0m\n\u001b[0;32m-> 3405\u001b[0;31m     \u001b[0mr\u001b[0m \u001b[0;34m=\u001b[0m \u001b[0mfunc\u001b[0m\u001b[0;34m(\u001b[0m\u001b[0ma\u001b[0m\u001b[0;34m,\u001b[0m \u001b[0;34m**\u001b[0m\u001b[0mkwargs\u001b[0m\u001b[0;34m)\u001b[0m\u001b[0;34m\u001b[0m\u001b[0;34m\u001b[0m\u001b[0m\n\u001b[0m\u001b[1;32m   3406\u001b[0m     \u001b[0;32mreturn\u001b[0m \u001b[0mr\u001b[0m\u001b[0;34m,\u001b[0m \u001b[0mkeepdim\u001b[0m\u001b[0;34m\u001b[0m\u001b[0;34m\u001b[0m\u001b[0m\n\u001b[1;32m   3407\u001b[0m \u001b[0;34m\u001b[0m\u001b[0m\n",
      "\u001b[0;32m~/anaconda3/lib/python3.7/site-packages/numpy/lib/function_base.py\u001b[0m in \u001b[0;36m_quantile_ureduce_func\u001b[0;34m(a, q, axis, out, overwrite_input, interpolation, keepdims)\u001b[0m\n\u001b[1;32m   3939\u001b[0m             \u001b[0mn\u001b[0m \u001b[0;34m=\u001b[0m \u001b[0mnp\u001b[0m\u001b[0;34m.\u001b[0m\u001b[0misnan\u001b[0m\u001b[0;34m(\u001b[0m\u001b[0map\u001b[0m\u001b[0;34m[\u001b[0m\u001b[0;34m-\u001b[0m\u001b[0;36m1\u001b[0m\u001b[0;34m:\u001b[0m\u001b[0;34m,\u001b[0m \u001b[0;34m...\u001b[0m\u001b[0;34m]\u001b[0m\u001b[0;34m)\u001b[0m\u001b[0;34m\u001b[0m\u001b[0;34m\u001b[0m\u001b[0m\n\u001b[1;32m   3940\u001b[0m \u001b[0;34m\u001b[0m\u001b[0m\n\u001b[0;32m-> 3941\u001b[0;31m         \u001b[0mx1\u001b[0m \u001b[0;34m=\u001b[0m \u001b[0mtake\u001b[0m\u001b[0;34m(\u001b[0m\u001b[0map\u001b[0m\u001b[0;34m,\u001b[0m \u001b[0mindices_below\u001b[0m\u001b[0;34m,\u001b[0m \u001b[0maxis\u001b[0m\u001b[0;34m=\u001b[0m\u001b[0maxis\u001b[0m\u001b[0;34m)\u001b[0m \u001b[0;34m*\u001b[0m \u001b[0mweights_below\u001b[0m\u001b[0;34m\u001b[0m\u001b[0;34m\u001b[0m\u001b[0m\n\u001b[0m\u001b[1;32m   3942\u001b[0m         \u001b[0mx2\u001b[0m \u001b[0;34m=\u001b[0m \u001b[0mtake\u001b[0m\u001b[0;34m(\u001b[0m\u001b[0map\u001b[0m\u001b[0;34m,\u001b[0m \u001b[0mindices_above\u001b[0m\u001b[0;34m,\u001b[0m \u001b[0maxis\u001b[0m\u001b[0;34m=\u001b[0m\u001b[0maxis\u001b[0m\u001b[0;34m)\u001b[0m \u001b[0;34m*\u001b[0m \u001b[0mweights_above\u001b[0m\u001b[0;34m\u001b[0m\u001b[0;34m\u001b[0m\u001b[0m\n\u001b[1;32m   3943\u001b[0m \u001b[0;34m\u001b[0m\u001b[0m\n",
      "\u001b[0;31mTypeError\u001b[0m: can't multiply sequence by non-int of type 'float'"
     ]
    }
   ],
   "source": [
    "from pdpbox.pdp import pdp_isolate, pdp_plot\n",
    "\n",
    "tmp_isolate = pdp_isolate(\n",
    "    model          = pipeline,\n",
    "    dataset        = X_val,\n",
    "    model_features = X_val.columns,\n",
    "    n_jobs         = -1,\n",
    "    feature        = 'LightCond')\n",
    "\n",
    "pdp_plot(isolated, feature_name='LightCond')"
   ]
  },
  {
   "cell_type": "code",
   "execution_count": 17,
   "metadata": {},
   "outputs": [
    {
     "name": "stdout",
     "output_type": "stream",
     "text": "Validation Accuracy: 0.86296\n"
    }
   ],
   "source": [
    "# Determine the validation dataset's accuracy\n",
    "print(f'Validation Accuracy: {round(pipeline.score(X_val, y_val), 5)}')"
   ]
  },
  {
   "cell_type": "code",
   "execution_count": 18,
   "metadata": {},
   "outputs": [
    {
     "name": "stdout",
     "output_type": "stream",
     "text": "Validation Accuracy: 0.86237\n"
    }
   ],
   "source": [
    "# Determine the test dataset's accuracy\n",
    "print(f'Validation Accuracy: {round(pipeline.score(X_test, y_test), 5)}')"
   ]
  },
  {
   "cell_type": "code",
   "execution_count": 19,
   "metadata": {},
   "outputs": [],
   "source": [
    "# Predict outcome variables for the validation dataset\n",
    "y_pred_val = pipeline.predict(X_val)"
   ]
  },
  {
   "cell_type": "code",
   "execution_count": 20,
   "metadata": {},
   "outputs": [
    {
     "name": "stdout",
     "output_type": "stream",
     "text": "precision    recall  f1-score   support\n\n       False       0.87      0.98      0.93      4368\n        True       0.49      0.11      0.18       689\n\n    accuracy                           0.86      5057\n   macro avg       0.68      0.54      0.55      5057\nweighted avg       0.82      0.86      0.82      5057\n\n"
    }
   ],
   "source": [
    "from sklearn.metrics import classification_report\n",
    "\n",
    "print(classification_report(y_val, y_pred_val))"
   ]
  },
  {
   "cell_type": "code",
   "execution_count": 21,
   "metadata": {},
   "outputs": [],
   "source": [
    "# Predict outcome variables for the testing dataset\n",
    "y_pred_test = pipeline.predict(X_test)"
   ]
  },
  {
   "cell_type": "code",
   "execution_count": 22,
   "metadata": {},
   "outputs": [
    {
     "name": "stdout",
     "output_type": "stream",
     "text": "precision    recall  f1-score   support\n\n       False       0.87      0.98      0.92      4369\n        True       0.47      0.11      0.17       688\n\n    accuracy                           0.86      5057\n   macro avg       0.67      0.54      0.55      5057\nweighted avg       0.82      0.86      0.82      5057\n\n"
    }
   ],
   "source": [
    "from sklearn.metrics import classification_report\n",
    "\n",
    "print(classification_report(y_test, y_pred_test))"
   ]
  },
  {
   "cell_type": "code",
   "execution_count": 23,
   "metadata": {},
   "outputs": [
    {
     "data": {
      "text/plain": "RandomForestClassifier(bootstrap=True, ccp_alpha=0.0, class_weight=None,\n                       criterion='gini', max_depth=None, max_features='auto',\n                       max_leaf_nodes=None, max_samples=None,\n                       min_impurity_decrease=0.0, min_impurity_split=None,\n                       min_samples_leaf=1, min_samples_split=2,\n                       min_weight_fraction_leaf=0.0, n_estimators=100,\n                       n_jobs=-1, oob_score=False, random_state=42, verbose=0,\n                       warm_start=False)"
     },
     "execution_count": 23,
     "metadata": {},
     "output_type": "execute_result"
    }
   ],
   "source": [
    "# Generate the model again for use in generating the permutation importance\n",
    "trans_encode = make_pipeline(\n",
    "    ce.OrdinalEncoder()\n",
    ")\n",
    "\n",
    "# Encode the train and val independent attributes\n",
    "X_train_trans_encode = trans_encode.fit_transform(X_train)\n",
    "X_val_trans_encode   = trans_encode.fit_transform(X_val)\n",
    "\n",
    "# Create the model \n",
    "tmp_mdl = RandomForestClassifier(n_estimators=100, n_jobs=-1, random_state=42)\n",
    "tmp_mdl.fit(X_train_trans_encode, y_train)"
   ]
  },
  {
   "cell_type": "code",
   "execution_count": 24,
   "metadata": {},
   "outputs": [
    {
     "data": {
      "text/plain": "PermutationImportance(cv='prefit',\n                      estimator=RandomForestClassifier(bootstrap=True,\n                                                       ccp_alpha=0.0,\n                                                       class_weight=None,\n                                                       criterion='gini',\n                                                       max_depth=None,\n                                                       max_features='auto',\n                                                       max_leaf_nodes=None,\n                                                       max_samples=None,\n                                                       min_impurity_decrease=0.0,\n                                                       min_impurity_split=None,\n                                                       min_samples_leaf=1,\n                                                       min_samples_split=2,\n                                                       min_weight_fraction_leaf=0.0,\n                                                       n_estimators=100,\n                                                       n_jobs=-1,\n                                                       oob_score=False,\n                                                       random_state=42,\n                                                       verbose=0,\n                                                       warm_start=False),\n                      n_iter=5, random_state=42, refit=True,\n                      scoring='accuracy')"
     },
     "execution_count": 24,
     "metadata": {},
     "output_type": "execute_result"
    }
   ],
   "source": [
    "# Use the eli5 package to generate permutation importance\n",
    "import eli5\n",
    "from eli5.sklearn import PermutationImportance\n",
    "\n",
    "# Create a permutation importance object\n",
    "prmuter = PermutationImportance(\n",
    "    tmp_mdl,\n",
    "    scoring='accuracy',\n",
    "    n_iter=5,\n",
    "    random_state=42)\n",
    "\n",
    "prmuter.fit(X_val_trans_encode, y_val)"
   ]
  },
  {
   "cell_type": "code",
   "execution_count": 25,
   "metadata": {},
   "outputs": [
    {
     "data": {
      "text/html": "\n    <style>\n    table.eli5-weights tr:hover {\n        filter: brightness(85%);\n    }\n</style>\n\n\n\n    \n\n    \n\n    \n\n    \n\n    \n\n    \n\n\n    \n\n    \n\n    \n\n    \n\n    \n\n    \n\n\n    \n\n    \n\n    \n\n    \n\n    \n        <table class=\"eli5-weights eli5-feature-importances\" style=\"border-collapse: collapse; border: none; margin-top: 0em; table-layout: auto;\">\n    <thead>\n    <tr style=\"border: none;\">\n        <th style=\"padding: 0 1em 0 0.5em; text-align: right; border: none;\">Weight</th>\n        <th style=\"padding: 0 0.5em 0 0.5em; text-align: left; border: none;\">Feature</th>\n    </tr>\n    </thead>\n    <tbody>\n    \n        <tr style=\"background-color: hsl(120, 100.00%, 87.44%); border: none;\">\n            <td style=\"padding: 0 1em 0 0.5em; text-align: right; border: none;\">\n                0.0014\n                \n                    &plusmn; 0.0012\n                \n            </td>\n            <td style=\"padding: 0 0.5em 0 0.5em; text-align: left; border: none;\">\n                LightCond\n            </td>\n        </tr>\n    \n        <tr style=\"background-color: hsl(120, 100.00%, 93.85%); border: none;\">\n            <td style=\"padding: 0 1em 0 0.5em; text-align: right; border: none;\">\n                0.0005\n                \n                    &plusmn; 0.0022\n                \n            </td>\n            <td style=\"padding: 0 0.5em 0 0.5em; text-align: left; border: none;\">\n                CrashHour\n            </td>\n        </tr>\n    \n        <tr style=\"background-color: hsl(120, 100.00%, 96.85%); border: none;\">\n            <td style=\"padding: 0 1em 0 0.5em; text-align: right; border: none;\">\n                0.0002\n                \n                    &plusmn; 0.0013\n                \n            </td>\n            <td style=\"padding: 0 0.5em 0 0.5em; text-align: left; border: none;\">\n                NumLanes\n            </td>\n        </tr>\n    \n        <tr style=\"background-color: hsl(120, 100.00%, 97.79%); border: none;\">\n            <td style=\"padding: 0 1em 0 0.5em; text-align: right; border: none;\">\n                0.0001\n                \n                    &plusmn; 0.0027\n                \n            </td>\n            <td style=\"padding: 0 0.5em 0 0.5em; text-align: left; border: none;\">\n                SpeedLimit\n            </td>\n        </tr>\n    \n        <tr style=\"background-color: hsl(120, 100.00%, 98.98%); border: none;\">\n            <td style=\"padding: 0 1em 0 0.5em; text-align: right; border: none;\">\n                0.0000\n                \n                    &plusmn; 0.0006\n                \n            </td>\n            <td style=\"padding: 0 0.5em 0 0.5em; text-align: left; border: none;\">\n                RdDefects\n            </td>\n        </tr>\n    \n        <tr style=\"background-color: hsl(0, 100.00%, 100.00%); border: none;\">\n            <td style=\"padding: 0 1em 0 0.5em; text-align: right; border: none;\">\n                -0.0000\n                \n                    &plusmn; 0.0003\n                \n            </td>\n            <td style=\"padding: 0 0.5em 0 0.5em; text-align: left; border: none;\">\n                Workzone\n            </td>\n        </tr>\n    \n        <tr style=\"background-color: hsl(0, 100.00%, 98.98%); border: none;\">\n            <td style=\"padding: 0 1em 0 0.5em; text-align: right; border: none;\">\n                -0.0000\n                \n                    &plusmn; 0.0017\n                \n            </td>\n            <td style=\"padding: 0 0.5em 0 0.5em; text-align: left; border: none;\">\n                TraffCntrl\n            </td>\n        </tr>\n    \n        <tr style=\"background-color: hsl(0, 100.00%, 96.01%); border: none;\">\n            <td style=\"padding: 0 1em 0 0.5em; text-align: right; border: none;\">\n                -0.0003\n                \n                    &plusmn; 0.0006\n                \n            </td>\n            <td style=\"padding: 0 0.5em 0 0.5em; text-align: left; border: none;\">\n                RdConditio\n            </td>\n        </tr>\n    \n        <tr style=\"background-color: hsl(0, 100.00%, 95.62%); border: none;\">\n            <td style=\"padding: 0 1em 0 0.5em; text-align: right; border: none;\">\n                -0.0003\n                \n                    &plusmn; 0.0026\n                \n            </td>\n            <td style=\"padding: 0 0.5em 0 0.5em; text-align: left; border: none;\">\n                RdClass\n            </td>\n        </tr>\n    \n        <tr style=\"background-color: hsl(0, 100.00%, 95.24%); border: none;\">\n            <td style=\"padding: 0 1em 0 0.5em; text-align: right; border: none;\">\n                -0.0004\n                \n                    &plusmn; 0.0026\n                \n            </td>\n            <td style=\"padding: 0 0.5em 0 0.5em; text-align: left; border: none;\">\n                CrashMonth\n            </td>\n        </tr>\n    \n        <tr style=\"background-color: hsl(0, 100.00%, 93.85%); border: none;\">\n            <td style=\"padding: 0 1em 0 0.5em; text-align: right; border: none;\">\n                -0.0005\n                \n                    &plusmn; 0.0010\n                \n            </td>\n            <td style=\"padding: 0 0.5em 0 0.5em; text-align: left; border: none;\">\n                Weather\n            </td>\n        </tr>\n    \n        <tr style=\"background-color: hsl(0, 100.00%, 91.39%); border: none;\">\n            <td style=\"padding: 0 1em 0 0.5em; text-align: right; border: none;\">\n                -0.0008\n                \n                    &plusmn; 0.0014\n                \n            </td>\n            <td style=\"padding: 0 0.5em 0 0.5em; text-align: left; border: none;\">\n                Development\n            </td>\n        </tr>\n    \n        <tr style=\"background-color: hsl(0, 100.00%, 91.10%); border: none;\">\n            <td style=\"padding: 0 1em 0 0.5em; text-align: right; border: none;\">\n                -0.0009\n                \n                    &plusmn; 0.0010\n                \n            </td>\n            <td style=\"padding: 0 0.5em 0 0.5em; text-align: left; border: none;\">\n                Locality\n            </td>\n        </tr>\n    \n        <tr style=\"background-color: hsl(0, 100.00%, 91.10%); border: none;\">\n            <td style=\"padding: 0 1em 0 0.5em; text-align: right; border: none;\">\n                -0.0009\n                \n                    &plusmn; 0.0007\n                \n            </td>\n            <td style=\"padding: 0 0.5em 0 0.5em; text-align: left; border: none;\">\n                RdCharacte\n            </td>\n        </tr>\n    \n        <tr style=\"background-color: hsl(0, 100.00%, 89.21%); border: none;\">\n            <td style=\"padding: 0 1em 0 0.5em; text-align: right; border: none;\">\n                -0.0011\n                \n                    &plusmn; 0.0014\n                \n            </td>\n            <td style=\"padding: 0 0.5em 0 0.5em; text-align: left; border: none;\">\n                Region\n            </td>\n        </tr>\n    \n        <tr style=\"background-color: hsl(0, 100.00%, 88.95%); border: none;\">\n            <td style=\"padding: 0 1em 0 0.5em; text-align: right; border: none;\">\n                -0.0012\n                \n                    &plusmn; 0.0020\n                \n            </td>\n            <td style=\"padding: 0 0.5em 0 0.5em; text-align: left; border: none;\">\n                RdConfig\n            </td>\n        </tr>\n    \n        <tr style=\"background-color: hsl(0, 100.00%, 87.94%); border: none;\">\n            <td style=\"padding: 0 1em 0 0.5em; text-align: right; border: none;\">\n                -0.0013\n                \n                    &plusmn; 0.0009\n                \n            </td>\n            <td style=\"padding: 0 0.5em 0 0.5em; text-align: left; border: none;\">\n                RuralUrban\n            </td>\n        </tr>\n    \n        <tr style=\"background-color: hsl(0, 100.00%, 85.55%); border: none;\">\n            <td style=\"padding: 0 1em 0 0.5em; text-align: right; border: none;\">\n                -0.0017\n                \n                    &plusmn; 0.0021\n                \n            </td>\n            <td style=\"padding: 0 0.5em 0 0.5em; text-align: left; border: none;\">\n                City\n            </td>\n        </tr>\n    \n        <tr style=\"background-color: hsl(0, 100.00%, 84.42%); border: none;\">\n            <td style=\"padding: 0 1em 0 0.5em; text-align: right; border: none;\">\n                -0.0019\n                \n                    &plusmn; 0.0022\n                \n            </td>\n            <td style=\"padding: 0 0.5em 0 0.5em; text-align: left; border: none;\">\n                RdSurface\n            </td>\n        </tr>\n    \n        <tr style=\"background-color: hsl(0, 100.00%, 82.68%); border: none;\">\n            <td style=\"padding: 0 1em 0 0.5em; text-align: right; border: none;\">\n                -0.0023\n                \n                    &plusmn; 0.0022\n                \n            </td>\n            <td style=\"padding: 0 0.5em 0 0.5em; text-align: left; border: none;\">\n                RdFeature\n            </td>\n        </tr>\n    \n        <tr style=\"background-color: hsl(0, 100.00%, 80.00%); border: none;\">\n            <td style=\"padding: 0 1em 0 0.5em; text-align: right; border: none;\">\n                -0.0028\n                \n                    &plusmn; 0.0007\n                \n            </td>\n            <td style=\"padding: 0 0.5em 0 0.5em; text-align: left; border: none;\">\n                County\n            </td>\n        </tr>\n    \n    \n    </tbody>\n</table>\n    \n\n    \n\n\n    \n\n    \n\n    \n\n    \n\n    \n\n    \n\n\n\n",
      "text/plain": "<IPython.core.display.HTML object>"
     },
     "execution_count": 25,
     "metadata": {},
     "output_type": "execute_result"
    }
   ],
   "source": [
    "# Grab the feature names\n",
    "feature_names = X_val.columns.tolist()\n",
    "\n",
    "# Display the permutation importances \n",
    "eli5.show_weights(\n",
    "    prmuter,\n",
    "    top=None,\n",
    "    feature_names=feature_names\n",
    ")"
   ]
  },
  {
   "cell_type": "code",
   "execution_count": 32,
   "metadata": {},
   "outputs": [
    {
     "data": {
      "text/plain": "['City',\n 'County',\n 'CrashMonth',\n 'Development',\n 'Locality',\n 'RdCharacte',\n 'RdClass',\n 'RdConditio',\n 'RdConfig',\n 'RdFeature',\n 'RdSurface',\n 'Region',\n 'RuralUrban',\n 'Weather',\n 'ped_serious_outcome']"
     },
     "execution_count": 32,
     "metadata": {},
     "output_type": "execute_result"
    }
   ],
   "source": [
    "# Manually grab the most important features\n",
    "features_org  = df_wrgl_train.columns\n",
    "features_drop = []\n",
    "\n",
    "# Define the important features as per the permutation importance analysis\n",
    "features_important = [\n",
    "    'LightCond',\n",
    "    'CrashHour',\n",
    "    'NumLanes',\n",
    "    'SpeedLimit',\n",
    "    'RdDefects',\n",
    "    'Workzone',\n",
    "    'TraffCntrl']\n",
    "\n",
    "# Remove the \"important\" features to construct a drop feature list\n",
    "for val in features_org:\n",
    "    # Iterating over an important feature - then skip to keep\n",
    "    if val in features_important:\n",
    "        continue\n",
    "\n",
    "    # Not keeping this feature - add to our drop list\n",
    "    features_drop.append(val)\n",
    "\n",
    "\n",
    "features_drop"
   ]
  },
  {
   "cell_type": "code",
   "execution_count": 34,
   "metadata": {},
   "outputs": [],
   "source": [
    "# Construct modeling datasets - focusing on the \"important\" features (per the permuation importance analysis)\n",
    "X_train_imp = df_wrgl_train.drop(columns=features_drop)\n",
    "y_train_imp = df_wrgl_train[target]\n",
    "\n",
    "X_val_imp   = df_wrgl_val.drop(columns=features_drop)\n",
    "y_val_imp   = df_wrgl_val[target]\n",
    "\n",
    "X_test_imp  = df_wrgl_test.drop(columns=features_drop)\n",
    "y_test_imp  = df_wrgl_test[target]"
   ]
  },
  {
   "cell_type": "code",
   "execution_count": 36,
   "metadata": {},
   "outputs": [
    {
     "data": {
      "text/plain": "Pipeline(memory=None,\n         steps=[('ordinalencoder',\n                 OrdinalEncoder(cols=['LightCond', 'NumLanes', 'RdDefects',\n                                      'SpeedLimit', 'TraffCntrl', 'Workzone'],\n                                drop_invariant=False, handle_missing='value',\n                                handle_unknown='value',\n                                mapping=[{'col': 'LightCond',\n                                          'data_type': dtype('O'),\n                                          'mapping': Dark - Lighted Roadway        1\nDusk                          2\nDark - Roadway Not Lighted    3\nDaylight                      4\nDawn                          5\nOther                         6\nDark - Unknown Li...\n                 RandomForestClassifier(bootstrap=True, ccp_alpha=0.0,\n                                        class_weight=None, criterion='gini',\n                                        max_depth=None, max_features='auto',\n                                        max_leaf_nodes=None, max_samples=None,\n                                        min_impurity_decrease=0.0,\n                                        min_impurity_split=None,\n                                        min_samples_leaf=1, min_samples_split=2,\n                                        min_weight_fraction_leaf=0.0,\n                                        n_estimators=100, n_jobs=-1,\n                                        oob_score=False, random_state=42,\n                                        verbose=0, warm_start=False))],\n         verbose=False)"
     },
     "execution_count": 36,
     "metadata": {},
     "output_type": "execute_result"
    }
   ],
   "source": [
    "# Construct a modeling pipeline\n",
    "pipeline_imp = make_pipeline(\n",
    "    ce.OrdinalEncoder(),\n",
    "    RandomForestClassifier(n_jobs=-1, random_state=42)\n",
    ")\n",
    "\n",
    "# Fit the pipeline to the training dataset\n",
    "pipeline_imp.fit(X_train_imp, y_train_imp)"
   ]
  },
  {
   "cell_type": "code",
   "execution_count": 39,
   "metadata": {},
   "outputs": [
    {
     "name": "stdout",
     "output_type": "stream",
     "text": "Validation Accuracy: 0.85584\n"
    }
   ],
   "source": [
    "# Determine the validation dataset's accuracy\n",
    "print(f'Validation Accuracy: {round(pipeline_imp.score(X_val_imp, y_val_imp), 5)}')"
   ]
  },
  {
   "cell_type": "code",
   "execution_count": 40,
   "metadata": {},
   "outputs": [
    {
     "name": "stdout",
     "output_type": "stream",
     "text": "Validation Accuracy: 0.85367\n"
    }
   ],
   "source": [
    "# Determine the test dataset's accuracy\n",
    "print(f'Validation Accuracy: {round(pipeline_imp.score(X_test_imp, y_test_imp), 5)}')"
   ]
  },
  {
   "cell_type": "code",
   "execution_count": 41,
   "metadata": {},
   "outputs": [],
   "source": [
    "import matplotlib.pyplot as plt\n",
    "plt.rcParams['figure.dpi'] = 72"
   ]
  },
  {
   "cell_type": "code",
   "execution_count": 45,
   "metadata": {},
   "outputs": [
    {
     "name": "stdout",
     "output_type": "stream",
     "text": "type of pipeline[1] is: <class 'sklearn.ensemble._forest.RandomForestClassifier'>\ncurrent featr is: LightCond\n"
    },
    {
     "ename": "TypeError",
     "evalue": "can't multiply sequence by non-int of type 'float'",
     "output_type": "error",
     "traceback": [
      "\u001b[0;31m---------------------------------------------------------------------------\u001b[0m",
      "\u001b[0;31mTypeError\u001b[0m                                 Traceback (most recent call last)",
      "\u001b[0;32m<ipython-input-45-eae3994de44e>\u001b[0m in \u001b[0;36m<module>\u001b[0;34m\u001b[0m\n\u001b[1;32m     12\u001b[0m         \u001b[0mdataset\u001b[0m        \u001b[0;34m=\u001b[0m \u001b[0mX_val\u001b[0m\u001b[0;34m,\u001b[0m\u001b[0;34m\u001b[0m\u001b[0;34m\u001b[0m\u001b[0m\n\u001b[1;32m     13\u001b[0m         \u001b[0mmodel_features\u001b[0m \u001b[0;34m=\u001b[0m \u001b[0mX_val\u001b[0m\u001b[0;34m.\u001b[0m\u001b[0mcolumns\u001b[0m\u001b[0;34m,\u001b[0m\u001b[0;34m\u001b[0m\u001b[0;34m\u001b[0m\u001b[0m\n\u001b[0;32m---> 14\u001b[0;31m         feature        = featr)\n\u001b[0m\u001b[1;32m     15\u001b[0m \u001b[0;34m\u001b[0m\u001b[0m\n\u001b[1;32m     16\u001b[0m     \u001b[0mpdp_plot\u001b[0m\u001b[0;34m(\u001b[0m\u001b[0misolated\u001b[0m\u001b[0;34m,\u001b[0m \u001b[0mfeature_name\u001b[0m\u001b[0;34m=\u001b[0m\u001b[0mfeatr\u001b[0m\u001b[0;34m)\u001b[0m\u001b[0;34m;\u001b[0m\u001b[0;34m\u001b[0m\u001b[0;34m\u001b[0m\u001b[0m\n",
      "\u001b[0;32m~/anaconda3/lib/python3.7/site-packages/pdpbox/pdp.py\u001b[0m in \u001b[0;36mpdp_isolate\u001b[0;34m(model, dataset, model_features, feature, num_grid_points, grid_type, percentile_range, grid_range, cust_grid_points, memory_limit, n_jobs, predict_kwds, data_transformer)\u001b[0m\n\u001b[1;32m    144\u001b[0m             feature_grids, percentile_info = _get_grids(\n\u001b[1;32m    145\u001b[0m                 \u001b[0mfeature_values\u001b[0m\u001b[0;34m=\u001b[0m\u001b[0m_dataset\u001b[0m\u001b[0;34m[\u001b[0m\u001b[0mfeature\u001b[0m\u001b[0;34m]\u001b[0m\u001b[0;34m.\u001b[0m\u001b[0mvalues\u001b[0m\u001b[0;34m,\u001b[0m \u001b[0mnum_grid_points\u001b[0m\u001b[0;34m=\u001b[0m\u001b[0mnum_grid_points\u001b[0m\u001b[0;34m,\u001b[0m \u001b[0mgrid_type\u001b[0m\u001b[0;34m=\u001b[0m\u001b[0mgrid_type\u001b[0m\u001b[0;34m,\u001b[0m\u001b[0;34m\u001b[0m\u001b[0;34m\u001b[0m\u001b[0m\n\u001b[0;32m--> 146\u001b[0;31m                 percentile_range=percentile_range, grid_range=grid_range)\n\u001b[0m\u001b[1;32m    147\u001b[0m         \u001b[0;32melse\u001b[0m\u001b[0;34m:\u001b[0m\u001b[0;34m\u001b[0m\u001b[0;34m\u001b[0m\u001b[0m\n\u001b[1;32m    148\u001b[0m             \u001b[0;31m# make sure grid points are unique and in ascending order\u001b[0m\u001b[0;34m\u001b[0m\u001b[0;34m\u001b[0m\u001b[0;34m\u001b[0m\u001b[0m\n",
      "\u001b[0;32m~/anaconda3/lib/python3.7/site-packages/pdpbox/utils.py\u001b[0m in \u001b[0;36m_get_grids\u001b[0;34m(feature_values, num_grid_points, grid_type, percentile_range, grid_range)\u001b[0m\n\u001b[1;32m    235\u001b[0m \u001b[0;34m\u001b[0m\u001b[0m\n\u001b[1;32m    236\u001b[0m         \u001b[0mpercentile_grids\u001b[0m \u001b[0;34m=\u001b[0m \u001b[0mnp\u001b[0m\u001b[0;34m.\u001b[0m\u001b[0mlinspace\u001b[0m\u001b[0;34m(\u001b[0m\u001b[0mstart\u001b[0m\u001b[0;34m=\u001b[0m\u001b[0mstart\u001b[0m\u001b[0;34m,\u001b[0m \u001b[0mstop\u001b[0m\u001b[0;34m=\u001b[0m\u001b[0mend\u001b[0m\u001b[0;34m,\u001b[0m \u001b[0mnum\u001b[0m\u001b[0;34m=\u001b[0m\u001b[0mnum_grid_points\u001b[0m\u001b[0;34m)\u001b[0m\u001b[0;34m\u001b[0m\u001b[0;34m\u001b[0m\u001b[0m\n\u001b[0;32m--> 237\u001b[0;31m         \u001b[0mvalue_grids\u001b[0m \u001b[0;34m=\u001b[0m \u001b[0mnp\u001b[0m\u001b[0;34m.\u001b[0m\u001b[0mpercentile\u001b[0m\u001b[0;34m(\u001b[0m\u001b[0mfeature_values\u001b[0m\u001b[0;34m,\u001b[0m \u001b[0mpercentile_grids\u001b[0m\u001b[0;34m)\u001b[0m\u001b[0;34m\u001b[0m\u001b[0;34m\u001b[0m\u001b[0m\n\u001b[0m\u001b[1;32m    238\u001b[0m \u001b[0;34m\u001b[0m\u001b[0m\n\u001b[1;32m    239\u001b[0m         \u001b[0mgrids_df\u001b[0m \u001b[0;34m=\u001b[0m \u001b[0mpd\u001b[0m\u001b[0;34m.\u001b[0m\u001b[0mDataFrame\u001b[0m\u001b[0;34m(\u001b[0m\u001b[0;34m)\u001b[0m\u001b[0;34m\u001b[0m\u001b[0;34m\u001b[0m\u001b[0m\n",
      "\u001b[0;32m~/anaconda3/lib/python3.7/site-packages/numpy/lib/function_base.py\u001b[0m in \u001b[0;36mpercentile\u001b[0;34m(a, q, axis, out, overwrite_input, interpolation, keepdims)\u001b[0m\n\u001b[1;32m   3705\u001b[0m         \u001b[0;32mraise\u001b[0m \u001b[0mValueError\u001b[0m\u001b[0;34m(\u001b[0m\u001b[0;34m\"Percentiles must be in the range [0, 100]\"\u001b[0m\u001b[0;34m)\u001b[0m\u001b[0;34m\u001b[0m\u001b[0;34m\u001b[0m\u001b[0m\n\u001b[1;32m   3706\u001b[0m     return _quantile_unchecked(\n\u001b[0;32m-> 3707\u001b[0;31m         a, q, axis, out, overwrite_input, interpolation, keepdims)\n\u001b[0m\u001b[1;32m   3708\u001b[0m \u001b[0;34m\u001b[0m\u001b[0m\n\u001b[1;32m   3709\u001b[0m \u001b[0;34m\u001b[0m\u001b[0m\n",
      "\u001b[0;32m~/anaconda3/lib/python3.7/site-packages/numpy/lib/function_base.py\u001b[0m in \u001b[0;36m_quantile_unchecked\u001b[0;34m(a, q, axis, out, overwrite_input, interpolation, keepdims)\u001b[0m\n\u001b[1;32m   3824\u001b[0m     r, k = _ureduce(a, func=_quantile_ureduce_func, q=q, axis=axis, out=out,\n\u001b[1;32m   3825\u001b[0m                     \u001b[0moverwrite_input\u001b[0m\u001b[0;34m=\u001b[0m\u001b[0moverwrite_input\u001b[0m\u001b[0;34m,\u001b[0m\u001b[0;34m\u001b[0m\u001b[0;34m\u001b[0m\u001b[0m\n\u001b[0;32m-> 3826\u001b[0;31m                     interpolation=interpolation)\n\u001b[0m\u001b[1;32m   3827\u001b[0m     \u001b[0;32mif\u001b[0m \u001b[0mkeepdims\u001b[0m\u001b[0;34m:\u001b[0m\u001b[0;34m\u001b[0m\u001b[0;34m\u001b[0m\u001b[0m\n\u001b[1;32m   3828\u001b[0m         \u001b[0;32mreturn\u001b[0m \u001b[0mr\u001b[0m\u001b[0;34m.\u001b[0m\u001b[0mreshape\u001b[0m\u001b[0;34m(\u001b[0m\u001b[0mq\u001b[0m\u001b[0;34m.\u001b[0m\u001b[0mshape\u001b[0m \u001b[0;34m+\u001b[0m \u001b[0mk\u001b[0m\u001b[0;34m)\u001b[0m\u001b[0;34m\u001b[0m\u001b[0;34m\u001b[0m\u001b[0m\n",
      "\u001b[0;32m~/anaconda3/lib/python3.7/site-packages/numpy/lib/function_base.py\u001b[0m in \u001b[0;36m_ureduce\u001b[0;34m(a, func, **kwargs)\u001b[0m\n\u001b[1;32m   3403\u001b[0m         \u001b[0mkeepdim\u001b[0m \u001b[0;34m=\u001b[0m \u001b[0;34m(\u001b[0m\u001b[0;36m1\u001b[0m\u001b[0;34m,\u001b[0m\u001b[0;34m)\u001b[0m \u001b[0;34m*\u001b[0m \u001b[0ma\u001b[0m\u001b[0;34m.\u001b[0m\u001b[0mndim\u001b[0m\u001b[0;34m\u001b[0m\u001b[0;34m\u001b[0m\u001b[0m\n\u001b[1;32m   3404\u001b[0m \u001b[0;34m\u001b[0m\u001b[0m\n\u001b[0;32m-> 3405\u001b[0;31m     \u001b[0mr\u001b[0m \u001b[0;34m=\u001b[0m \u001b[0mfunc\u001b[0m\u001b[0;34m(\u001b[0m\u001b[0ma\u001b[0m\u001b[0;34m,\u001b[0m \u001b[0;34m**\u001b[0m\u001b[0mkwargs\u001b[0m\u001b[0;34m)\u001b[0m\u001b[0;34m\u001b[0m\u001b[0;34m\u001b[0m\u001b[0m\n\u001b[0m\u001b[1;32m   3406\u001b[0m     \u001b[0;32mreturn\u001b[0m \u001b[0mr\u001b[0m\u001b[0;34m,\u001b[0m \u001b[0mkeepdim\u001b[0m\u001b[0;34m\u001b[0m\u001b[0;34m\u001b[0m\u001b[0m\n\u001b[1;32m   3407\u001b[0m \u001b[0;34m\u001b[0m\u001b[0m\n",
      "\u001b[0;32m~/anaconda3/lib/python3.7/site-packages/numpy/lib/function_base.py\u001b[0m in \u001b[0;36m_quantile_ureduce_func\u001b[0;34m(a, q, axis, out, overwrite_input, interpolation, keepdims)\u001b[0m\n\u001b[1;32m   3939\u001b[0m             \u001b[0mn\u001b[0m \u001b[0;34m=\u001b[0m \u001b[0mnp\u001b[0m\u001b[0;34m.\u001b[0m\u001b[0misnan\u001b[0m\u001b[0;34m(\u001b[0m\u001b[0map\u001b[0m\u001b[0;34m[\u001b[0m\u001b[0;34m-\u001b[0m\u001b[0;36m1\u001b[0m\u001b[0;34m:\u001b[0m\u001b[0;34m,\u001b[0m \u001b[0;34m...\u001b[0m\u001b[0;34m]\u001b[0m\u001b[0;34m)\u001b[0m\u001b[0;34m\u001b[0m\u001b[0;34m\u001b[0m\u001b[0m\n\u001b[1;32m   3940\u001b[0m \u001b[0;34m\u001b[0m\u001b[0m\n\u001b[0;32m-> 3941\u001b[0;31m         \u001b[0mx1\u001b[0m \u001b[0;34m=\u001b[0m \u001b[0mtake\u001b[0m\u001b[0;34m(\u001b[0m\u001b[0map\u001b[0m\u001b[0;34m,\u001b[0m \u001b[0mindices_below\u001b[0m\u001b[0;34m,\u001b[0m \u001b[0maxis\u001b[0m\u001b[0;34m=\u001b[0m\u001b[0maxis\u001b[0m\u001b[0;34m)\u001b[0m \u001b[0;34m*\u001b[0m \u001b[0mweights_below\u001b[0m\u001b[0;34m\u001b[0m\u001b[0;34m\u001b[0m\u001b[0m\n\u001b[0m\u001b[1;32m   3942\u001b[0m         \u001b[0mx2\u001b[0m \u001b[0;34m=\u001b[0m \u001b[0mtake\u001b[0m\u001b[0;34m(\u001b[0m\u001b[0map\u001b[0m\u001b[0;34m,\u001b[0m \u001b[0mindices_above\u001b[0m\u001b[0;34m,\u001b[0m \u001b[0maxis\u001b[0m\u001b[0;34m=\u001b[0m\u001b[0maxis\u001b[0m\u001b[0;34m)\u001b[0m \u001b[0;34m*\u001b[0m \u001b[0mweights_above\u001b[0m\u001b[0;34m\u001b[0m\u001b[0;34m\u001b[0m\u001b[0m\n\u001b[1;32m   3943\u001b[0m \u001b[0;34m\u001b[0m\u001b[0m\n",
      "\u001b[0;31mTypeError\u001b[0m: can't multiply sequence by non-int of type 'float'"
     ]
    }
   ],
   "source": [
    "from pdpbox.pdp import pdp_isolate, pdp_plot\n",
    "\n",
    "print(f'type of pipeline[1] is: {type(pipeline[1])}')\n",
    "\n",
    "# Iterate through the top three most important features\n",
    "for i in range(3):\n",
    "    featr = features_important[i]\n",
    "    print(f'current featr is: {featr}')\n",
    "\n",
    "    tmp_isolate = pdp_isolate(\n",
    "        model          = pipeline[1],\n",
    "        dataset        = X_val,\n",
    "        model_features = X_val.columns,\n",
    "        feature        = featr)\n",
    "\n",
    "    pdp_plot(isolated, feature_name=featr);"
   ]
  },
  {
   "cell_type": "code",
   "execution_count": null,
   "metadata": {},
   "outputs": [],
   "source": []
  }
 ],
 "metadata": {
  "kernelspec": {
   "display_name": "Python 3",
   "language": "python",
   "name": "python3"
  },
  "language_info": {
   "codemirror_mode": {
    "name": "ipython",
    "version": 3
   },
   "file_extension": ".py",
   "mimetype": "text/x-python",
   "name": "python",
   "nbconvert_exporter": "python",
   "pygments_lexer": "ipython3",
   "version": "3.7.3-final"
  }
 },
 "nbformat": 4,
 "nbformat_minor": 2
}