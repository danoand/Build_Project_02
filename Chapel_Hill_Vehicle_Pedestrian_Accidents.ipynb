{
 "cells": [
  {
   "cell_type": "code",
   "execution_count": 5,
   "metadata": {},
   "outputs": [],
   "source": [
    "import pandas as pd\n",
    "import numpy as np"
   ]
  },
  {
   "cell_type": "code",
   "execution_count": 6,
   "metadata": {},
   "outputs": [],
   "source": [
    "# Import the Chapel Hill data\n",
    "df_work = pd.read_csv(\"/Users/danoand/Documents/Companies/LambdaSchool/Build_Project_02/data/pedestrian-crashes-chapel-hill-region_imported.txt\",\n",
    "                     sep='\\t')"
   ]
  },
  {
   "cell_type": "code",
   "execution_count": 7,
   "metadata": {},
   "outputs": [],
   "source": [
    "# Profile the \"work\" dataframe\n",
    "from pandas_profiling import ProfileReport\n",
    "\n",
    "profile = ProfileReport(df_work, title='Pandas Profiling Report', html={'style':{'full_width':True}})\n",
    "profile.to_file(output_file=\"/Users/danoand/Documents/Companies/LambdaSchool/Build_Project_02/data/ChapelHillAccidents.html\")"
   ]
  },
  {
   "cell_type": "code",
   "execution_count": 8,
   "metadata": {},
   "outputs": [],
   "source": [
    "# Define \"ante\" columns (data that can be reasonably known prior to the event)\n",
    "# Notes:\n",
    "#   - removed the lat/long column \n",
    "categories_ante = [\n",
    "    'City',\n",
    "    'County',\n",
    "    'CrashHour',\n",
    "    'CrashMonth',\n",
    "    'Development',\n",
    "    'LightCond',\n",
    "    'Locality',\n",
    "    'NumLanes',\n",
    "    'RdCharacte',\n",
    "    'RdClass',\n",
    "    'RdConditio',\n",
    "    'RdConfig',\n",
    "    'RdDefects',\n",
    "    'RdFeature',\n",
    "    'RdSurface',\n",
    "    'Region',\n",
    "    'RuralUrban',\n",
    "    'SpeedLimit',\n",
    "    'TraffCntrl',\n",
    "    'Weather',\n",
    "    'Workzone',\n",
    "    'PedInjury']        # Source for the target data"
   ]
  },
  {
   "cell_type": "code",
   "execution_count": 11,
   "metadata": {},
   "outputs": [
    {
     "data": {
      "text/html": "<div>\n<style scoped>\n    .dataframe tbody tr th:only-of-type {\n        vertical-align: middle;\n    }\n\n    .dataframe tbody tr th {\n        vertical-align: top;\n    }\n\n    .dataframe thead th {\n        text-align: right;\n    }\n</style>\n<table border=\"1\" class=\"dataframe\">\n  <thead>\n    <tr style=\"text-align: right;\">\n      <th></th>\n      <th>City</th>\n      <th>County</th>\n      <th>CrashHour</th>\n      <th>CrashMonth</th>\n      <th>Development</th>\n      <th>LightCond</th>\n      <th>Locality</th>\n      <th>NumLanes</th>\n      <th>RdCharacte</th>\n      <th>RdClass</th>\n      <th>...</th>\n      <th>RdDefects</th>\n      <th>RdFeature</th>\n      <th>RdSurface</th>\n      <th>Region</th>\n      <th>RuralUrban</th>\n      <th>SpeedLimit</th>\n      <th>TraffCntrl</th>\n      <th>Weather</th>\n      <th>Workzone</th>\n      <th>PedInjury</th>\n    </tr>\n  </thead>\n  <tbody>\n    <tr>\n      <th>20037</th>\n      <td>Lumberton</td>\n      <td>Robeson</td>\n      <td>14</td>\n      <td>October</td>\n      <td>Commercial</td>\n      <td>Daylight</td>\n      <td>Rural (&lt;30% Developed)</td>\n      <td>Unknown</td>\n      <td>Straight - Level</td>\n      <td>Public Vehicular Area</td>\n      <td>...</td>\n      <td>None</td>\n      <td>No Special Feature</td>\n      <td>Coarse Asphalt</td>\n      <td>Coastal</td>\n      <td>Urban</td>\n      <td>5 - 15 MPH</td>\n      <td>No Control Present</td>\n      <td>Clear</td>\n      <td>No</td>\n      <td>Unknown Injury</td>\n    </tr>\n    <tr>\n      <th>33080</th>\n      <td>None - Rural Crash</td>\n      <td>New Hanover</td>\n      <td>19</td>\n      <td>November</td>\n      <td>Institutional</td>\n      <td>Dark - Lighted Roadway</td>\n      <td>Urban (&gt;70% Developed)</td>\n      <td>Unknown</td>\n      <td>Straight - Level</td>\n      <td>Public Vehicular Area</td>\n      <td>...</td>\n      <td>None</td>\n      <td>Driveway, Public</td>\n      <td>Smooth Asphalt</td>\n      <td>Coastal</td>\n      <td>Rural</td>\n      <td>5 - 15 MPH</td>\n      <td>No Control Present</td>\n      <td>Clear</td>\n      <td>No</td>\n      <td>B: Suspected Minor Injury</td>\n    </tr>\n    <tr>\n      <th>28079</th>\n      <td>None - Rural Crash</td>\n      <td>Surry</td>\n      <td>8</td>\n      <td>April</td>\n      <td>Farms, Woods, Pastures</td>\n      <td>Daylight</td>\n      <td>Rural (&lt;30% Developed)</td>\n      <td>4 lanes</td>\n      <td>Straight - Grade</td>\n      <td>US Route</td>\n      <td>...</td>\n      <td>None</td>\n      <td>Bridge</td>\n      <td>Concrete</td>\n      <td>Mountains</td>\n      <td>Rural</td>\n      <td>60 - 75 MPH</td>\n      <td>No Control Present</td>\n      <td>Clear</td>\n      <td>No</td>\n      <td>B: Suspected Minor Injury</td>\n    </tr>\n    <tr>\n      <th>32759</th>\n      <td>Durham</td>\n      <td>Durham</td>\n      <td>8</td>\n      <td>December</td>\n      <td>Commercial</td>\n      <td>Daylight</td>\n      <td>Urban (&gt;70% Developed)</td>\n      <td>2 lanes</td>\n      <td>Straight - Level</td>\n      <td>Public Vehicular Area</td>\n      <td>...</td>\n      <td>None</td>\n      <td>No Special Feature</td>\n      <td>Smooth Asphalt</td>\n      <td>Piedmont</td>\n      <td>Urban</td>\n      <td>20 - 25  MPH</td>\n      <td>No Control Present</td>\n      <td>Clear</td>\n      <td>No</td>\n      <td>B: Suspected Minor Injury</td>\n    </tr>\n    <tr>\n      <th>30876</th>\n      <td>None - Rural Crash</td>\n      <td>Guilford</td>\n      <td>20</td>\n      <td>March</td>\n      <td>Residential</td>\n      <td>Dark - Roadway Not Lighted</td>\n      <td>Rural (&lt;30% Developed)</td>\n      <td>2 lanes</td>\n      <td>Straight - Level</td>\n      <td>State Secondary Route</td>\n      <td>...</td>\n      <td>None</td>\n      <td>No Special Feature</td>\n      <td>Smooth Asphalt</td>\n      <td>Piedmont</td>\n      <td>Rural</td>\n      <td>40 - 45  MPH</td>\n      <td>No Control Present</td>\n      <td>Clear</td>\n      <td>No</td>\n      <td>C: Possible Injury</td>\n    </tr>\n    <tr>\n      <th>3995</th>\n      <td>Charlotte</td>\n      <td>Mecklenburg</td>\n      <td>7</td>\n      <td>October</td>\n      <td>Commercial</td>\n      <td>Daylight</td>\n      <td>Urban (&gt;70% Developed)</td>\n      <td>1 lane</td>\n      <td>Straight - Level</td>\n      <td>Local Street</td>\n      <td>...</td>\n      <td>None</td>\n      <td>No Special Feature</td>\n      <td>Smooth Asphalt</td>\n      <td>Piedmont</td>\n      <td>Urban</td>\n      <td>30 - 35  MPH</td>\n      <td>Stop And Go Signal</td>\n      <td>Clear</td>\n      <td>No</td>\n      <td>C: Possible Injury</td>\n    </tr>\n    <tr>\n      <th>25823</th>\n      <td>Dudley</td>\n      <td>Wayne</td>\n      <td>17</td>\n      <td>April</td>\n      <td>Residential</td>\n      <td>Daylight</td>\n      <td>Mixed (30% To 70% Developed)</td>\n      <td>Unknown</td>\n      <td>Straight - Level</td>\n      <td>Public Vehicular Area</td>\n      <td>...</td>\n      <td>None</td>\n      <td>Driveway, Private</td>\n      <td>Sand</td>\n      <td>Coastal</td>\n      <td>Rural</td>\n      <td>Unknown</td>\n      <td>No Control Present</td>\n      <td>Cloudy</td>\n      <td>No</td>\n      <td>C: Possible Injury</td>\n    </tr>\n    <tr>\n      <th>15541</th>\n      <td>None - Rural Crash</td>\n      <td>Guilford</td>\n      <td>22</td>\n      <td>August</td>\n      <td>Farms, Woods, Pastures</td>\n      <td>Dark - Roadway Not Lighted</td>\n      <td>Rural (&lt;30% Developed)</td>\n      <td>2 lanes</td>\n      <td>Straight - Level</td>\n      <td>US Route</td>\n      <td>...</td>\n      <td>None</td>\n      <td>No Special Feature</td>\n      <td>Smooth Asphalt</td>\n      <td>Piedmont</td>\n      <td>Rural</td>\n      <td>50 - 55  MPH</td>\n      <td>No Control Present</td>\n      <td>Clear</td>\n      <td>No</td>\n      <td>B: Suspected Minor Injury</td>\n    </tr>\n    <tr>\n      <th>12276</th>\n      <td>Fayetteville</td>\n      <td>Cumberland</td>\n      <td>11</td>\n      <td>August</td>\n      <td>Commercial</td>\n      <td>Daylight</td>\n      <td>Urban (&gt;70% Developed)</td>\n      <td>8 lanes</td>\n      <td>Straight - Level</td>\n      <td>Local Street</td>\n      <td>...</td>\n      <td>None</td>\n      <td>No Special Feature</td>\n      <td>Coarse Asphalt</td>\n      <td>Coastal</td>\n      <td>Urban</td>\n      <td>40 - 45  MPH</td>\n      <td>No Control Present</td>\n      <td>Clear</td>\n      <td>No</td>\n      <td>B: Suspected Minor Injury</td>\n    </tr>\n    <tr>\n      <th>25766</th>\n      <td>Rocky Mount</td>\n      <td>Edgecombe</td>\n      <td>14</td>\n      <td>January</td>\n      <td>Residential</td>\n      <td>Daylight</td>\n      <td>Mixed (30% To 70% Developed)</td>\n      <td>2 lanes</td>\n      <td>Straight - Level</td>\n      <td>Public Vehicular Area</td>\n      <td>...</td>\n      <td>None</td>\n      <td>Driveway, Public</td>\n      <td>Smooth Asphalt</td>\n      <td>Coastal</td>\n      <td>Urban</td>\n      <td>5 - 15 MPH</td>\n      <td>No Control Present</td>\n      <td>Clear</td>\n      <td>No</td>\n      <td>B: Suspected Minor Injury</td>\n    </tr>\n  </tbody>\n</table>\n<p>10 rows × 22 columns</p>\n</div>",
      "text/plain": "                     City       County  CrashHour CrashMonth  \\\n20037           Lumberton      Robeson         14    October   \n33080  None - Rural Crash  New Hanover         19   November   \n28079  None - Rural Crash        Surry          8      April   \n32759              Durham       Durham          8   December   \n30876  None - Rural Crash     Guilford         20      March   \n3995            Charlotte  Mecklenburg          7    October   \n25823              Dudley        Wayne         17      April   \n15541  None - Rural Crash     Guilford         22     August   \n12276        Fayetteville   Cumberland         11     August   \n25766         Rocky Mount    Edgecombe         14    January   \n\n                  Development                   LightCond  \\\n20037              Commercial                    Daylight   \n33080           Institutional      Dark - Lighted Roadway   \n28079  Farms, Woods, Pastures                    Daylight   \n32759              Commercial                    Daylight   \n30876             Residential  Dark - Roadway Not Lighted   \n3995               Commercial                    Daylight   \n25823             Residential                    Daylight   \n15541  Farms, Woods, Pastures  Dark - Roadway Not Lighted   \n12276              Commercial                    Daylight   \n25766             Residential                    Daylight   \n\n                           Locality NumLanes        RdCharacte  \\\n20037        Rural (<30% Developed)  Unknown  Straight - Level   \n33080        Urban (>70% Developed)  Unknown  Straight - Level   \n28079        Rural (<30% Developed)  4 lanes  Straight - Grade   \n32759        Urban (>70% Developed)  2 lanes  Straight - Level   \n30876        Rural (<30% Developed)  2 lanes  Straight - Level   \n3995         Urban (>70% Developed)   1 lane  Straight - Level   \n25823  Mixed (30% To 70% Developed)  Unknown  Straight - Level   \n15541        Rural (<30% Developed)  2 lanes  Straight - Level   \n12276        Urban (>70% Developed)  8 lanes  Straight - Level   \n25766  Mixed (30% To 70% Developed)  2 lanes  Straight - Level   \n\n                     RdClass  ... RdDefects           RdFeature  \\\n20037  Public Vehicular Area  ...      None  No Special Feature   \n33080  Public Vehicular Area  ...      None    Driveway, Public   \n28079               US Route  ...      None              Bridge   \n32759  Public Vehicular Area  ...      None  No Special Feature   \n30876  State Secondary Route  ...      None  No Special Feature   \n3995            Local Street  ...      None  No Special Feature   \n25823  Public Vehicular Area  ...      None   Driveway, Private   \n15541               US Route  ...      None  No Special Feature   \n12276           Local Street  ...      None  No Special Feature   \n25766  Public Vehicular Area  ...      None    Driveway, Public   \n\n            RdSurface     Region RuralUrban    SpeedLimit          TraffCntrl  \\\n20037  Coarse Asphalt    Coastal      Urban    5 - 15 MPH  No Control Present   \n33080  Smooth Asphalt    Coastal      Rural    5 - 15 MPH  No Control Present   \n28079        Concrete  Mountains      Rural   60 - 75 MPH  No Control Present   \n32759  Smooth Asphalt   Piedmont      Urban  20 - 25  MPH  No Control Present   \n30876  Smooth Asphalt   Piedmont      Rural  40 - 45  MPH  No Control Present   \n3995   Smooth Asphalt   Piedmont      Urban  30 - 35  MPH  Stop And Go Signal   \n25823            Sand    Coastal      Rural       Unknown  No Control Present   \n15541  Smooth Asphalt   Piedmont      Rural  50 - 55  MPH  No Control Present   \n12276  Coarse Asphalt    Coastal      Urban  40 - 45  MPH  No Control Present   \n25766  Smooth Asphalt    Coastal      Urban    5 - 15 MPH  No Control Present   \n\n      Weather Workzone                  PedInjury  \n20037   Clear       No             Unknown Injury  \n33080   Clear       No  B: Suspected Minor Injury  \n28079   Clear       No  B: Suspected Minor Injury  \n32759   Clear       No  B: Suspected Minor Injury  \n30876   Clear       No         C: Possible Injury  \n3995    Clear       No         C: Possible Injury  \n25823  Cloudy       No         C: Possible Injury  \n15541   Clear       No  B: Suspected Minor Injury  \n12276   Clear       No  B: Suspected Minor Injury  \n25766   Clear       No  B: Suspected Minor Injury  \n\n[10 rows x 22 columns]"
     },
     "execution_count": 11,
     "metadata": {},
     "output_type": "execute_result"
    }
   ],
   "source": [
    "# Define a dataframe with \"ante\" data\n",
    "df_ante = df_work[categories_ante]\n",
    "\n",
    "df_ante.sample(10)"
   ]
  },
  {
   "cell_type": "code",
   "execution_count": 12,
   "metadata": {},
   "outputs": [],
   "source": [
    "# Profile the df_ante dataframe\n",
    "from pandas_profiling import ProfileReport\n",
    "\n",
    "profile_ante = ProfileReport(df_ante, title='Pandas Profiling Report', html={'style':{'full_width':True}})\n",
    "profile_ante.to_file(output_file=\"/Users/danoand/Documents/Companies/LambdaSchool/Build_Project_02/data/ChapelHillAccidents_Ante.html\")"
   ]
  },
  {
   "cell_type": "code",
   "execution_count": 13,
   "metadata": {},
   "outputs": [
    {
     "name": "stdout",
     "output_type": "stream",
     "text": "Shape of df_ante_train: (28650, 22); Shape of df_ante_test: (5057, 22)\n"
    }
   ],
   "source": [
    "# Split the data into training, validation, and testing datasets\n",
    "from sklearn.model_selection import train_test_split\n",
    "df_ante_train, df_ante_test = train_test_split(df_ante, train_size=0.85, test_size=0.15, \n",
    "                              stratify=df_ante['PedInjury'], random_state=42)\n",
    "\n",
    "print(f'Shape of df_ante_train: {df_ante_train.shape}; Shape of df_ante_test: {df_ante_test.shape}')"
   ]
  },
  {
   "cell_type": "code",
   "execution_count": 14,
   "metadata": {},
   "outputs": [
    {
     "name": "stdout",
     "output_type": "stream",
     "text": "Shape of df_ante_train: (23593, 22); Shape of df_ante_val: (5057, 22); Shape of df_ante_test: (5057, 22)\n"
    }
   ],
   "source": [
    "# Split the train data into a training subset and a validation subset\n",
    "df_ante_train, df_ante_val = train_test_split(df_ante_train, test_size=len(df_ante_test), \n",
    "                              stratify=df_ante_train['PedInjury'], random_state=42)\n",
    "\n",
    "print(f'Shape of df_ante_train: {df_ante_train.shape}; Shape of df_ante_val: {df_ante_val.shape}; Shape of df_ante_test: {df_ante_test.shape}')"
   ]
  },
  {
   "cell_type": "code",
   "execution_count": 15,
   "metadata": {},
   "outputs": [
    {
     "data": {
      "text/plain": "C: Possible Injury             0.409020\nB: Suspected Minor Injury      0.354597\nA: Suspected Serious Injury    0.072140\nK: Killed                      0.063917\nO: No Injury                   0.059975\nUnknown Injury                 0.040351\nName: PedInjury, dtype: float64"
     },
     "execution_count": 15,
     "metadata": {},
     "output_type": "execute_result"
    }
   ],
   "source": [
    "# Breakdown the target attribute by class value\n",
    "df_ante_train['PedInjury'].value_counts(normalize=True)"
   ]
  },
  {
   "cell_type": "code",
   "execution_count": 16,
   "metadata": {},
   "outputs": [],
   "source": [
    "# Wrangle the modeling data\n",
    "outcome_serious = ['K: Killed', 'A: Suspected Serious Injury']\n",
    "\n",
    "# has_fatality is a function that returns a boolean value if the inbound value represents a serious outcome (True) or not (False)\n",
    "def has_serious_outcome(val):\n",
    "  if (val in outcome_serious): \n",
    "    return True\n",
    "\n",
    "  return False\n",
    "\n",
    "# wrangle returns a dataframe with updated/created columns for a given input dataframe \n",
    "def wrangle(DF):\n",
    "  X = DF.copy()\n",
    "\n",
    "  # Create a boolean target column reflecting an outcome (serious injury or not)\n",
    "  X['ped_serious_outcome'] = X['PedInjury'].apply(has_serious_outcome)\n",
    "\n",
    "  # List columns to be dropped\n",
    "  cols_drop = ['PedInjury'] # PedInjury - use the engineered 'ped_fatality' column\n",
    "\n",
    "  # Drop undesired columns\n",
    "  X = X.drop(columns=cols_drop)\n",
    "\n",
    "  return X"
   ]
  },
  {
   "cell_type": "code",
   "execution_count": 17,
   "metadata": {},
   "outputs": [
    {
     "name": "stdout",
     "output_type": "stream",
     "text": "Shape of df_wrgl_train: (23593, 22); Shape of df_wrgl_val: (5057, 22); Shape of df_wrgl_test: (5057, 22)\n"
    }
   ],
   "source": [
    "# Wrangle the training, validation, and test datasets\n",
    "df_wrgl_train = wrangle(df_ante_train)\n",
    "df_wrgl_val   = wrangle(df_ante_val)\n",
    "df_wrgl_test  = wrangle(df_ante_test)\n",
    "\n",
    "print(f'Shape of df_wrgl_train: {df_wrgl_train.shape}; Shape of df_wrgl_val: {df_wrgl_val.shape}; Shape of df_wrgl_test: {df_wrgl_test.shape}')"
   ]
  },
  {
   "cell_type": "code",
   "execution_count": 18,
   "metadata": {},
   "outputs": [
    {
     "data": {
      "text/html": "<div>\n<style scoped>\n    .dataframe tbody tr th:only-of-type {\n        vertical-align: middle;\n    }\n\n    .dataframe tbody tr th {\n        vertical-align: top;\n    }\n\n    .dataframe thead th {\n        text-align: right;\n    }\n</style>\n<table border=\"1\" class=\"dataframe\">\n  <thead>\n    <tr style=\"text-align: right;\">\n      <th></th>\n      <th>City</th>\n      <th>County</th>\n      <th>CrashHour</th>\n      <th>CrashMonth</th>\n      <th>Development</th>\n      <th>LightCond</th>\n      <th>Locality</th>\n      <th>NumLanes</th>\n      <th>RdCharacte</th>\n      <th>RdClass</th>\n      <th>...</th>\n      <th>RdDefects</th>\n      <th>RdFeature</th>\n      <th>RdSurface</th>\n      <th>Region</th>\n      <th>RuralUrban</th>\n      <th>SpeedLimit</th>\n      <th>TraffCntrl</th>\n      <th>Weather</th>\n      <th>Workzone</th>\n      <th>ped_serious_outcome</th>\n    </tr>\n  </thead>\n  <tbody>\n    <tr>\n      <th>4025</th>\n      <td>Spring Lake</td>\n      <td>Cumberland</td>\n      <td>18</td>\n      <td>October</td>\n      <td>Commercial</td>\n      <td>Daylight</td>\n      <td>Urban (&gt;70% Developed)</td>\n      <td>2 lanes</td>\n      <td>Straight - Level</td>\n      <td>Public Vehicular Area</td>\n      <td>...</td>\n      <td>None</td>\n      <td>No Special Feature</td>\n      <td>Coarse Asphalt</td>\n      <td>Coastal</td>\n      <td>Urban</td>\n      <td>5 - 15 MPH</td>\n      <td>No Control Present</td>\n      <td>Clear</td>\n      <td>No</td>\n      <td>False</td>\n    </tr>\n    <tr>\n      <th>10212</th>\n      <td>Charlotte</td>\n      <td>Mecklenburg</td>\n      <td>17</td>\n      <td>June</td>\n      <td>Commercial</td>\n      <td>Daylight</td>\n      <td>Urban (&gt;70% Developed)</td>\n      <td>2 lanes</td>\n      <td>Straight - Grade</td>\n      <td>Public Vehicular Area</td>\n      <td>...</td>\n      <td>None</td>\n      <td>No Special Feature</td>\n      <td>Smooth Asphalt</td>\n      <td>Piedmont</td>\n      <td>Urban</td>\n      <td>Unknown</td>\n      <td>No Control Present</td>\n      <td>Cloudy</td>\n      <td>No</td>\n      <td>False</td>\n    </tr>\n    <tr>\n      <th>30789</th>\n      <td>Boone</td>\n      <td>Watauga</td>\n      <td>11</td>\n      <td>April</td>\n      <td>Commercial</td>\n      <td>Daylight</td>\n      <td>Urban (&gt;70% Developed)</td>\n      <td>2 lanes</td>\n      <td>Straight - Level</td>\n      <td>Local Street</td>\n      <td>...</td>\n      <td>None</td>\n      <td>T-Intersection</td>\n      <td>Smooth Asphalt</td>\n      <td>Mountains</td>\n      <td>Urban</td>\n      <td>20 - 25  MPH</td>\n      <td>Stop And Go Signal</td>\n      <td>Clear</td>\n      <td>No</td>\n      <td>False</td>\n    </tr>\n    <tr>\n      <th>962</th>\n      <td>None - Rural Crash</td>\n      <td>Wake</td>\n      <td>13</td>\n      <td>November</td>\n      <td>Commercial</td>\n      <td>Daylight</td>\n      <td>Urban (&gt;70% Developed)</td>\n      <td>9 or more lanes</td>\n      <td>Straight - Level</td>\n      <td>Public Vehicular Area</td>\n      <td>...</td>\n      <td>None</td>\n      <td>Driveway, Public</td>\n      <td>Smooth Asphalt</td>\n      <td>Piedmont</td>\n      <td>Rural</td>\n      <td>5 - 15 MPH</td>\n      <td>No Control Present</td>\n      <td>Clear</td>\n      <td>No</td>\n      <td>True</td>\n    </tr>\n    <tr>\n      <th>3253</th>\n      <td>Mount Holly</td>\n      <td>Gaston</td>\n      <td>19</td>\n      <td>May</td>\n      <td>Commercial</td>\n      <td>Daylight</td>\n      <td>Mixed (30% To 70% Developed)</td>\n      <td>Unknown</td>\n      <td>Straight - Level</td>\n      <td>Public Vehicular Area</td>\n      <td>...</td>\n      <td>None</td>\n      <td>Driveway, Public</td>\n      <td>Coarse Asphalt</td>\n      <td>Piedmont</td>\n      <td>Urban</td>\n      <td>5 - 15 MPH</td>\n      <td>No Control Present</td>\n      <td>Clear</td>\n      <td>No</td>\n      <td>False</td>\n    </tr>\n  </tbody>\n</table>\n<p>5 rows × 22 columns</p>\n</div>",
      "text/plain": "                     City       County  CrashHour CrashMonth Development  \\\n4025          Spring Lake   Cumberland         18    October  Commercial   \n10212           Charlotte  Mecklenburg         17       June  Commercial   \n30789               Boone      Watauga         11      April  Commercial   \n962    None - Rural Crash         Wake         13   November  Commercial   \n3253          Mount Holly       Gaston         19        May  Commercial   \n\n      LightCond                      Locality         NumLanes  \\\n4025   Daylight        Urban (>70% Developed)          2 lanes   \n10212  Daylight        Urban (>70% Developed)          2 lanes   \n30789  Daylight        Urban (>70% Developed)          2 lanes   \n962    Daylight        Urban (>70% Developed)  9 or more lanes   \n3253   Daylight  Mixed (30% To 70% Developed)          Unknown   \n\n             RdCharacte                RdClass  ... RdDefects  \\\n4025   Straight - Level  Public Vehicular Area  ...      None   \n10212  Straight - Grade  Public Vehicular Area  ...      None   \n30789  Straight - Level           Local Street  ...      None   \n962    Straight - Level  Public Vehicular Area  ...      None   \n3253   Straight - Level  Public Vehicular Area  ...      None   \n\n                RdFeature       RdSurface     Region RuralUrban    SpeedLimit  \\\n4025   No Special Feature  Coarse Asphalt    Coastal      Urban    5 - 15 MPH   \n10212  No Special Feature  Smooth Asphalt   Piedmont      Urban       Unknown   \n30789      T-Intersection  Smooth Asphalt  Mountains      Urban  20 - 25  MPH   \n962      Driveway, Public  Smooth Asphalt   Piedmont      Rural    5 - 15 MPH   \n3253     Driveway, Public  Coarse Asphalt   Piedmont      Urban    5 - 15 MPH   \n\n               TraffCntrl Weather Workzone ped_serious_outcome  \n4025   No Control Present   Clear       No               False  \n10212  No Control Present  Cloudy       No               False  \n30789  Stop And Go Signal   Clear       No               False  \n962    No Control Present   Clear       No                True  \n3253   No Control Present   Clear       No               False  \n\n[5 rows x 22 columns]"
     },
     "execution_count": 18,
     "metadata": {},
     "output_type": "execute_result"
    }
   ],
   "source": [
    "df_wrgl_train.sample(5)"
   ]
  },
  {
   "cell_type": "code",
   "execution_count": 19,
   "metadata": {},
   "outputs": [],
   "source": [
    "# Construct the modeling datasets\n",
    "target = 'ped_serious_outcome'\n",
    "X_train = df_wrgl_train.drop(columns=target)\n",
    "y_train = df_wrgl_train[target]\n",
    "\n",
    "X_val   = df_wrgl_val.drop(columns=target)\n",
    "y_val   = df_wrgl_val[target]\n",
    "\n",
    "X_test  = df_wrgl_test.drop(columns=target)\n",
    "y_test  = df_wrgl_test[target]"
   ]
  },
  {
   "cell_type": "code",
   "execution_count": 30,
   "metadata": {},
   "outputs": [
    {
     "name": "stdout",
     "output_type": "stream",
     "text": "Baseline prediction score for the training set is: 0.7657\n"
    }
   ],
   "source": [
    "# Create a baseline prediction using a dummy classifier\n",
    "from sklearn.dummy import DummyClassifier\n",
    "clfr_dummy = DummyClassifier(strategy=\"stratified\")\n",
    "\n",
    "clfr_dummy.fit(X_train, y_train)\n",
    "clfr_dummy.predict(X_train)\n",
    "\n",
    "dummy_train_y_pred = clfr_dummy.predict(X_train)\n",
    "\n",
    "print(f'Baseline prediction score for the training set is: {round(clfr_dummy.score(X_train, y_train), 4)}')"
   ]
  },
  {
   "cell_type": "code",
   "execution_count": 31,
   "metadata": {},
   "outputs": [
    {
     "name": "stdout",
     "output_type": "stream",
     "text": "precision    recall  f1-score   support\n\n       False       0.86      0.86      0.86     20383\n        True       0.13      0.14      0.14      3210\n\n    accuracy                           0.76     23593\n   macro avg       0.50      0.50      0.50     23593\nweighted avg       0.76      0.76      0.76     23593\n\n"
    }
   ],
   "source": [
    "from sklearn.metrics import classification_report\n",
    "\n",
    "print(classification_report(y_train, dummy_train_y_pred))"
   ]
  },
  {
   "cell_type": "code",
   "execution_count": 21,
   "metadata": {},
   "outputs": [
    {
     "data": {
      "text/plain": "Pipeline(memory=None,\n         steps=[('ordinalencoder',\n                 OrdinalEncoder(cols=['City', 'County', 'CrashMonth',\n                                      'Development', 'LightCond', 'Locality',\n                                      'NumLanes', 'RdCharacte', 'RdClass',\n                                      'RdConditio', 'RdConfig', 'RdDefects',\n                                      'RdFeature', 'RdSurface', 'Region',\n                                      'RuralUrban', 'SpeedLimit', 'TraffCntrl',\n                                      'Weather', 'Workzone'],\n                                drop_invariant=False, handle_missing='value',\n                                handle_un...\n                 RandomForestClassifier(bootstrap=True, ccp_alpha=0.0,\n                                        class_weight=None, criterion='gini',\n                                        max_depth=None, max_features='auto',\n                                        max_leaf_nodes=None, max_samples=None,\n                                        min_impurity_decrease=0.0,\n                                        min_impurity_split=None,\n                                        min_samples_leaf=1, min_samples_split=2,\n                                        min_weight_fraction_leaf=0.0,\n                                        n_estimators=100, n_jobs=-1,\n                                        oob_score=False, random_state=42,\n                                        verbose=0, warm_start=False))],\n         verbose=False)"
     },
     "execution_count": 21,
     "metadata": {},
     "output_type": "execute_result"
    }
   ],
   "source": [
    "import category_encoders as ce \n",
    "from sklearn.ensemble import RandomForestClassifier\n",
    "from sklearn.pipeline import make_pipeline\n",
    "\n",
    "# Construct a modeling pipeline\n",
    "pipeline = make_pipeline(\n",
    "    ce.OrdinalEncoder(),\n",
    "    RandomForestClassifier(n_jobs=-1, random_state=42)\n",
    ")\n",
    "\n",
    "# Fit the pipeline to the training dataset\n",
    "pipeline.fit(X_train, y_train)"
   ]
  },
  {
   "cell_type": "code",
   "execution_count": 18,
   "metadata": {},
   "outputs": [
    {
     "name": "stdout",
     "output_type": "stream",
     "text": "Validation Accuracy: 0.86138\n"
    }
   ],
   "source": [
    "# Determine the validation dataset's accuracy\n",
    "print(f'Validation Accuracy: {round(pipeline.score(X_val, y_val), 5)}')"
   ]
  },
  {
   "cell_type": "code",
   "execution_count": 22,
   "metadata": {},
   "outputs": [
    {
     "name": "stdout",
     "output_type": "stream",
     "text": "Validation Accuracy: 0.86237\n"
    }
   ],
   "source": [
    "# Determine the test dataset's accuracy\n",
    "print(f'Validation Accuracy: {round(pipeline.score(X_test, y_test), 5)}')"
   ]
  },
  {
   "cell_type": "code",
   "execution_count": 25,
   "metadata": {},
   "outputs": [],
   "source": [
    "# Predict outcome variables for the validation dataset\n",
    "y_pred_val = pipeline.predict(X_val)"
   ]
  },
  {
   "cell_type": "code",
   "execution_count": 29,
   "metadata": {},
   "outputs": [
    {
     "name": "stdout",
     "output_type": "stream",
     "text": "precision    recall  f1-score   support\n\n       False       0.87      0.98      0.93      4368\n        True       0.49      0.11      0.18       689\n\n    accuracy                           0.86      5057\n   macro avg       0.68      0.54      0.55      5057\nweighted avg       0.82      0.86      0.82      5057\n\n"
    }
   ],
   "source": [
    "from sklearn.metrics import classification_report\n",
    "\n",
    "print(classification_report(y_val, y_pred_val))"
   ]
  },
  {
   "cell_type": "code",
   "execution_count": 32,
   "metadata": {},
   "outputs": [],
   "source": [
    "# Predict outcome variables for the testing dataset\n",
    "y_pred_test = pipeline.predict(X_test)"
   ]
  },
  {
   "cell_type": "code",
   "execution_count": 33,
   "metadata": {},
   "outputs": [
    {
     "name": "stdout",
     "output_type": "stream",
     "text": "precision    recall  f1-score   support\n\n       False       0.87      0.98      0.92      4369\n        True       0.47      0.11      0.17       688\n\n    accuracy                           0.86      5057\n   macro avg       0.67      0.54      0.55      5057\nweighted avg       0.82      0.86      0.82      5057\n\n"
    }
   ],
   "source": [
    "from sklearn.metrics import classification_report\n",
    "\n",
    "print(classification_report(y_test, y_pred_test))"
   ]
  },
  {
   "cell_type": "code",
   "execution_count": null,
   "metadata": {},
   "outputs": [],
   "source": []
  }
 ],
 "metadata": {
  "kernelspec": {
   "display_name": "Python 3",
   "language": "python",
   "name": "python3"
  },
  "language_info": {
   "codemirror_mode": {
    "name": "ipython",
    "version": 3
   },
   "file_extension": ".py",
   "mimetype": "text/x-python",
   "name": "python",
   "nbconvert_exporter": "python",
   "pygments_lexer": "ipython3",
   "version": "3.7.3-final"
  }
 },
 "nbformat": 4,
 "nbformat_minor": 2
}