{
 "cells": [
  {
   "cell_type": "code",
   "execution_count": 3,
   "metadata": {},
   "outputs": [],
   "source": [
    "import pandas as pd\n",
    "import numpy as np"
   ]
  },
  {
   "cell_type": "code",
   "execution_count": 4,
   "metadata": {},
   "outputs": [],
   "source": [
    "# Import the Chapel Hill data\n",
    "df_work = pd.read_csv(\"/Users/danoand/Documents/Companies/LambdaSchool/Build_Project_02/data/pedestrian-crashes-chapel-hill-region_imported.txt\",\n",
    "                     sep='\\t')"
   ]
  },
  {
   "cell_type": "code",
   "execution_count": 5,
   "metadata": {},
   "outputs": [],
   "source": [
    "# Profile the \"work\" dataframe\n",
    "# from pandas_profiling import ProfileReport\n",
    "\n",
    "# profile = ProfileReport(df_work, title='Pandas Profiling Report', html={'style':{'full_width':True}})\n",
    "# profile.to_file(output_file=\"/Users/danoand/Documents/Companies/LambdaSchool/Build_Project_02/data/ChapelHillAccidents.html\")"
   ]
  },
  {
   "cell_type": "code",
   "execution_count": 6,
   "metadata": {},
   "outputs": [],
   "source": [
    "# Define \"ante\" columns (data that can be reasonably known prior to the event)\n",
    "# Notes:\n",
    "#   - removed the lat/long column \n",
    "categories_ante = [\n",
    "    'City',\n",
    "    'County',\n",
    "    'CrashHour',\n",
    "    'CrashMonth',\n",
    "    'Development',\n",
    "    'LightCond',\n",
    "    'Locality',\n",
    "    'NumLanes',\n",
    "    'RdCharacte',\n",
    "    'RdClass',\n",
    "    'RdConditio',\n",
    "    'RdConfig',\n",
    "    'RdDefects',\n",
    "    'RdFeature',\n",
    "    'RdSurface',\n",
    "    'Region',\n",
    "    'RuralUrban',\n",
    "    'SpeedLimit',\n",
    "    'TraffCntrl',\n",
    "    'Weather',\n",
    "    'Workzone',\n",
    "    'PedInjury']        # Source for the target data"
   ]
  },
  {
   "cell_type": "code",
   "execution_count": 7,
   "metadata": {},
   "outputs": [
    {
     "data": {
      "text/html": "<div>\n<style scoped>\n    .dataframe tbody tr th:only-of-type {\n        vertical-align: middle;\n    }\n\n    .dataframe tbody tr th {\n        vertical-align: top;\n    }\n\n    .dataframe thead th {\n        text-align: right;\n    }\n</style>\n<table border=\"1\" class=\"dataframe\">\n  <thead>\n    <tr style=\"text-align: right;\">\n      <th></th>\n      <th>City</th>\n      <th>County</th>\n      <th>CrashHour</th>\n      <th>CrashMonth</th>\n      <th>Development</th>\n      <th>LightCond</th>\n      <th>Locality</th>\n      <th>NumLanes</th>\n      <th>RdCharacte</th>\n      <th>RdClass</th>\n      <th>...</th>\n      <th>RdDefects</th>\n      <th>RdFeature</th>\n      <th>RdSurface</th>\n      <th>Region</th>\n      <th>RuralUrban</th>\n      <th>SpeedLimit</th>\n      <th>TraffCntrl</th>\n      <th>Weather</th>\n      <th>Workzone</th>\n      <th>PedInjury</th>\n    </tr>\n  </thead>\n  <tbody>\n    <tr>\n      <th>14724</th>\n      <td>Charlotte</td>\n      <td>Mecklenburg</td>\n      <td>16</td>\n      <td>March</td>\n      <td>Commercial</td>\n      <td>Daylight</td>\n      <td>Urban (&gt;70% Developed)</td>\n      <td>4 lanes</td>\n      <td>Straight - Level</td>\n      <td>Local Street</td>\n      <td>...</td>\n      <td>None</td>\n      <td>Four-Way Intersection</td>\n      <td>Smooth Asphalt</td>\n      <td>Piedmont</td>\n      <td>Urban</td>\n      <td>20 - 25  MPH</td>\n      <td>Human Control</td>\n      <td>Clear</td>\n      <td>No</td>\n      <td>C: Possible Injury</td>\n    </tr>\n    <tr>\n      <th>4045</th>\n      <td>Durham</td>\n      <td>Durham</td>\n      <td>23</td>\n      <td>November</td>\n      <td>Residential</td>\n      <td>Dark - Roadway Not Lighted</td>\n      <td>Urban (&gt;70% Developed)</td>\n      <td>3 lanes</td>\n      <td>Curve - Grade</td>\n      <td>Local Street</td>\n      <td>...</td>\n      <td>None</td>\n      <td>No Special Feature</td>\n      <td>Smooth Asphalt</td>\n      <td>Piedmont</td>\n      <td>Urban</td>\n      <td>30 - 35  MPH</td>\n      <td>No Control Present</td>\n      <td>Clear</td>\n      <td>No</td>\n      <td>K: Killed</td>\n    </tr>\n    <tr>\n      <th>23090</th>\n      <td>None - Rural Crash</td>\n      <td>Onslow</td>\n      <td>13</td>\n      <td>October</td>\n      <td>Farms, Woods, Pastures</td>\n      <td>Daylight</td>\n      <td>Rural (&lt;30% Developed)</td>\n      <td>Unknown</td>\n      <td>Straight - Level</td>\n      <td>Private Road, Driveway</td>\n      <td>...</td>\n      <td>None</td>\n      <td>Driveway, Private</td>\n      <td>Sand</td>\n      <td>Coastal</td>\n      <td>Rural</td>\n      <td>5 - 15 MPH</td>\n      <td>No Control Present</td>\n      <td>Clear</td>\n      <td>No</td>\n      <td>C: Possible Injury</td>\n    </tr>\n    <tr>\n      <th>7658</th>\n      <td>Charlotte</td>\n      <td>Mecklenburg</td>\n      <td>17</td>\n      <td>March</td>\n      <td>Residential</td>\n      <td>Daylight</td>\n      <td>Mixed (30% To 70% Developed)</td>\n      <td>4 lanes</td>\n      <td>Straight - Level</td>\n      <td>Local Street</td>\n      <td>...</td>\n      <td>None</td>\n      <td>T-Intersection</td>\n      <td>Coarse Asphalt</td>\n      <td>Piedmont</td>\n      <td>Urban</td>\n      <td>5 - 15 MPH</td>\n      <td>No Control Present</td>\n      <td>Clear</td>\n      <td>No</td>\n      <td>C: Possible Injury</td>\n    </tr>\n    <tr>\n      <th>13921</th>\n      <td>Forest City</td>\n      <td>Rutherford</td>\n      <td>19</td>\n      <td>December</td>\n      <td>Commercial</td>\n      <td>Dark - Roadway Not Lighted</td>\n      <td>Urban (&gt;70% Developed)</td>\n      <td>5 lanes</td>\n      <td>Straight - Hillcrest</td>\n      <td>Local Street</td>\n      <td>...</td>\n      <td>None</td>\n      <td>Four-Way Intersection</td>\n      <td>Smooth Asphalt</td>\n      <td>Mountains</td>\n      <td>Urban</td>\n      <td>40 - 45  MPH</td>\n      <td>Stop And Go Signal</td>\n      <td>Clear</td>\n      <td>No</td>\n      <td>C: Possible Injury</td>\n    </tr>\n    <tr>\n      <th>12155</th>\n      <td>Thomasville</td>\n      <td>Davidson</td>\n      <td>11</td>\n      <td>October</td>\n      <td>Residential</td>\n      <td>Dawn</td>\n      <td>Mixed (30% To 70% Developed)</td>\n      <td>Unknown</td>\n      <td>Straight - Level</td>\n      <td>Public Vehicular Area</td>\n      <td>...</td>\n      <td>None</td>\n      <td>No Special Feature</td>\n      <td>Concrete</td>\n      <td>Piedmont</td>\n      <td>Urban</td>\n      <td>5 - 15 MPH</td>\n      <td>No Control Present</td>\n      <td>Clear</td>\n      <td>No</td>\n      <td>C: Possible Injury</td>\n    </tr>\n    <tr>\n      <th>4109</th>\n      <td>None - Rural Crash</td>\n      <td>Beaufort</td>\n      <td>12</td>\n      <td>April</td>\n      <td>Residential</td>\n      <td>Daylight</td>\n      <td>Mixed (30% To 70% Developed)</td>\n      <td>3 lanes</td>\n      <td>Curve - Level</td>\n      <td>NC Route</td>\n      <td>...</td>\n      <td>None</td>\n      <td>Driveway, Public</td>\n      <td>Smooth Asphalt</td>\n      <td>Coastal</td>\n      <td>Rural</td>\n      <td>40 - 45  MPH</td>\n      <td>Double Yellow Line, No Passing Zone</td>\n      <td>Clear</td>\n      <td>No</td>\n      <td>A: Suspected Serious Injury</td>\n    </tr>\n    <tr>\n      <th>14101</th>\n      <td>Charlotte</td>\n      <td>Mecklenburg</td>\n      <td>14</td>\n      <td>May</td>\n      <td>Commercial</td>\n      <td>Daylight</td>\n      <td>Urban (&gt;70% Developed)</td>\n      <td>4 lanes</td>\n      <td>Straight - Level</td>\n      <td>Local Street</td>\n      <td>...</td>\n      <td>None</td>\n      <td>Four-Way Intersection</td>\n      <td>Smooth Asphalt</td>\n      <td>Piedmont</td>\n      <td>Urban</td>\n      <td>30 - 35  MPH</td>\n      <td>Stop And Go Signal</td>\n      <td>Clear</td>\n      <td>No</td>\n      <td>B: Suspected Minor Injury</td>\n    </tr>\n    <tr>\n      <th>28291</th>\n      <td>Wilmington</td>\n      <td>New Hanover</td>\n      <td>18</td>\n      <td>April</td>\n      <td>Commercial</td>\n      <td>Daylight</td>\n      <td>Urban (&gt;70% Developed)</td>\n      <td>4 lanes</td>\n      <td>Straight - Level</td>\n      <td>Local Street</td>\n      <td>...</td>\n      <td>None</td>\n      <td>No Special Feature</td>\n      <td>Smooth Asphalt</td>\n      <td>Coastal</td>\n      <td>Urban</td>\n      <td>30 - 35  MPH</td>\n      <td>No Control Present</td>\n      <td>Clear</td>\n      <td>No</td>\n      <td>C: Possible Injury</td>\n    </tr>\n    <tr>\n      <th>6394</th>\n      <td>Fayetteville</td>\n      <td>Cumberland</td>\n      <td>2</td>\n      <td>November</td>\n      <td>Commercial</td>\n      <td>Dark - Lighted Roadway</td>\n      <td>Urban (&gt;70% Developed)</td>\n      <td>Unknown</td>\n      <td>Straight - Level</td>\n      <td>Public Vehicular Area</td>\n      <td>...</td>\n      <td>None</td>\n      <td>Driveway, Public</td>\n      <td>Coarse Asphalt</td>\n      <td>Coastal</td>\n      <td>Urban</td>\n      <td>5 - 15 MPH</td>\n      <td>No Control Present</td>\n      <td>Clear</td>\n      <td>No</td>\n      <td>C: Possible Injury</td>\n    </tr>\n  </tbody>\n</table>\n<p>10 rows × 22 columns</p>\n</div>",
      "text/plain": "                     City       County  CrashHour CrashMonth  \\\n14724           Charlotte  Mecklenburg         16      March   \n4045               Durham       Durham         23   November   \n23090  None - Rural Crash       Onslow         13    October   \n7658            Charlotte  Mecklenburg         17      March   \n13921         Forest City   Rutherford         19   December   \n12155         Thomasville     Davidson         11    October   \n4109   None - Rural Crash     Beaufort         12      April   \n14101           Charlotte  Mecklenburg         14        May   \n28291          Wilmington  New Hanover         18      April   \n6394         Fayetteville   Cumberland          2   November   \n\n                  Development                   LightCond  \\\n14724              Commercial                    Daylight   \n4045              Residential  Dark - Roadway Not Lighted   \n23090  Farms, Woods, Pastures                    Daylight   \n7658              Residential                    Daylight   \n13921              Commercial  Dark - Roadway Not Lighted   \n12155             Residential                        Dawn   \n4109              Residential                    Daylight   \n14101              Commercial                    Daylight   \n28291              Commercial                    Daylight   \n6394               Commercial      Dark - Lighted Roadway   \n\n                           Locality NumLanes            RdCharacte  \\\n14724        Urban (>70% Developed)  4 lanes      Straight - Level   \n4045         Urban (>70% Developed)  3 lanes         Curve - Grade   \n23090        Rural (<30% Developed)  Unknown      Straight - Level   \n7658   Mixed (30% To 70% Developed)  4 lanes      Straight - Level   \n13921        Urban (>70% Developed)  5 lanes  Straight - Hillcrest   \n12155  Mixed (30% To 70% Developed)  Unknown      Straight - Level   \n4109   Mixed (30% To 70% Developed)  3 lanes         Curve - Level   \n14101        Urban (>70% Developed)  4 lanes      Straight - Level   \n28291        Urban (>70% Developed)  4 lanes      Straight - Level   \n6394         Urban (>70% Developed)  Unknown      Straight - Level   \n\n                      RdClass  ... RdDefects              RdFeature  \\\n14724            Local Street  ...      None  Four-Way Intersection   \n4045             Local Street  ...      None     No Special Feature   \n23090  Private Road, Driveway  ...      None      Driveway, Private   \n7658             Local Street  ...      None         T-Intersection   \n13921            Local Street  ...      None  Four-Way Intersection   \n12155   Public Vehicular Area  ...      None     No Special Feature   \n4109                 NC Route  ...      None       Driveway, Public   \n14101            Local Street  ...      None  Four-Way Intersection   \n28291            Local Street  ...      None     No Special Feature   \n6394    Public Vehicular Area  ...      None       Driveway, Public   \n\n            RdSurface     Region RuralUrban    SpeedLimit  \\\n14724  Smooth Asphalt   Piedmont      Urban  20 - 25  MPH   \n4045   Smooth Asphalt   Piedmont      Urban  30 - 35  MPH   \n23090            Sand    Coastal      Rural    5 - 15 MPH   \n7658   Coarse Asphalt   Piedmont      Urban    5 - 15 MPH   \n13921  Smooth Asphalt  Mountains      Urban  40 - 45  MPH   \n12155        Concrete   Piedmont      Urban    5 - 15 MPH   \n4109   Smooth Asphalt    Coastal      Rural  40 - 45  MPH   \n14101  Smooth Asphalt   Piedmont      Urban  30 - 35  MPH   \n28291  Smooth Asphalt    Coastal      Urban  30 - 35  MPH   \n6394   Coarse Asphalt    Coastal      Urban    5 - 15 MPH   \n\n                                TraffCntrl Weather Workzone  \\\n14724                        Human Control   Clear       No   \n4045                    No Control Present   Clear       No   \n23090                   No Control Present   Clear       No   \n7658                    No Control Present   Clear       No   \n13921                   Stop And Go Signal   Clear       No   \n12155                   No Control Present   Clear       No   \n4109   Double Yellow Line, No Passing Zone   Clear       No   \n14101                   Stop And Go Signal   Clear       No   \n28291                   No Control Present   Clear       No   \n6394                    No Control Present   Clear       No   \n\n                         PedInjury  \n14724           C: Possible Injury  \n4045                     K: Killed  \n23090           C: Possible Injury  \n7658            C: Possible Injury  \n13921           C: Possible Injury  \n12155           C: Possible Injury  \n4109   A: Suspected Serious Injury  \n14101    B: Suspected Minor Injury  \n28291           C: Possible Injury  \n6394            C: Possible Injury  \n\n[10 rows x 22 columns]"
     },
     "execution_count": 7,
     "metadata": {},
     "output_type": "execute_result"
    }
   ],
   "source": [
    "# Define a dataframe with \"ante\" data\n",
    "df_ante = df_work[categories_ante]\n",
    "\n",
    "df_ante.sample(10)"
   ]
  },
  {
   "cell_type": "code",
   "execution_count": 8,
   "metadata": {},
   "outputs": [],
   "source": [
    "# Profile the df_ante dataframe\n",
    "# from pandas_profiling import ProfileReport\n",
    "\n",
    "# profile = ProfileReport(df_work, title='Pandas Profiling Report', html={'style':{'full_width':True}})\n",
    "# profile.to_file(output_file=\"/Users/danoand/Documents/Companies/LambdaSchool/Build_Project_02/data/ChapelHillAccidents.html\")"
   ]
  },
  {
   "cell_type": "code",
   "execution_count": 10,
   "metadata": {},
   "outputs": [
    {
     "name": "stdout",
     "output_type": "stream",
     "text": "Shape of df_ante_train: (28650, 22); Shape of df_ante_test: (5057, 22)\n"
    }
   ],
   "source": [
    "# Split the data into training, validation, and testing datasets\n",
    "from sklearn.model_selection import train_test_split\n",
    "df_ante_train, df_ante_test = train_test_split(df_ante, train_size=0.85, test_size=0.15, \n",
    "                              stratify=df_ante['PedInjury'], random_state=42)\n",
    "\n",
    "print(f'Shape of df_ante_train: {df_ante_train.shape}; Shape of df_ante_test: {df_ante_test.shape}')"
   ]
  },
  {
   "cell_type": "code",
   "execution_count": 11,
   "metadata": {},
   "outputs": [
    {
     "name": "stdout",
     "output_type": "stream",
     "text": "Shape of df_ante_train: (23593, 22); Shape of df_ante_val: (5057, 22); Shape of df_ante_test: (5057, 22)\n"
    }
   ],
   "source": [
    "# Split the train data into a training subset and a validation subset\n",
    "df_ante_train, df_ante_val = train_test_split(df_ante_train, test_size=len(df_ante_test), \n",
    "                              stratify=df_ante_train['PedInjury'], random_state=42)\n",
    "\n",
    "print(f'Shape of df_ante_train: {df_ante_train.shape}; Shape of df_ante_val: {df_ante_val.shape}; Shape of df_ante_test: {df_ante_test.shape}')"
   ]
  },
  {
   "cell_type": "code",
   "execution_count": 12,
   "metadata": {},
   "outputs": [
    {
     "data": {
      "text/plain": "C: Possible Injury             0.409020\nB: Suspected Minor Injury      0.354597\nA: Suspected Serious Injury    0.072140\nK: Killed                      0.063917\nO: No Injury                   0.059975\nUnknown Injury                 0.040351\nName: PedInjury, dtype: float64"
     },
     "execution_count": 12,
     "metadata": {},
     "output_type": "execute_result"
    }
   ],
   "source": [
    "# Breakdown the target attribute by class value\n",
    "df_ante_train['PedInjury'].value_counts(normalize=True)"
   ]
  },
  {
   "cell_type": "code",
   "execution_count": 13,
   "metadata": {},
   "outputs": [],
   "source": [
    "# Wrangle the modeling data\n",
    "outcome_serious = ['K: Killed', 'A: Suspected Serious Injury']\n",
    "\n",
    "# has_fatality is a function that returns a boolean value if the inbound value represents a serious outcome (True) or not (False)\n",
    "def has_serious_outcome(val):\n",
    "  if (val in outcome_serious): \n",
    "    return True\n",
    "\n",
    "  return False\n",
    "\n",
    "# wrangle returns a dataframe with updated/created columns for a given input dataframe \n",
    "def wrangle(DF):\n",
    "  X = DF.copy()\n",
    "\n",
    "  # Create a boolean target column reflecting an outcome (serious injury or not)\n",
    "  X['ped_serious_outcome'] = X['PedInjury'].apply(has_serious_outcome)\n",
    "\n",
    "  # Convert the CrashHour column to a string (from an int)\n",
    "  X['CrashHour'] = X['CrashHour'].apply(str)\n",
    "\n",
    "  # List columns to be dropped\n",
    "  cols_drop = ['PedInjury'] # PedInjury - use the engineered 'ped_fatality' column\n",
    "\n",
    "  # Drop undesired columns\n",
    "  X = X.drop(columns=cols_drop)\n",
    "\n",
    "  return X"
   ]
  },
  {
   "cell_type": "code",
   "execution_count": 15,
   "metadata": {},
   "outputs": [
    {
     "name": "stdout",
     "output_type": "stream",
     "text": "Shape of df_wrgl_train: (23593, 22); Shape of df_wrgl_val: (5057, 22); Shape of df_wrgl_test: (5057, 22)\n\n\nColumn Data Types:\nCity                   object\nCounty                 object\nCrashHour              object\nCrashMonth             object\nDevelopment            object\nLightCond              object\nLocality               object\nNumLanes               object\nRdCharacte             object\nRdClass                object\nRdConditio             object\nRdConfig               object\nRdDefects              object\nRdFeature              object\nRdSurface              object\nRegion                 object\nRuralUrban             object\nSpeedLimit             object\nTraffCntrl             object\nWeather                object\nWorkzone               object\nped_serious_outcome      bool\ndtype: object\n"
    }
   ],
   "source": [
    "# Wrangle the training, validation, and test datasets\n",
    "df_wrgl_train = wrangle(df_ante_train)\n",
    "df_wrgl_val   = wrangle(df_ante_val)\n",
    "df_wrgl_test  = wrangle(df_ante_test)\n",
    "\n",
    "print(f'Shape of df_wrgl_train: {df_wrgl_train.shape}; Shape of df_wrgl_val: {df_wrgl_val.shape}; Shape of df_wrgl_test: {df_wrgl_test.shape}\\n')\n",
    "\n",
    "print(f'\\nColumn Data Types:\\n{df_wrgl_val.dtypes}')"
   ]
  },
  {
   "cell_type": "code",
   "execution_count": 16,
   "metadata": {},
   "outputs": [
    {
     "data": {
      "text/html": "<div>\n<style scoped>\n    .dataframe tbody tr th:only-of-type {\n        vertical-align: middle;\n    }\n\n    .dataframe tbody tr th {\n        vertical-align: top;\n    }\n\n    .dataframe thead th {\n        text-align: right;\n    }\n</style>\n<table border=\"1\" class=\"dataframe\">\n  <thead>\n    <tr style=\"text-align: right;\">\n      <th></th>\n      <th>City</th>\n      <th>County</th>\n      <th>CrashHour</th>\n      <th>CrashMonth</th>\n      <th>Development</th>\n      <th>LightCond</th>\n      <th>Locality</th>\n      <th>NumLanes</th>\n      <th>RdCharacte</th>\n      <th>RdClass</th>\n      <th>...</th>\n      <th>RdDefects</th>\n      <th>RdFeature</th>\n      <th>RdSurface</th>\n      <th>Region</th>\n      <th>RuralUrban</th>\n      <th>SpeedLimit</th>\n      <th>TraffCntrl</th>\n      <th>Weather</th>\n      <th>Workzone</th>\n      <th>ped_serious_outcome</th>\n    </tr>\n  </thead>\n  <tbody>\n    <tr>\n      <th>31219</th>\n      <td>Charlotte</td>\n      <td>Mecklenburg</td>\n      <td>18</td>\n      <td>July</td>\n      <td>Commercial</td>\n      <td>Daylight</td>\n      <td>Urban (&gt;70% Developed)</td>\n      <td>4 lanes</td>\n      <td>Straight - Level</td>\n      <td>Local Street</td>\n      <td>...</td>\n      <td>None</td>\n      <td>No Special Feature</td>\n      <td>Smooth Asphalt</td>\n      <td>Piedmont</td>\n      <td>Urban</td>\n      <td>30 - 35  MPH</td>\n      <td>No Control Present</td>\n      <td>Clear</td>\n      <td>No</td>\n      <td>False</td>\n    </tr>\n    <tr>\n      <th>28558</th>\n      <td>Asheville</td>\n      <td>Buncombe</td>\n      <td>22</td>\n      <td>July</td>\n      <td>Commercial</td>\n      <td>Dark - Lighted Roadway</td>\n      <td>Urban (&gt;70% Developed)</td>\n      <td>4 lanes</td>\n      <td>Straight - Grade</td>\n      <td>US Route</td>\n      <td>...</td>\n      <td>None</td>\n      <td>Four-Way Intersection</td>\n      <td>Smooth Asphalt</td>\n      <td>Mountains</td>\n      <td>Urban</td>\n      <td>30 - 35  MPH</td>\n      <td>Stop And Go Signal</td>\n      <td>Clear</td>\n      <td>No</td>\n      <td>False</td>\n    </tr>\n    <tr>\n      <th>2217</th>\n      <td>None - Rural Crash</td>\n      <td>Cumberland</td>\n      <td>0</td>\n      <td>April</td>\n      <td>Residential</td>\n      <td>Dark - Roadway Not Lighted</td>\n      <td>Rural (&lt;30% Developed)</td>\n      <td>1 lane</td>\n      <td>Curve - Grade</td>\n      <td>Private Road, Driveway</td>\n      <td>...</td>\n      <td>None</td>\n      <td>Driveway, Private</td>\n      <td>Sand</td>\n      <td>Coastal</td>\n      <td>Rural</td>\n      <td>5 - 15 MPH</td>\n      <td>No Control Present</td>\n      <td>Clear</td>\n      <td>No</td>\n      <td>True</td>\n    </tr>\n    <tr>\n      <th>5131</th>\n      <td>Durham</td>\n      <td>Durham</td>\n      <td>16</td>\n      <td>January</td>\n      <td>Institutional</td>\n      <td>Daylight</td>\n      <td>Urban (&gt;70% Developed)</td>\n      <td>2 lanes</td>\n      <td>Straight - Level</td>\n      <td>Local Street</td>\n      <td>...</td>\n      <td>None</td>\n      <td>No Special Feature</td>\n      <td>Coarse Asphalt</td>\n      <td>Piedmont</td>\n      <td>Urban</td>\n      <td>30 - 35  MPH</td>\n      <td>No Control Present</td>\n      <td>Cloudy</td>\n      <td>Yes</td>\n      <td>False</td>\n    </tr>\n    <tr>\n      <th>3399</th>\n      <td>Garysburg</td>\n      <td>Northampton</td>\n      <td>7</td>\n      <td>February</td>\n      <td>Residential</td>\n      <td>Daylight</td>\n      <td>Urban (&gt;70% Developed)</td>\n      <td>2 lanes</td>\n      <td>Straight - Level</td>\n      <td>Local Street</td>\n      <td>...</td>\n      <td>None</td>\n      <td>No Special Feature</td>\n      <td>Coarse Asphalt</td>\n      <td>Coastal</td>\n      <td>Rural</td>\n      <td>20 - 25  MPH</td>\n      <td>No Control Present</td>\n      <td>Clear</td>\n      <td>No</td>\n      <td>False</td>\n    </tr>\n  </tbody>\n</table>\n<p>5 rows × 22 columns</p>\n</div>",
      "text/plain": "                     City       County CrashHour CrashMonth    Development  \\\n31219           Charlotte  Mecklenburg        18       July     Commercial   \n28558           Asheville     Buncombe        22       July     Commercial   \n2217   None - Rural Crash   Cumberland         0      April    Residential   \n5131               Durham       Durham        16    January  Institutional   \n3399            Garysburg  Northampton         7   February    Residential   \n\n                        LightCond                Locality NumLanes  \\\n31219                    Daylight  Urban (>70% Developed)  4 lanes   \n28558      Dark - Lighted Roadway  Urban (>70% Developed)  4 lanes   \n2217   Dark - Roadway Not Lighted  Rural (<30% Developed)   1 lane   \n5131                     Daylight  Urban (>70% Developed)  2 lanes   \n3399                     Daylight  Urban (>70% Developed)  2 lanes   \n\n             RdCharacte                 RdClass  ... RdDefects  \\\n31219  Straight - Level            Local Street  ...      None   \n28558  Straight - Grade                US Route  ...      None   \n2217      Curve - Grade  Private Road, Driveway  ...      None   \n5131   Straight - Level            Local Street  ...      None   \n3399   Straight - Level            Local Street  ...      None   \n\n                   RdFeature       RdSurface     Region RuralUrban  \\\n31219     No Special Feature  Smooth Asphalt   Piedmont      Urban   \n28558  Four-Way Intersection  Smooth Asphalt  Mountains      Urban   \n2217       Driveway, Private            Sand    Coastal      Rural   \n5131      No Special Feature  Coarse Asphalt   Piedmont      Urban   \n3399      No Special Feature  Coarse Asphalt    Coastal      Rural   \n\n         SpeedLimit          TraffCntrl Weather Workzone ped_serious_outcome  \n31219  30 - 35  MPH  No Control Present   Clear       No               False  \n28558  30 - 35  MPH  Stop And Go Signal   Clear       No               False  \n2217     5 - 15 MPH  No Control Present   Clear       No                True  \n5131   30 - 35  MPH  No Control Present  Cloudy      Yes               False  \n3399   20 - 25  MPH  No Control Present   Clear       No               False  \n\n[5 rows x 22 columns]"
     },
     "execution_count": 16,
     "metadata": {},
     "output_type": "execute_result"
    }
   ],
   "source": [
    "df_wrgl_train.sample(5)"
   ]
  },
  {
   "cell_type": "code",
   "execution_count": 18,
   "metadata": {},
   "outputs": [
    {
     "name": "stdout",
     "output_type": "stream",
     "text": "\nValidation Column Data Types:\nCity           object\nCounty         object\nCrashHour      object\nCrashMonth     object\nDevelopment    object\nLightCond      object\nLocality       object\nNumLanes       object\nRdCharacte     object\nRdClass        object\nRdConditio     object\nRdConfig       object\nRdDefects      object\nRdFeature      object\nRdSurface      object\nRegion         object\nRuralUrban     object\nSpeedLimit     object\nTraffCntrl     object\nWeather        object\nWorkzone       object\ndtype: object\n"
    }
   ],
   "source": [
    "# Construct the modeling datasets\n",
    "target = 'ped_serious_outcome'\n",
    "X_train = df_wrgl_train.drop(columns=target)\n",
    "y_train = df_wrgl_train[target]\n",
    "\n",
    "X_val   = df_wrgl_val.drop(columns=target)\n",
    "y_val   = df_wrgl_val[target]\n",
    "\n",
    "X_test  = df_wrgl_test.drop(columns=target)\n",
    "y_test  = df_wrgl_test[target]\n",
    "\n",
    "\n",
    "print(f'\\nValidation Column Data Types:\\n{X_val.dtypes}')"
   ]
  },
  {
   "cell_type": "code",
   "execution_count": 19,
   "metadata": {},
   "outputs": [
    {
     "name": "stdout",
     "output_type": "stream",
     "text": "Baseline prediction score for the training set is: 0.764\n"
    }
   ],
   "source": [
    "# Create a baseline prediction using a dummy classifier\n",
    "from sklearn.dummy import DummyClassifier\n",
    "clfr_dummy = DummyClassifier(strategy=\"stratified\")\n",
    "\n",
    "clfr_dummy.fit(X_train, y_train)\n",
    "clfr_dummy.predict(X_train)\n",
    "\n",
    "dummy_train_y_pred = clfr_dummy.predict(X_train)\n",
    "\n",
    "print(f'Baseline prediction score for the training set is: {round(clfr_dummy.score(X_train, y_train), 4)}')"
   ]
  },
  {
   "cell_type": "code",
   "execution_count": 38,
   "metadata": {},
   "outputs": [
    {
     "name": "stdout",
     "output_type": "stream",
     "text": "Dummy (Baseline) Classification Report:\n\n              precision    recall  f1-score   support\n\n       False       0.86      0.86      0.86     20383\n        True       0.13      0.13      0.13      3210\n\n    accuracy                           0.76     23593\n   macro avg       0.50      0.50      0.50     23593\nweighted avg       0.76      0.76      0.76     23593\n\n"
    }
   ],
   "source": [
    "# Generate the classification report for the Dummy Classifier model\n",
    "from sklearn.metrics import classification_report\n",
    "\n",
    "print(f'Dummy (Baseline) Classification Report:\\n\\n{classification_report(y_train, dummy_train_y_pred)}')"
   ]
  },
  {
   "cell_type": "code",
   "execution_count": 39,
   "metadata": {},
   "outputs": [
    {
     "name": "stdout",
     "output_type": "stream",
     "text": "City           object\nCounty         object\nCrashHour      object\nCrashMonth     object\nDevelopment    object\nLightCond      object\nLocality       object\nNumLanes       object\nRdCharacte     object\nRdClass        object\nRdConditio     object\nRdConfig       object\nRdDefects      object\nRdFeature      object\nRdSurface      object\nRegion         object\nRuralUrban     object\nSpeedLimit     object\nTraffCntrl     object\nWeather        object\nWorkzone       object\ndtype: object\n"
    },
    {
     "data": {
      "text/plain": "Pipeline(memory=None,\n         steps=[('ordinalencoder',\n                 OrdinalEncoder(cols=['City', 'County', 'CrashHour',\n                                      'CrashMonth', 'Development', 'LightCond',\n                                      'Locality', 'NumLanes', 'RdCharacte',\n                                      'RdClass', 'RdConditio', 'RdConfig',\n                                      'RdDefects', 'RdFeature', 'RdSurface',\n                                      'Region', 'RuralUrban', 'SpeedLimit',\n                                      'TraffCntrl', 'Weather', 'Workzone'],\n                                drop_invariant=False, handle_missing='valu...\n                 RandomForestClassifier(bootstrap=True, ccp_alpha=0.0,\n                                        class_weight=None, criterion='gini',\n                                        max_depth=None, max_features='auto',\n                                        max_leaf_nodes=None, max_samples=None,\n                                        min_impurity_decrease=0.0,\n                                        min_impurity_split=None,\n                                        min_samples_leaf=1, min_samples_split=2,\n                                        min_weight_fraction_leaf=0.0,\n                                        n_estimators=100, n_jobs=-1,\n                                        oob_score=False, random_state=42,\n                                        verbose=0, warm_start=False))],\n         verbose=False)"
     },
     "execution_count": 39,
     "metadata": {},
     "output_type": "execute_result"
    }
   ],
   "source": [
    "import category_encoders as ce \n",
    "from sklearn.ensemble import RandomForestClassifier\n",
    "from sklearn.pipeline import make_pipeline\n",
    "\n",
    "print(X_train.dtypes)\n",
    "\n",
    "# Construct a modeling pipeline\n",
    "pipeline = make_pipeline(\n",
    "    ce.OrdinalEncoder(),\n",
    "    RandomForestClassifier(n_jobs=-1, random_state=42)\n",
    ")\n",
    "\n",
    "# Fit the pipeline to the training dataset\n",
    "pipeline.fit(X_train, y_train)"
   ]
  },
  {
   "cell_type": "code",
   "execution_count": 40,
   "metadata": {},
   "outputs": [
    {
     "name": "stdout",
     "output_type": "stream",
     "text": "The Validation Accuracy is: 0.8655\n"
    }
   ],
   "source": [
    "# Calculate the accuracy using the validation data\n",
    "print(f'The Validation Accuracy is: {round(pipeline.score(X_val, y_val), 4)}')"
   ]
  },
  {
   "cell_type": "code",
   "execution_count": 45,
   "metadata": {},
   "outputs": [
    {
     "name": "stdout",
     "output_type": "stream",
     "text": "Random Forest Classification Report:\n\n              precision    recall  f1-score   support\n\n       False       0.87      0.99      0.93      4368\n        True       0.53      0.11      0.18       689\n\n    accuracy                           0.87      5057\n   macro avg       0.70      0.55      0.55      5057\nweighted avg       0.83      0.87      0.82      5057\n\n"
    }
   ],
   "source": [
    "# Generate the classification report for the Random Forest Classifier model\n",
    "from sklearn.metrics import classification_report\n",
    "\n",
    "y_val_pred = pipeline.predict(X_val)\n",
    "\n",
    "print(f'Random Forest Classification Report:\\n\\n{classification_report(y_val, y_val_pred)}')"
   ]
  },
  {
   "cell_type": "code",
   "execution_count": 23,
   "metadata": {},
   "outputs": [
    {
     "data": {
      "text/plain": "RandomForestClassifier(bootstrap=True, ccp_alpha=0.0, class_weight=None,\n                       criterion='gini', max_depth=None, max_features='auto',\n                       max_leaf_nodes=None, max_samples=None,\n                       min_impurity_decrease=0.0, min_impurity_split=None,\n                       min_samples_leaf=1, min_samples_split=2,\n                       min_weight_fraction_leaf=0.0, n_estimators=100,\n                       n_jobs=-1, oob_score=False, random_state=42, verbose=0,\n                       warm_start=False)"
     },
     "execution_count": 23,
     "metadata": {},
     "output_type": "execute_result"
    }
   ],
   "source": [
    "# Construct the encoding and modeling objects for use in generating a pdp plot\n",
    "trans_encode = make_pipeline(\n",
    "    ce.OrdinalEncoder()\n",
    ")\n",
    "\n",
    "# Encode the train and validation attributes\n",
    "X_train_trans_encode = trans_encode.fit_transform(X_train)\n",
    "X_val_trans_encode   = trans_encode.fit_transform(X_val)\n",
    "\n",
    "# Recreate the model\n",
    "tmp_mdl = RandomForestClassifier(n_jobs=-1, random_state=42)\n",
    "tmp_mdl.fit(X_train_trans_encode, y_train)"
   ]
  },
  {
   "cell_type": "code",
   "execution_count": 24,
   "metadata": {},
   "outputs": [
    {
     "data": {
      "text/plain": "PermutationImportance(cv='prefit',\n                      estimator=RandomForestClassifier(bootstrap=True,\n                                                       ccp_alpha=0.0,\n                                                       class_weight=None,\n                                                       criterion='gini',\n                                                       max_depth=None,\n                                                       max_features='auto',\n                                                       max_leaf_nodes=None,\n                                                       max_samples=None,\n                                                       min_impurity_decrease=0.0,\n                                                       min_impurity_split=None,\n                                                       min_samples_leaf=1,\n                                                       min_samples_split=2,\n                                                       min_weight_fraction_leaf=0.0,\n                                                       n_estimators=100,\n                                                       n_jobs=-1,\n                                                       oob_score=False,\n                                                       random_state=42,\n                                                       verbose=0,\n                                                       warm_start=False),\n                      n_iter=5, random_state=42, refit=True,\n                      scoring='accuracy')"
     },
     "execution_count": 24,
     "metadata": {},
     "output_type": "execute_result"
    }
   ],
   "source": [
    "# Calculate the permutation importance\n",
    "import eli5\n",
    "from eli5.sklearn import PermutationImportance\n",
    "\n",
    "# Create a permutation importance object\n",
    "prmuter = PermutationImportance(\n",
    "    tmp_mdl,\n",
    "    scoring='accuracy',\n",
    "    n_iter=5,\n",
    "    random_state=42)\n",
    "\n",
    "# Compute feature importance\n",
    "prmuter.fit(X_val_trans_encode, y_val)"
   ]
  },
  {
   "cell_type": "code",
   "execution_count": 26,
   "metadata": {},
   "outputs": [
    {
     "data": {
      "text/html": "\n    <style>\n    table.eli5-weights tr:hover {\n        filter: brightness(85%);\n    }\n</style>\n\n\n\n    \n\n    \n\n    \n\n    \n\n    \n\n    \n\n\n    \n\n    \n\n    \n\n    \n\n    \n\n    \n\n\n    \n\n    \n\n    \n\n    \n\n    \n        <table class=\"eli5-weights eli5-feature-importances\" style=\"border-collapse: collapse; border: none; margin-top: 0em; table-layout: auto;\">\n    <thead>\n    <tr style=\"border: none;\">\n        <th style=\"padding: 0 1em 0 0.5em; text-align: right; border: none;\">Weight</th>\n        <th style=\"padding: 0 0.5em 0 0.5em; text-align: left; border: none;\">Feature</th>\n    </tr>\n    </thead>\n    <tbody>\n    \n        <tr style=\"background-color: hsl(120, 100.00%, 80.00%); border: none;\">\n            <td style=\"padding: 0 1em 0 0.5em; text-align: right; border: none;\">\n                0.0036\n                \n                    &plusmn; 0.0008\n                \n            </td>\n            <td style=\"padding: 0 0.5em 0 0.5em; text-align: left; border: none;\">\n                LightCond\n            </td>\n        </tr>\n    \n        <tr style=\"background-color: hsl(120, 100.00%, 84.03%); border: none;\">\n            <td style=\"padding: 0 1em 0 0.5em; text-align: right; border: none;\">\n                0.0026\n                \n                    &plusmn; 0.0019\n                \n            </td>\n            <td style=\"padding: 0 0.5em 0 0.5em; text-align: left; border: none;\">\n                TraffCntrl\n            </td>\n        </tr>\n    \n        <tr style=\"background-color: hsl(120, 100.00%, 86.66%); border: none;\">\n            <td style=\"padding: 0 1em 0 0.5em; text-align: right; border: none;\">\n                0.0020\n                \n                    &plusmn; 0.0015\n                \n            </td>\n            <td style=\"padding: 0 0.5em 0 0.5em; text-align: left; border: none;\">\n                CrashMonth\n            </td>\n        </tr>\n    \n        <tr style=\"background-color: hsl(120, 100.00%, 87.59%); border: none;\">\n            <td style=\"padding: 0 1em 0 0.5em; text-align: right; border: none;\">\n                0.0018\n                \n                    &plusmn; 0.0028\n                \n            </td>\n            <td style=\"padding: 0 0.5em 0 0.5em; text-align: left; border: none;\">\n                RdClass\n            </td>\n        </tr>\n    \n        <tr style=\"background-color: hsl(120, 100.00%, 89.75%); border: none;\">\n            <td style=\"padding: 0 1em 0 0.5em; text-align: right; border: none;\">\n                0.0014\n                \n                    &plusmn; 0.0014\n                \n            </td>\n            <td style=\"padding: 0 0.5em 0 0.5em; text-align: left; border: none;\">\n                SpeedLimit\n            </td>\n        </tr>\n    \n        <tr style=\"background-color: hsl(120, 100.00%, 90.38%); border: none;\">\n            <td style=\"padding: 0 1em 0 0.5em; text-align: right; border: none;\">\n                0.0013\n                \n                    &plusmn; 0.0014\n                \n            </td>\n            <td style=\"padding: 0 0.5em 0 0.5em; text-align: left; border: none;\">\n                RdConfig\n            </td>\n        </tr>\n    \n        <tr style=\"background-color: hsl(120, 100.00%, 91.24%); border: none;\">\n            <td style=\"padding: 0 1em 0 0.5em; text-align: right; border: none;\">\n                0.0011\n                \n                    &plusmn; 0.0011\n                \n            </td>\n            <td style=\"padding: 0 0.5em 0 0.5em; text-align: left; border: none;\">\n                Locality\n            </td>\n        </tr>\n    \n        <tr style=\"background-color: hsl(120, 100.00%, 91.90%); border: none;\">\n            <td style=\"padding: 0 1em 0 0.5em; text-align: right; border: none;\">\n                0.0010\n                \n                    &plusmn; 0.0014\n                \n            </td>\n            <td style=\"padding: 0 0.5em 0 0.5em; text-align: left; border: none;\">\n                NumLanes\n            </td>\n        </tr>\n    \n        <tr style=\"background-color: hsl(120, 100.00%, 92.83%); border: none;\">\n            <td style=\"padding: 0 1em 0 0.5em; text-align: right; border: none;\">\n                0.0008\n                \n                    &plusmn; 0.0028\n                \n            </td>\n            <td style=\"padding: 0 0.5em 0 0.5em; text-align: left; border: none;\">\n                Development\n            </td>\n        </tr>\n    \n        <tr style=\"background-color: hsl(120, 100.00%, 93.07%); border: none;\">\n            <td style=\"padding: 0 1em 0 0.5em; text-align: right; border: none;\">\n                0.0008\n                \n                    &plusmn; 0.0026\n                \n            </td>\n            <td style=\"padding: 0 0.5em 0 0.5em; text-align: left; border: none;\">\n                CrashHour\n            </td>\n        </tr>\n    \n        <tr style=\"background-color: hsl(120, 100.00%, 93.57%); border: none;\">\n            <td style=\"padding: 0 1em 0 0.5em; text-align: right; border: none;\">\n                0.0007\n                \n                    &plusmn; 0.0012\n                \n            </td>\n            <td style=\"padding: 0 0.5em 0 0.5em; text-align: left; border: none;\">\n                RdConditio\n            </td>\n        </tr>\n    \n        <tr style=\"background-color: hsl(120, 100.00%, 94.08%); border: none;\">\n            <td style=\"padding: 0 1em 0 0.5em; text-align: right; border: none;\">\n                0.0006\n                \n                    &plusmn; 0.0031\n                \n            </td>\n            <td style=\"padding: 0 0.5em 0 0.5em; text-align: left; border: none;\">\n                County\n            </td>\n        </tr>\n    \n        <tr style=\"background-color: hsl(120, 100.00%, 94.88%); border: none;\">\n            <td style=\"padding: 0 1em 0 0.5em; text-align: right; border: none;\">\n                0.0005\n                \n                    &plusmn; 0.0026\n                \n            </td>\n            <td style=\"padding: 0 0.5em 0 0.5em; text-align: left; border: none;\">\n                City\n            </td>\n        </tr>\n    \n        <tr style=\"background-color: hsl(120, 100.00%, 96.04%); border: none;\">\n            <td style=\"padding: 0 1em 0 0.5em; text-align: right; border: none;\">\n                0.0004\n                \n                    &plusmn; 0.0003\n                \n            </td>\n            <td style=\"padding: 0 0.5em 0 0.5em; text-align: left; border: none;\">\n                RdDefects\n            </td>\n        </tr>\n    \n        <tr style=\"background-color: hsl(120, 100.00%, 97.02%); border: none;\">\n            <td style=\"padding: 0 1em 0 0.5em; text-align: right; border: none;\">\n                0.0002\n                \n                    &plusmn; 0.0012\n                \n            </td>\n            <td style=\"padding: 0 0.5em 0 0.5em; text-align: left; border: none;\">\n                Region\n            </td>\n        </tr>\n    \n        <tr style=\"background-color: hsl(120, 100.00%, 99.15%); border: none;\">\n            <td style=\"padding: 0 1em 0 0.5em; text-align: right; border: none;\">\n                0.0000\n                \n                    &plusmn; 0.0002\n                \n            </td>\n            <td style=\"padding: 0 0.5em 0 0.5em; text-align: left; border: none;\">\n                Workzone\n            </td>\n        </tr>\n    \n        <tr style=\"background-color: hsl(0, 100.00%, 100.00%); border: none;\">\n            <td style=\"padding: 0 1em 0 0.5em; text-align: right; border: none;\">\n                -0.0000\n                \n                    &plusmn; 0.0015\n                \n            </td>\n            <td style=\"padding: 0 0.5em 0 0.5em; text-align: left; border: none;\">\n                Weather\n            </td>\n        </tr>\n    \n        <tr style=\"background-color: hsl(0, 100.00%, 93.57%); border: none;\">\n            <td style=\"padding: 0 1em 0 0.5em; text-align: right; border: none;\">\n                -0.0007\n                \n                    &plusmn; 0.0029\n                \n            </td>\n            <td style=\"padding: 0 0.5em 0 0.5em; text-align: left; border: none;\">\n                RdFeature\n            </td>\n        </tr>\n    \n        <tr style=\"background-color: hsl(0, 100.00%, 93.57%); border: none;\">\n            <td style=\"padding: 0 1em 0 0.5em; text-align: right; border: none;\">\n                -0.0007\n                \n                    &plusmn; 0.0006\n                \n            </td>\n            <td style=\"padding: 0 0.5em 0 0.5em; text-align: left; border: none;\">\n                RdSurface\n            </td>\n        </tr>\n    \n        <tr style=\"background-color: hsl(0, 100.00%, 92.83%); border: none;\">\n            <td style=\"padding: 0 1em 0 0.5em; text-align: right; border: none;\">\n                -0.0008\n                \n                    &plusmn; 0.0015\n                \n            </td>\n            <td style=\"padding: 0 0.5em 0 0.5em; text-align: left; border: none;\">\n                RuralUrban\n            </td>\n        </tr>\n    \n        <tr style=\"background-color: hsl(0, 100.00%, 91.90%); border: none;\">\n            <td style=\"padding: 0 1em 0 0.5em; text-align: right; border: none;\">\n                -0.0010\n                \n                    &plusmn; 0.0019\n                \n            </td>\n            <td style=\"padding: 0 0.5em 0 0.5em; text-align: left; border: none;\">\n                RdCharacte\n            </td>\n        </tr>\n    \n    \n    </tbody>\n</table>\n    \n\n    \n\n\n    \n\n    \n\n    \n\n    \n\n    \n\n    \n\n\n\n",
      "text/plain": "<IPython.core.display.HTML object>"
     },
     "execution_count": 26,
     "metadata": {},
     "output_type": "execute_result"
    }
   ],
   "source": [
    "# List out the independent variables by importance\n",
    "feature_names = X_val.columns.tolist()\n",
    "\n",
    "# Display permutation importances\n",
    "eli5.show_weights(\n",
    "    prmuter,\n",
    "    top=None,\n",
    "    feature_names=feature_names)"
   ]
  },
  {
   "cell_type": "code",
   "execution_count": 33,
   "metadata": {},
   "outputs": [
    {
     "name": "stdout",
     "output_type": "stream",
     "text": "The Validation Accuracy is: 0.8638\n"
    }
   ],
   "source": [
    "# Generate a logistic regression model\n",
    "from sklearn.linear_model import LogisticRegressionCV\n",
    "\n",
    "# Construct a modeling pipeline\n",
    "pipeline_logstc = make_pipeline(\n",
    "    ce.OrdinalEncoder(),\n",
    "    LogisticRegressionCV(cv=5, n_jobs=-1, random_state=42)\n",
    ")\n",
    "\n",
    "# Fit the pipeline to the training dataset\n",
    "pipeline_logstc.fit(X_train, y_train)\n",
    "\n",
    "# Calculate the accuracy using the validation data\n",
    "print(f'The Validation Accuracy is: {round(pipeline_logstc.score(X_val, y_val), 4)}')\n"
   ]
  },
  {
   "cell_type": "code",
   "execution_count": 35,
   "metadata": {},
   "outputs": [
    {
     "data": {
      "text/plain": "LogisticRegressionCV(Cs=10, class_weight=None, cv=5, dual=False,\n                     fit_intercept=True, intercept_scaling=1.0, l1_ratios=None,\n                     max_iter=100, multi_class='auto', n_jobs=-1, penalty='l2',\n                     random_state=42, refit=True, scoring=None, solver='lbfgs',\n                     tol=0.0001, verbose=0)"
     },
     "execution_count": 35,
     "metadata": {},
     "output_type": "execute_result"
    }
   ],
   "source": [
    "pipeline_logstc[1]"
   ]
  },
  {
   "cell_type": "code",
   "execution_count": 47,
   "metadata": {},
   "outputs": [
    {
     "name": "stdout",
     "output_type": "stream",
     "text": "Logistic Regression Classification Report:\n\n              precision    recall  f1-score   support\n\n       False       0.86      1.00      0.93      4368\n        True       0.00      0.00      0.00       689\n\n    accuracy                           0.86      5057\n   macro avg       0.43      0.50      0.46      5057\nweighted avg       0.75      0.86      0.80      5057\n\n"
    }
   ],
   "source": [
    "# Generate the classification report for the Logistic Regression model\n",
    "y_val_pred_lgtc = pipeline_logstc.predict(X_val)\n",
    "\n",
    "print(f'Logistic Regression Classification Report:\\n\\n{classification_report(y_val, y_val_pred_lgtc)}')"
   ]
  },
  {
   "cell_type": "code",
   "execution_count": null,
   "metadata": {},
   "outputs": [],
   "source": []
  }
 ],
 "metadata": {
  "kernelspec": {
   "display_name": "Python 3",
   "language": "python",
   "name": "python3"
  },
  "language_info": {
   "codemirror_mode": {
    "name": "ipython",
    "version": 3
   },
   "file_extension": ".py",
   "mimetype": "text/x-python",
   "name": "python",
   "nbconvert_exporter": "python",
   "pygments_lexer": "ipython3",
   "version": "3.7.3-final"
  }
 },
 "nbformat": 4,
 "nbformat_minor": 2
}