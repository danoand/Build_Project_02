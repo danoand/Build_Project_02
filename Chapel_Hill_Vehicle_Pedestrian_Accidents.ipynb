{
 "cells": [
  {
   "cell_type": "code",
   "execution_count": 1,
   "metadata": {},
   "outputs": [],
   "source": [
    "import pandas as pd\n",
    "import numpy as np"
   ]
  },
  {
   "cell_type": "code",
   "execution_count": 2,
   "metadata": {},
   "outputs": [],
   "source": [
    "# Import the Chapel Hill data\n",
    "df_work = pd.read_csv(\"/Users/danoand/Documents/Companies/LambdaSchool/Build_Project_02/data/pedestrian-crashes-chapel-hill-region_imported.txt\",\n",
    "                     sep='\\t')"
   ]
  },
  {
   "cell_type": "code",
   "execution_count": 3,
   "metadata": {},
   "outputs": [],
   "source": [
    "# Profile the \"work\" dataframe\n",
    "from pandas_profiling import ProfileReport\n",
    "\n",
    "profile = ProfileReport(df_work, title='Pandas Profiling Report', html={'style':{'full_width':True}})\n",
    "profile.to_file(output_file=\"/Users/danoand/Documents/Companies/LambdaSchool/Build_Project_02/data/ChapelHillAccidents.html\")"
   ]
  },
  {
   "cell_type": "code",
   "execution_count": 4,
   "metadata": {},
   "outputs": [],
   "source": [
    "# Define \"ante\" columns (data that can be reasonably known prior to the event)\n",
    "# Notes:\n",
    "#   - removed the lat/long column \n",
    "categories_ante = [\n",
    "    'City',\n",
    "    'County',\n",
    "    'CrashHour',\n",
    "    'CrashMonth',\n",
    "    'Development',\n",
    "    'LightCond',\n",
    "    'Locality',\n",
    "    'NumLanes',\n",
    "    'RdCharacte',\n",
    "    'RdClass',\n",
    "    'RdConditio',\n",
    "    'RdConfig',\n",
    "    'RdDefects',\n",
    "    'RdFeature',\n",
    "    'RdSurface',\n",
    "    'Region',\n",
    "    'RuralUrban',\n",
    "    'SpeedLimit',\n",
    "    'TraffCntrl',\n",
    "    'Weather',\n",
    "    'Workzone',\n",
    "    'PedInjury']        # Source for the target data"
   ]
  },
  {
   "cell_type": "code",
   "execution_count": 6,
   "metadata": {},
   "outputs": [
    {
     "data": {
      "text/html": "<div>\n<style scoped>\n    .dataframe tbody tr th:only-of-type {\n        vertical-align: middle;\n    }\n\n    .dataframe tbody tr th {\n        vertical-align: top;\n    }\n\n    .dataframe thead th {\n        text-align: right;\n    }\n</style>\n<table border=\"1\" class=\"dataframe\">\n  <thead>\n    <tr style=\"text-align: right;\">\n      <th></th>\n      <th>City</th>\n      <th>County</th>\n      <th>CrashHour</th>\n      <th>CrashMonth</th>\n      <th>Development</th>\n      <th>LightCond</th>\n      <th>Locality</th>\n      <th>NumLanes</th>\n      <th>RdCharacte</th>\n      <th>RdClass</th>\n      <th>...</th>\n      <th>RdDefects</th>\n      <th>RdFeature</th>\n      <th>RdSurface</th>\n      <th>Region</th>\n      <th>RuralUrban</th>\n      <th>SpeedLimit</th>\n      <th>TraffCntrl</th>\n      <th>Weather</th>\n      <th>Workzone</th>\n      <th>PedInjury</th>\n    </tr>\n  </thead>\n  <tbody>\n    <tr>\n      <th>10192</th>\n      <td>Durham</td>\n      <td>Durham</td>\n      <td>21</td>\n      <td>May</td>\n      <td>Residential</td>\n      <td>Dusk</td>\n      <td>Urban (&gt;70% Developed)</td>\n      <td>2 lanes</td>\n      <td>Straight - Level</td>\n      <td>Local Street</td>\n      <td>...</td>\n      <td>None</td>\n      <td>No Special Feature</td>\n      <td>Smooth Asphalt</td>\n      <td>Piedmont</td>\n      <td>Urban</td>\n      <td>30 - 35  MPH</td>\n      <td>No Control Present</td>\n      <td>Clear</td>\n      <td>No</td>\n      <td>B: Suspected Minor Injury</td>\n    </tr>\n    <tr>\n      <th>2046</th>\n      <td>Rocky Mount</td>\n      <td>Nash</td>\n      <td>17</td>\n      <td>July</td>\n      <td>Commercial</td>\n      <td>Daylight</td>\n      <td>Urban (&gt;70% Developed)</td>\n      <td>Unknown</td>\n      <td>Straight - Level</td>\n      <td>Public Vehicular Area</td>\n      <td>...</td>\n      <td>None</td>\n      <td>Driveway, Public</td>\n      <td>Smooth Asphalt</td>\n      <td>Coastal</td>\n      <td>Urban</td>\n      <td>5 - 15 MPH</td>\n      <td>No Control Present</td>\n      <td>Clear</td>\n      <td>No</td>\n      <td>B: Suspected Minor Injury</td>\n    </tr>\n    <tr>\n      <th>4698</th>\n      <td>Gastonia</td>\n      <td>Gaston</td>\n      <td>21</td>\n      <td>April</td>\n      <td>Residential</td>\n      <td>Dark - Lighted Roadway</td>\n      <td>Urban (&gt;70% Developed)</td>\n      <td>2 lanes</td>\n      <td>Straight - Hillcrest</td>\n      <td>Public Vehicular Area</td>\n      <td>...</td>\n      <td>None</td>\n      <td>Four-Way Intersection</td>\n      <td>Smooth Asphalt</td>\n      <td>Piedmont</td>\n      <td>Urban</td>\n      <td>30 - 35  MPH</td>\n      <td>Stop Sign</td>\n      <td>Clear</td>\n      <td>No</td>\n      <td>O: No Injury</td>\n    </tr>\n    <tr>\n      <th>33391</th>\n      <td>Charlotte</td>\n      <td>Mecklenburg</td>\n      <td>19</td>\n      <td>February</td>\n      <td>Commercial</td>\n      <td>Daylight</td>\n      <td>Urban (&gt;70% Developed)</td>\n      <td>2 lanes</td>\n      <td>Straight - Grade</td>\n      <td>Local Street</td>\n      <td>...</td>\n      <td>None</td>\n      <td>No Special Feature</td>\n      <td>Smooth Asphalt</td>\n      <td>Piedmont</td>\n      <td>Urban</td>\n      <td>30 - 35  MPH</td>\n      <td>Stop And Go Signal</td>\n      <td>Clear</td>\n      <td>No</td>\n      <td>B: Suspected Minor Injury</td>\n    </tr>\n    <tr>\n      <th>11232</th>\n      <td>None - Rural Crash</td>\n      <td>Wake</td>\n      <td>19</td>\n      <td>January</td>\n      <td>Residential</td>\n      <td>Dark - Roadway Not Lighted</td>\n      <td>Mixed (30% To 70% Developed)</td>\n      <td>2 lanes</td>\n      <td>Straight - Level</td>\n      <td>State Secondary Route</td>\n      <td>...</td>\n      <td>None</td>\n      <td>No Special Feature</td>\n      <td>Smooth Asphalt</td>\n      <td>Piedmont</td>\n      <td>Rural</td>\n      <td>30 - 35  MPH</td>\n      <td>Double Yellow Line, No Passing Zone</td>\n      <td>Clear</td>\n      <td>No</td>\n      <td>B: Suspected Minor Injury</td>\n    </tr>\n    <tr>\n      <th>20565</th>\n      <td>Charlotte</td>\n      <td>Mecklenburg</td>\n      <td>19</td>\n      <td>June</td>\n      <td>Residential</td>\n      <td>Daylight</td>\n      <td>Urban (&gt;70% Developed)</td>\n      <td>1 lane</td>\n      <td>Straight - Hillcrest</td>\n      <td>Local Street</td>\n      <td>...</td>\n      <td>None</td>\n      <td>No Special Feature</td>\n      <td>Smooth Asphalt</td>\n      <td>Piedmont</td>\n      <td>Urban</td>\n      <td>20 - 25  MPH</td>\n      <td>No Control Present</td>\n      <td>Clear</td>\n      <td>No</td>\n      <td>C: Possible Injury</td>\n    </tr>\n    <tr>\n      <th>33309</th>\n      <td>Roanoke Rapids</td>\n      <td>Halifax</td>\n      <td>11</td>\n      <td>February</td>\n      <td>Commercial</td>\n      <td>Daylight</td>\n      <td>Urban (&gt;70% Developed)</td>\n      <td>Unknown</td>\n      <td>Straight - Level</td>\n      <td>Public Vehicular Area</td>\n      <td>...</td>\n      <td>None</td>\n      <td>No Special Feature</td>\n      <td>Smooth Asphalt</td>\n      <td>Coastal</td>\n      <td>Urban</td>\n      <td>5 - 15 MPH</td>\n      <td>No Control Present</td>\n      <td>Cloudy</td>\n      <td>No</td>\n      <td>C: Possible Injury</td>\n    </tr>\n    <tr>\n      <th>17746</th>\n      <td>Fayetteville</td>\n      <td>Cumberland</td>\n      <td>14</td>\n      <td>September</td>\n      <td>Commercial</td>\n      <td>Daylight</td>\n      <td>Urban (&gt;70% Developed)</td>\n      <td>9 or more lanes</td>\n      <td>Straight - Level</td>\n      <td>Local Street</td>\n      <td>...</td>\n      <td>None</td>\n      <td>Missing</td>\n      <td>Coarse Asphalt</td>\n      <td>Coastal</td>\n      <td>Urban</td>\n      <td>40 - 45  MPH</td>\n      <td>Stop And Go Signal</td>\n      <td>Clear</td>\n      <td>No</td>\n      <td>B: Suspected Minor Injury</td>\n    </tr>\n    <tr>\n      <th>23245</th>\n      <td>Hendersonville</td>\n      <td>Henderson</td>\n      <td>20</td>\n      <td>March</td>\n      <td>Residential</td>\n      <td>Dark - Lighted Roadway</td>\n      <td>Urban (&gt;70% Developed)</td>\n      <td>5 lanes</td>\n      <td>Straight - Level</td>\n      <td>Local Street</td>\n      <td>...</td>\n      <td>None</td>\n      <td>No Special Feature</td>\n      <td>Smooth Asphalt</td>\n      <td>Mountains</td>\n      <td>Urban</td>\n      <td>40 - 45  MPH</td>\n      <td>Stop And Go Signal</td>\n      <td>Clear</td>\n      <td>No</td>\n      <td>A: Suspected Serious Injury</td>\n    </tr>\n    <tr>\n      <th>31015</th>\n      <td>Chapel Hill</td>\n      <td>Orange</td>\n      <td>10</td>\n      <td>December</td>\n      <td>Commercial</td>\n      <td>Daylight</td>\n      <td>Urban (&gt;70% Developed)</td>\n      <td>Unknown</td>\n      <td>Straight - Level</td>\n      <td>Public Vehicular Area</td>\n      <td>...</td>\n      <td>None</td>\n      <td>No Special Feature</td>\n      <td>Smooth Asphalt</td>\n      <td>Piedmont</td>\n      <td>Urban</td>\n      <td>Unknown</td>\n      <td>No Control Present</td>\n      <td>Clear</td>\n      <td>No</td>\n      <td>C: Possible Injury</td>\n    </tr>\n  </tbody>\n</table>\n<p>10 rows × 22 columns</p>\n</div>",
      "text/plain": "                     City       County  CrashHour CrashMonth  Development  \\\n10192              Durham       Durham         21        May  Residential   \n2046          Rocky Mount         Nash         17       July   Commercial   \n4698             Gastonia       Gaston         21      April  Residential   \n33391           Charlotte  Mecklenburg         19   February   Commercial   \n11232  None - Rural Crash         Wake         19    January  Residential   \n20565           Charlotte  Mecklenburg         19       June  Residential   \n33309      Roanoke Rapids      Halifax         11   February   Commercial   \n17746        Fayetteville   Cumberland         14  September   Commercial   \n23245      Hendersonville    Henderson         20      March  Residential   \n31015         Chapel Hill       Orange         10   December   Commercial   \n\n                        LightCond                      Locality  \\\n10192                        Dusk        Urban (>70% Developed)   \n2046                     Daylight        Urban (>70% Developed)   \n4698       Dark - Lighted Roadway        Urban (>70% Developed)   \n33391                    Daylight        Urban (>70% Developed)   \n11232  Dark - Roadway Not Lighted  Mixed (30% To 70% Developed)   \n20565                    Daylight        Urban (>70% Developed)   \n33309                    Daylight        Urban (>70% Developed)   \n17746                    Daylight        Urban (>70% Developed)   \n23245      Dark - Lighted Roadway        Urban (>70% Developed)   \n31015                    Daylight        Urban (>70% Developed)   \n\n              NumLanes            RdCharacte                RdClass  ...  \\\n10192          2 lanes      Straight - Level           Local Street  ...   \n2046           Unknown      Straight - Level  Public Vehicular Area  ...   \n4698           2 lanes  Straight - Hillcrest  Public Vehicular Area  ...   \n33391          2 lanes      Straight - Grade           Local Street  ...   \n11232          2 lanes      Straight - Level  State Secondary Route  ...   \n20565           1 lane  Straight - Hillcrest           Local Street  ...   \n33309          Unknown      Straight - Level  Public Vehicular Area  ...   \n17746  9 or more lanes      Straight - Level           Local Street  ...   \n23245          5 lanes      Straight - Level           Local Street  ...   \n31015          Unknown      Straight - Level  Public Vehicular Area  ...   \n\n      RdDefects              RdFeature       RdSurface     Region RuralUrban  \\\n10192      None     No Special Feature  Smooth Asphalt   Piedmont      Urban   \n2046       None       Driveway, Public  Smooth Asphalt    Coastal      Urban   \n4698       None  Four-Way Intersection  Smooth Asphalt   Piedmont      Urban   \n33391      None     No Special Feature  Smooth Asphalt   Piedmont      Urban   \n11232      None     No Special Feature  Smooth Asphalt   Piedmont      Rural   \n20565      None     No Special Feature  Smooth Asphalt   Piedmont      Urban   \n33309      None     No Special Feature  Smooth Asphalt    Coastal      Urban   \n17746      None                Missing  Coarse Asphalt    Coastal      Urban   \n23245      None     No Special Feature  Smooth Asphalt  Mountains      Urban   \n31015      None     No Special Feature  Smooth Asphalt   Piedmont      Urban   \n\n         SpeedLimit                           TraffCntrl Weather Workzone  \\\n10192  30 - 35  MPH                   No Control Present   Clear       No   \n2046     5 - 15 MPH                   No Control Present   Clear       No   \n4698   30 - 35  MPH                            Stop Sign   Clear       No   \n33391  30 - 35  MPH                   Stop And Go Signal   Clear       No   \n11232  30 - 35  MPH  Double Yellow Line, No Passing Zone   Clear       No   \n20565  20 - 25  MPH                   No Control Present   Clear       No   \n33309    5 - 15 MPH                   No Control Present  Cloudy       No   \n17746  40 - 45  MPH                   Stop And Go Signal   Clear       No   \n23245  40 - 45  MPH                   Stop And Go Signal   Clear       No   \n31015       Unknown                   No Control Present   Clear       No   \n\n                         PedInjury  \n10192    B: Suspected Minor Injury  \n2046     B: Suspected Minor Injury  \n4698                  O: No Injury  \n33391    B: Suspected Minor Injury  \n11232    B: Suspected Minor Injury  \n20565           C: Possible Injury  \n33309           C: Possible Injury  \n17746    B: Suspected Minor Injury  \n23245  A: Suspected Serious Injury  \n31015           C: Possible Injury  \n\n[10 rows x 22 columns]"
     },
     "execution_count": 6,
     "metadata": {},
     "output_type": "execute_result"
    }
   ],
   "source": [
    "# Define a dataframe with \"ante\" data\n",
    "df_ante = df_work[categories_ante]\n",
    "\n",
    "df_ante.sample(10)"
   ]
  },
  {
   "cell_type": "code",
   "execution_count": 7,
   "metadata": {},
   "outputs": [],
   "source": [
    "# Profile the df_ante dataframe\n",
    "from pandas_profiling import ProfileReport\n",
    "\n",
    "profile_ante = ProfileReport(df_ante, title='Pandas Profiling Report', html={'style':{'full_width':True}})\n",
    "profile_ante.to_file(output_file=\"/Users/danoand/Documents/Companies/LambdaSchool/Build_Project_02/data/ChapelHillAccidents_Ante.html\")"
   ]
  },
  {
   "cell_type": "code",
   "execution_count": 7,
   "metadata": {},
   "outputs": [
    {
     "name": "stdout",
     "output_type": "stream",
     "text": "Shape of df_ante_train: (28650, 22); Shape of df_ante_test: (5057, 22)\n"
    }
   ],
   "source": [
    "# Split the data into training, validation, and testing datasets\n",
    "from sklearn.model_selection import train_test_split\n",
    "df_ante_train, df_ante_test = train_test_split(df_ante, train_size=0.85, test_size=0.15, \n",
    "                              stratify=df_ante['PedInjury'], random_state=42)\n",
    "\n",
    "print(f'Shape of df_ante_train: {df_ante_train.shape}; Shape of df_ante_test: {df_ante_test.shape}')"
   ]
  },
  {
   "cell_type": "code",
   "execution_count": 8,
   "metadata": {},
   "outputs": [
    {
     "name": "stdout",
     "output_type": "stream",
     "text": "Shape of df_ante_train: (23593, 22); Shape of df_ante_val: (5057, 22); Shape of df_ante_test: (5057, 22)\n"
    }
   ],
   "source": [
    "# Split the train data into a training subset and a validation subset\n",
    "df_ante_train, df_ante_val = train_test_split(df_ante_train, test_size=len(df_ante_test), \n",
    "                              stratify=df_ante_train['PedInjury'], random_state=42)\n",
    "\n",
    "print(f'Shape of df_ante_train: {df_ante_train.shape}; Shape of df_ante_val: {df_ante_val.shape}; Shape of df_ante_test: {df_ante_test.shape}')"
   ]
  },
  {
   "cell_type": "code",
   "execution_count": 9,
   "metadata": {},
   "outputs": [
    {
     "data": {
      "text/plain": "C: Possible Injury             0.409020\nB: Suspected Minor Injury      0.354597\nA: Suspected Serious Injury    0.072140\nK: Killed                      0.063917\nO: No Injury                   0.059975\nUnknown Injury                 0.040351\nName: PedInjury, dtype: float64"
     },
     "execution_count": 9,
     "metadata": {},
     "output_type": "execute_result"
    }
   ],
   "source": [
    "# Breakdown the target attribute by class value\n",
    "df_ante_train['PedInjury'].value_counts(normalize=True)"
   ]
  },
  {
   "cell_type": "code",
   "execution_count": 11,
   "metadata": {},
   "outputs": [],
   "source": [
    "# Wrangle the modeling data\n",
    "outcome_serious = ['K: Killed', 'A: Suspected Serious Injury']\n",
    "\n",
    "# has_fatality is a function that returns a boolean value if the inbound value represents a serious outcome (True) or not (False)\n",
    "def has_serious_outcome(val):\n",
    "  if (val in outcome_serious): \n",
    "    return True\n",
    "\n",
    "  return False\n",
    "\n",
    "# wrangle returns a dataframe with updated/created columns for a given input dataframe \n",
    "def wrangle(DF):\n",
    "  X = DF.copy()\n",
    "\n",
    "  # Create a boolean target column reflecting an outcome (serious injury or not)\n",
    "  X['ped_serious_outcome'] = X['PedInjury'].apply(has_serious_outcome)\n",
    "\n",
    "  # List columns to be dropped\n",
    "  cols_drop = ['PedInjury'] # PedInjury - use the engineered 'ped_fatality' column\n",
    "\n",
    "  # Drop undesired columns\n",
    "  X = X.drop(columns=cols_drop)\n",
    "\n",
    "  return X"
   ]
  },
  {
   "cell_type": "code",
   "execution_count": 12,
   "metadata": {},
   "outputs": [
    {
     "name": "stdout",
     "output_type": "stream",
     "text": "Shape of df_wrgl_train: (23593, 22); Shape of df_wrgl_val: (5057, 22); Shape of df_wrgl_test: (5057, 22)\n"
    }
   ],
   "source": [
    "# Wrangle the training, validation, and test datasets\n",
    "df_wrgl_train = wrangle(df_ante_train)\n",
    "df_wrgl_val   = wrangle(df_ante_val)\n",
    "df_wrgl_test  = wrangle(df_ante_test)\n",
    "\n",
    "print(f'Shape of df_wrgl_train: {df_wrgl_train.shape}; Shape of df_wrgl_val: {df_wrgl_val.shape}; Shape of df_wrgl_test: {df_wrgl_test.shape}')"
   ]
  },
  {
   "cell_type": "code",
   "execution_count": 13,
   "metadata": {},
   "outputs": [
    {
     "data": {
      "text/html": "<div>\n<style scoped>\n    .dataframe tbody tr th:only-of-type {\n        vertical-align: middle;\n    }\n\n    .dataframe tbody tr th {\n        vertical-align: top;\n    }\n\n    .dataframe thead th {\n        text-align: right;\n    }\n</style>\n<table border=\"1\" class=\"dataframe\">\n  <thead>\n    <tr style=\"text-align: right;\">\n      <th></th>\n      <th>City</th>\n      <th>County</th>\n      <th>CrashHour</th>\n      <th>CrashMonth</th>\n      <th>Development</th>\n      <th>LightCond</th>\n      <th>Locality</th>\n      <th>NumLanes</th>\n      <th>RdCharacte</th>\n      <th>RdClass</th>\n      <th>...</th>\n      <th>RdDefects</th>\n      <th>RdFeature</th>\n      <th>RdSurface</th>\n      <th>Region</th>\n      <th>RuralUrban</th>\n      <th>SpeedLimit</th>\n      <th>TraffCntrl</th>\n      <th>Weather</th>\n      <th>Workzone</th>\n      <th>ped_serious_outcome</th>\n    </tr>\n  </thead>\n  <tbody>\n    <tr>\n      <th>19808</th>\n      <td>Dunn</td>\n      <td>Harnett</td>\n      <td>9</td>\n      <td>February</td>\n      <td>Commercial</td>\n      <td>Daylight</td>\n      <td>Mixed (30% To 70% Developed)</td>\n      <td>Unknown</td>\n      <td>Straight - Level</td>\n      <td>Public Vehicular Area</td>\n      <td>...</td>\n      <td>None</td>\n      <td>Driveway, Public</td>\n      <td>Gravel</td>\n      <td>Coastal</td>\n      <td>Urban</td>\n      <td>5 - 15 MPH</td>\n      <td>No Control Present</td>\n      <td>Clear</td>\n      <td>No</td>\n      <td>False</td>\n    </tr>\n    <tr>\n      <th>30495</th>\n      <td>High Point</td>\n      <td>Guilford</td>\n      <td>11</td>\n      <td>September</td>\n      <td>Commercial</td>\n      <td>Daylight</td>\n      <td>Urban (&gt;70% Developed)</td>\n      <td>Unknown</td>\n      <td>Straight - Grade</td>\n      <td>Local Street</td>\n      <td>...</td>\n      <td>None</td>\n      <td>Driveway, Public</td>\n      <td>Smooth Asphalt</td>\n      <td>Piedmont</td>\n      <td>Urban</td>\n      <td>Unknown</td>\n      <td>No Control Present</td>\n      <td>Clear</td>\n      <td>No</td>\n      <td>True</td>\n    </tr>\n    <tr>\n      <th>23231</th>\n      <td>Raleigh</td>\n      <td>Wake</td>\n      <td>9</td>\n      <td>January</td>\n      <td>Commercial</td>\n      <td>Daylight</td>\n      <td>Urban (&gt;70% Developed)</td>\n      <td>2 lanes</td>\n      <td>Straight - Level</td>\n      <td>Public Vehicular Area</td>\n      <td>...</td>\n      <td>None</td>\n      <td>Driveway, Public</td>\n      <td>Coarse Asphalt</td>\n      <td>Piedmont</td>\n      <td>Urban</td>\n      <td>5 - 15 MPH</td>\n      <td>No Control Present</td>\n      <td>Clear</td>\n      <td>No</td>\n      <td>False</td>\n    </tr>\n    <tr>\n      <th>13366</th>\n      <td>Salisbury</td>\n      <td>Rowan</td>\n      <td>19</td>\n      <td>January</td>\n      <td>Commercial</td>\n      <td>Dark - Lighted Roadway</td>\n      <td>Urban (&gt;70% Developed)</td>\n      <td>Unknown</td>\n      <td>Straight - Level</td>\n      <td>Public Vehicular Area</td>\n      <td>...</td>\n      <td>None</td>\n      <td>No Special Feature</td>\n      <td>Coarse Asphalt</td>\n      <td>Piedmont</td>\n      <td>Urban</td>\n      <td>Unknown</td>\n      <td>No Control Present</td>\n      <td>Clear</td>\n      <td>No</td>\n      <td>False</td>\n    </tr>\n    <tr>\n      <th>31792</th>\n      <td>None - Rural Crash</td>\n      <td>Robeson</td>\n      <td>19</td>\n      <td>November</td>\n      <td>Farms, Woods, Pastures</td>\n      <td>Dark - Roadway Not Lighted</td>\n      <td>Rural (&lt;30% Developed)</td>\n      <td>2 lanes</td>\n      <td>Straight - Level</td>\n      <td>State Secondary Route</td>\n      <td>...</td>\n      <td>None</td>\n      <td>No Special Feature</td>\n      <td>Coarse Asphalt</td>\n      <td>Coastal</td>\n      <td>Rural</td>\n      <td>50 - 55  MPH</td>\n      <td>Double Yellow Line, No Passing Zone</td>\n      <td>Clear</td>\n      <td>No</td>\n      <td>False</td>\n    </tr>\n  </tbody>\n</table>\n<p>5 rows × 22 columns</p>\n</div>",
      "text/plain": "                     City    County  CrashHour CrashMonth  \\\n19808                Dunn   Harnett          9   February   \n30495          High Point  Guilford         11  September   \n23231             Raleigh      Wake          9    January   \n13366           Salisbury     Rowan         19    January   \n31792  None - Rural Crash   Robeson         19   November   \n\n                  Development                   LightCond  \\\n19808              Commercial                    Daylight   \n30495              Commercial                    Daylight   \n23231              Commercial                    Daylight   \n13366              Commercial      Dark - Lighted Roadway   \n31792  Farms, Woods, Pastures  Dark - Roadway Not Lighted   \n\n                           Locality NumLanes        RdCharacte  \\\n19808  Mixed (30% To 70% Developed)  Unknown  Straight - Level   \n30495        Urban (>70% Developed)  Unknown  Straight - Grade   \n23231        Urban (>70% Developed)  2 lanes  Straight - Level   \n13366        Urban (>70% Developed)  Unknown  Straight - Level   \n31792        Rural (<30% Developed)  2 lanes  Straight - Level   \n\n                     RdClass  ... RdDefects           RdFeature  \\\n19808  Public Vehicular Area  ...      None    Driveway, Public   \n30495           Local Street  ...      None    Driveway, Public   \n23231  Public Vehicular Area  ...      None    Driveway, Public   \n13366  Public Vehicular Area  ...      None  No Special Feature   \n31792  State Secondary Route  ...      None  No Special Feature   \n\n            RdSurface    Region RuralUrban    SpeedLimit  \\\n19808          Gravel   Coastal      Urban    5 - 15 MPH   \n30495  Smooth Asphalt  Piedmont      Urban       Unknown   \n23231  Coarse Asphalt  Piedmont      Urban    5 - 15 MPH   \n13366  Coarse Asphalt  Piedmont      Urban       Unknown   \n31792  Coarse Asphalt   Coastal      Rural  50 - 55  MPH   \n\n                                TraffCntrl Weather Workzone  \\\n19808                   No Control Present   Clear       No   \n30495                   No Control Present   Clear       No   \n23231                   No Control Present   Clear       No   \n13366                   No Control Present   Clear       No   \n31792  Double Yellow Line, No Passing Zone   Clear       No   \n\n      ped_serious_outcome  \n19808               False  \n30495                True  \n23231               False  \n13366               False  \n31792               False  \n\n[5 rows x 22 columns]"
     },
     "execution_count": 13,
     "metadata": {},
     "output_type": "execute_result"
    }
   ],
   "source": [
    "df_wrgl_train.sample(5)"
   ]
  },
  {
   "cell_type": "code",
   "execution_count": 14,
   "metadata": {},
   "outputs": [],
   "source": [
    "# Construct the modeling datasets\n",
    "target = 'ped_serious_outcome'\n",
    "X_train = df_wrgl_train.drop(columns=target)\n",
    "y_train = df_wrgl_train[target]\n",
    "\n",
    "X_val   = df_wrgl_val.drop(columns=target)\n",
    "y_val   = df_wrgl_val[target]\n",
    "\n",
    "X_test  = df_wrgl_test.drop(columns=target)\n",
    "y_test  = df_wrgl_test[target]"
   ]
  },
  {
   "cell_type": "code",
   "execution_count": 15,
   "metadata": {},
   "outputs": [
    {
     "name": "stdout",
     "output_type": "stream",
     "text": "Baseline prediction score for the training set is: 0.7626\n"
    }
   ],
   "source": [
    "# Create a baseline prediction using a dummy classifier\n",
    "from sklearn.dummy import DummyClassifier\n",
    "clfr_dummy = DummyClassifier(strategy=\"stratified\")\n",
    "\n",
    "clfr_dummy.fit(X_train, y_train)\n",
    "clfr_dummy.predict(X_train)\n",
    "\n",
    "print(f'Baseline prediction score for the training set is: {round(clfr_dummy.score(X_train, y_train), 4)}')"
   ]
  },
  {
   "cell_type": "code",
   "execution_count": 17,
   "metadata": {},
   "outputs": [
    {
     "data": {
      "text/plain": "Pipeline(memory=None,\n         steps=[('ordinalencoder',\n                 OrdinalEncoder(cols=['City', 'County', 'CrashMonth',\n                                      'Development', 'LightCond', 'Locality',\n                                      'NumLanes', 'RdCharacte', 'RdClass',\n                                      'RdConditio', 'RdConfig', 'RdDefects',\n                                      'RdFeature', 'RdSurface', 'Region',\n                                      'RuralUrban', 'SpeedLimit', 'TraffCntrl',\n                                      'Weather', 'Workzone'],\n                                drop_invariant=False, handle_missing='value',\n                                handle_un...\n                ('randomforestclassifier',\n                 RandomForestClassifier(bootstrap=True, class_weight=None,\n                                        criterion='gini', max_depth=None,\n                                        max_features='auto',\n                                        max_leaf_nodes=None,\n                                        min_impurity_decrease=0.0,\n                                        min_impurity_split=None,\n                                        min_samples_leaf=1, min_samples_split=2,\n                                        min_weight_fraction_leaf=0.0,\n                                        n_estimators=10, n_jobs=-1,\n                                        oob_score=False, random_state=42,\n                                        verbose=0, warm_start=False))],\n         verbose=False)"
     },
     "execution_count": 17,
     "metadata": {},
     "output_type": "execute_result"
    }
   ],
   "source": [
    "import category_encoders as ce \n",
    "from sklearn.ensemble import RandomForestClassifier\n",
    "from sklearn.pipeline import make_pipeline\n",
    "\n",
    "# Construct a modeling pipeline\n",
    "pipeline = make_pipeline(\n",
    "    ce.OrdinalEncoder(),\n",
    "    RandomForestClassifier(n_jobs=-1, random_state=42)\n",
    ")\n",
    "\n",
    "# Fit the pipeline to the training dataset\n",
    "pipeline.fit(X_train, y_train)"
   ]
  },
  {
   "cell_type": "code",
   "execution_count": 18,
   "metadata": {},
   "outputs": [
    {
     "name": "stdout",
     "output_type": "stream",
     "text": "Validation Accuracy: 0.86138\n"
    }
   ],
   "source": [
    "# Determine the validation dataset's accuracy\n",
    "print(f'Validation Accuracy: {round(pipeline.score(X_val, y_val), 5)}')"
   ]
  },
  {
   "cell_type": "code",
   "execution_count": null,
   "metadata": {},
   "outputs": [],
   "source": []
  }
 ],
 "metadata": {
  "kernelspec": {
   "display_name": "Python 3",
   "language": "python",
   "name": "python3"
  },
  "language_info": {
   "codemirror_mode": {
    "name": "ipython",
    "version": 3
   },
   "file_extension": ".py",
   "mimetype": "text/x-python",
   "name": "python",
   "nbconvert_exporter": "python",
   "pygments_lexer": "ipython3",
   "version": "3.7.3-final"
  }
 },
 "nbformat": 4,
 "nbformat_minor": 2
}