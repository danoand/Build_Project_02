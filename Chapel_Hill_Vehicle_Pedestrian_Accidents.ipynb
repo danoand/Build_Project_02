{
 "cells": [
  {
   "cell_type": "code",
   "execution_count": 21,
   "metadata": {},
   "outputs": [],
   "source": [
    "import pandas as pd\n",
    "import numpy as np"
   ]
  },
  {
   "cell_type": "code",
   "execution_count": 23,
   "metadata": {},
   "outputs": [],
   "source": [
    "df_work = pd.read_csv(\"/Users/danoand/Documents/Companies/LambdaSchool/Build_Project_02/data/pedestrian-crashes-chapel-hill-region_imported.txt\",\n",
    "                     sep='\\t')"
   ]
  },
  {
   "cell_type": "code",
   "execution_count": 24,
   "metadata": {},
   "outputs": [],
   "source": [
    "# Profile the \"work\" dataframe\n",
    "from pandas_profiling import ProfileReport\n",
    "\n",
    "profile = ProfileReport(df_work, title='Pandas Profiling Report', html={'style':{'full_width':True}})\n",
    "profile.to_file(output_file=\"/Users/danoand/Documents/Companies/LambdaSchool/Build_Project_02/data/ChapelHillAccidents.html\")"
   ]
  },
  {
   "cell_type": "code",
   "execution_count": 4,
   "metadata": {},
   "outputs": [],
   "source": [
    "# Define \"ante\" columns (data that can be reasonably known prior to the event)\n",
    "# Notes:\n",
    "#   - removed the lat/long column \n",
    "categories_ante = [\n",
    "    'City',\n",
    "    'County',\n",
    "    'CrashHour',\n",
    "    'CrashMonth',\n",
    "    'Development',\n",
    "    'LightCond',\n",
    "    'Locality',\n",
    "    'NumLanes',\n",
    "    'RdCharacte',\n",
    "    'RdClass',\n",
    "    'RdConditio',\n",
    "    'RdConfig',\n",
    "    'RdDefects',\n",
    "    'RdFeature',\n",
    "    'RdSurface',\n",
    "    'Region',\n",
    "    'RuralUrban',\n",
    "    'SpeedLimit',\n",
    "    'TraffCntrl',\n",
    "    'Weather',\n",
    "    'Workzone',\n",
    "    'PedInjury']        # Source for the target data"
   ]
  },
  {
   "cell_type": "code",
   "execution_count": 5,
   "metadata": {},
   "outputs": [
    {
     "data": {
      "text/html": "<div>\n<style scoped>\n    .dataframe tbody tr th:only-of-type {\n        vertical-align: middle;\n    }\n\n    .dataframe tbody tr th {\n        vertical-align: top;\n    }\n\n    .dataframe thead th {\n        text-align: right;\n    }\n</style>\n<table border=\"1\" class=\"dataframe\">\n  <thead>\n    <tr style=\"text-align: right;\">\n      <th></th>\n      <th>City</th>\n      <th>County</th>\n      <th>CrashHour</th>\n      <th>CrashMonth</th>\n      <th>Development</th>\n      <th>LightCond</th>\n      <th>Locality</th>\n      <th>NumLanes</th>\n      <th>RdCharacte</th>\n      <th>RdClass</th>\n      <th>...</th>\n      <th>RdDefects</th>\n      <th>RdFeature</th>\n      <th>RdSurface</th>\n      <th>Region</th>\n      <th>RuralUrban</th>\n      <th>SpeedLimit</th>\n      <th>TraffCntrl</th>\n      <th>Weather</th>\n      <th>Workzone</th>\n      <th>PedInjury</th>\n    </tr>\n  </thead>\n  <tbody>\n    <tr>\n      <th>3501</th>\n      <td>None - Rural Crash</td>\n      <td>Lenoir</td>\n      <td>1</td>\n      <td>October</td>\n      <td>Farms, Woods, Pastures</td>\n      <td>Dark - Roadway Not Lighted</td>\n      <td>Mixed (30% To 70% Developed)</td>\n      <td>5 lanes</td>\n      <td>Straight - Level</td>\n      <td>US Route</td>\n      <td>...</td>\n      <td>None</td>\n      <td>No Special Feature</td>\n      <td>Smooth Asphalt</td>\n      <td>Coastal</td>\n      <td>Rural</td>\n      <td>40 - 45  MPH</td>\n      <td>No Control Present</td>\n      <td>Clear</td>\n      <td>No</td>\n      <td>A: Suspected Serious Injury</td>\n    </tr>\n    <tr>\n      <th>24013</th>\n      <td>Wilmington</td>\n      <td>New Hanover</td>\n      <td>21</td>\n      <td>September</td>\n      <td>Commercial</td>\n      <td>Dark - Lighted Roadway</td>\n      <td>Urban (&gt;70% Developed)</td>\n      <td>8 lanes</td>\n      <td>Straight - Level</td>\n      <td>Local Street</td>\n      <td>...</td>\n      <td>Other</td>\n      <td>Four-Way Intersection</td>\n      <td>Smooth Asphalt</td>\n      <td>Coastal</td>\n      <td>Urban</td>\n      <td>40 - 45  MPH</td>\n      <td>Stop And Go Signal</td>\n      <td>Clear</td>\n      <td>No</td>\n      <td>C: Possible Injury</td>\n    </tr>\n    <tr>\n      <th>29621</th>\n      <td>Charlotte</td>\n      <td>Mecklenburg</td>\n      <td>21</td>\n      <td>July</td>\n      <td>Commercial</td>\n      <td>Dark - Lighted Roadway</td>\n      <td>Urban (&gt;70% Developed)</td>\n      <td>4 lanes</td>\n      <td>Straight - Level</td>\n      <td>Local Street</td>\n      <td>...</td>\n      <td>None</td>\n      <td>No Special Feature</td>\n      <td>Smooth Asphalt</td>\n      <td>Piedmont</td>\n      <td>Urban</td>\n      <td>40 - 45  MPH</td>\n      <td>No Control Present</td>\n      <td>Clear</td>\n      <td>No</td>\n      <td>B: Suspected Minor Injury</td>\n    </tr>\n    <tr>\n      <th>9805</th>\n      <td>Greensboro</td>\n      <td>Guilford</td>\n      <td>17</td>\n      <td>October</td>\n      <td>Institutional</td>\n      <td>Daylight</td>\n      <td>Urban (&gt;70% Developed)</td>\n      <td>2 lanes</td>\n      <td>Straight - Level</td>\n      <td>Local Street</td>\n      <td>...</td>\n      <td>None</td>\n      <td>Four-Way Intersection</td>\n      <td>Smooth Asphalt</td>\n      <td>Piedmont</td>\n      <td>Urban</td>\n      <td>30 - 35  MPH</td>\n      <td>No Control Present</td>\n      <td>Clear</td>\n      <td>No</td>\n      <td>C: Possible Injury</td>\n    </tr>\n    <tr>\n      <th>32253</th>\n      <td>King</td>\n      <td>Stokes</td>\n      <td>15</td>\n      <td>November</td>\n      <td>Commercial</td>\n      <td>Dusk</td>\n      <td>Urban (&gt;70% Developed)</td>\n      <td>Unknown</td>\n      <td>Straight - Level</td>\n      <td>Public Vehicular Area</td>\n      <td>...</td>\n      <td>None</td>\n      <td>Driveway, Public</td>\n      <td>Smooth Asphalt</td>\n      <td>Piedmont</td>\n      <td>Urban</td>\n      <td>5 - 15 MPH</td>\n      <td>No Control Present</td>\n      <td>Clear</td>\n      <td>No</td>\n      <td>C: Possible Injury</td>\n    </tr>\n    <tr>\n      <th>26780</th>\n      <td>Charlotte</td>\n      <td>Mecklenburg</td>\n      <td>11</td>\n      <td>August</td>\n      <td>Commercial</td>\n      <td>Daylight</td>\n      <td>Mixed (30% To 70% Developed)</td>\n      <td>2 lanes</td>\n      <td>Straight - Level</td>\n      <td>Local Street</td>\n      <td>...</td>\n      <td>None</td>\n      <td>No Special Feature</td>\n      <td>Coarse Asphalt</td>\n      <td>Piedmont</td>\n      <td>Urban</td>\n      <td>30 - 35  MPH</td>\n      <td>No Control Present</td>\n      <td>Clear</td>\n      <td>No</td>\n      <td>B: Suspected Minor Injury</td>\n    </tr>\n    <tr>\n      <th>27309</th>\n      <td>High Point</td>\n      <td>Guilford</td>\n      <td>18</td>\n      <td>December</td>\n      <td>Residential</td>\n      <td>Dark - Roadway Not Lighted</td>\n      <td>Urban (&gt;70% Developed)</td>\n      <td>2 lanes</td>\n      <td>Straight - Level</td>\n      <td>Local Street</td>\n      <td>...</td>\n      <td>None</td>\n      <td>No Special Feature</td>\n      <td>Smooth Asphalt</td>\n      <td>Piedmont</td>\n      <td>Urban</td>\n      <td>30 - 35  MPH</td>\n      <td>No Control Present</td>\n      <td>Clear</td>\n      <td>No</td>\n      <td>B: Suspected Minor Injury</td>\n    </tr>\n    <tr>\n      <th>9630</th>\n      <td>Asheville</td>\n      <td>Buncombe</td>\n      <td>14</td>\n      <td>November</td>\n      <td>Commercial</td>\n      <td>Daylight</td>\n      <td>Urban (&gt;70% Developed)</td>\n      <td>2 lanes</td>\n      <td>Straight - Level</td>\n      <td>Public Vehicular Area</td>\n      <td>...</td>\n      <td>None</td>\n      <td>No Special Feature</td>\n      <td>Smooth Asphalt</td>\n      <td>Mountains</td>\n      <td>Urban</td>\n      <td>Unknown</td>\n      <td>No Control Present</td>\n      <td>Clear</td>\n      <td>No</td>\n      <td>C: Possible Injury</td>\n    </tr>\n    <tr>\n      <th>9945</th>\n      <td>None - Rural Crash</td>\n      <td>Harnett</td>\n      <td>4</td>\n      <td>February</td>\n      <td>Farms, Woods, Pastures</td>\n      <td>Dark - Roadway Not Lighted</td>\n      <td>Rural (&lt;30% Developed)</td>\n      <td>2 lanes</td>\n      <td>Straight - Grade</td>\n      <td>NC Route</td>\n      <td>...</td>\n      <td>None</td>\n      <td>No Special Feature</td>\n      <td>Smooth Asphalt</td>\n      <td>Coastal</td>\n      <td>Rural</td>\n      <td>50 - 55  MPH</td>\n      <td>Double Yellow Line, No Passing Zone</td>\n      <td>Cloudy</td>\n      <td>No</td>\n      <td>K: Killed</td>\n    </tr>\n    <tr>\n      <th>19658</th>\n      <td>Charlotte</td>\n      <td>Mecklenburg</td>\n      <td>6</td>\n      <td>March</td>\n      <td>Residential</td>\n      <td>Dusk</td>\n      <td>Rural (&lt;30% Developed)</td>\n      <td>2 lanes</td>\n      <td>Straight - Level</td>\n      <td>Public Vehicular Area</td>\n      <td>...</td>\n      <td>None</td>\n      <td>No Special Feature</td>\n      <td>Coarse Asphalt</td>\n      <td>Piedmont</td>\n      <td>Urban</td>\n      <td>Unknown</td>\n      <td>No Control Present</td>\n      <td>Other</td>\n      <td>No</td>\n      <td>Unknown Injury</td>\n    </tr>\n  </tbody>\n</table>\n<p>10 rows × 22 columns</p>\n</div>",
      "text/plain": "                     City       County  CrashHour CrashMonth  \\\n3501   None - Rural Crash       Lenoir          1    October   \n24013          Wilmington  New Hanover         21  September   \n29621           Charlotte  Mecklenburg         21       July   \n9805           Greensboro     Guilford         17    October   \n32253                King       Stokes         15   November   \n26780           Charlotte  Mecklenburg         11     August   \n27309          High Point     Guilford         18   December   \n9630            Asheville     Buncombe         14   November   \n9945   None - Rural Crash      Harnett          4   February   \n19658           Charlotte  Mecklenburg          6      March   \n\n                  Development                   LightCond  \\\n3501   Farms, Woods, Pastures  Dark - Roadway Not Lighted   \n24013              Commercial      Dark - Lighted Roadway   \n29621              Commercial      Dark - Lighted Roadway   \n9805            Institutional                    Daylight   \n32253              Commercial                        Dusk   \n26780              Commercial                    Daylight   \n27309             Residential  Dark - Roadway Not Lighted   \n9630               Commercial                    Daylight   \n9945   Farms, Woods, Pastures  Dark - Roadway Not Lighted   \n19658             Residential                        Dusk   \n\n                           Locality NumLanes        RdCharacte  \\\n3501   Mixed (30% To 70% Developed)  5 lanes  Straight - Level   \n24013        Urban (>70% Developed)  8 lanes  Straight - Level   \n29621        Urban (>70% Developed)  4 lanes  Straight - Level   \n9805         Urban (>70% Developed)  2 lanes  Straight - Level   \n32253        Urban (>70% Developed)  Unknown  Straight - Level   \n26780  Mixed (30% To 70% Developed)  2 lanes  Straight - Level   \n27309        Urban (>70% Developed)  2 lanes  Straight - Level   \n9630         Urban (>70% Developed)  2 lanes  Straight - Level   \n9945         Rural (<30% Developed)  2 lanes  Straight - Grade   \n19658        Rural (<30% Developed)  2 lanes  Straight - Level   \n\n                     RdClass  ... RdDefects              RdFeature  \\\n3501                US Route  ...      None     No Special Feature   \n24013           Local Street  ...     Other  Four-Way Intersection   \n29621           Local Street  ...      None     No Special Feature   \n9805            Local Street  ...      None  Four-Way Intersection   \n32253  Public Vehicular Area  ...      None       Driveway, Public   \n26780           Local Street  ...      None     No Special Feature   \n27309           Local Street  ...      None     No Special Feature   \n9630   Public Vehicular Area  ...      None     No Special Feature   \n9945                NC Route  ...      None     No Special Feature   \n19658  Public Vehicular Area  ...      None     No Special Feature   \n\n            RdSurface     Region RuralUrban    SpeedLimit  \\\n3501   Smooth Asphalt    Coastal      Rural  40 - 45  MPH   \n24013  Smooth Asphalt    Coastal      Urban  40 - 45  MPH   \n29621  Smooth Asphalt   Piedmont      Urban  40 - 45  MPH   \n9805   Smooth Asphalt   Piedmont      Urban  30 - 35  MPH   \n32253  Smooth Asphalt   Piedmont      Urban    5 - 15 MPH   \n26780  Coarse Asphalt   Piedmont      Urban  30 - 35  MPH   \n27309  Smooth Asphalt   Piedmont      Urban  30 - 35  MPH   \n9630   Smooth Asphalt  Mountains      Urban       Unknown   \n9945   Smooth Asphalt    Coastal      Rural  50 - 55  MPH   \n19658  Coarse Asphalt   Piedmont      Urban       Unknown   \n\n                                TraffCntrl Weather Workzone  \\\n3501                    No Control Present   Clear       No   \n24013                   Stop And Go Signal   Clear       No   \n29621                   No Control Present   Clear       No   \n9805                    No Control Present   Clear       No   \n32253                   No Control Present   Clear       No   \n26780                   No Control Present   Clear       No   \n27309                   No Control Present   Clear       No   \n9630                    No Control Present   Clear       No   \n9945   Double Yellow Line, No Passing Zone  Cloudy       No   \n19658                   No Control Present   Other       No   \n\n                         PedInjury  \n3501   A: Suspected Serious Injury  \n24013           C: Possible Injury  \n29621    B: Suspected Minor Injury  \n9805            C: Possible Injury  \n32253           C: Possible Injury  \n26780    B: Suspected Minor Injury  \n27309    B: Suspected Minor Injury  \n9630            C: Possible Injury  \n9945                     K: Killed  \n19658               Unknown Injury  \n\n[10 rows x 22 columns]"
     },
     "execution_count": 5,
     "metadata": {},
     "output_type": "execute_result"
    }
   ],
   "source": [
    "# Define a dataframe with \"ante\" data\n",
    "df_ante = df_work[categories_ante]\n",
    "\n",
    "df_ante.sample(10)"
   ]
  },
  {
   "cell_type": "code",
   "execution_count": 6,
   "metadata": {},
   "outputs": [
    {
     "name": "stderr",
     "output_type": "stream",
     "text": "/Users/danoand/anaconda3/lib/python3.7/site-packages/pandas/core/frame.py:4025: SettingWithCopyWarning: \nA value is trying to be set on a copy of a slice from a DataFrame\n\nSee the caveats in the documentation: http://pandas.pydata.org/pandas-docs/stable/indexing.html#indexing-view-versus-copy\n  return super(DataFrame, self).rename(**kwargs)\n"
    }
   ],
   "source": [
    "# Profile the df_ante dataframe\n",
    "from pandas_profiling import ProfileReport\n",
    "\n",
    "profile_ante = ProfileReport(df_ante, title='Pandas Profiling Report', html={'style':{'full_width':True}})\n",
    "profile_ante.to_file(output_file=\"/Users/danoand/Documents/Companies/LambdaSchool/Build_Project_02/data/ChapelHillAccidents_Ante.html\")"
   ]
  },
  {
   "cell_type": "code",
   "execution_count": 7,
   "metadata": {},
   "outputs": [
    {
     "name": "stdout",
     "output_type": "stream",
     "text": "Shape of df_ante_train: (28650, 22); Shape of df_ante_test: (5057, 22)\n"
    }
   ],
   "source": [
    "# Split the data into training, validation, and testing datasets\n",
    "from sklearn.model_selection import train_test_split\n",
    "df_ante_train, df_ante_test = train_test_split(df_ante, train_size=0.85, test_size=0.15, \n",
    "                              stratify=df_ante['PedInjury'], random_state=42)\n",
    "\n",
    "print(f'Shape of df_ante_train: {df_ante_train.shape}; Shape of df_ante_test: {df_ante_test.shape}')"
   ]
  },
  {
   "cell_type": "code",
   "execution_count": 8,
   "metadata": {},
   "outputs": [
    {
     "name": "stdout",
     "output_type": "stream",
     "text": "Shape of df_ante_train: (23593, 22); Shape of df_ante_val: (5057, 22); Shape of df_ante_test: (5057, 22)\n"
    }
   ],
   "source": [
    "# Split the train data into a training subset and a validation subset\n",
    "df_ante_train, df_ante_val = train_test_split(df_ante_train, test_size=len(df_ante_test), \n",
    "                              stratify=df_ante_train['PedInjury'], random_state=42)\n",
    "\n",
    "print(f'Shape of df_ante_train: {df_ante_train.shape}; Shape of df_ante_val: {df_ante_val.shape}; Shape of df_ante_test: {df_ante_test.shape}')"
   ]
  },
  {
   "cell_type": "code",
   "execution_count": 20,
   "metadata": {},
   "outputs": [
    {
     "data": {
      "text/plain": "C: Possible Injury             0.409020\nB: Suspected Minor Injury      0.354597\nA: Suspected Serious Injury    0.072140\nK: Killed                      0.063917\nO: No Injury                   0.059975\nUnknown Injury                 0.040351\nName: PedInjury, dtype: float64"
     },
     "execution_count": 20,
     "metadata": {},
     "output_type": "execute_result"
    }
   ],
   "source": [
    "# Breakdown the target attribute by class value\n",
    "df_ante_train['PedInjury'].value_counts(normalize=True)"
   ]
  },
  {
   "cell_type": "code",
   "execution_count": 9,
   "metadata": {},
   "outputs": [],
   "source": [
    "# Wrangle the modeling data\n",
    "outcome_serious = ['K: Killed', 'A: Suspected Serious Injury']\n",
    "\n",
    "# has_fatality is a function that returns a boolean value if the inbound value represents a serious outcome (True) or not (False)\n",
    "def has_serious_outcome(val):\n",
    "  if (val in outcome_serious): \n",
    "    return True\n",
    "\n",
    "  return False\n",
    "\n",
    "# wrangle returns a dataframe with updated/created columns for a given input dataframe \n",
    "def wrangle(DF):\n",
    "  X = DF.copy()\n",
    "\n",
    "  # Create a boolean target column reflecting an outcome (serious injury or not)\n",
    "  X['ped_serious_outcome'] = X['PedInjury'].apply(has_serious_outcome)\n",
    "\n",
    "  # List columns to be dropped\n",
    "  cols_drop = ['PedInjury'] # PedInjury - use the engineered 'ped_fatality' column\n",
    "\n",
    "  # Drop undesired columns\n",
    "  X = X.drop(columns=cols_drop)\n",
    "\n",
    "  return X"
   ]
  },
  {
   "cell_type": "code",
   "execution_count": 10,
   "metadata": {},
   "outputs": [
    {
     "name": "stdout",
     "output_type": "stream",
     "text": "Shape of df_wrgl_train: (23593, 22); Shape of df_wrgl_val: (5057, 22); Shape of df_wrgl_test: (5057, 22)\n"
    }
   ],
   "source": [
    "# Wrangle the training, validation, and test datasets\n",
    "df_wrgl_train = wrangle(df_ante_train)\n",
    "df_wrgl_val   = wrangle(df_ante_val)\n",
    "df_wrgl_test  = wrangle(df_ante_test)\n",
    "\n",
    "print(f'Shape of df_wrgl_train: {df_wrgl_train.shape}; Shape of df_wrgl_val: {df_wrgl_val.shape}; Shape of df_wrgl_test: {df_wrgl_test.shape}')"
   ]
  },
  {
   "cell_type": "code",
   "execution_count": 11,
   "metadata": {},
   "outputs": [
    {
     "data": {
      "text/html": "<div>\n<style scoped>\n    .dataframe tbody tr th:only-of-type {\n        vertical-align: middle;\n    }\n\n    .dataframe tbody tr th {\n        vertical-align: top;\n    }\n\n    .dataframe thead th {\n        text-align: right;\n    }\n</style>\n<table border=\"1\" class=\"dataframe\">\n  <thead>\n    <tr style=\"text-align: right;\">\n      <th></th>\n      <th>City</th>\n      <th>County</th>\n      <th>CrashHour</th>\n      <th>CrashMonth</th>\n      <th>Development</th>\n      <th>LightCond</th>\n      <th>Locality</th>\n      <th>NumLanes</th>\n      <th>RdCharacte</th>\n      <th>RdClass</th>\n      <th>...</th>\n      <th>RdDefects</th>\n      <th>RdFeature</th>\n      <th>RdSurface</th>\n      <th>Region</th>\n      <th>RuralUrban</th>\n      <th>SpeedLimit</th>\n      <th>TraffCntrl</th>\n      <th>Weather</th>\n      <th>Workzone</th>\n      <th>ped_serious_outcome</th>\n    </tr>\n  </thead>\n  <tbody>\n    <tr>\n      <th>25777</th>\n      <td>Thomasville</td>\n      <td>Davidson</td>\n      <td>20</td>\n      <td>November</td>\n      <td>Residential</td>\n      <td>Dark - Lighted Roadway</td>\n      <td>Urban (&gt;70% Developed)</td>\n      <td>3 lanes</td>\n      <td>Straight - Level</td>\n      <td>Local Street</td>\n      <td>...</td>\n      <td>None</td>\n      <td>T-Intersection</td>\n      <td>Coarse Asphalt</td>\n      <td>Piedmont</td>\n      <td>Urban</td>\n      <td>30 - 35  MPH</td>\n      <td>School Zone Signs</td>\n      <td>Clear</td>\n      <td>No</td>\n      <td>False</td>\n    </tr>\n    <tr>\n      <th>9870</th>\n      <td>Gastonia</td>\n      <td>Gaston</td>\n      <td>14</td>\n      <td>September</td>\n      <td>Commercial</td>\n      <td>Daylight</td>\n      <td>Urban (&gt;70% Developed)</td>\n      <td>Unknown</td>\n      <td>Straight - Grade</td>\n      <td>Public Vehicular Area</td>\n      <td>...</td>\n      <td>None</td>\n      <td>Driveway, Public</td>\n      <td>Grooved Concrete</td>\n      <td>Piedmont</td>\n      <td>Urban</td>\n      <td>Unknown</td>\n      <td>No Control Present</td>\n      <td>Clear</td>\n      <td>No</td>\n      <td>False</td>\n    </tr>\n    <tr>\n      <th>28666</th>\n      <td>Gastonia</td>\n      <td>Gaston</td>\n      <td>19</td>\n      <td>January</td>\n      <td>Commercial</td>\n      <td>Dark - Lighted Roadway</td>\n      <td>Urban (&gt;70% Developed)</td>\n      <td>5 lanes</td>\n      <td>Straight - Level</td>\n      <td>Local Street</td>\n      <td>...</td>\n      <td>None</td>\n      <td>No Special Feature</td>\n      <td>Smooth Asphalt</td>\n      <td>Piedmont</td>\n      <td>Urban</td>\n      <td>30 - 35  MPH</td>\n      <td>No Control Present</td>\n      <td>Clear</td>\n      <td>No</td>\n      <td>False</td>\n    </tr>\n    <tr>\n      <th>7389</th>\n      <td>Raleigh</td>\n      <td>Wake</td>\n      <td>22</td>\n      <td>August</td>\n      <td>Commercial</td>\n      <td>Dusk</td>\n      <td>Mixed (30% To 70% Developed)</td>\n      <td>Unknown</td>\n      <td>Straight - Level</td>\n      <td>Public Vehicular Area</td>\n      <td>...</td>\n      <td>None</td>\n      <td>No Special Feature</td>\n      <td>Smooth Asphalt</td>\n      <td>Piedmont</td>\n      <td>Urban</td>\n      <td>5 - 15 MPH</td>\n      <td>No Control Present</td>\n      <td>Clear</td>\n      <td>No</td>\n      <td>False</td>\n    </tr>\n    <tr>\n      <th>6045</th>\n      <td>Asheville</td>\n      <td>Buncombe</td>\n      <td>8</td>\n      <td>October</td>\n      <td>Commercial</td>\n      <td>Daylight</td>\n      <td>Urban (&gt;70% Developed)</td>\n      <td>1 lane</td>\n      <td>Straight - Level</td>\n      <td>Public Vehicular Area</td>\n      <td>...</td>\n      <td>None</td>\n      <td>Driveway, Public</td>\n      <td>Smooth Asphalt</td>\n      <td>Mountains</td>\n      <td>Urban</td>\n      <td>Unknown</td>\n      <td>No Control Present</td>\n      <td>Clear</td>\n      <td>No</td>\n      <td>False</td>\n    </tr>\n  </tbody>\n</table>\n<p>5 rows × 22 columns</p>\n</div>",
      "text/plain": "              City    County  CrashHour CrashMonth  Development  \\\n25777  Thomasville  Davidson         20   November  Residential   \n9870      Gastonia    Gaston         14  September   Commercial   \n28666     Gastonia    Gaston         19    January   Commercial   \n7389       Raleigh      Wake         22     August   Commercial   \n6045     Asheville  Buncombe          8    October   Commercial   \n\n                    LightCond                      Locality NumLanes  \\\n25777  Dark - Lighted Roadway        Urban (>70% Developed)  3 lanes   \n9870                 Daylight        Urban (>70% Developed)  Unknown   \n28666  Dark - Lighted Roadway        Urban (>70% Developed)  5 lanes   \n7389                     Dusk  Mixed (30% To 70% Developed)  Unknown   \n6045                 Daylight        Urban (>70% Developed)   1 lane   \n\n             RdCharacte                RdClass  ... RdDefects  \\\n25777  Straight - Level           Local Street  ...      None   \n9870   Straight - Grade  Public Vehicular Area  ...      None   \n28666  Straight - Level           Local Street  ...      None   \n7389   Straight - Level  Public Vehicular Area  ...      None   \n6045   Straight - Level  Public Vehicular Area  ...      None   \n\n                RdFeature         RdSurface     Region RuralUrban  \\\n25777      T-Intersection    Coarse Asphalt   Piedmont      Urban   \n9870     Driveway, Public  Grooved Concrete   Piedmont      Urban   \n28666  No Special Feature    Smooth Asphalt   Piedmont      Urban   \n7389   No Special Feature    Smooth Asphalt   Piedmont      Urban   \n6045     Driveway, Public    Smooth Asphalt  Mountains      Urban   \n\n         SpeedLimit          TraffCntrl Weather Workzone ped_serious_outcome  \n25777  30 - 35  MPH   School Zone Signs   Clear       No               False  \n9870        Unknown  No Control Present   Clear       No               False  \n28666  30 - 35  MPH  No Control Present   Clear       No               False  \n7389     5 - 15 MPH  No Control Present   Clear       No               False  \n6045        Unknown  No Control Present   Clear       No               False  \n\n[5 rows x 22 columns]"
     },
     "execution_count": 11,
     "metadata": {},
     "output_type": "execute_result"
    }
   ],
   "source": [
    "df_wrgl_train.sample(5)"
   ]
  },
  {
   "cell_type": "code",
   "execution_count": 13,
   "metadata": {},
   "outputs": [],
   "source": [
    "# Construct the modeling datasets\n",
    "target = 'ped_serious_outcome'\n",
    "X_train = df_wrgl_train.drop(columns=target)\n",
    "y_train = df_wrgl_train[target]\n",
    "\n",
    "X_val   = df_wrgl_val.drop(columns=target)\n",
    "y_val   = df_wrgl_val[target]\n",
    "\n",
    "X_test  = df_wrgl_test.drop(columns=target)\n",
    "y_test  = df_wrgl_test[target]"
   ]
  },
  {
   "cell_type": "code",
   "execution_count": 14,
   "metadata": {},
   "outputs": [
    {
     "name": "stdout",
     "output_type": "stream",
     "text": "Baseline prediction score for the training set is: 0.7698\n"
    }
   ],
   "source": [
    "# Create a baseline prediction using a dummy classifier\n",
    "from sklearn.dummy import DummyClassifier\n",
    "clfr_dummy = DummyClassifier(strategy=\"stratified\")\n",
    "\n",
    "clfr_dummy.fit(X_train, y_train)\n",
    "clfr_dummy.predict(X_train)\n",
    "\n",
    "print(f'Baseline prediction score for the training set is: {round(clfr_dummy.score(X_train, y_train), 4)}')"
   ]
  },
  {
   "cell_type": "code",
   "execution_count": 16,
   "metadata": {},
   "outputs": [
    {
     "name": "stderr",
     "output_type": "stream",
     "text": "/Users/danoand/anaconda3/lib/python3.7/site-packages/sklearn/ensemble/forest.py:245: FutureWarning: The default value of n_estimators will change from 10 in version 0.20 to 100 in 0.22.\n  \"10 in version 0.20 to 100 in 0.22.\", FutureWarning)\n"
    },
    {
     "data": {
      "text/plain": "Pipeline(memory=None,\n         steps=[('ordinalencoder',\n                 OrdinalEncoder(cols=['City', 'County', 'CrashMonth',\n                                      'Development', 'LightCond', 'Locality',\n                                      'NumLanes', 'RdCharacte', 'RdClass',\n                                      'RdConditio', 'RdConfig', 'RdDefects',\n                                      'RdFeature', 'RdSurface', 'Region',\n                                      'RuralUrban', 'SpeedLimit', 'TraffCntrl',\n                                      'Weather', 'Workzone'],\n                                drop_invariant=False, handle_missing='value',\n                                handle_un...\n                ('randomforestclassifier',\n                 RandomForestClassifier(bootstrap=True, class_weight=None,\n                                        criterion='gini', max_depth=None,\n                                        max_features='auto',\n                                        max_leaf_nodes=None,\n                                        min_impurity_decrease=0.0,\n                                        min_impurity_split=None,\n                                        min_samples_leaf=1, min_samples_split=2,\n                                        min_weight_fraction_leaf=0.0,\n                                        n_estimators=10, n_jobs=-1,\n                                        oob_score=False, random_state=42,\n                                        verbose=0, warm_start=False))],\n         verbose=False)"
     },
     "execution_count": 16,
     "metadata": {},
     "output_type": "execute_result"
    }
   ],
   "source": [
    "import category_encoders as ce \n",
    "from sklearn.ensemble import RandomForestClassifier\n",
    "from sklearn.pipeline import make_pipeline\n",
    "\n",
    "# Construct a modeling pipeline\n",
    "pipeline = make_pipeline(\n",
    "    ce.OrdinalEncoder(),\n",
    "    RandomForestClassifier(n_jobs=-1, random_state=42)\n",
    ")\n",
    "\n",
    "# Fit the pipeline to the training dataset\n",
    "pipeline.fit(X_train, y_train)"
   ]
  },
  {
   "cell_type": "code",
   "execution_count": 17,
   "metadata": {},
   "outputs": [
    {
     "name": "stdout",
     "output_type": "stream",
     "text": "Validation Accuracy: 0.86138\n"
    }
   ],
   "source": [
    "# Determine the validation dataset's accuracy\n",
    "print(f'Validation Accuracy: {round(pipeline.score(X_val, y_val), 5)}')"
   ]
  },
  {
   "cell_type": "code",
   "execution_count": null,
   "metadata": {},
   "outputs": [],
   "source": []
  }
 ],
 "metadata": {
  "kernelspec": {
   "display_name": "Python 3",
   "language": "python",
   "name": "python3"
  },
  "language_info": {
   "codemirror_mode": {
    "name": "ipython",
    "version": 3
   },
   "file_extension": ".py",
   "mimetype": "text/x-python",
   "name": "python",
   "nbconvert_exporter": "python",
   "pygments_lexer": "ipython3",
   "version": "3.7.4-final"
  }
 },
 "nbformat": 4,
 "nbformat_minor": 2
}