{
  "nbformat": 4,
  "nbformat_minor": 0,
  "metadata": {
    "kernelspec": {
      "display_name": "Python 3",
      "language": "python",
      "name": "python3"
    },
    "language_info": {
      "codemirror_mode": {
        "name": "ipython",
        "version": 3
      },
      "file_extension": ".py",
      "mimetype": "text/x-python",
      "name": "python",
      "nbconvert_exporter": "python",
      "pygments_lexer": "ipython3",
      "version": "3.7.3-final"
    },
    "colab": {
      "name": "Chapel_Hill_Vehicle_Pedestrian_Accidents.ipynb",
      "provenance": [],
      "collapsed_sections": []
    }
  },
  "cells": [
    {
      "cell_type": "code",
      "metadata": {
        "id": "E97gDChX_fHO",
        "colab_type": "code",
        "colab": {}
      },
      "source": [
        "import pandas as pd\n",
        "import numpy as np"
      ],
      "execution_count": 0,
      "outputs": []
    },
    {
      "cell_type": "code",
      "metadata": {
        "id": "hDW56jg5_fHk",
        "colab_type": "code",
        "colab": {}
      },
      "source": [
        "# Import the Chapel Hill data\n",
        "df_work = pd.read_csv(\"pedestrian-crashes-chapel-hill-region_imported.txt\",\n",
        "                     sep='\\t')\n",
        "\n",
        "# df_work = pd.read_csv(\"/Users/danoand/Documents/Companies/LambdaSchool/Build_Project_02/data/pedestrian-crashes-chapel-hill-region_imported.txt\",\n",
        "#                    sep='\\t')"
      ],
      "execution_count": 0,
      "outputs": []
    },
    {
      "cell_type": "code",
      "metadata": {
        "id": "qhDyk_Uu_fIM",
        "colab_type": "code",
        "colab": {}
      },
      "source": [
        "# Profile the \"work\" dataframe\n",
        "from pandas_profiling import ProfileReport\n",
        "\n",
        "profile = ProfileReport(df_work, title='Pandas Profiling Report', html={'style':{'full_width':True}})\n",
        "profile.to_file(output_file=\"/Users/danoand/Documents/Companies/LambdaSchool/Build_Project_02/data/ChapelHillAccidents.html\")"
      ],
      "execution_count": 0,
      "outputs": []
    },
    {
      "cell_type": "code",
      "metadata": {
        "id": "e_HjF7ZY_fIT",
        "colab_type": "code",
        "colab": {}
      },
      "source": [
        "# Define \"ante\" columns (data that can be reasonably known prior to the event)\n",
        "# Notes:\n",
        "#   - removed the lat/long column \n",
        "categories_ante = [\n",
        "    'City',\n",
        "    'County',\n",
        "    'CrashHour',\n",
        "    'CrashMonth',\n",
        "    'Development',\n",
        "    'LightCond',\n",
        "    'Locality',\n",
        "    'NumLanes',\n",
        "    'RdCharacte',\n",
        "    'RdClass',\n",
        "    'RdConditio',\n",
        "    'RdConfig',\n",
        "    'RdDefects',\n",
        "    'RdFeature',\n",
        "    'RdSurface',\n",
        "    'Region',\n",
        "    'RuralUrban',\n",
        "    'SpeedLimit',\n",
        "    'TraffCntrl',\n",
        "    'Weather',\n",
        "    'Workzone',\n",
        "    'PedInjury']        # Source for the target data"
      ],
      "execution_count": 0,
      "outputs": []
    },
    {
      "cell_type": "code",
      "metadata": {
        "id": "USwoXO_h_fIZ",
        "colab_type": "code",
        "colab": {
          "base_uri": "https://localhost:8080/",
          "height": 804
        },
        "outputId": "938a73cf-8cd6-484c-de54-4fa8b24621da"
      },
      "source": [
        "# Define a dataframe with \"ante\" data\n",
        "df_ante = df_work[categories_ante]\n",
        "\n",
        "df_ante.sample(10)"
      ],
      "execution_count": 79,
      "outputs": [
        {
          "output_type": "execute_result",
          "data": {
            "text/html": [
              "<div>\n",
              "<style scoped>\n",
              "    .dataframe tbody tr th:only-of-type {\n",
              "        vertical-align: middle;\n",
              "    }\n",
              "\n",
              "    .dataframe tbody tr th {\n",
              "        vertical-align: top;\n",
              "    }\n",
              "\n",
              "    .dataframe thead th {\n",
              "        text-align: right;\n",
              "    }\n",
              "</style>\n",
              "<table border=\"1\" class=\"dataframe\">\n",
              "  <thead>\n",
              "    <tr style=\"text-align: right;\">\n",
              "      <th></th>\n",
              "      <th>City</th>\n",
              "      <th>County</th>\n",
              "      <th>CrashHour</th>\n",
              "      <th>CrashMonth</th>\n",
              "      <th>Development</th>\n",
              "      <th>LightCond</th>\n",
              "      <th>Locality</th>\n",
              "      <th>NumLanes</th>\n",
              "      <th>RdCharacte</th>\n",
              "      <th>RdClass</th>\n",
              "      <th>RdConditio</th>\n",
              "      <th>RdConfig</th>\n",
              "      <th>RdDefects</th>\n",
              "      <th>RdFeature</th>\n",
              "      <th>RdSurface</th>\n",
              "      <th>Region</th>\n",
              "      <th>RuralUrban</th>\n",
              "      <th>SpeedLimit</th>\n",
              "      <th>TraffCntrl</th>\n",
              "      <th>Weather</th>\n",
              "      <th>Workzone</th>\n",
              "      <th>PedInjury</th>\n",
              "    </tr>\n",
              "  </thead>\n",
              "  <tbody>\n",
              "    <tr>\n",
              "      <th>22839</th>\n",
              "      <td>Raleigh</td>\n",
              "      <td>Wake</td>\n",
              "      <td>17</td>\n",
              "      <td>June</td>\n",
              "      <td>Commercial</td>\n",
              "      <td>Daylight</td>\n",
              "      <td>Urban (&gt;70% Developed)</td>\n",
              "      <td>2 lanes</td>\n",
              "      <td>Straight - Level</td>\n",
              "      <td>Public Vehicular Area</td>\n",
              "      <td>Dry</td>\n",
              "      <td>Two-Way, Not Divided</td>\n",
              "      <td>None</td>\n",
              "      <td>No Special Feature</td>\n",
              "      <td>Smooth Asphalt</td>\n",
              "      <td>Piedmont</td>\n",
              "      <td>Urban</td>\n",
              "      <td>5 - 15 MPH</td>\n",
              "      <td>No Control Present</td>\n",
              "      <td>Clear</td>\n",
              "      <td>No</td>\n",
              "      <td>B: Suspected Minor Injury</td>\n",
              "    </tr>\n",
              "    <tr>\n",
              "      <th>4757</th>\n",
              "      <td>Charlotte</td>\n",
              "      <td>Mecklenburg</td>\n",
              "      <td>6</td>\n",
              "      <td>November</td>\n",
              "      <td>Commercial</td>\n",
              "      <td>Dark - Lighted Roadway</td>\n",
              "      <td>Urban (&gt;70% Developed)</td>\n",
              "      <td>Unknown</td>\n",
              "      <td>Straight - Grade</td>\n",
              "      <td>Public Vehicular Area</td>\n",
              "      <td>Dry</td>\n",
              "      <td>Two-Way, Not Divided</td>\n",
              "      <td>None</td>\n",
              "      <td>Driveway, Public</td>\n",
              "      <td>Coarse Asphalt</td>\n",
              "      <td>Piedmont</td>\n",
              "      <td>Urban</td>\n",
              "      <td>20 - 25  MPH</td>\n",
              "      <td>No Control Present</td>\n",
              "      <td>Clear</td>\n",
              "      <td>No</td>\n",
              "      <td>B: Suspected Minor Injury</td>\n",
              "    </tr>\n",
              "    <tr>\n",
              "      <th>25563</th>\n",
              "      <td>None - Rural Crash</td>\n",
              "      <td>Orange</td>\n",
              "      <td>14</td>\n",
              "      <td>July</td>\n",
              "      <td>Farms, Woods, Pastures</td>\n",
              "      <td>Daylight</td>\n",
              "      <td>Rural (&lt;30% Developed)</td>\n",
              "      <td>2 lanes</td>\n",
              "      <td>Straight - Grade</td>\n",
              "      <td>Interstate</td>\n",
              "      <td>Wet</td>\n",
              "      <td>Two-Way, Divided, Positive Median Barrier</td>\n",
              "      <td>Obstruction In Roadway</td>\n",
              "      <td>No Special Feature</td>\n",
              "      <td>Grooved Concrete</td>\n",
              "      <td>Piedmont</td>\n",
              "      <td>Rural</td>\n",
              "      <td>60 - 75 MPH</td>\n",
              "      <td>No Control Present</td>\n",
              "      <td>Rain</td>\n",
              "      <td>No</td>\n",
              "      <td>B: Suspected Minor Injury</td>\n",
              "    </tr>\n",
              "    <tr>\n",
              "      <th>21623</th>\n",
              "      <td>Lillington</td>\n",
              "      <td>Harnett</td>\n",
              "      <td>13</td>\n",
              "      <td>August</td>\n",
              "      <td>Commercial</td>\n",
              "      <td>Daylight</td>\n",
              "      <td>Mixed (30% To 70% Developed)</td>\n",
              "      <td>4 lanes</td>\n",
              "      <td>Straight - Level</td>\n",
              "      <td>Local Street</td>\n",
              "      <td>Dry</td>\n",
              "      <td>Two-Way, Not Divided</td>\n",
              "      <td>None</td>\n",
              "      <td>Four-Way Intersection</td>\n",
              "      <td>Smooth Asphalt</td>\n",
              "      <td>Coastal</td>\n",
              "      <td>Rural</td>\n",
              "      <td>20 - 25  MPH</td>\n",
              "      <td>Stop And Go Signal</td>\n",
              "      <td>Clear</td>\n",
              "      <td>No</td>\n",
              "      <td>A: Suspected Serious Injury</td>\n",
              "    </tr>\n",
              "    <tr>\n",
              "      <th>4215</th>\n",
              "      <td>Charlotte</td>\n",
              "      <td>Mecklenburg</td>\n",
              "      <td>16</td>\n",
              "      <td>September</td>\n",
              "      <td>Farms, Woods, Pastures</td>\n",
              "      <td>Daylight</td>\n",
              "      <td>Rural (&lt;30% Developed)</td>\n",
              "      <td>2 lanes</td>\n",
              "      <td>Straight - Hillcrest</td>\n",
              "      <td>Public Vehicular Area</td>\n",
              "      <td>Dry</td>\n",
              "      <td>Two-Way, Not Divided</td>\n",
              "      <td>None</td>\n",
              "      <td>No Special Feature</td>\n",
              "      <td>Smooth Asphalt</td>\n",
              "      <td>Piedmont</td>\n",
              "      <td>Urban</td>\n",
              "      <td>20 - 25  MPH</td>\n",
              "      <td>No Control Present</td>\n",
              "      <td>Cloudy</td>\n",
              "      <td>No</td>\n",
              "      <td>C: Possible Injury</td>\n",
              "    </tr>\n",
              "    <tr>\n",
              "      <th>8436</th>\n",
              "      <td>None - Rural Crash</td>\n",
              "      <td>Gaston</td>\n",
              "      <td>20</td>\n",
              "      <td>November</td>\n",
              "      <td>Farms, Woods, Pastures</td>\n",
              "      <td>Dark - Roadway Not Lighted</td>\n",
              "      <td>Rural (&lt;30% Developed)</td>\n",
              "      <td>2 lanes</td>\n",
              "      <td>Straight - Grade</td>\n",
              "      <td>NC Route</td>\n",
              "      <td>Dry</td>\n",
              "      <td>Two-Way, Not Divided</td>\n",
              "      <td>None</td>\n",
              "      <td>No Special Feature</td>\n",
              "      <td>Smooth Asphalt</td>\n",
              "      <td>Piedmont</td>\n",
              "      <td>Rural</td>\n",
              "      <td>40 - 45  MPH</td>\n",
              "      <td>Double Yellow Line, No Passing Zone</td>\n",
              "      <td>Clear</td>\n",
              "      <td>No</td>\n",
              "      <td>C: Possible Injury</td>\n",
              "    </tr>\n",
              "    <tr>\n",
              "      <th>28041</th>\n",
              "      <td>Monroe</td>\n",
              "      <td>Union</td>\n",
              "      <td>22</td>\n",
              "      <td>December</td>\n",
              "      <td>Residential</td>\n",
              "      <td>Dark - Lighted Roadway</td>\n",
              "      <td>Urban (&gt;70% Developed)</td>\n",
              "      <td>2 lanes</td>\n",
              "      <td>Straight - Level</td>\n",
              "      <td>Local Street</td>\n",
              "      <td>Dry</td>\n",
              "      <td>Two-Way, Not Divided</td>\n",
              "      <td>None</td>\n",
              "      <td>Four-Way Intersection</td>\n",
              "      <td>Smooth Asphalt</td>\n",
              "      <td>Piedmont</td>\n",
              "      <td>Urban</td>\n",
              "      <td>30 - 35  MPH</td>\n",
              "      <td>Stop Sign</td>\n",
              "      <td>Clear</td>\n",
              "      <td>No</td>\n",
              "      <td>C: Possible Injury</td>\n",
              "    </tr>\n",
              "    <tr>\n",
              "      <th>18346</th>\n",
              "      <td>Greenville</td>\n",
              "      <td>Pitt</td>\n",
              "      <td>13</td>\n",
              "      <td>May</td>\n",
              "      <td>Commercial</td>\n",
              "      <td>Daylight</td>\n",
              "      <td>Urban (&gt;70% Developed)</td>\n",
              "      <td>2 lanes</td>\n",
              "      <td>Straight - Level</td>\n",
              "      <td>Local Street</td>\n",
              "      <td>Dry</td>\n",
              "      <td>Two-Way, Divided, Unprotected Median</td>\n",
              "      <td>None</td>\n",
              "      <td>T-Intersection</td>\n",
              "      <td>Coarse Asphalt</td>\n",
              "      <td>Coastal</td>\n",
              "      <td>Urban</td>\n",
              "      <td>30 - 35  MPH</td>\n",
              "      <td>Stop Sign</td>\n",
              "      <td>Clear</td>\n",
              "      <td>No</td>\n",
              "      <td>B: Suspected Minor Injury</td>\n",
              "    </tr>\n",
              "    <tr>\n",
              "      <th>9168</th>\n",
              "      <td>Raleigh</td>\n",
              "      <td>Wake</td>\n",
              "      <td>8</td>\n",
              "      <td>October</td>\n",
              "      <td>Residential</td>\n",
              "      <td>Daylight</td>\n",
              "      <td>Urban (&gt;70% Developed)</td>\n",
              "      <td>4 lanes</td>\n",
              "      <td>Straight - Level</td>\n",
              "      <td>Local Street</td>\n",
              "      <td>Dry</td>\n",
              "      <td>Two-Way, Not Divided</td>\n",
              "      <td>None</td>\n",
              "      <td>Four-Way Intersection</td>\n",
              "      <td>Coarse Asphalt</td>\n",
              "      <td>Piedmont</td>\n",
              "      <td>Urban</td>\n",
              "      <td>40 - 45  MPH</td>\n",
              "      <td>No Control Present</td>\n",
              "      <td>Clear</td>\n",
              "      <td>No</td>\n",
              "      <td>B: Suspected Minor Injury</td>\n",
              "    </tr>\n",
              "    <tr>\n",
              "      <th>31582</th>\n",
              "      <td>Greensboro</td>\n",
              "      <td>Guilford</td>\n",
              "      <td>11</td>\n",
              "      <td>September</td>\n",
              "      <td>Commercial</td>\n",
              "      <td>Daylight</td>\n",
              "      <td>Urban (&gt;70% Developed)</td>\n",
              "      <td>2 lanes</td>\n",
              "      <td>Straight - Level</td>\n",
              "      <td>Local Street</td>\n",
              "      <td>Dry</td>\n",
              "      <td>Two-Way, Not Divided</td>\n",
              "      <td>None</td>\n",
              "      <td>Driveway, Private</td>\n",
              "      <td>Smooth Asphalt</td>\n",
              "      <td>Piedmont</td>\n",
              "      <td>Urban</td>\n",
              "      <td>20 - 25  MPH</td>\n",
              "      <td>No Control Present</td>\n",
              "      <td>Clear</td>\n",
              "      <td>No</td>\n",
              "      <td>C: Possible Injury</td>\n",
              "    </tr>\n",
              "  </tbody>\n",
              "</table>\n",
              "</div>"
            ],
            "text/plain": [
              "                     City       County  ...  Workzone                    PedInjury\n",
              "22839             Raleigh         Wake  ...        No    B: Suspected Minor Injury\n",
              "4757            Charlotte  Mecklenburg  ...        No    B: Suspected Minor Injury\n",
              "25563  None - Rural Crash       Orange  ...        No    B: Suspected Minor Injury\n",
              "21623          Lillington      Harnett  ...        No  A: Suspected Serious Injury\n",
              "4215            Charlotte  Mecklenburg  ...        No           C: Possible Injury\n",
              "8436   None - Rural Crash       Gaston  ...        No           C: Possible Injury\n",
              "28041              Monroe        Union  ...        No           C: Possible Injury\n",
              "18346          Greenville         Pitt  ...        No    B: Suspected Minor Injury\n",
              "9168              Raleigh         Wake  ...        No    B: Suspected Minor Injury\n",
              "31582          Greensboro     Guilford  ...        No           C: Possible Injury\n",
              "\n",
              "[10 rows x 22 columns]"
            ]
          },
          "metadata": {
            "tags": []
          },
          "execution_count": 79
        }
      ]
    },
    {
      "cell_type": "code",
      "metadata": {
        "id": "swecKesvC2CR",
        "colab_type": "code",
        "colab": {
          "base_uri": "https://localhost:8080/",
          "height": 51
        },
        "outputId": "2cc5e33d-a3a3-43fa-c219-8f5ebeb95428"
      },
      "source": [
        "df_ante['CrashHour'].unique()"
      ],
      "execution_count": 80,
      "outputs": [
        {
          "output_type": "execute_result",
          "data": {
            "text/plain": [
              "array([22,  8, 19, 13, 15, 20, 14,  7, 18, 10, 16, 11, 12,  6, 21,  9,  5,\n",
              "        0, 17,  2, 23,  1,  4,  3])"
            ]
          },
          "metadata": {
            "tags": []
          },
          "execution_count": 80
        }
      ]
    },
    {
      "cell_type": "code",
      "metadata": {
        "id": "EJjq1GfJ_fIm",
        "colab_type": "code",
        "colab": {}
      },
      "source": [
        "# Display some exploratory plots\n",
        "import matplotlib.pyplot as plt\n",
        "\n",
        "tmp_outcm = df_ante['PedInjury'].replace({\n",
        "    \"K: Killed\": \"Death or Serious Injury\",\n",
        "    \"Unknown Injury\": \"Unknown\",\n",
        "    \"C: Possible Injury\": \"Possible Injury\",\n",
        "    \"B: Suspected Minor Injury\": \"Minor Injury\",\n",
        "    \"O: No Injury\": \"No Injury\",\n",
        "    \"A: Suspected Serious Injury\": \"Death or Serious Injury\"})\n",
        "\n",
        "tmp_wthr = df_ante['Weather'].replace({\n",
        "    \"Snow, Sleet, Hail, Freezing Rain/Drizzle\": \"Snow/Mix\",\n",
        "    \"Fog, Smog, Smoke\": \"Fog/Smog\"})\n",
        "\n",
        "tmp_wthr.fillna(\"Other\", inplace=True)\n",
        "\n",
        "tmp_hour = df_ante['CrashHour']"
      ],
      "execution_count": 0,
      "outputs": []
    },
    {
      "cell_type": "code",
      "metadata": {
        "id": "WJKSx_a1THJO",
        "colab_type": "code",
        "colab": {
          "base_uri": "https://localhost:8080/",
          "height": 119
        },
        "outputId": "25339da1-bec1-403e-a705-e6d86eadbe5e"
      },
      "source": [
        "tmp_outcm.value_counts()"
      ],
      "execution_count": 82,
      "outputs": [
        {
          "output_type": "execute_result",
          "data": {
            "text/plain": [
              "Possible Injury            13787\n",
              "Minor Injury               11952\n",
              "Death or Serious Injury     4587\n",
              "No Injury                   2021\n",
              "Unknown                     1360\n",
              "Name: PedInjury, dtype: int64"
            ]
          },
          "metadata": {
            "tags": []
          },
          "execution_count": 82
        }
      ]
    },
    {
      "cell_type": "code",
      "metadata": {
        "id": "T8VipCymANna",
        "colab_type": "code",
        "colab": {
          "base_uri": "https://localhost:8080/",
          "height": 607
        },
        "outputId": "de2b2156-628f-48de-938d-73547e4c1c64"
      },
      "source": [
        "plt.figure(figsize=(10, 10))\n",
        "plt.title(f'Pedestrian Outcomes')\n",
        "\n",
        "plt.grid(True)\n",
        "plt.hist(tmp_outcm);"
      ],
      "execution_count": 83,
      "outputs": [
        {
          "output_type": "display_data",
          "data": {
            "image/png": "[encoded data removed]",
            "text/plain": [
              "<Figure size 720x720 with 1 Axes>"
            ]
          },
          "metadata": {
            "tags": []
          }
        }
      ]
    },
    {
      "cell_type": "code",
      "metadata": {
        "id": "pko7jTT2LeuL",
        "colab_type": "code",
        "colab": {
          "base_uri": "https://localhost:8080/",
          "height": 235
        },
        "outputId": "acf0204e-26ac-4b57-cbc5-7edcbf122735"
      },
      "source": [
        "tmp_df_wthr_outc = pd.DataFrame({\"Weather\": tmp_wthr, \"Outcome\": tmp_outcm})\n",
        "\n",
        "tmp_srs_killed_by_weather = tmp_df_wthr_outc[tmp_df_wthr_outc['Outcome']=='Death or Serious Injury']['Weather'].value_counts()\n",
        "\n",
        "pd.DataFrame(tmp_srs_killed_by_weather)"
      ],
      "execution_count": 84,
      "outputs": [
        {
          "output_type": "execute_result",
          "data": {
            "text/html": [
              "<div>\n",
              "<style scoped>\n",
              "    .dataframe tbody tr th:only-of-type {\n",
              "        vertical-align: middle;\n",
              "    }\n",
              "\n",
              "    .dataframe tbody tr th {\n",
              "        vertical-align: top;\n",
              "    }\n",
              "\n",
              "    .dataframe thead th {\n",
              "        text-align: right;\n",
              "    }\n",
              "</style>\n",
              "<table border=\"1\" class=\"dataframe\">\n",
              "  <thead>\n",
              "    <tr style=\"text-align: right;\">\n",
              "      <th></th>\n",
              "      <th>Weather</th>\n",
              "    </tr>\n",
              "  </thead>\n",
              "  <tbody>\n",
              "    <tr>\n",
              "      <th>Clear</th>\n",
              "      <td>3474</td>\n",
              "    </tr>\n",
              "    <tr>\n",
              "      <th>Cloudy</th>\n",
              "      <td>691</td>\n",
              "    </tr>\n",
              "    <tr>\n",
              "      <th>Rain</th>\n",
              "      <td>346</td>\n",
              "    </tr>\n",
              "    <tr>\n",
              "      <th>Fog/Smog</th>\n",
              "      <td>48</td>\n",
              "    </tr>\n",
              "    <tr>\n",
              "      <th>Snow/Mix</th>\n",
              "      <td>17</td>\n",
              "    </tr>\n",
              "    <tr>\n",
              "      <th>Other</th>\n",
              "      <td>11</td>\n",
              "    </tr>\n",
              "  </tbody>\n",
              "</table>\n",
              "</div>"
            ],
            "text/plain": [
              "          Weather\n",
              "Clear        3474\n",
              "Cloudy        691\n",
              "Rain          346\n",
              "Fog/Smog       48\n",
              "Snow/Mix       17\n",
              "Other          11"
            ]
          },
          "metadata": {
            "tags": []
          },
          "execution_count": 84
        }
      ]
    },
    {
      "cell_type": "code",
      "metadata": {
        "id": "PYMCQQYxfXir",
        "colab_type": "code",
        "colab": {
          "base_uri": "https://localhost:8080/",
          "height": 328
        },
        "outputId": "facc11b5-4bfe-4a41-9a98-1f4c1817a74d"
      },
      "source": [
        "labels = list(tmp_srs_killed_by_weather.index)\n",
        "counts = list(tmp_srs_killed_by_weather)\n",
        "\n",
        "patches, texts = plt.pie(counts, startangle=90)\n",
        "plt.legend(patches, labels, loc=\"best\")\n",
        "\n",
        "# Set aspect ratio to be equal so that pie is drawn as a circle.\n",
        "plt.axis('equal')\n",
        "plt.tight_layout()\n",
        "plt.title('Pedestrian Deaths/Serious Injures by\\nWeather Type')\n",
        "plt.show()"
      ],
      "execution_count": 85,
      "outputs": [
        {
          "output_type": "display_data",
          "data": {
            "image/png": "[encoded data removed]",
            "text/plain": [
              "<Figure size 432x288 with 1 Axes>"
            ]
          },
          "metadata": {
            "tags": []
          }
        }
      ]
    },
    {
      "cell_type": "code",
      "metadata": {
        "id": "qV_xzKCjn898",
        "colab_type": "code",
        "colab": {}
      },
      "source": [
        "tmp_dict = {}\n",
        "\n",
        "# count_badoutcomes_by_hour tallies up the deaths/serious injuries by hour and\n",
        "#   stores those counts in a pyton dict\n",
        "def count_badoutcomes_by_hour(row):\n",
        "  if row['Outcome'] == \"Death or Serious Injury\":\n",
        "    key = row['Hour']\n",
        "    if key in tmp_dict:\n",
        "      tmp_dict[key] = tmp_dict[key] + 1\n",
        "\n",
        "    if not(key in tmp_dict):\n",
        "      tmp_dict[key] = 0\n",
        "\n",
        "  return\n",
        "  "
      ],
      "execution_count": 0,
      "outputs": []
    },
    {
      "cell_type": "code",
      "metadata": {
        "id": "XdbS93eQvrdp",
        "colab_type": "code",
        "colab": {
          "base_uri": "https://localhost:8080/",
          "height": 425
        },
        "outputId": "2cf90a69-a484-4c7b-9769-9a6cea91ef84"
      },
      "source": [
        "df_tmp_wth_hour_otcm = pd.DataFrame({\n",
        "    \"Weather\": tmp_wthr,\n",
        "    \"Hour\": tmp_hour,\n",
        "    \"Outcome\": tmp_outcm})\n",
        "\n",
        "tmp_dict_hour_bad_otcms = df_tmp_wth_hour_otcm.apply(count_badoutcomes_by_hour, axis=1)\n",
        "\n",
        "tmp_dict"
      ],
      "execution_count": 88,
      "outputs": [
        {
          "output_type": "execute_result",
          "data": {
            "text/plain": [
              "{0: 160,\n",
              " 1: 158,\n",
              " 2: 172,\n",
              " 3: 107,\n",
              " 4: 108,\n",
              " 5: 159,\n",
              " 6: 175,\n",
              " 7: 142,\n",
              " 8: 108,\n",
              " 9: 77,\n",
              " 10: 76,\n",
              " 11: 111,\n",
              " 12: 107,\n",
              " 13: 137,\n",
              " 14: 125,\n",
              " 15: 172,\n",
              " 16: 148,\n",
              " 17: 241,\n",
              " 18: 311,\n",
              " 19: 374,\n",
              " 20: 406,\n",
              " 21: 429,\n",
              " 22: 330,\n",
              " 23: 230}"
            ]
          },
          "metadata": {
            "tags": []
          },
          "execution_count": 88
        }
      ]
    },
    {
      "cell_type": "code",
      "metadata": {
        "id": "41z_DBApzimC",
        "colab_type": "code",
        "colab": {
          "base_uri": "https://localhost:8080/",
          "height": 793
        },
        "outputId": "d4087929-65bb-4dbe-c63f-08f513b2663f"
      },
      "source": [
        "df_temp_hour_badotcm_count = pd.DataFrame(columns=['Hour', 'BadCount'])\n",
        "for item in tmp_dict.items():\n",
        "    df_temp_hour_badotcm_count = df_temp_hour_badotcm_count.append({'Hour': item[0], 'BadCount': item[1]}, ignore_index=True)\n",
        "\n",
        "df_temp_hour_badotcm_count"
      ],
      "execution_count": 94,
      "outputs": [
        {
          "output_type": "execute_result",
          "data": {
            "text/html": [
              "<div>\n",
              "<style scoped>\n",
              "    .dataframe tbody tr th:only-of-type {\n",
              "        vertical-align: middle;\n",
              "    }\n",
              "\n",
              "    .dataframe tbody tr th {\n",
              "        vertical-align: top;\n",
              "    }\n",
              "\n",
              "    .dataframe thead th {\n",
              "        text-align: right;\n",
              "    }\n",
              "</style>\n",
              "<table border=\"1\" class=\"dataframe\">\n",
              "  <thead>\n",
              "    <tr style=\"text-align: right;\">\n",
              "      <th></th>\n",
              "      <th>Hour</th>\n",
              "      <th>BadCount</th>\n",
              "    </tr>\n",
              "  </thead>\n",
              "  <tbody>\n",
              "    <tr>\n",
              "      <th>0</th>\n",
              "      <td>22</td>\n",
              "      <td>330</td>\n",
              "    </tr>\n",
              "    <tr>\n",
              "      <th>1</th>\n",
              "      <td>20</td>\n",
              "      <td>406</td>\n",
              "    </tr>\n",
              "    <tr>\n",
              "      <th>2</th>\n",
              "      <td>7</td>\n",
              "      <td>142</td>\n",
              "    </tr>\n",
              "    <tr>\n",
              "      <th>3</th>\n",
              "      <td>15</td>\n",
              "      <td>172</td>\n",
              "    </tr>\n",
              "    <tr>\n",
              "      <th>4</th>\n",
              "      <td>16</td>\n",
              "      <td>148</td>\n",
              "    </tr>\n",
              "    <tr>\n",
              "      <th>5</th>\n",
              "      <td>0</td>\n",
              "      <td>160</td>\n",
              "    </tr>\n",
              "    <tr>\n",
              "      <th>6</th>\n",
              "      <td>2</td>\n",
              "      <td>172</td>\n",
              "    </tr>\n",
              "    <tr>\n",
              "      <th>7</th>\n",
              "      <td>21</td>\n",
              "      <td>429</td>\n",
              "    </tr>\n",
              "    <tr>\n",
              "      <th>8</th>\n",
              "      <td>8</td>\n",
              "      <td>108</td>\n",
              "    </tr>\n",
              "    <tr>\n",
              "      <th>9</th>\n",
              "      <td>14</td>\n",
              "      <td>125</td>\n",
              "    </tr>\n",
              "    <tr>\n",
              "      <th>10</th>\n",
              "      <td>9</td>\n",
              "      <td>77</td>\n",
              "    </tr>\n",
              "    <tr>\n",
              "      <th>11</th>\n",
              "      <td>11</td>\n",
              "      <td>111</td>\n",
              "    </tr>\n",
              "    <tr>\n",
              "      <th>12</th>\n",
              "      <td>18</td>\n",
              "      <td>311</td>\n",
              "    </tr>\n",
              "    <tr>\n",
              "      <th>13</th>\n",
              "      <td>6</td>\n",
              "      <td>175</td>\n",
              "    </tr>\n",
              "    <tr>\n",
              "      <th>14</th>\n",
              "      <td>1</td>\n",
              "      <td>158</td>\n",
              "    </tr>\n",
              "    <tr>\n",
              "      <th>15</th>\n",
              "      <td>17</td>\n",
              "      <td>241</td>\n",
              "    </tr>\n",
              "    <tr>\n",
              "      <th>16</th>\n",
              "      <td>10</td>\n",
              "      <td>76</td>\n",
              "    </tr>\n",
              "    <tr>\n",
              "      <th>17</th>\n",
              "      <td>19</td>\n",
              "      <td>374</td>\n",
              "    </tr>\n",
              "    <tr>\n",
              "      <th>18</th>\n",
              "      <td>5</td>\n",
              "      <td>159</td>\n",
              "    </tr>\n",
              "    <tr>\n",
              "      <th>19</th>\n",
              "      <td>23</td>\n",
              "      <td>230</td>\n",
              "    </tr>\n",
              "    <tr>\n",
              "      <th>20</th>\n",
              "      <td>13</td>\n",
              "      <td>137</td>\n",
              "    </tr>\n",
              "    <tr>\n",
              "      <th>21</th>\n",
              "      <td>12</td>\n",
              "      <td>107</td>\n",
              "    </tr>\n",
              "    <tr>\n",
              "      <th>22</th>\n",
              "      <td>3</td>\n",
              "      <td>107</td>\n",
              "    </tr>\n",
              "    <tr>\n",
              "      <th>23</th>\n",
              "      <td>4</td>\n",
              "      <td>108</td>\n",
              "    </tr>\n",
              "  </tbody>\n",
              "</table>\n",
              "</div>"
            ],
            "text/plain": [
              "   Hour BadCount\n",
              "0    22      330\n",
              "1    20      406\n",
              "2     7      142\n",
              "3    15      172\n",
              "4    16      148\n",
              "5     0      160\n",
              "6     2      172\n",
              "7    21      429\n",
              "8     8      108\n",
              "9    14      125\n",
              "10    9       77\n",
              "11   11      111\n",
              "12   18      311\n",
              "13    6      175\n",
              "14    1      158\n",
              "15   17      241\n",
              "16   10       76\n",
              "17   19      374\n",
              "18    5      159\n",
              "19   23      230\n",
              "20   13      137\n",
              "21   12      107\n",
              "22    3      107\n",
              "23    4      108"
            ]
          },
          "metadata": {
            "tags": []
          },
          "execution_count": 94
        }
      ]
    },
    {
      "cell_type": "code",
      "metadata": {
        "id": "_-9pQ3y92qjI",
        "colab_type": "code",
        "colab": {
          "base_uri": "https://localhost:8080/",
          "height": 265
        },
        "outputId": "6e7c1b2c-6430-4948-af9a-ad822779480a"
      },
      "source": [
        "plt.scatter(df_temp_hour_badotcm_count['Hour'], df_temp_hour_badotcm_count['BadCount']);"
      ],
      "execution_count": 96,
      "outputs": [
        {
          "output_type": "display_data",
          "data": {
            "image/png": "[encoded data removed]",
            "text/plain": [
              "<Figure size 432x288 with 1 Axes>"
            ]
          },
          "metadata": {
            "tags": []
          }
        }
      ]
    },
    {
      "cell_type": "code",
      "metadata": {
        "id": "afGwHvd__fIq",
        "colab_type": "code",
        "colab": {}
      },
      "source": [
        "# Profile the df_ante dataframe\n",
        "# from pandas_profiling import ProfileReport\n",
        "\n",
        "# profile = ProfileReport(df_work, title='Pandas Profiling Report', html={'style':{'full_width':True}})\n",
        "# profile.to_file(output_file=\"/Users/danoand/Documents/Companies/LambdaSchool/Build_Project_02/data/ChapelHillAccidents.html\")"
      ],
      "execution_count": 0,
      "outputs": []
    },
    {
      "cell_type": "code",
      "metadata": {
        "id": "mDdmrmHI_fIv",
        "colab_type": "code",
        "colab": {},
        "outputId": "88bbc8da-f8b1-418a-ca4e-58483938bc24"
      },
      "source": [
        "# Split the data into training, validation, and testing datasets\n",
        "from sklearn.model_selection import train_test_split\n",
        "df_ante_train, df_ante_test = train_test_split(df_ante, train_size=0.85, test_size=0.15, \n",
        "                              stratify=df_ante['PedInjury'], random_state=42)\n",
        "\n",
        "print(f'Shape of df_ante_train: {df_ante_train.shape}; Shape of df_ante_test: {df_ante_test.shape}')"
      ],
      "execution_count": 0,
      "outputs": [
        {
          "output_type": "stream",
          "text": [
            "Shape of df_ante_train: (28650, 22); Shape of df_ante_test: (5057, 22)\n"
          ],
          "name": "stdout"
        }
      ]
    },
    {
      "cell_type": "code",
      "metadata": {
        "id": "G7WZzQ6y_fI1",
        "colab_type": "code",
        "colab": {},
        "outputId": "121219e8-36cd-4bdb-f3c9-54152b5feb94"
      },
      "source": [
        "# Split the train data into a training subset and a validation subset\n",
        "df_ante_train, df_ante_val = train_test_split(df_ante_train, test_size=len(df_ante_test), \n",
        "                              stratify=df_ante_train['PedInjury'], random_state=42)\n",
        "\n",
        "print(f'Shape of df_ante_train: {df_ante_train.shape}; Shape of df_ante_val: {df_ante_val.shape}; Shape of df_ante_test: {df_ante_test.shape}')"
      ],
      "execution_count": 0,
      "outputs": [
        {
          "output_type": "stream",
          "text": [
            "Shape of df_ante_train: (23593, 22); Shape of df_ante_val: (5057, 22); Shape of df_ante_test: (5057, 22)\n"
          ],
          "name": "stdout"
        }
      ]
    },
    {
      "cell_type": "code",
      "metadata": {
        "id": "AwbVyhwz_fI8",
        "colab_type": "code",
        "colab": {},
        "outputId": "0dbe3a3e-211b-4f6b-fa71-f9e724fcadfe"
      },
      "source": [
        "# Breakdown the target attribute by class value\n",
        "df_ante_train['PedInjury'].value_counts(normalize=True)"
      ],
      "execution_count": 0,
      "outputs": [
        {
          "output_type": "execute_result",
          "data": {
            "text/plain": [
              "C: Possible Injury             0.409020\n",
              "B: Suspected Minor Injury      0.354597\n",
              "A: Suspected Serious Injury    0.072140\n",
              "K: Killed                      0.063917\n",
              "O: No Injury                   0.059975\n",
              "Unknown Injury                 0.040351\n",
              "Name: PedInjury, dtype: float64"
            ]
          },
          "metadata": {
            "tags": []
          },
          "execution_count": 47
        }
      ]
    },
    {
      "cell_type": "code",
      "metadata": {
        "id": "Xtv8Mu3u_fJE",
        "colab_type": "code",
        "colab": {}
      },
      "source": [
        "# Wrangle the modeling data\n",
        "outcome_serious = ['K: Killed', 'A: Suspected Serious Injury']\n",
        "\n",
        "# has_fatality is a function that returns a boolean value if the inbound value represents a serious outcome (True) or not (False)\n",
        "def has_serious_outcome(val):\n",
        "  if (val in outcome_serious): \n",
        "    return True\n",
        "\n",
        "  return False\n",
        "\n",
        "# wrangle returns a dataframe with updated/created columns for a given input dataframe \n",
        "def wrangle(DF):\n",
        "  X = DF.copy()\n",
        "\n",
        "  # Create a boolean target column reflecting an outcome (serious injury or not)\n",
        "  X['ped_serious_outcome'] = X['PedInjury'].apply(has_serious_outcome)\n",
        "\n",
        "  # Convert the CrashHour column to a string (from an int)\n",
        "  X['CrashHour'] = X['CrashHour'].apply(str)\n",
        "\n",
        "  # List columns to be dropped\n",
        "  cols_drop = ['PedInjury'] # PedInjury - use the engineered 'ped_fatality' column\n",
        "\n",
        "  # Drop undesired columns\n",
        "  X = X.drop(columns=cols_drop)\n",
        "\n",
        "  return X"
      ],
      "execution_count": 0,
      "outputs": []
    },
    {
      "cell_type": "code",
      "metadata": {
        "id": "GqzjRvpZ_fJJ",
        "colab_type": "code",
        "colab": {},
        "outputId": "a04a60bb-cbe5-4255-f351-d95c7b5650d7"
      },
      "source": [
        "# Wrangle the training, validation, and test datasets\n",
        "df_wrgl_train = wrangle(df_ante_train)\n",
        "df_wrgl_val   = wrangle(df_ante_val)\n",
        "df_wrgl_test  = wrangle(df_ante_test)\n",
        "\n",
        "print(f'Shape of df_wrgl_train: {df_wrgl_train.shape}; Shape of df_wrgl_val: {df_wrgl_val.shape}; Shape of df_wrgl_test: {df_wrgl_test.shape}\\n')\n",
        "\n",
        "print(f'\\nColumn Data Types:\\n{df_wrgl_val.dtypes}')"
      ],
      "execution_count": 0,
      "outputs": [
        {
          "output_type": "stream",
          "text": [
            "Shape of df_wrgl_train: (23593, 22); Shape of df_wrgl_val: (5057, 22); Shape of df_wrgl_test: (5057, 22)\n",
            "\n",
            "\n",
            "Column Data Types:\n",
            "City                   object\n",
            "County                 object\n",
            "CrashHour              object\n",
            "CrashMonth             object\n",
            "Development            object\n",
            "LightCond              object\n",
            "Locality               object\n",
            "NumLanes               object\n",
            "RdCharacte             object\n",
            "RdClass                object\n",
            "RdConditio             object\n",
            "RdConfig               object\n",
            "RdDefects              object\n",
            "RdFeature              object\n",
            "RdSurface              object\n",
            "Region                 object\n",
            "RuralUrban             object\n",
            "SpeedLimit             object\n",
            "TraffCntrl             object\n",
            "Weather                object\n",
            "Workzone               object\n",
            "ped_serious_outcome      bool\n",
            "dtype: object\n"
          ],
          "name": "stdout"
        }
      ]
    },
    {
      "cell_type": "code",
      "metadata": {
        "id": "WOVFrcyK_fJP",
        "colab_type": "code",
        "colab": {},
        "outputId": "73dc09fe-9e0a-4ff1-d3d8-6e692bfcf782"
      },
      "source": [
        "df_wrgl_train.sample(5)"
      ],
      "execution_count": 0,
      "outputs": [
        {
          "output_type": "execute_result",
          "data": {
            "text/html": [
              "<div>\n",
              "<style scoped>\n",
              "    .dataframe tbody tr th:only-of-type {\n",
              "        vertical-align: middle;\n",
              "    }\n",
              "\n",
              "    .dataframe tbody tr th {\n",
              "        vertical-align: top;\n",
              "    }\n",
              "\n",
              "    .dataframe thead th {\n",
              "        text-align: right;\n",
              "    }\n",
              "</style>\n",
              "<table border=\"1\" class=\"dataframe\">\n",
              "  <thead>\n",
              "    <tr style=\"text-align: right;\">\n",
              "      <th></th>\n",
              "      <th>City</th>\n",
              "      <th>County</th>\n",
              "      <th>CrashHour</th>\n",
              "      <th>CrashMonth</th>\n",
              "      <th>Development</th>\n",
              "      <th>LightCond</th>\n",
              "      <th>Locality</th>\n",
              "      <th>NumLanes</th>\n",
              "      <th>RdCharacte</th>\n",
              "      <th>RdClass</th>\n",
              "      <th>...</th>\n",
              "      <th>RdDefects</th>\n",
              "      <th>RdFeature</th>\n",
              "      <th>RdSurface</th>\n",
              "      <th>Region</th>\n",
              "      <th>RuralUrban</th>\n",
              "      <th>SpeedLimit</th>\n",
              "      <th>TraffCntrl</th>\n",
              "      <th>Weather</th>\n",
              "      <th>Workzone</th>\n",
              "      <th>ped_serious_outcome</th>\n",
              "    </tr>\n",
              "  </thead>\n",
              "  <tbody>\n",
              "    <tr>\n",
              "      <th>835</th>\n",
              "      <td>Fayetteville</td>\n",
              "      <td>Cumberland</td>\n",
              "      <td>16</td>\n",
              "      <td>October</td>\n",
              "      <td>Commercial</td>\n",
              "      <td>Daylight</td>\n",
              "      <td>Urban (&gt;70% Developed)</td>\n",
              "      <td>4 lanes</td>\n",
              "      <td>Straight - Level</td>\n",
              "      <td>Local Street</td>\n",
              "      <td>...</td>\n",
              "      <td>None</td>\n",
              "      <td>No Special Feature</td>\n",
              "      <td>Coarse Asphalt</td>\n",
              "      <td>Coastal</td>\n",
              "      <td>Urban</td>\n",
              "      <td>50 - 55  MPH</td>\n",
              "      <td>No Control Present</td>\n",
              "      <td>Clear</td>\n",
              "      <td>No</td>\n",
              "      <td>False</td>\n",
              "    </tr>\n",
              "    <tr>\n",
              "      <th>2381</th>\n",
              "      <td>Charlotte</td>\n",
              "      <td>Mecklenburg</td>\n",
              "      <td>18</td>\n",
              "      <td>February</td>\n",
              "      <td>Commercial</td>\n",
              "      <td>Dark - Lighted Roadway</td>\n",
              "      <td>Urban (&gt;70% Developed)</td>\n",
              "      <td>2 lanes</td>\n",
              "      <td>Straight - Level</td>\n",
              "      <td>Public Vehicular Area</td>\n",
              "      <td>...</td>\n",
              "      <td>None</td>\n",
              "      <td>No Special Feature</td>\n",
              "      <td>Smooth Asphalt</td>\n",
              "      <td>Piedmont</td>\n",
              "      <td>Urban</td>\n",
              "      <td>Unknown</td>\n",
              "      <td>No Control Present</td>\n",
              "      <td>Clear</td>\n",
              "      <td>No</td>\n",
              "      <td>False</td>\n",
              "    </tr>\n",
              "    <tr>\n",
              "      <th>25925</th>\n",
              "      <td>Charlotte</td>\n",
              "      <td>Mecklenburg</td>\n",
              "      <td>3</td>\n",
              "      <td>August</td>\n",
              "      <td>Commercial</td>\n",
              "      <td>Dark - Lighted Roadway</td>\n",
              "      <td>Urban (&gt;70% Developed)</td>\n",
              "      <td>4 lanes</td>\n",
              "      <td>Straight - Level</td>\n",
              "      <td>Local Street</td>\n",
              "      <td>...</td>\n",
              "      <td>None</td>\n",
              "      <td>No Special Feature</td>\n",
              "      <td>Smooth Asphalt</td>\n",
              "      <td>Piedmont</td>\n",
              "      <td>Urban</td>\n",
              "      <td>40 - 45  MPH</td>\n",
              "      <td>No Control Present</td>\n",
              "      <td>Clear</td>\n",
              "      <td>No</td>\n",
              "      <td>False</td>\n",
              "    </tr>\n",
              "    <tr>\n",
              "      <th>2530</th>\n",
              "      <td>Rocky Mount</td>\n",
              "      <td>Edgecombe</td>\n",
              "      <td>18</td>\n",
              "      <td>June</td>\n",
              "      <td>Residential</td>\n",
              "      <td>Daylight</td>\n",
              "      <td>Urban (&gt;70% Developed)</td>\n",
              "      <td>2 lanes</td>\n",
              "      <td>Straight - Level</td>\n",
              "      <td>Local Street</td>\n",
              "      <td>...</td>\n",
              "      <td>None</td>\n",
              "      <td>No Special Feature</td>\n",
              "      <td>Coarse Asphalt</td>\n",
              "      <td>Coastal</td>\n",
              "      <td>Urban</td>\n",
              "      <td>30 - 35  MPH</td>\n",
              "      <td>No Control Present</td>\n",
              "      <td>Clear</td>\n",
              "      <td>No</td>\n",
              "      <td>False</td>\n",
              "    </tr>\n",
              "    <tr>\n",
              "      <th>20150</th>\n",
              "      <td>Raleigh</td>\n",
              "      <td>Wake</td>\n",
              "      <td>20</td>\n",
              "      <td>October</td>\n",
              "      <td>Commercial</td>\n",
              "      <td>Dark - Lighted Roadway</td>\n",
              "      <td>Urban (&gt;70% Developed)</td>\n",
              "      <td>Unknown</td>\n",
              "      <td>Missing</td>\n",
              "      <td>Local Street</td>\n",
              "      <td>...</td>\n",
              "      <td>None</td>\n",
              "      <td>Missing</td>\n",
              "      <td>Missing</td>\n",
              "      <td>Piedmont</td>\n",
              "      <td>Urban</td>\n",
              "      <td>40 - 45  MPH</td>\n",
              "      <td>No Control Present</td>\n",
              "      <td>Clear</td>\n",
              "      <td>No</td>\n",
              "      <td>False</td>\n",
              "    </tr>\n",
              "  </tbody>\n",
              "</table>\n",
              "<p>5 rows × 22 columns</p>\n",
              "</div>"
            ],
            "text/plain": [
              "               City       County CrashHour CrashMonth  Development  \\\n",
              "835    Fayetteville   Cumberland        16    October   Commercial   \n",
              "2381      Charlotte  Mecklenburg        18   February   Commercial   \n",
              "25925     Charlotte  Mecklenburg         3     August   Commercial   \n",
              "2530    Rocky Mount    Edgecombe        18       June  Residential   \n",
              "20150       Raleigh         Wake        20    October   Commercial   \n",
              "\n",
              "                    LightCond                Locality NumLanes  \\\n",
              "835                  Daylight  Urban (>70% Developed)  4 lanes   \n",
              "2381   Dark - Lighted Roadway  Urban (>70% Developed)  2 lanes   \n",
              "25925  Dark - Lighted Roadway  Urban (>70% Developed)  4 lanes   \n",
              "2530                 Daylight  Urban (>70% Developed)  2 lanes   \n",
              "20150  Dark - Lighted Roadway  Urban (>70% Developed)  Unknown   \n",
              "\n",
              "             RdCharacte                RdClass  ... RdDefects  \\\n",
              "835    Straight - Level           Local Street  ...      None   \n",
              "2381   Straight - Level  Public Vehicular Area  ...      None   \n",
              "25925  Straight - Level           Local Street  ...      None   \n",
              "2530   Straight - Level           Local Street  ...      None   \n",
              "20150           Missing           Local Street  ...      None   \n",
              "\n",
              "                RdFeature       RdSurface    Region RuralUrban    SpeedLimit  \\\n",
              "835    No Special Feature  Coarse Asphalt   Coastal      Urban  50 - 55  MPH   \n",
              "2381   No Special Feature  Smooth Asphalt  Piedmont      Urban       Unknown   \n",
              "25925  No Special Feature  Smooth Asphalt  Piedmont      Urban  40 - 45  MPH   \n",
              "2530   No Special Feature  Coarse Asphalt   Coastal      Urban  30 - 35  MPH   \n",
              "20150             Missing         Missing  Piedmont      Urban  40 - 45  MPH   \n",
              "\n",
              "               TraffCntrl Weather Workzone ped_serious_outcome  \n",
              "835    No Control Present   Clear       No               False  \n",
              "2381   No Control Present   Clear       No               False  \n",
              "25925  No Control Present   Clear       No               False  \n",
              "2530   No Control Present   Clear       No               False  \n",
              "20150  No Control Present   Clear       No               False  \n",
              "\n",
              "[5 rows x 22 columns]"
            ]
          },
          "metadata": {
            "tags": []
          },
          "execution_count": 50
        }
      ]
    },
    {
      "cell_type": "code",
      "metadata": {
        "id": "Nb21gn9__fJV",
        "colab_type": "code",
        "colab": {},
        "outputId": "b2d526c3-66f8-4d5b-e949-de61b301a2ea"
      },
      "source": [
        "# Construct the modeling datasets\n",
        "target = 'ped_serious_outcome'\n",
        "X_train = df_wrgl_train.drop(columns=target)\n",
        "y_train = df_wrgl_train[target]\n",
        "\n",
        "X_val   = df_wrgl_val.drop(columns=target)\n",
        "y_val   = df_wrgl_val[target]\n",
        "\n",
        "X_test  = df_wrgl_test.drop(columns=target)\n",
        "y_test  = df_wrgl_test[target]\n",
        "\n",
        "\n",
        "print(f'\\nValidation Column Data Types:\\n{X_val.dtypes}')"
      ],
      "execution_count": 0,
      "outputs": [
        {
          "output_type": "stream",
          "text": [
            "\n",
            "Validation Column Data Types:\n",
            "City           object\n",
            "County         object\n",
            "CrashHour      object\n",
            "CrashMonth     object\n",
            "Development    object\n",
            "LightCond      object\n",
            "Locality       object\n",
            "NumLanes       object\n",
            "RdCharacte     object\n",
            "RdClass        object\n",
            "RdConditio     object\n",
            "RdConfig       object\n",
            "RdDefects      object\n",
            "RdFeature      object\n",
            "RdSurface      object\n",
            "Region         object\n",
            "RuralUrban     object\n",
            "SpeedLimit     object\n",
            "TraffCntrl     object\n",
            "Weather        object\n",
            "Workzone       object\n",
            "dtype: object\n"
          ],
          "name": "stdout"
        }
      ]
    },
    {
      "cell_type": "code",
      "metadata": {
        "id": "FGRsyAZj_fJb",
        "colab_type": "code",
        "colab": {},
        "outputId": "d2a3b0ae-1cbc-4d97-ddd4-9790df6fe977"
      },
      "source": [
        "# Create a baseline prediction using a dummy classifier\n",
        "from sklearn.dummy import DummyClassifier\n",
        "clfr_dummy = DummyClassifier(strategy=\"stratified\")\n",
        "\n",
        "clfr_dummy.fit(X_train, y_train)\n",
        "clfr_dummy.predict(X_train)\n",
        "\n",
        "dummy_train_y_pred = clfr_dummy.predict(X_train)\n",
        "\n",
        "print(f'Baseline prediction score for the training set is: {round(clfr_dummy.score(X_train, y_train), 4)}')"
      ],
      "execution_count": 0,
      "outputs": [
        {
          "output_type": "stream",
          "text": [
            "Baseline prediction score for the training set is: 0.7663\n"
          ],
          "name": "stdout"
        }
      ]
    },
    {
      "cell_type": "code",
      "metadata": {
        "id": "D28ma3vJ_fJr",
        "colab_type": "code",
        "colab": {},
        "outputId": "833bd62a-bfbb-49ec-e7ef-9eb66c570500"
      },
      "source": [
        "# Generate the classification report for the Dummy Classifier model\n",
        "from sklearn.metrics import classification_report\n",
        "\n",
        "print(f'Dummy (Baseline) Classification Report:\\n\\n{classification_report(y_train, dummy_train_y_pred)}')"
      ],
      "execution_count": 0,
      "outputs": [
        {
          "output_type": "stream",
          "text": [
            "Dummy (Baseline) Classification Report:\n",
            "\n",
            "              precision    recall  f1-score   support\n",
            "\n",
            "       False       0.86      0.86      0.86     20383\n",
            "        True       0.14      0.14      0.14      3210\n",
            "\n",
            "    accuracy                           0.77     23593\n",
            "   macro avg       0.50      0.50      0.50     23593\n",
            "weighted avg       0.77      0.77      0.77     23593\n",
            "\n"
          ],
          "name": "stdout"
        }
      ]
    },
    {
      "cell_type": "code",
      "metadata": {
        "id": "qjIru11d_fJz",
        "colab_type": "code",
        "colab": {},
        "outputId": "6db5ab5e-b903-488d-d3c3-0cc1202f079a"
      },
      "source": [
        "import category_encoders as ce \n",
        "from sklearn.ensemble import RandomForestClassifier\n",
        "from sklearn.pipeline import make_pipeline\n",
        "\n",
        "print(X_train.dtypes)\n",
        "\n",
        "# Construct a modeling pipeline\n",
        "pipeline = make_pipeline(\n",
        "    ce.OrdinalEncoder(),\n",
        "    RandomForestClassifier(n_jobs=-1, random_state=42)\n",
        ")\n",
        "\n",
        "# Fit the pipeline to the training dataset\n",
        "pipeline.fit(X_train, y_train)"
      ],
      "execution_count": 0,
      "outputs": [
        {
          "output_type": "stream",
          "text": [
            "City           object\n",
            "County         object\n",
            "CrashHour      object\n",
            "CrashMonth     object\n",
            "Development    object\n",
            "LightCond      object\n",
            "Locality       object\n",
            "NumLanes       object\n",
            "RdCharacte     object\n",
            "RdClass        object\n",
            "RdConditio     object\n",
            "RdConfig       object\n",
            "RdDefects      object\n",
            "RdFeature      object\n",
            "RdSurface      object\n",
            "Region         object\n",
            "RuralUrban     object\n",
            "SpeedLimit     object\n",
            "TraffCntrl     object\n",
            "Weather        object\n",
            "Workzone       object\n",
            "dtype: object\n"
          ],
          "name": "stdout"
        },
        {
          "output_type": "execute_result",
          "data": {
            "text/plain": [
              "Pipeline(memory=None,\n",
              "         steps=[('ordinalencoder',\n",
              "                 OrdinalEncoder(cols=['City', 'County', 'CrashHour',\n",
              "                                      'CrashMonth', 'Development', 'LightCond',\n",
              "                                      'Locality', 'NumLanes', 'RdCharacte',\n",
              "                                      'RdClass', 'RdConditio', 'RdConfig',\n",
              "                                      'RdDefects', 'RdFeature', 'RdSurface',\n",
              "                                      'Region', 'RuralUrban', 'SpeedLimit',\n",
              "                                      'TraffCntrl', 'Weather', 'Workzone'],\n",
              "                                drop_invariant=False, handle_missing='valu...\n",
              "                 RandomForestClassifier(bootstrap=True, ccp_alpha=0.0,\n",
              "                                        class_weight=None, criterion='gini',\n",
              "                                        max_depth=None, max_features='auto',\n",
              "                                        max_leaf_nodes=None, max_samples=None,\n",
              "                                        min_impurity_decrease=0.0,\n",
              "                                        min_impurity_split=None,\n",
              "                                        min_samples_leaf=1, min_samples_split=2,\n",
              "                                        min_weight_fraction_leaf=0.0,\n",
              "                                        n_estimators=100, n_jobs=-1,\n",
              "                                        oob_score=False, random_state=42,\n",
              "                                        verbose=0, warm_start=False))],\n",
              "         verbose=False)"
            ]
          },
          "metadata": {
            "tags": []
          },
          "execution_count": 54
        }
      ]
    },
    {
      "cell_type": "code",
      "metadata": {
        "id": "Lr2iMUe-_fKG",
        "colab_type": "code",
        "colab": {},
        "outputId": "7e7265d7-6ba0-4336-c985-231d9846ca2a"
      },
      "source": [
        "# Calculate the accuracy using the validation data\n",
        "print(f'The Validation Accuracy is: {round(pipeline.score(X_val, y_val), 4)}')"
      ],
      "execution_count": 0,
      "outputs": [
        {
          "output_type": "stream",
          "text": [
            "The Validation Accuracy is: 0.8655\n"
          ],
          "name": "stdout"
        }
      ]
    },
    {
      "cell_type": "code",
      "metadata": {
        "id": "Gecvmjnx_fKL",
        "colab_type": "code",
        "colab": {},
        "outputId": "35da96f4-748c-43f7-fcd4-5684b679be8b"
      },
      "source": [
        "# Generate the classification report for the Random Forest Classifier model\n",
        "from sklearn.metrics import classification_report\n",
        "\n",
        "y_val_pred = pipeline.predict(X_val)\n",
        "\n",
        "print(f'Random Forest Classification Report:\\n\\n{classification_report(y_val, y_val_pred)}')"
      ],
      "execution_count": 0,
      "outputs": [
        {
          "output_type": "stream",
          "text": [
            "Random Forest Classification Report:\n",
            "\n",
            "              precision    recall  f1-score   support\n",
            "\n",
            "       False       0.87      0.99      0.93      4368\n",
            "        True       0.53      0.11      0.18       689\n",
            "\n",
            "    accuracy                           0.87      5057\n",
            "   macro avg       0.70      0.55      0.55      5057\n",
            "weighted avg       0.83      0.87      0.82      5057\n",
            "\n"
          ],
          "name": "stdout"
        }
      ]
    },
    {
      "cell_type": "code",
      "metadata": {
        "id": "sdnhWbtF_fKQ",
        "colab_type": "code",
        "colab": {},
        "outputId": "e3bf2997-0803-4de0-cb4c-770e5f8d649c"
      },
      "source": [
        "# Construct the encoding and modeling objects for use in generating a pdp plot\n",
        "trans_encode = make_pipeline(\n",
        "    ce.OrdinalEncoder()\n",
        ")\n",
        "\n",
        "# Encode the train and validation attributes\n",
        "X_train_trans_encode = trans_encode.fit_transform(X_train)\n",
        "X_val_trans_encode   = trans_encode.fit_transform(X_val)\n",
        "\n",
        "# Recreate the model\n",
        "tmp_mdl = RandomForestClassifier(n_jobs=-1, random_state=42)\n",
        "tmp_mdl.fit(X_train_trans_encode, y_train)"
      ],
      "execution_count": 0,
      "outputs": [
        {
          "output_type": "execute_result",
          "data": {
            "text/plain": [
              "RandomForestClassifier(bootstrap=True, ccp_alpha=0.0, class_weight=None,\n",
              "                       criterion='gini', max_depth=None, max_features='auto',\n",
              "                       max_leaf_nodes=None, max_samples=None,\n",
              "                       min_impurity_decrease=0.0, min_impurity_split=None,\n",
              "                       min_samples_leaf=1, min_samples_split=2,\n",
              "                       min_weight_fraction_leaf=0.0, n_estimators=100,\n",
              "                       n_jobs=-1, oob_score=False, random_state=42, verbose=0,\n",
              "                       warm_start=False)"
            ]
          },
          "metadata": {
            "tags": []
          },
          "execution_count": 58
        }
      ]
    },
    {
      "cell_type": "code",
      "metadata": {
        "id": "AFQZoM-h_fKb",
        "colab_type": "code",
        "colab": {},
        "outputId": "6bd7dd2d-087e-4557-f679-d98885da7270"
      },
      "source": [
        "# Calculate the permutation importance - Random Forest Classifier\n",
        "import eli5\n",
        "from eli5.sklearn import PermutationImportance\n",
        "\n",
        "# Create a permutation importance object\n",
        "prmuter = PermutationImportance(\n",
        "    tmp_mdl,\n",
        "    scoring='accuracy',\n",
        "    n_iter=5,\n",
        "    random_state=42)\n",
        "\n",
        "# Compute feature importance\n",
        "prmuter.fit(X_val_trans_encode, y_val)"
      ],
      "execution_count": 0,
      "outputs": [
        {
          "output_type": "execute_result",
          "data": {
            "text/plain": [
              "PermutationImportance(cv='prefit',\n",
              "                      estimator=RandomForestClassifier(bootstrap=True,\n",
              "                                                       ccp_alpha=0.0,\n",
              "                                                       class_weight=None,\n",
              "                                                       criterion='gini',\n",
              "                                                       max_depth=None,\n",
              "                                                       max_features='auto',\n",
              "                                                       max_leaf_nodes=None,\n",
              "                                                       max_samples=None,\n",
              "                                                       min_impurity_decrease=0.0,\n",
              "                                                       min_impurity_split=None,\n",
              "                                                       min_samples_leaf=1,\n",
              "                                                       min_samples_split=2,\n",
              "                                                       min_weight_fraction_leaf=0.0,\n",
              "                                                       n_estimators=100,\n",
              "                                                       n_jobs=-1,\n",
              "                                                       oob_score=False,\n",
              "                                                       random_state=42,\n",
              "                                                       verbose=0,\n",
              "                                                       warm_start=False),\n",
              "                      n_iter=5, random_state=42, refit=True,\n",
              "                      scoring='accuracy')"
            ]
          },
          "metadata": {
            "tags": []
          },
          "execution_count": 59
        }
      ]
    },
    {
      "cell_type": "code",
      "metadata": {
        "id": "vZuTgrVq_fKi",
        "colab_type": "code",
        "colab": {},
        "outputId": "4b1a8fd5-fbcf-4087-e8d3-94a17845f0ed"
      },
      "source": [
        "# List out the independent variables by importance\n",
        "feature_names = X_val.columns.tolist()\n",
        "\n",
        "# Display permutation importances\n",
        "eli5.show_weights(\n",
        "    prmuter,\n",
        "    top=None,\n",
        "    feature_names=feature_names)"
      ],
      "execution_count": 0,
      "outputs": [
        {
          "output_type": "execute_result",
          "data": {
            "text/html": [
              "\n",
              "    <style>\n",
              "    table.eli5-weights tr:hover {\n",
              "        filter: brightness(85%);\n",
              "    }\n",
              "</style>\n",
              "\n",
              "\n",
              "\n",
              "    \n",
              "\n",
              "    \n",
              "\n",
              "    \n",
              "\n",
              "    \n",
              "\n",
              "    \n",
              "\n",
              "    \n",
              "\n",
              "\n",
              "    \n",
              "\n",
              "    \n",
              "\n",
              "    \n",
              "\n",
              "    \n",
              "\n",
              "    \n",
              "\n",
              "    \n",
              "\n",
              "\n",
              "    \n",
              "\n",
              "    \n",
              "\n",
              "    \n",
              "\n",
              "    \n",
              "\n",
              "    \n",
              "        <table class=\"eli5-weights eli5-feature-importances\" style=\"border-collapse: collapse; border: none; margin-top: 0em; table-layout: auto;\">\n",
              "    <thead>\n",
              "    <tr style=\"border: none;\">\n",
              "        <th style=\"padding: 0 1em 0 0.5em; text-align: right; border: none;\">Weight</th>\n",
              "        <th style=\"padding: 0 0.5em 0 0.5em; text-align: left; border: none;\">Feature</th>\n",
              "    </tr>\n",
              "    </thead>\n",
              "    <tbody>\n",
              "    \n",
              "        <tr style=\"background-color: hsl(120, 100.00%, 80.00%); border: none;\">\n",
              "            <td style=\"padding: 0 1em 0 0.5em; text-align: right; border: none;\">\n",
              "                0.0036\n",
              "                \n",
              "                    &plusmn; 0.0008\n",
              "                \n",
              "            </td>\n",
              "            <td style=\"padding: 0 0.5em 0 0.5em; text-align: left; border: none;\">\n",
              "                LightCond\n",
              "            </td>\n",
              "        </tr>\n",
              "    \n",
              "        <tr style=\"background-color: hsl(120, 100.00%, 84.03%); border: none;\">\n",
              "            <td style=\"padding: 0 1em 0 0.5em; text-align: right; border: none;\">\n",
              "                0.0026\n",
              "                \n",
              "                    &plusmn; 0.0019\n",
              "                \n",
              "            </td>\n",
              "            <td style=\"padding: 0 0.5em 0 0.5em; text-align: left; border: none;\">\n",
              "                TraffCntrl\n",
              "            </td>\n",
              "        </tr>\n",
              "    \n",
              "        <tr style=\"background-color: hsl(120, 100.00%, 86.66%); border: none;\">\n",
              "            <td style=\"padding: 0 1em 0 0.5em; text-align: right; border: none;\">\n",
              "                0.0020\n",
              "                \n",
              "                    &plusmn; 0.0015\n",
              "                \n",
              "            </td>\n",
              "            <td style=\"padding: 0 0.5em 0 0.5em; text-align: left; border: none;\">\n",
              "                CrashMonth\n",
              "            </td>\n",
              "        </tr>\n",
              "    \n",
              "        <tr style=\"background-color: hsl(120, 100.00%, 87.59%); border: none;\">\n",
              "            <td style=\"padding: 0 1em 0 0.5em; text-align: right; border: none;\">\n",
              "                0.0018\n",
              "                \n",
              "                    &plusmn; 0.0028\n",
              "                \n",
              "            </td>\n",
              "            <td style=\"padding: 0 0.5em 0 0.5em; text-align: left; border: none;\">\n",
              "                RdClass\n",
              "            </td>\n",
              "        </tr>\n",
              "    \n",
              "        <tr style=\"background-color: hsl(120, 100.00%, 89.75%); border: none;\">\n",
              "            <td style=\"padding: 0 1em 0 0.5em; text-align: right; border: none;\">\n",
              "                0.0014\n",
              "                \n",
              "                    &plusmn; 0.0014\n",
              "                \n",
              "            </td>\n",
              "            <td style=\"padding: 0 0.5em 0 0.5em; text-align: left; border: none;\">\n",
              "                SpeedLimit\n",
              "            </td>\n",
              "        </tr>\n",
              "    \n",
              "        <tr style=\"background-color: hsl(120, 100.00%, 90.38%); border: none;\">\n",
              "            <td style=\"padding: 0 1em 0 0.5em; text-align: right; border: none;\">\n",
              "                0.0013\n",
              "                \n",
              "                    &plusmn; 0.0014\n",
              "                \n",
              "            </td>\n",
              "            <td style=\"padding: 0 0.5em 0 0.5em; text-align: left; border: none;\">\n",
              "                RdConfig\n",
              "            </td>\n",
              "        </tr>\n",
              "    \n",
              "        <tr style=\"background-color: hsl(120, 100.00%, 91.24%); border: none;\">\n",
              "            <td style=\"padding: 0 1em 0 0.5em; text-align: right; border: none;\">\n",
              "                0.0011\n",
              "                \n",
              "                    &plusmn; 0.0011\n",
              "                \n",
              "            </td>\n",
              "            <td style=\"padding: 0 0.5em 0 0.5em; text-align: left; border: none;\">\n",
              "                Locality\n",
              "            </td>\n",
              "        </tr>\n",
              "    \n",
              "        <tr style=\"background-color: hsl(120, 100.00%, 91.90%); border: none;\">\n",
              "            <td style=\"padding: 0 1em 0 0.5em; text-align: right; border: none;\">\n",
              "                0.0010\n",
              "                \n",
              "                    &plusmn; 0.0014\n",
              "                \n",
              "            </td>\n",
              "            <td style=\"padding: 0 0.5em 0 0.5em; text-align: left; border: none;\">\n",
              "                NumLanes\n",
              "            </td>\n",
              "        </tr>\n",
              "    \n",
              "        <tr style=\"background-color: hsl(120, 100.00%, 92.83%); border: none;\">\n",
              "            <td style=\"padding: 0 1em 0 0.5em; text-align: right; border: none;\">\n",
              "                0.0008\n",
              "                \n",
              "                    &plusmn; 0.0028\n",
              "                \n",
              "            </td>\n",
              "            <td style=\"padding: 0 0.5em 0 0.5em; text-align: left; border: none;\">\n",
              "                Development\n",
              "            </td>\n",
              "        </tr>\n",
              "    \n",
              "        <tr style=\"background-color: hsl(120, 100.00%, 93.07%); border: none;\">\n",
              "            <td style=\"padding: 0 1em 0 0.5em; text-align: right; border: none;\">\n",
              "                0.0008\n",
              "                \n",
              "                    &plusmn; 0.0026\n",
              "                \n",
              "            </td>\n",
              "            <td style=\"padding: 0 0.5em 0 0.5em; text-align: left; border: none;\">\n",
              "                CrashHour\n",
              "            </td>\n",
              "        </tr>\n",
              "    \n",
              "        <tr style=\"background-color: hsl(120, 100.00%, 93.57%); border: none;\">\n",
              "            <td style=\"padding: 0 1em 0 0.5em; text-align: right; border: none;\">\n",
              "                0.0007\n",
              "                \n",
              "                    &plusmn; 0.0012\n",
              "                \n",
              "            </td>\n",
              "            <td style=\"padding: 0 0.5em 0 0.5em; text-align: left; border: none;\">\n",
              "                RdConditio\n",
              "            </td>\n",
              "        </tr>\n",
              "    \n",
              "        <tr style=\"background-color: hsl(120, 100.00%, 94.08%); border: none;\">\n",
              "            <td style=\"padding: 0 1em 0 0.5em; text-align: right; border: none;\">\n",
              "                0.0006\n",
              "                \n",
              "                    &plusmn; 0.0031\n",
              "                \n",
              "            </td>\n",
              "            <td style=\"padding: 0 0.5em 0 0.5em; text-align: left; border: none;\">\n",
              "                County\n",
              "            </td>\n",
              "        </tr>\n",
              "    \n",
              "        <tr style=\"background-color: hsl(120, 100.00%, 94.88%); border: none;\">\n",
              "            <td style=\"padding: 0 1em 0 0.5em; text-align: right; border: none;\">\n",
              "                0.0005\n",
              "                \n",
              "                    &plusmn; 0.0026\n",
              "                \n",
              "            </td>\n",
              "            <td style=\"padding: 0 0.5em 0 0.5em; text-align: left; border: none;\">\n",
              "                City\n",
              "            </td>\n",
              "        </tr>\n",
              "    \n",
              "        <tr style=\"background-color: hsl(120, 100.00%, 96.04%); border: none;\">\n",
              "            <td style=\"padding: 0 1em 0 0.5em; text-align: right; border: none;\">\n",
              "                0.0004\n",
              "                \n",
              "                    &plusmn; 0.0003\n",
              "                \n",
              "            </td>\n",
              "            <td style=\"padding: 0 0.5em 0 0.5em; text-align: left; border: none;\">\n",
              "                RdDefects\n",
              "            </td>\n",
              "        </tr>\n",
              "    \n",
              "        <tr style=\"background-color: hsl(120, 100.00%, 97.02%); border: none;\">\n",
              "            <td style=\"padding: 0 1em 0 0.5em; text-align: right; border: none;\">\n",
              "                0.0002\n",
              "                \n",
              "                    &plusmn; 0.0012\n",
              "                \n",
              "            </td>\n",
              "            <td style=\"padding: 0 0.5em 0 0.5em; text-align: left; border: none;\">\n",
              "                Region\n",
              "            </td>\n",
              "        </tr>\n",
              "    \n",
              "        <tr style=\"background-color: hsl(120, 100.00%, 99.15%); border: none;\">\n",
              "            <td style=\"padding: 0 1em 0 0.5em; text-align: right; border: none;\">\n",
              "                0.0000\n",
              "                \n",
              "                    &plusmn; 0.0002\n",
              "                \n",
              "            </td>\n",
              "            <td style=\"padding: 0 0.5em 0 0.5em; text-align: left; border: none;\">\n",
              "                Workzone\n",
              "            </td>\n",
              "        </tr>\n",
              "    \n",
              "        <tr style=\"background-color: hsl(0, 100.00%, 100.00%); border: none;\">\n",
              "            <td style=\"padding: 0 1em 0 0.5em; text-align: right; border: none;\">\n",
              "                -0.0000\n",
              "                \n",
              "                    &plusmn; 0.0015\n",
              "                \n",
              "            </td>\n",
              "            <td style=\"padding: 0 0.5em 0 0.5em; text-align: left; border: none;\">\n",
              "                Weather\n",
              "            </td>\n",
              "        </tr>\n",
              "    \n",
              "        <tr style=\"background-color: hsl(0, 100.00%, 93.57%); border: none;\">\n",
              "            <td style=\"padding: 0 1em 0 0.5em; text-align: right; border: none;\">\n",
              "                -0.0007\n",
              "                \n",
              "                    &plusmn; 0.0029\n",
              "                \n",
              "            </td>\n",
              "            <td style=\"padding: 0 0.5em 0 0.5em; text-align: left; border: none;\">\n",
              "                RdFeature\n",
              "            </td>\n",
              "        </tr>\n",
              "    \n",
              "        <tr style=\"background-color: hsl(0, 100.00%, 93.57%); border: none;\">\n",
              "            <td style=\"padding: 0 1em 0 0.5em; text-align: right; border: none;\">\n",
              "                -0.0007\n",
              "                \n",
              "                    &plusmn; 0.0006\n",
              "                \n",
              "            </td>\n",
              "            <td style=\"padding: 0 0.5em 0 0.5em; text-align: left; border: none;\">\n",
              "                RdSurface\n",
              "            </td>\n",
              "        </tr>\n",
              "    \n",
              "        <tr style=\"background-color: hsl(0, 100.00%, 92.83%); border: none;\">\n",
              "            <td style=\"padding: 0 1em 0 0.5em; text-align: right; border: none;\">\n",
              "                -0.0008\n",
              "                \n",
              "                    &plusmn; 0.0015\n",
              "                \n",
              "            </td>\n",
              "            <td style=\"padding: 0 0.5em 0 0.5em; text-align: left; border: none;\">\n",
              "                RuralUrban\n",
              "            </td>\n",
              "        </tr>\n",
              "    \n",
              "        <tr style=\"background-color: hsl(0, 100.00%, 91.90%); border: none;\">\n",
              "            <td style=\"padding: 0 1em 0 0.5em; text-align: right; border: none;\">\n",
              "                -0.0010\n",
              "                \n",
              "                    &plusmn; 0.0019\n",
              "                \n",
              "            </td>\n",
              "            <td style=\"padding: 0 0.5em 0 0.5em; text-align: left; border: none;\">\n",
              "                RdCharacte\n",
              "            </td>\n",
              "        </tr>\n",
              "    \n",
              "    \n",
              "    </tbody>\n",
              "</table>\n",
              "    \n",
              "\n",
              "    \n",
              "\n",
              "\n",
              "    \n",
              "\n",
              "    \n",
              "\n",
              "    \n",
              "\n",
              "    \n",
              "\n",
              "    \n",
              "\n",
              "    \n",
              "\n",
              "\n",
              "\n"
            ],
            "text/plain": [
              "<IPython.core.display.HTML object>"
            ]
          },
          "metadata": {
            "tags": []
          },
          "execution_count": 60
        }
      ]
    },
    {
      "cell_type": "code",
      "metadata": {
        "id": "FQVq9XLv_fK2",
        "colab_type": "code",
        "colab": {},
        "outputId": "0e0314a0-1b63-4f1e-b9b9-4c8c9eff55f5"
      },
      "source": [
        "# Generate a logistic regression model\n",
        "from sklearn.linear_model import LogisticRegressionCV\n",
        "\n",
        "# Construct a modeling pipeline\n",
        "pipeline_logstc = make_pipeline(\n",
        "    ce.OrdinalEncoder(),\n",
        "    LogisticRegressionCV(cv=5, n_jobs=-1, random_state=42)\n",
        ")\n",
        "\n",
        "# Fit the pipeline to the training dataset\n",
        "pipeline_logstc.fit(X_train, y_train)\n",
        "\n",
        "# Calculate the accuracy using the validation data\n",
        "print(f'The Validation Accuracy is: {round(pipeline_logstc.score(X_val, y_val), 4)}')\n"
      ],
      "execution_count": 0,
      "outputs": [
        {
          "output_type": "stream",
          "text": [
            "The Validation Accuracy is: 0.8638\n"
          ],
          "name": "stdout"
        }
      ]
    },
    {
      "cell_type": "code",
      "metadata": {
        "id": "vKl33ARD_fK7",
        "colab_type": "code",
        "colab": {},
        "outputId": "9ba27bf5-03fb-4141-841f-bc34d11dd28d"
      },
      "source": [
        "pipeline_logstc[1]"
      ],
      "execution_count": 0,
      "outputs": [
        {
          "output_type": "execute_result",
          "data": {
            "text/plain": [
              "LogisticRegressionCV(Cs=10, class_weight=None, cv=5, dual=False,\n",
              "                     fit_intercept=True, intercept_scaling=1.0, l1_ratios=None,\n",
              "                     max_iter=100, multi_class='auto', n_jobs=-1, penalty='l2',\n",
              "                     random_state=42, refit=True, scoring=None, solver='lbfgs',\n",
              "                     tol=0.0001, verbose=0)"
            ]
          },
          "metadata": {
            "tags": []
          },
          "execution_count": 62
        }
      ]
    },
    {
      "cell_type": "code",
      "metadata": {
        "id": "O79U8Exy_fLA",
        "colab_type": "code",
        "colab": {},
        "outputId": "a0e711c1-df38-47c7-dd25-4c618acef348"
      },
      "source": [
        "# Generate the classification report for the Logistic Regression model\n",
        "y_val_pred_lgtc = pipeline_logstc.predict(X_val)\n",
        "\n",
        "print(f'Logistic Regression Classification Report:\\n\\n{classification_report(y_val, y_val_pred_lgtc)}')"
      ],
      "execution_count": 0,
      "outputs": [
        {
          "output_type": "stream",
          "text": [
            "Logistic Regression Classification Report:\n",
            "\n",
            "              precision    recall  f1-score   support\n",
            "\n",
            "       False       0.86      1.00      0.93      4368\n",
            "        True       0.00      0.00      0.00       689\n",
            "\n",
            "    accuracy                           0.86      5057\n",
            "   macro avg       0.43      0.50      0.46      5057\n",
            "weighted avg       0.75      0.86      0.80      5057\n",
            "\n"
          ],
          "name": "stdout"
        }
      ]
    },
    {
      "cell_type": "code",
      "metadata": {
        "id": "OGkd0Mwc_fLJ",
        "colab_type": "code",
        "colab": {},
        "outputId": "9225b2fb-3987-4266-9bef-ea49f1dfbf11"
      },
      "source": [
        "# Render the regression expression terms (coefficients, variables, and intercept)\n",
        "%matplotlib inline\n",
        "coefficients = pd.Series(pipeline_logstc[1].coef_[0], X_train.columns)\n",
        "coefficients.sort_values()\n",
        "\n",
        "tmp_series = pd.Series([pipeline_logstc[1].intercept_[0]], ['(y intercept)'])\n",
        "coefficients = coefficients.append(tmp_series)\n",
        "coefficients.plot.barh();"
      ],
      "execution_count": 0,
      "outputs": [
        {
          "output_type": "display_data",
          "data": {
            "image/png": "[encoded data removed]",
            "image/svg+xml": "<?xml version=\"1.0\" encoding=\"utf-8\" standalone=\"no\"?>\n<!DOCTYPE svg PUBLIC \"-//W3C//DTD SVG 1.1//EN\"\n  \"http://www.w3.org/Graphics/SVG/1.1/DTD/svg11.dtd\">\n<!-- Created with matplotlib (https://matplotlib.org/) -->\n<svg height=\"248.518125pt\" version=\"1.1\" viewBox=\"0 0 423.521875 248.518125\" width=\"423.521875pt\" xmlns=\"http://www.w3.org/2000/svg\" xmlns:xlink=\"http://www.w3.org/1999/xlink\">\n <defs>\n  <style type=\"text/css\">\n*{stroke-linecap:butt;stroke-linejoin:round;white-space:pre;}\n  </style>\n </defs>\n <g id=\"figure_1\">\n  <g id=\"patch_1\">\n   <path d=\"M 0 248.518125 \nL 423.521875 248.518125 \nL 423.521875 0 \nL 0 0 \nz\n\" style=\"fill:none;\"/>\n  </g>\n  <g id=\"axes_1\">\n   <g id=\"patch_2\">\n    <path d=\"M 81.521875 224.64 \nL 416.321875 224.64 \nL 416.321875 7.2 \nL 81.521875 7.2 \nz\n\" style=\"fill:#ffffff;\"/>\n   </g>\n   <g id=\"patch_3\">\n    <path clip-path=\"url(#p88e6cd4361)\" d=\"M 386.447439 222.169091 \nL 386.29522 222.169091 \nL 386.29522 217.227273 \nL 386.447439 217.227273 \nz\n\" style=\"fill:#1f77b4;\"/>\n   </g>\n   <g id=\"patch_4\">\n    <path clip-path=\"url(#p88e6cd4361)\" d=\"M 386.447439 212.285455 \nL 387.392737 212.285455 \nL 387.392737 207.343636 \nL 386.447439 207.343636 \nz\n\" style=\"fill:#1f77b4;\"/>\n   </g>\n   <g id=\"patch_5\">\n    <path clip-path=\"url(#p88e6cd4361)\" d=\"M 386.447439 202.401818 \nL 385.192299 202.401818 \nL 385.192299 197.46 \nL 386.447439 197.46 \nz\n\" style=\"fill:#1f77b4;\"/>\n   </g>\n   <g id=\"patch_6\">\n    <path clip-path=\"url(#p88e6cd4361)\" d=\"M 386.447439 192.518182 \nL 385.401317 192.518182 \nL 385.401317 187.576364 \nL 386.447439 187.576364 \nz\n\" style=\"fill:#1f77b4;\"/>\n   </g>\n   <g id=\"patch_7\">\n    <path clip-path=\"url(#p88e6cd4361)\" d=\"M 386.447439 182.634545 \nL 390.265083 182.634545 \nL 390.265083 177.692727 \nL 386.447439 177.692727 \nz\n\" style=\"fill:#1f77b4;\"/>\n   </g>\n   <g id=\"patch_8\">\n    <path clip-path=\"url(#p88e6cd4361)\" d=\"M 386.447439 172.750909 \nL 378.654674 172.750909 \nL 378.654674 167.809091 \nL 386.447439 167.809091 \nz\n\" style=\"fill:#1f77b4;\"/>\n   </g>\n   <g id=\"patch_9\">\n    <path clip-path=\"url(#p88e6cd4361)\" d=\"M 386.447439 162.867273 \nL 388.345365 162.867273 \nL 388.345365 157.925455 \nL 386.447439 157.925455 \nz\n\" style=\"fill:#1f77b4;\"/>\n   </g>\n   <g id=\"patch_10\">\n    <path clip-path=\"url(#p88e6cd4361)\" d=\"M 386.447439 152.983636 \nL 392.210396 152.983636 \nL 392.210396 148.041818 \nL 386.447439 148.041818 \nz\n\" style=\"fill:#1f77b4;\"/>\n   </g>\n   <g id=\"patch_11\">\n    <path clip-path=\"url(#p88e6cd4361)\" d=\"M 386.447439 143.1 \nL 389.61751 143.1 \nL 389.61751 138.158182 \nL 386.447439 138.158182 \nz\n\" style=\"fill:#1f77b4;\"/>\n   </g>\n   <g id=\"patch_12\">\n    <path clip-path=\"url(#p88e6cd4361)\" d=\"M 386.447439 133.216364 \nL 401.103693 133.216364 \nL 401.103693 128.274545 \nL 386.447439 128.274545 \nz\n\" style=\"fill:#1f77b4;\"/>\n   </g>\n   <g id=\"patch_13\">\n    <path clip-path=\"url(#p88e6cd4361)\" d=\"M 386.447439 123.332727 \nL 386.625636 123.332727 \nL 386.625636 118.390909 \nL 386.447439 118.390909 \nz\n\" style=\"fill:#1f77b4;\"/>\n   </g>\n   <g id=\"patch_14\">\n    <path clip-path=\"url(#p88e6cd4361)\" d=\"M 386.447439 113.449091 \nL 390.05979 113.449091 \nL 390.05979 108.507273 \nL 386.447439 108.507273 \nz\n\" style=\"fill:#1f77b4;\"/>\n   </g>\n   <g id=\"patch_15\">\n    <path clip-path=\"url(#p88e6cd4361)\" d=\"M 386.447439 103.565455 \nL 386.246103 103.565455 \nL 386.246103 98.623636 \nL 386.447439 98.623636 \nz\n\" style=\"fill:#1f77b4;\"/>\n   </g>\n   <g id=\"patch_16\">\n    <path clip-path=\"url(#p88e6cd4361)\" d=\"M 386.447439 93.681818 \nL 384.720995 93.681818 \nL 384.720995 88.74 \nL 386.447439 88.74 \nz\n\" style=\"fill:#1f77b4;\"/>\n   </g>\n   <g id=\"patch_17\">\n    <path clip-path=\"url(#p88e6cd4361)\" d=\"M 386.447439 83.798182 \nL 385.944526 83.798182 \nL 385.944526 78.856364 \nL 386.447439 78.856364 \nz\n\" style=\"fill:#1f77b4;\"/>\n   </g>\n   <g id=\"patch_18\">\n    <path clip-path=\"url(#p88e6cd4361)\" d=\"M 386.447439 73.914545 \nL 388.116888 73.914545 \nL 388.116888 68.972727 \nL 386.447439 68.972727 \nz\n\" style=\"fill:#1f77b4;\"/>\n   </g>\n   <g id=\"patch_19\">\n    <path clip-path=\"url(#p88e6cd4361)\" d=\"M 386.447439 64.030909 \nL 390.016826 64.030909 \nL 390.016826 59.089091 \nL 386.447439 59.089091 \nz\n\" style=\"fill:#1f77b4;\"/>\n   </g>\n   <g id=\"patch_20\">\n    <path clip-path=\"url(#p88e6cd4361)\" d=\"M 386.447439 54.147273 \nL 394.035301 54.147273 \nL 394.035301 49.205455 \nL 386.447439 49.205455 \nz\n\" style=\"fill:#1f77b4;\"/>\n   </g>\n   <g id=\"patch_21\">\n    <path clip-path=\"url(#p88e6cd4361)\" d=\"M 386.447439 44.263636 \nL 386.234509 44.263636 \nL 386.234509 39.321818 \nL 386.447439 39.321818 \nz\n\" style=\"fill:#1f77b4;\"/>\n   </g>\n   <g id=\"patch_22\">\n    <path clip-path=\"url(#p88e6cd4361)\" d=\"M 386.447439 34.38 \nL 386.695179 34.38 \nL 386.695179 29.438182 \nL 386.447439 29.438182 \nz\n\" style=\"fill:#1f77b4;\"/>\n   </g>\n   <g id=\"patch_23\">\n    <path clip-path=\"url(#p88e6cd4361)\" d=\"M 386.447439 24.496364 \nL 386.43842 24.496364 \nL 386.43842 19.554545 \nL 386.447439 19.554545 \nz\n\" style=\"fill:#1f77b4;\"/>\n   </g>\n   <g id=\"patch_24\">\n    <path clip-path=\"url(#p88e6cd4361)\" d=\"M 386.447439 14.612727 \nL 96.740057 14.612727 \nL 96.740057 9.670909 \nL 386.447439 9.670909 \nz\n\" style=\"fill:#1f77b4;\"/>\n   </g>\n   <g id=\"matplotlib.axis_1\">\n    <g id=\"xtick_1\">\n     <g id=\"line2d_1\">\n      <defs>\n       <path d=\"M 0 0 \nL 0 3.5 \n\" id=\"m15aafbabf4\" style=\"stroke:#000000;stroke-width:0.8;\"/>\n      </defs>\n      <g>\n       <use style=\"stroke:#000000;stroke-width:0.8;\" x=\"100.358613\" xlink:href=\"#m15aafbabf4\" y=\"224.64\"/>\n      </g>\n     </g>\n     <g id=\"text_1\">\n      <!-- −2.5 -->\n      <defs>\n       <path d=\"M 10.59375 35.5 \nL 73.1875 35.5 \nL 73.1875 27.203125 \nL 10.59375 27.203125 \nz\n\" id=\"DejaVuSans-8722\"/>\n       <path d=\"M 19.1875 8.296875 \nL 53.609375 8.296875 \nL 53.609375 0 \nL 7.328125 0 \nL 7.328125 8.296875 \nQ 12.9375 14.109375 22.625 23.890625 \nQ 32.328125 33.6875 34.8125 36.53125 \nQ 39.546875 41.84375 41.421875 45.53125 \nQ 43.3125 49.21875 43.3125 52.78125 \nQ 43.3125 58.59375 39.234375 62.25 \nQ 35.15625 65.921875 28.609375 65.921875 \nQ 23.96875 65.921875 18.8125 64.3125 \nQ 13.671875 62.703125 7.8125 59.421875 \nL 7.8125 69.390625 \nQ 13.765625 71.78125 18.9375 73 \nQ 24.125 74.21875 28.421875 74.21875 \nQ 39.75 74.21875 46.484375 68.546875 \nQ 53.21875 62.890625 53.21875 53.421875 \nQ 53.21875 48.921875 51.53125 44.890625 \nQ 49.859375 40.875 45.40625 35.40625 \nQ 44.1875 33.984375 37.640625 27.21875 \nQ 31.109375 20.453125 19.1875 8.296875 \nz\n\" id=\"DejaVuSans-50\"/>\n       <path d=\"M 10.6875 12.40625 \nL 21 12.40625 \nL 21 0 \nL 10.6875 0 \nz\n\" id=\"DejaVuSans-46\"/>\n       <path d=\"M 10.796875 72.90625 \nL 49.515625 72.90625 \nL 49.515625 64.59375 \nL 19.828125 64.59375 \nL 19.828125 46.734375 \nQ 21.96875 47.46875 24.109375 47.828125 \nQ 26.265625 48.1875 28.421875 48.1875 \nQ 40.625 48.1875 47.75 41.5 \nQ 54.890625 34.8125 54.890625 23.390625 \nQ 54.890625 11.625 47.5625 5.09375 \nQ 40.234375 -1.421875 26.90625 -1.421875 \nQ 22.3125 -1.421875 17.546875 -0.640625 \nQ 12.796875 0.140625 7.71875 1.703125 \nL 7.71875 11.625 \nQ 12.109375 9.234375 16.796875 8.0625 \nQ 21.484375 6.890625 26.703125 6.890625 \nQ 35.15625 6.890625 40.078125 11.328125 \nQ 45.015625 15.765625 45.015625 23.390625 \nQ 45.015625 31 40.078125 35.4375 \nQ 35.15625 39.890625 26.703125 39.890625 \nQ 22.75 39.890625 18.8125 39.015625 \nQ 14.890625 38.140625 10.796875 36.28125 \nz\n\" id=\"DejaVuSans-53\"/>\n      </defs>\n      <g transform=\"translate(88.217207 239.238438)scale(0.1 -0.1)\">\n       <use xlink:href=\"#DejaVuSans-8722\"/>\n       <use x=\"83.789062\" xlink:href=\"#DejaVuSans-50\"/>\n       <use x=\"147.412109\" xlink:href=\"#DejaVuSans-46\"/>\n       <use x=\"179.199219\" xlink:href=\"#DejaVuSans-53\"/>\n      </g>\n     </g>\n    </g>\n    <g id=\"xtick_2\">\n     <g id=\"line2d_2\">\n      <g>\n       <use style=\"stroke:#000000;stroke-width:0.8;\" x=\"157.576378\" xlink:href=\"#m15aafbabf4\" y=\"224.64\"/>\n      </g>\n     </g>\n     <g id=\"text_2\">\n      <!-- −2.0 -->\n      <defs>\n       <path d=\"M 31.78125 66.40625 \nQ 24.171875 66.40625 20.328125 58.90625 \nQ 16.5 51.421875 16.5 36.375 \nQ 16.5 21.390625 20.328125 13.890625 \nQ 24.171875 6.390625 31.78125 6.390625 \nQ 39.453125 6.390625 43.28125 13.890625 \nQ 47.125 21.390625 47.125 36.375 \nQ 47.125 51.421875 43.28125 58.90625 \nQ 39.453125 66.40625 31.78125 66.40625 \nz\nM 31.78125 74.21875 \nQ 44.046875 74.21875 50.515625 64.515625 \nQ 56.984375 54.828125 56.984375 36.375 \nQ 56.984375 17.96875 50.515625 8.265625 \nQ 44.046875 -1.421875 31.78125 -1.421875 \nQ 19.53125 -1.421875 13.0625 8.265625 \nQ 6.59375 17.96875 6.59375 36.375 \nQ 6.59375 54.828125 13.0625 64.515625 \nQ 19.53125 74.21875 31.78125 74.21875 \nz\n\" id=\"DejaVuSans-48\"/>\n      </defs>\n      <g transform=\"translate(145.434972 239.238438)scale(0.1 -0.1)\">\n       <use xlink:href=\"#DejaVuSans-8722\"/>\n       <use x=\"83.789062\" xlink:href=\"#DejaVuSans-50\"/>\n       <use x=\"147.412109\" xlink:href=\"#DejaVuSans-46\"/>\n       <use x=\"179.199219\" xlink:href=\"#DejaVuSans-48\"/>\n      </g>\n     </g>\n    </g>\n    <g id=\"xtick_3\">\n     <g id=\"line2d_3\">\n      <g>\n       <use style=\"stroke:#000000;stroke-width:0.8;\" x=\"214.794144\" xlink:href=\"#m15aafbabf4\" y=\"224.64\"/>\n      </g>\n     </g>\n     <g id=\"text_3\">\n      <!-- −1.5 -->\n      <defs>\n       <path d=\"M 12.40625 8.296875 \nL 28.515625 8.296875 \nL 28.515625 63.921875 \nL 10.984375 60.40625 \nL 10.984375 69.390625 \nL 28.421875 72.90625 \nL 38.28125 72.90625 \nL 38.28125 8.296875 \nL 54.390625 8.296875 \nL 54.390625 0 \nL 12.40625 0 \nz\n\" id=\"DejaVuSans-49\"/>\n      </defs>\n      <g transform=\"translate(202.652737 239.238438)scale(0.1 -0.1)\">\n       <use xlink:href=\"#DejaVuSans-8722\"/>\n       <use x=\"83.789062\" xlink:href=\"#DejaVuSans-49\"/>\n       <use x=\"147.412109\" xlink:href=\"#DejaVuSans-46\"/>\n       <use x=\"179.199219\" xlink:href=\"#DejaVuSans-53\"/>\n      </g>\n     </g>\n    </g>\n    <g id=\"xtick_4\">\n     <g id=\"line2d_4\">\n      <g>\n       <use style=\"stroke:#000000;stroke-width:0.8;\" x=\"272.011909\" xlink:href=\"#m15aafbabf4\" y=\"224.64\"/>\n      </g>\n     </g>\n     <g id=\"text_4\">\n      <!-- −1.0 -->\n      <g transform=\"translate(259.870502 239.238438)scale(0.1 -0.1)\">\n       <use xlink:href=\"#DejaVuSans-8722\"/>\n       <use x=\"83.789062\" xlink:href=\"#DejaVuSans-49\"/>\n       <use x=\"147.412109\" xlink:href=\"#DejaVuSans-46\"/>\n       <use x=\"179.199219\" xlink:href=\"#DejaVuSans-48\"/>\n      </g>\n     </g>\n    </g>\n    <g id=\"xtick_5\">\n     <g id=\"line2d_5\">\n      <g>\n       <use style=\"stroke:#000000;stroke-width:0.8;\" x=\"329.229674\" xlink:href=\"#m15aafbabf4\" y=\"224.64\"/>\n      </g>\n     </g>\n     <g id=\"text_5\">\n      <!-- −0.5 -->\n      <g transform=\"translate(317.088268 239.238438)scale(0.1 -0.1)\">\n       <use xlink:href=\"#DejaVuSans-8722\"/>\n       <use x=\"83.789062\" xlink:href=\"#DejaVuSans-48\"/>\n       <use x=\"147.412109\" xlink:href=\"#DejaVuSans-46\"/>\n       <use x=\"179.199219\" xlink:href=\"#DejaVuSans-53\"/>\n      </g>\n     </g>\n    </g>\n    <g id=\"xtick_6\">\n     <g id=\"line2d_6\">\n      <g>\n       <use style=\"stroke:#000000;stroke-width:0.8;\" x=\"386.447439\" xlink:href=\"#m15aafbabf4\" y=\"224.64\"/>\n      </g>\n     </g>\n     <g id=\"text_6\">\n      <!-- 0.0 -->\n      <g transform=\"translate(378.495877 239.238438)scale(0.1 -0.1)\">\n       <use xlink:href=\"#DejaVuSans-48\"/>\n       <use x=\"63.623047\" xlink:href=\"#DejaVuSans-46\"/>\n       <use x=\"95.410156\" xlink:href=\"#DejaVuSans-48\"/>\n      </g>\n     </g>\n    </g>\n   </g>\n   <g id=\"matplotlib.axis_2\">\n    <g id=\"ytick_1\">\n     <g id=\"line2d_7\">\n      <defs>\n       <path d=\"M 0 0 \nL -3.5 0 \n\" id=\"m78960188f5\" style=\"stroke:#000000;stroke-width:0.8;\"/>\n      </defs>\n      <g>\n       <use style=\"stroke:#000000;stroke-width:0.8;\" x=\"81.521875\" xlink:href=\"#m78960188f5\" y=\"219.698182\"/>\n      </g>\n     </g>\n     <g id=\"text_7\">\n      <!-- City -->\n      <defs>\n       <path d=\"M 64.40625 67.28125 \nL 64.40625 56.890625 \nQ 59.421875 61.53125 53.78125 63.8125 \nQ 48.140625 66.109375 41.796875 66.109375 \nQ 29.296875 66.109375 22.65625 58.46875 \nQ 16.015625 50.828125 16.015625 36.375 \nQ 16.015625 21.96875 22.65625 14.328125 \nQ 29.296875 6.6875 41.796875 6.6875 \nQ 48.140625 6.6875 53.78125 8.984375 \nQ 59.421875 11.28125 64.40625 15.921875 \nL 64.40625 5.609375 \nQ 59.234375 2.09375 53.4375 0.328125 \nQ 47.65625 -1.421875 41.21875 -1.421875 \nQ 24.65625 -1.421875 15.125 8.703125 \nQ 5.609375 18.84375 5.609375 36.375 \nQ 5.609375 53.953125 15.125 64.078125 \nQ 24.65625 74.21875 41.21875 74.21875 \nQ 47.75 74.21875 53.53125 72.484375 \nQ 59.328125 70.75 64.40625 67.28125 \nz\n\" id=\"DejaVuSans-67\"/>\n       <path d=\"M 9.421875 54.6875 \nL 18.40625 54.6875 \nL 18.40625 0 \nL 9.421875 0 \nz\nM 9.421875 75.984375 \nL 18.40625 75.984375 \nL 18.40625 64.59375 \nL 9.421875 64.59375 \nz\n\" id=\"DejaVuSans-105\"/>\n       <path d=\"M 18.3125 70.21875 \nL 18.3125 54.6875 \nL 36.8125 54.6875 \nL 36.8125 47.703125 \nL 18.3125 47.703125 \nL 18.3125 18.015625 \nQ 18.3125 11.328125 20.140625 9.421875 \nQ 21.96875 7.515625 27.59375 7.515625 \nL 36.8125 7.515625 \nL 36.8125 0 \nL 27.59375 0 \nQ 17.1875 0 13.234375 3.875 \nQ 9.28125 7.765625 9.28125 18.015625 \nL 9.28125 47.703125 \nL 2.6875 47.703125 \nL 2.6875 54.6875 \nL 9.28125 54.6875 \nL 9.28125 70.21875 \nz\n\" id=\"DejaVuSans-116\"/>\n       <path d=\"M 32.171875 -5.078125 \nQ 28.375 -14.84375 24.75 -17.8125 \nQ 21.140625 -20.796875 15.09375 -20.796875 \nL 7.90625 -20.796875 \nL 7.90625 -13.28125 \nL 13.1875 -13.28125 \nQ 16.890625 -13.28125 18.9375 -11.515625 \nQ 21 -9.765625 23.484375 -3.21875 \nL 25.09375 0.875 \nL 2.984375 54.6875 \nL 12.5 54.6875 \nL 29.59375 11.921875 \nL 46.6875 54.6875 \nL 56.203125 54.6875 \nz\n\" id=\"DejaVuSans-121\"/>\n      </defs>\n      <g transform=\"translate(54.921875 223.497401)scale(0.1 -0.1)\">\n       <use xlink:href=\"#DejaVuSans-67\"/>\n       <use x=\"69.824219\" xlink:href=\"#DejaVuSans-105\"/>\n       <use x=\"97.607422\" xlink:href=\"#DejaVuSans-116\"/>\n       <use x=\"136.816406\" xlink:href=\"#DejaVuSans-121\"/>\n      </g>\n     </g>\n    </g>\n    <g id=\"ytick_2\">\n     <g id=\"line2d_8\">\n      <g>\n       <use style=\"stroke:#000000;stroke-width:0.8;\" x=\"81.521875\" xlink:href=\"#m78960188f5\" y=\"209.814545\"/>\n      </g>\n     </g>\n     <g id=\"text_8\">\n      <!-- County -->\n      <defs>\n       <path d=\"M 30.609375 48.390625 \nQ 23.390625 48.390625 19.1875 42.75 \nQ 14.984375 37.109375 14.984375 27.296875 \nQ 14.984375 17.484375 19.15625 11.84375 \nQ 23.34375 6.203125 30.609375 6.203125 \nQ 37.796875 6.203125 41.984375 11.859375 \nQ 46.1875 17.53125 46.1875 27.296875 \nQ 46.1875 37.015625 41.984375 42.703125 \nQ 37.796875 48.390625 30.609375 48.390625 \nz\nM 30.609375 56 \nQ 42.328125 56 49.015625 48.375 \nQ 55.71875 40.765625 55.71875 27.296875 \nQ 55.71875 13.875 49.015625 6.21875 \nQ 42.328125 -1.421875 30.609375 -1.421875 \nQ 18.84375 -1.421875 12.171875 6.21875 \nQ 5.515625 13.875 5.515625 27.296875 \nQ 5.515625 40.765625 12.171875 48.375 \nQ 18.84375 56 30.609375 56 \nz\n\" id=\"DejaVuSans-111\"/>\n       <path d=\"M 8.5 21.578125 \nL 8.5 54.6875 \nL 17.484375 54.6875 \nL 17.484375 21.921875 \nQ 17.484375 14.15625 20.5 10.265625 \nQ 23.53125 6.390625 29.59375 6.390625 \nQ 36.859375 6.390625 41.078125 11.03125 \nQ 45.3125 15.671875 45.3125 23.6875 \nL 45.3125 54.6875 \nL 54.296875 54.6875 \nL 54.296875 0 \nL 45.3125 0 \nL 45.3125 8.40625 \nQ 42.046875 3.421875 37.71875 1 \nQ 33.40625 -1.421875 27.6875 -1.421875 \nQ 18.265625 -1.421875 13.375 4.4375 \nQ 8.5 10.296875 8.5 21.578125 \nz\nM 31.109375 56 \nz\n\" id=\"DejaVuSans-117\"/>\n       <path d=\"M 54.890625 33.015625 \nL 54.890625 0 \nL 45.90625 0 \nL 45.90625 32.71875 \nQ 45.90625 40.484375 42.875 44.328125 \nQ 39.84375 48.1875 33.796875 48.1875 \nQ 26.515625 48.1875 22.3125 43.546875 \nQ 18.109375 38.921875 18.109375 30.90625 \nL 18.109375 0 \nL 9.078125 0 \nL 9.078125 54.6875 \nL 18.109375 54.6875 \nL 18.109375 46.1875 \nQ 21.34375 51.125 25.703125 53.5625 \nQ 30.078125 56 35.796875 56 \nQ 45.21875 56 50.046875 50.171875 \nQ 54.890625 44.34375 54.890625 33.015625 \nz\n\" id=\"DejaVuSans-110\"/>\n      </defs>\n      <g transform=\"translate(38.90625 213.613764)scale(0.1 -0.1)\">\n       <use xlink:href=\"#DejaVuSans-67\"/>\n       <use x=\"69.824219\" xlink:href=\"#DejaVuSans-111\"/>\n       <use x=\"131.005859\" xlink:href=\"#DejaVuSans-117\"/>\n       <use x=\"194.384766\" xlink:href=\"#DejaVuSans-110\"/>\n       <use x=\"257.763672\" xlink:href=\"#DejaVuSans-116\"/>\n       <use x=\"296.972656\" xlink:href=\"#DejaVuSans-121\"/>\n      </g>\n     </g>\n    </g>\n    <g id=\"ytick_3\">\n     <g id=\"line2d_9\">\n      <g>\n       <use style=\"stroke:#000000;stroke-width:0.8;\" x=\"81.521875\" xlink:href=\"#m78960188f5\" y=\"199.930909\"/>\n      </g>\n     </g>\n     <g id=\"text_9\">\n      <!-- CrashHour -->\n      <defs>\n       <path d=\"M 41.109375 46.296875 \nQ 39.59375 47.171875 37.8125 47.578125 \nQ 36.03125 48 33.890625 48 \nQ 26.265625 48 22.1875 43.046875 \nQ 18.109375 38.09375 18.109375 28.8125 \nL 18.109375 0 \nL 9.078125 0 \nL 9.078125 54.6875 \nL 18.109375 54.6875 \nL 18.109375 46.1875 \nQ 20.953125 51.171875 25.484375 53.578125 \nQ 30.03125 56 36.53125 56 \nQ 37.453125 56 38.578125 55.875 \nQ 39.703125 55.765625 41.0625 55.515625 \nz\n\" id=\"DejaVuSans-114\"/>\n       <path d=\"M 34.28125 27.484375 \nQ 23.390625 27.484375 19.1875 25 \nQ 14.984375 22.515625 14.984375 16.5 \nQ 14.984375 11.71875 18.140625 8.90625 \nQ 21.296875 6.109375 26.703125 6.109375 \nQ 34.1875 6.109375 38.703125 11.40625 \nQ 43.21875 16.703125 43.21875 25.484375 \nL 43.21875 27.484375 \nz\nM 52.203125 31.203125 \nL 52.203125 0 \nL 43.21875 0 \nL 43.21875 8.296875 \nQ 40.140625 3.328125 35.546875 0.953125 \nQ 30.953125 -1.421875 24.3125 -1.421875 \nQ 15.921875 -1.421875 10.953125 3.296875 \nQ 6 8.015625 6 15.921875 \nQ 6 25.140625 12.171875 29.828125 \nQ 18.359375 34.515625 30.609375 34.515625 \nL 43.21875 34.515625 \nL 43.21875 35.40625 \nQ 43.21875 41.609375 39.140625 45 \nQ 35.0625 48.390625 27.6875 48.390625 \nQ 23 48.390625 18.546875 47.265625 \nQ 14.109375 46.140625 10.015625 43.890625 \nL 10.015625 52.203125 \nQ 14.9375 54.109375 19.578125 55.046875 \nQ 24.21875 56 28.609375 56 \nQ 40.484375 56 46.34375 49.84375 \nQ 52.203125 43.703125 52.203125 31.203125 \nz\n\" id=\"DejaVuSans-97\"/>\n       <path d=\"M 44.28125 53.078125 \nL 44.28125 44.578125 \nQ 40.484375 46.53125 36.375 47.5 \nQ 32.28125 48.484375 27.875 48.484375 \nQ 21.1875 48.484375 17.84375 46.4375 \nQ 14.5 44.390625 14.5 40.28125 \nQ 14.5 37.15625 16.890625 35.375 \nQ 19.28125 33.59375 26.515625 31.984375 \nL 29.59375 31.296875 \nQ 39.15625 29.25 43.1875 25.515625 \nQ 47.21875 21.78125 47.21875 15.09375 \nQ 47.21875 7.46875 41.1875 3.015625 \nQ 35.15625 -1.421875 24.609375 -1.421875 \nQ 20.21875 -1.421875 15.453125 -0.5625 \nQ 10.6875 0.296875 5.421875 2 \nL 5.421875 11.28125 \nQ 10.40625 8.6875 15.234375 7.390625 \nQ 20.0625 6.109375 24.8125 6.109375 \nQ 31.15625 6.109375 34.5625 8.28125 \nQ 37.984375 10.453125 37.984375 14.40625 \nQ 37.984375 18.0625 35.515625 20.015625 \nQ 33.0625 21.96875 24.703125 23.78125 \nL 21.578125 24.515625 \nQ 13.234375 26.265625 9.515625 29.90625 \nQ 5.8125 33.546875 5.8125 39.890625 \nQ 5.8125 47.609375 11.28125 51.796875 \nQ 16.75 56 26.8125 56 \nQ 31.78125 56 36.171875 55.265625 \nQ 40.578125 54.546875 44.28125 53.078125 \nz\n\" id=\"DejaVuSans-115\"/>\n       <path d=\"M 54.890625 33.015625 \nL 54.890625 0 \nL 45.90625 0 \nL 45.90625 32.71875 \nQ 45.90625 40.484375 42.875 44.328125 \nQ 39.84375 48.1875 33.796875 48.1875 \nQ 26.515625 48.1875 22.3125 43.546875 \nQ 18.109375 38.921875 18.109375 30.90625 \nL 18.109375 0 \nL 9.078125 0 \nL 9.078125 75.984375 \nL 18.109375 75.984375 \nL 18.109375 46.1875 \nQ 21.34375 51.125 25.703125 53.5625 \nQ 30.078125 56 35.796875 56 \nQ 45.21875 56 50.046875 50.171875 \nQ 54.890625 44.34375 54.890625 33.015625 \nz\n\" id=\"DejaVuSans-104\"/>\n       <path d=\"M 9.8125 72.90625 \nL 19.671875 72.90625 \nL 19.671875 43.015625 \nL 55.515625 43.015625 \nL 55.515625 72.90625 \nL 65.375 72.90625 \nL 65.375 0 \nL 55.515625 0 \nL 55.515625 34.71875 \nL 19.671875 34.71875 \nL 19.671875 0 \nL 9.8125 0 \nz\n\" id=\"DejaVuSans-72\"/>\n      </defs>\n      <g transform=\"translate(21.665625 203.730128)scale(0.1 -0.1)\">\n       <use xlink:href=\"#DejaVuSans-67\"/>\n       <use x=\"69.824219\" xlink:href=\"#DejaVuSans-114\"/>\n       <use x=\"110.9375\" xlink:href=\"#DejaVuSans-97\"/>\n       <use x=\"172.216797\" xlink:href=\"#DejaVuSans-115\"/>\n       <use x=\"224.316406\" xlink:href=\"#DejaVuSans-104\"/>\n       <use x=\"287.695312\" xlink:href=\"#DejaVuSans-72\"/>\n       <use x=\"362.890625\" xlink:href=\"#DejaVuSans-111\"/>\n       <use x=\"424.072266\" xlink:href=\"#DejaVuSans-117\"/>\n       <use x=\"487.451172\" xlink:href=\"#DejaVuSans-114\"/>\n      </g>\n     </g>\n    </g>\n    <g id=\"ytick_4\">\n     <g id=\"line2d_10\">\n      <g>\n       <use style=\"stroke:#000000;stroke-width:0.8;\" x=\"81.521875\" xlink:href=\"#m78960188f5\" y=\"190.047273\"/>\n      </g>\n     </g>\n     <g id=\"text_10\">\n      <!-- CrashMonth -->\n      <defs>\n       <path d=\"M 9.8125 72.90625 \nL 24.515625 72.90625 \nL 43.109375 23.296875 \nL 61.8125 72.90625 \nL 76.515625 72.90625 \nL 76.515625 0 \nL 66.890625 0 \nL 66.890625 64.015625 \nL 48.09375 14.015625 \nL 38.1875 14.015625 \nL 19.390625 64.015625 \nL 19.390625 0 \nL 9.8125 0 \nz\n\" id=\"DejaVuSans-77\"/>\n      </defs>\n      <g transform=\"translate(14.410938 193.846491)scale(0.1 -0.1)\">\n       <use xlink:href=\"#DejaVuSans-67\"/>\n       <use x=\"69.824219\" xlink:href=\"#DejaVuSans-114\"/>\n       <use x=\"110.9375\" xlink:href=\"#DejaVuSans-97\"/>\n       <use x=\"172.216797\" xlink:href=\"#DejaVuSans-115\"/>\n       <use x=\"224.316406\" xlink:href=\"#DejaVuSans-104\"/>\n       <use x=\"287.695312\" xlink:href=\"#DejaVuSans-77\"/>\n       <use x=\"373.974609\" xlink:href=\"#DejaVuSans-111\"/>\n       <use x=\"435.15625\" xlink:href=\"#DejaVuSans-110\"/>\n       <use x=\"498.535156\" xlink:href=\"#DejaVuSans-116\"/>\n       <use x=\"537.744141\" xlink:href=\"#DejaVuSans-104\"/>\n      </g>\n     </g>\n    </g>\n    <g id=\"ytick_5\">\n     <g id=\"line2d_11\">\n      <g>\n       <use style=\"stroke:#000000;stroke-width:0.8;\" x=\"81.521875\" xlink:href=\"#m78960188f5\" y=\"180.163636\"/>\n      </g>\n     </g>\n     <g id=\"text_11\">\n      <!-- Development -->\n      <defs>\n       <path d=\"M 19.671875 64.796875 \nL 19.671875 8.109375 \nL 31.59375 8.109375 \nQ 46.6875 8.109375 53.6875 14.9375 \nQ 60.6875 21.78125 60.6875 36.53125 \nQ 60.6875 51.171875 53.6875 57.984375 \nQ 46.6875 64.796875 31.59375 64.796875 \nz\nM 9.8125 72.90625 \nL 30.078125 72.90625 \nQ 51.265625 72.90625 61.171875 64.09375 \nQ 71.09375 55.28125 71.09375 36.53125 \nQ 71.09375 17.671875 61.125 8.828125 \nQ 51.171875 0 30.078125 0 \nL 9.8125 0 \nz\n\" id=\"DejaVuSans-68\"/>\n       <path d=\"M 56.203125 29.59375 \nL 56.203125 25.203125 \nL 14.890625 25.203125 \nQ 15.484375 15.921875 20.484375 11.0625 \nQ 25.484375 6.203125 34.421875 6.203125 \nQ 39.59375 6.203125 44.453125 7.46875 \nQ 49.3125 8.734375 54.109375 11.28125 \nL 54.109375 2.78125 \nQ 49.265625 0.734375 44.1875 -0.34375 \nQ 39.109375 -1.421875 33.890625 -1.421875 \nQ 20.796875 -1.421875 13.15625 6.1875 \nQ 5.515625 13.8125 5.515625 26.8125 \nQ 5.515625 40.234375 12.765625 48.109375 \nQ 20.015625 56 32.328125 56 \nQ 43.359375 56 49.78125 48.890625 \nQ 56.203125 41.796875 56.203125 29.59375 \nz\nM 47.21875 32.234375 \nQ 47.125 39.59375 43.09375 43.984375 \nQ 39.0625 48.390625 32.421875 48.390625 \nQ 24.90625 48.390625 20.390625 44.140625 \nQ 15.875 39.890625 15.1875 32.171875 \nz\n\" id=\"DejaVuSans-101\"/>\n       <path d=\"M 2.984375 54.6875 \nL 12.5 54.6875 \nL 29.59375 8.796875 \nL 46.6875 54.6875 \nL 56.203125 54.6875 \nL 35.6875 0 \nL 23.484375 0 \nz\n\" id=\"DejaVuSans-118\"/>\n       <path d=\"M 9.421875 75.984375 \nL 18.40625 75.984375 \nL 18.40625 0 \nL 9.421875 0 \nz\n\" id=\"DejaVuSans-108\"/>\n       <path d=\"M 18.109375 8.203125 \nL 18.109375 -20.796875 \nL 9.078125 -20.796875 \nL 9.078125 54.6875 \nL 18.109375 54.6875 \nL 18.109375 46.390625 \nQ 20.953125 51.265625 25.265625 53.625 \nQ 29.59375 56 35.59375 56 \nQ 45.5625 56 51.78125 48.09375 \nQ 58.015625 40.1875 58.015625 27.296875 \nQ 58.015625 14.40625 51.78125 6.484375 \nQ 45.5625 -1.421875 35.59375 -1.421875 \nQ 29.59375 -1.421875 25.265625 0.953125 \nQ 20.953125 3.328125 18.109375 8.203125 \nz\nM 48.6875 27.296875 \nQ 48.6875 37.203125 44.609375 42.84375 \nQ 40.53125 48.484375 33.40625 48.484375 \nQ 26.265625 48.484375 22.1875 42.84375 \nQ 18.109375 37.203125 18.109375 27.296875 \nQ 18.109375 17.390625 22.1875 11.75 \nQ 26.265625 6.109375 33.40625 6.109375 \nQ 40.53125 6.109375 44.609375 11.75 \nQ 48.6875 17.390625 48.6875 27.296875 \nz\n\" id=\"DejaVuSans-112\"/>\n       <path d=\"M 52 44.1875 \nQ 55.375 50.25 60.0625 53.125 \nQ 64.75 56 71.09375 56 \nQ 79.640625 56 84.28125 50.015625 \nQ 88.921875 44.046875 88.921875 33.015625 \nL 88.921875 0 \nL 79.890625 0 \nL 79.890625 32.71875 \nQ 79.890625 40.578125 77.09375 44.375 \nQ 74.3125 48.1875 68.609375 48.1875 \nQ 61.625 48.1875 57.5625 43.546875 \nQ 53.515625 38.921875 53.515625 30.90625 \nL 53.515625 0 \nL 44.484375 0 \nL 44.484375 32.71875 \nQ 44.484375 40.625 41.703125 44.40625 \nQ 38.921875 48.1875 33.109375 48.1875 \nQ 26.21875 48.1875 22.15625 43.53125 \nQ 18.109375 38.875 18.109375 30.90625 \nL 18.109375 0 \nL 9.078125 0 \nL 9.078125 54.6875 \nL 18.109375 54.6875 \nL 18.109375 46.1875 \nQ 21.1875 51.21875 25.484375 53.609375 \nQ 29.78125 56 35.6875 56 \nQ 41.65625 56 45.828125 52.96875 \nQ 50 49.953125 52 44.1875 \nz\n\" id=\"DejaVuSans-109\"/>\n      </defs>\n      <g transform=\"translate(7.2 183.962855)scale(0.1 -0.1)\">\n       <use xlink:href=\"#DejaVuSans-68\"/>\n       <use x=\"77.001953\" xlink:href=\"#DejaVuSans-101\"/>\n       <use x=\"138.525391\" xlink:href=\"#DejaVuSans-118\"/>\n       <use x=\"197.705078\" xlink:href=\"#DejaVuSans-101\"/>\n       <use x=\"259.228516\" xlink:href=\"#DejaVuSans-108\"/>\n       <use x=\"287.011719\" xlink:href=\"#DejaVuSans-111\"/>\n       <use x=\"348.193359\" xlink:href=\"#DejaVuSans-112\"/>\n       <use x=\"411.669922\" xlink:href=\"#DejaVuSans-109\"/>\n       <use x=\"509.082031\" xlink:href=\"#DejaVuSans-101\"/>\n       <use x=\"570.605469\" xlink:href=\"#DejaVuSans-110\"/>\n       <use x=\"633.984375\" xlink:href=\"#DejaVuSans-116\"/>\n      </g>\n     </g>\n    </g>\n    <g id=\"ytick_6\">\n     <g id=\"line2d_12\">\n      <g>\n       <use style=\"stroke:#000000;stroke-width:0.8;\" x=\"81.521875\" xlink:href=\"#m78960188f5\" y=\"170.28\"/>\n      </g>\n     </g>\n     <g id=\"text_12\">\n      <!-- LightCond -->\n      <defs>\n       <path d=\"M 9.8125 72.90625 \nL 19.671875 72.90625 \nL 19.671875 8.296875 \nL 55.171875 8.296875 \nL 55.171875 0 \nL 9.8125 0 \nz\n\" id=\"DejaVuSans-76\"/>\n       <path d=\"M 45.40625 27.984375 \nQ 45.40625 37.75 41.375 43.109375 \nQ 37.359375 48.484375 30.078125 48.484375 \nQ 22.859375 48.484375 18.828125 43.109375 \nQ 14.796875 37.75 14.796875 27.984375 \nQ 14.796875 18.265625 18.828125 12.890625 \nQ 22.859375 7.515625 30.078125 7.515625 \nQ 37.359375 7.515625 41.375 12.890625 \nQ 45.40625 18.265625 45.40625 27.984375 \nz\nM 54.390625 6.78125 \nQ 54.390625 -7.171875 48.1875 -13.984375 \nQ 42 -20.796875 29.203125 -20.796875 \nQ 24.46875 -20.796875 20.265625 -20.09375 \nQ 16.0625 -19.390625 12.109375 -17.921875 \nL 12.109375 -9.1875 \nQ 16.0625 -11.328125 19.921875 -12.34375 \nQ 23.78125 -13.375 27.78125 -13.375 \nQ 36.625 -13.375 41.015625 -8.765625 \nQ 45.40625 -4.15625 45.40625 5.171875 \nL 45.40625 9.625 \nQ 42.625 4.78125 38.28125 2.390625 \nQ 33.9375 0 27.875 0 \nQ 17.828125 0 11.671875 7.65625 \nQ 5.515625 15.328125 5.515625 27.984375 \nQ 5.515625 40.671875 11.671875 48.328125 \nQ 17.828125 56 27.875 56 \nQ 33.9375 56 38.28125 53.609375 \nQ 42.625 51.21875 45.40625 46.390625 \nL 45.40625 54.6875 \nL 54.390625 54.6875 \nz\n\" id=\"DejaVuSans-103\"/>\n       <path d=\"M 45.40625 46.390625 \nL 45.40625 75.984375 \nL 54.390625 75.984375 \nL 54.390625 0 \nL 45.40625 0 \nL 45.40625 8.203125 \nQ 42.578125 3.328125 38.25 0.953125 \nQ 33.9375 -1.421875 27.875 -1.421875 \nQ 17.96875 -1.421875 11.734375 6.484375 \nQ 5.515625 14.40625 5.515625 27.296875 \nQ 5.515625 40.1875 11.734375 48.09375 \nQ 17.96875 56 27.875 56 \nQ 33.9375 56 38.25 53.625 \nQ 42.578125 51.265625 45.40625 46.390625 \nz\nM 14.796875 27.296875 \nQ 14.796875 17.390625 18.875 11.75 \nQ 22.953125 6.109375 30.078125 6.109375 \nQ 37.203125 6.109375 41.296875 11.75 \nQ 45.40625 17.390625 45.40625 27.296875 \nQ 45.40625 37.203125 41.296875 42.84375 \nQ 37.203125 48.484375 30.078125 48.484375 \nQ 22.953125 48.484375 18.875 42.84375 \nQ 14.796875 37.203125 14.796875 27.296875 \nz\n\" id=\"DejaVuSans-100\"/>\n      </defs>\n      <g transform=\"translate(23.778125 174.079219)scale(0.1 -0.1)\">\n       <use xlink:href=\"#DejaVuSans-76\"/>\n       <use x=\"55.712891\" xlink:href=\"#DejaVuSans-105\"/>\n       <use x=\"83.496094\" xlink:href=\"#DejaVuSans-103\"/>\n       <use x=\"146.972656\" xlink:href=\"#DejaVuSans-104\"/>\n       <use x=\"210.351562\" xlink:href=\"#DejaVuSans-116\"/>\n       <use x=\"249.560547\" xlink:href=\"#DejaVuSans-67\"/>\n       <use x=\"319.384766\" xlink:href=\"#DejaVuSans-111\"/>\n       <use x=\"380.566406\" xlink:href=\"#DejaVuSans-110\"/>\n       <use x=\"443.945312\" xlink:href=\"#DejaVuSans-100\"/>\n      </g>\n     </g>\n    </g>\n    <g id=\"ytick_7\">\n     <g id=\"line2d_13\">\n      <g>\n       <use style=\"stroke:#000000;stroke-width:0.8;\" x=\"81.521875\" xlink:href=\"#m78960188f5\" y=\"160.396364\"/>\n      </g>\n     </g>\n     <g id=\"text_13\">\n      <!-- Locality -->\n      <defs>\n       <path d=\"M 48.78125 52.59375 \nL 48.78125 44.1875 \nQ 44.96875 46.296875 41.140625 47.34375 \nQ 37.3125 48.390625 33.40625 48.390625 \nQ 24.65625 48.390625 19.8125 42.84375 \nQ 14.984375 37.3125 14.984375 27.296875 \nQ 14.984375 17.28125 19.8125 11.734375 \nQ 24.65625 6.203125 33.40625 6.203125 \nQ 37.3125 6.203125 41.140625 7.25 \nQ 44.96875 8.296875 48.78125 10.40625 \nL 48.78125 2.09375 \nQ 45.015625 0.34375 40.984375 -0.53125 \nQ 36.96875 -1.421875 32.421875 -1.421875 \nQ 20.0625 -1.421875 12.78125 6.34375 \nQ 5.515625 14.109375 5.515625 27.296875 \nQ 5.515625 40.671875 12.859375 48.328125 \nQ 20.21875 56 33.015625 56 \nQ 37.15625 56 41.109375 55.140625 \nQ 45.0625 54.296875 48.78125 52.59375 \nz\n\" id=\"DejaVuSans-99\"/>\n      </defs>\n      <g transform=\"translate(35.810938 164.195582)scale(0.1 -0.1)\">\n       <use xlink:href=\"#DejaVuSans-76\"/>\n       <use x=\"55.697266\" xlink:href=\"#DejaVuSans-111\"/>\n       <use x=\"116.878906\" xlink:href=\"#DejaVuSans-99\"/>\n       <use x=\"171.859375\" xlink:href=\"#DejaVuSans-97\"/>\n       <use x=\"233.138672\" xlink:href=\"#DejaVuSans-108\"/>\n       <use x=\"260.921875\" xlink:href=\"#DejaVuSans-105\"/>\n       <use x=\"288.705078\" xlink:href=\"#DejaVuSans-116\"/>\n       <use x=\"327.914062\" xlink:href=\"#DejaVuSans-121\"/>\n      </g>\n     </g>\n    </g>\n    <g id=\"ytick_8\">\n     <g id=\"line2d_14\">\n      <g>\n       <use style=\"stroke:#000000;stroke-width:0.8;\" x=\"81.521875\" xlink:href=\"#m78960188f5\" y=\"150.512727\"/>\n      </g>\n     </g>\n     <g id=\"text_14\">\n      <!-- NumLanes -->\n      <defs>\n       <path d=\"M 9.8125 72.90625 \nL 23.09375 72.90625 \nL 55.421875 11.921875 \nL 55.421875 72.90625 \nL 64.984375 72.90625 \nL 64.984375 0 \nL 51.703125 0 \nL 19.390625 60.984375 \nL 19.390625 0 \nL 9.8125 0 \nz\n\" id=\"DejaVuSans-78\"/>\n      </defs>\n      <g transform=\"translate(21.5625 154.311946)scale(0.1 -0.1)\">\n       <use xlink:href=\"#DejaVuSans-78\"/>\n       <use x=\"74.804688\" xlink:href=\"#DejaVuSans-117\"/>\n       <use x=\"138.183594\" xlink:href=\"#DejaVuSans-109\"/>\n       <use x=\"235.595703\" xlink:href=\"#DejaVuSans-76\"/>\n       <use x=\"291.308594\" xlink:href=\"#DejaVuSans-97\"/>\n       <use x=\"352.587891\" xlink:href=\"#DejaVuSans-110\"/>\n       <use x=\"415.966797\" xlink:href=\"#DejaVuSans-101\"/>\n       <use x=\"477.490234\" xlink:href=\"#DejaVuSans-115\"/>\n      </g>\n     </g>\n    </g>\n    <g id=\"ytick_9\">\n     <g id=\"line2d_15\">\n      <g>\n       <use style=\"stroke:#000000;stroke-width:0.8;\" x=\"81.521875\" xlink:href=\"#m78960188f5\" y=\"140.629091\"/>\n      </g>\n     </g>\n     <g id=\"text_15\">\n      <!-- RdCharacte -->\n      <defs>\n       <path d=\"M 44.390625 34.1875 \nQ 47.5625 33.109375 50.5625 29.59375 \nQ 53.5625 26.078125 56.59375 19.921875 \nL 66.609375 0 \nL 56 0 \nL 46.6875 18.703125 \nQ 43.0625 26.03125 39.671875 28.421875 \nQ 36.28125 30.8125 30.421875 30.8125 \nL 19.671875 30.8125 \nL 19.671875 0 \nL 9.8125 0 \nL 9.8125 72.90625 \nL 32.078125 72.90625 \nQ 44.578125 72.90625 50.734375 67.671875 \nQ 56.890625 62.453125 56.890625 51.90625 \nQ 56.890625 45.015625 53.6875 40.46875 \nQ 50.484375 35.9375 44.390625 34.1875 \nz\nM 19.671875 64.796875 \nL 19.671875 38.921875 \nL 32.078125 38.921875 \nQ 39.203125 38.921875 42.84375 42.21875 \nQ 46.484375 45.515625 46.484375 51.90625 \nQ 46.484375 58.296875 42.84375 61.546875 \nQ 39.203125 64.796875 32.078125 64.796875 \nz\n\" id=\"DejaVuSans-82\"/>\n      </defs>\n      <g transform=\"translate(15.965625 144.42831)scale(0.1 -0.1)\">\n       <use xlink:href=\"#DejaVuSans-82\"/>\n       <use x=\"69.482422\" xlink:href=\"#DejaVuSans-100\"/>\n       <use x=\"132.958984\" xlink:href=\"#DejaVuSans-67\"/>\n       <use x=\"202.783203\" xlink:href=\"#DejaVuSans-104\"/>\n       <use x=\"266.162109\" xlink:href=\"#DejaVuSans-97\"/>\n       <use x=\"327.441406\" xlink:href=\"#DejaVuSans-114\"/>\n       <use x=\"368.554688\" xlink:href=\"#DejaVuSans-97\"/>\n       <use x=\"429.833984\" xlink:href=\"#DejaVuSans-99\"/>\n       <use x=\"484.814453\" xlink:href=\"#DejaVuSans-116\"/>\n       <use x=\"524.023438\" xlink:href=\"#DejaVuSans-101\"/>\n      </g>\n     </g>\n    </g>\n    <g id=\"ytick_10\">\n     <g id=\"line2d_16\">\n      <g>\n       <use style=\"stroke:#000000;stroke-width:0.8;\" x=\"81.521875\" xlink:href=\"#m78960188f5\" y=\"130.745455\"/>\n      </g>\n     </g>\n     <g id=\"text_16\">\n      <!-- RdClass -->\n      <g transform=\"translate(34.917188 134.544673)scale(0.1 -0.1)\">\n       <use xlink:href=\"#DejaVuSans-82\"/>\n       <use x=\"69.482422\" xlink:href=\"#DejaVuSans-100\"/>\n       <use x=\"132.958984\" xlink:href=\"#DejaVuSans-67\"/>\n       <use x=\"202.783203\" xlink:href=\"#DejaVuSans-108\"/>\n       <use x=\"230.566406\" xlink:href=\"#DejaVuSans-97\"/>\n       <use x=\"291.845703\" xlink:href=\"#DejaVuSans-115\"/>\n       <use x=\"343.945312\" xlink:href=\"#DejaVuSans-115\"/>\n      </g>\n     </g>\n    </g>\n    <g id=\"ytick_11\">\n     <g id=\"line2d_17\">\n      <g>\n       <use style=\"stroke:#000000;stroke-width:0.8;\" x=\"81.521875\" xlink:href=\"#m78960188f5\" y=\"120.861818\"/>\n      </g>\n     </g>\n     <g id=\"text_17\">\n      <!-- RdConditio -->\n      <g transform=\"translate(19.842188 124.661037)scale(0.1 -0.1)\">\n       <use xlink:href=\"#DejaVuSans-82\"/>\n       <use x=\"69.482422\" xlink:href=\"#DejaVuSans-100\"/>\n       <use x=\"132.958984\" xlink:href=\"#DejaVuSans-67\"/>\n       <use x=\"202.783203\" xlink:href=\"#DejaVuSans-111\"/>\n       <use x=\"263.964844\" xlink:href=\"#DejaVuSans-110\"/>\n       <use x=\"327.34375\" xlink:href=\"#DejaVuSans-100\"/>\n       <use x=\"390.820312\" xlink:href=\"#DejaVuSans-105\"/>\n       <use x=\"418.603516\" xlink:href=\"#DejaVuSans-116\"/>\n       <use x=\"457.8125\" xlink:href=\"#DejaVuSans-105\"/>\n       <use x=\"485.595703\" xlink:href=\"#DejaVuSans-111\"/>\n      </g>\n     </g>\n    </g>\n    <g id=\"ytick_12\">\n     <g id=\"line2d_18\">\n      <g>\n       <use style=\"stroke:#000000;stroke-width:0.8;\" x=\"81.521875\" xlink:href=\"#m78960188f5\" y=\"110.978182\"/>\n      </g>\n     </g>\n     <g id=\"text_18\">\n      <!-- RdConfig -->\n      <defs>\n       <path d=\"M 37.109375 75.984375 \nL 37.109375 68.5 \nL 28.515625 68.5 \nQ 23.6875 68.5 21.796875 66.546875 \nQ 19.921875 64.59375 19.921875 59.515625 \nL 19.921875 54.6875 \nL 34.71875 54.6875 \nL 34.71875 47.703125 \nL 19.921875 47.703125 \nL 19.921875 0 \nL 10.890625 0 \nL 10.890625 47.703125 \nL 2.296875 47.703125 \nL 2.296875 54.6875 \nL 10.890625 54.6875 \nL 10.890625 58.5 \nQ 10.890625 67.625 15.140625 71.796875 \nQ 19.390625 75.984375 28.609375 75.984375 \nz\n\" id=\"DejaVuSans-102\"/>\n      </defs>\n      <g transform=\"translate(29.139063 114.777401)scale(0.1 -0.1)\">\n       <use xlink:href=\"#DejaVuSans-82\"/>\n       <use x=\"69.482422\" xlink:href=\"#DejaVuSans-100\"/>\n       <use x=\"132.958984\" xlink:href=\"#DejaVuSans-67\"/>\n       <use x=\"202.783203\" xlink:href=\"#DejaVuSans-111\"/>\n       <use x=\"263.964844\" xlink:href=\"#DejaVuSans-110\"/>\n       <use x=\"327.34375\" xlink:href=\"#DejaVuSans-102\"/>\n       <use x=\"362.548828\" xlink:href=\"#DejaVuSans-105\"/>\n       <use x=\"390.332031\" xlink:href=\"#DejaVuSans-103\"/>\n      </g>\n     </g>\n    </g>\n    <g id=\"ytick_13\">\n     <g id=\"line2d_19\">\n      <g>\n       <use style=\"stroke:#000000;stroke-width:0.8;\" x=\"81.521875\" xlink:href=\"#m78960188f5\" y=\"101.094545\"/>\n      </g>\n     </g>\n     <g id=\"text_19\">\n      <!-- RdDefects -->\n      <g transform=\"translate(23.070313 104.893764)scale(0.1 -0.1)\">\n       <use xlink:href=\"#DejaVuSans-82\"/>\n       <use x=\"69.482422\" xlink:href=\"#DejaVuSans-100\"/>\n       <use x=\"132.958984\" xlink:href=\"#DejaVuSans-68\"/>\n       <use x=\"209.960938\" xlink:href=\"#DejaVuSans-101\"/>\n       <use x=\"271.484375\" xlink:href=\"#DejaVuSans-102\"/>\n       <use x=\"306.689453\" xlink:href=\"#DejaVuSans-101\"/>\n       <use x=\"368.212891\" xlink:href=\"#DejaVuSans-99\"/>\n       <use x=\"423.193359\" xlink:href=\"#DejaVuSans-116\"/>\n       <use x=\"462.402344\" xlink:href=\"#DejaVuSans-115\"/>\n      </g>\n     </g>\n    </g>\n    <g id=\"ytick_14\">\n     <g id=\"line2d_20\">\n      <g>\n       <use style=\"stroke:#000000;stroke-width:0.8;\" x=\"81.521875\" xlink:href=\"#m78960188f5\" y=\"91.210909\"/>\n      </g>\n     </g>\n     <g id=\"text_20\">\n      <!-- RdFeature -->\n      <defs>\n       <path d=\"M 9.8125 72.90625 \nL 51.703125 72.90625 \nL 51.703125 64.59375 \nL 19.671875 64.59375 \nL 19.671875 43.109375 \nL 48.578125 43.109375 \nL 48.578125 34.8125 \nL 19.671875 34.8125 \nL 19.671875 0 \nL 9.8125 0 \nz\n\" id=\"DejaVuSans-70\"/>\n      </defs>\n      <g transform=\"translate(22.68125 95.010128)scale(0.1 -0.1)\">\n       <use xlink:href=\"#DejaVuSans-82\"/>\n       <use x=\"69.482422\" xlink:href=\"#DejaVuSans-100\"/>\n       <use x=\"132.958984\" xlink:href=\"#DejaVuSans-70\"/>\n       <use x=\"190.400391\" xlink:href=\"#DejaVuSans-101\"/>\n       <use x=\"251.923828\" xlink:href=\"#DejaVuSans-97\"/>\n       <use x=\"313.203125\" xlink:href=\"#DejaVuSans-116\"/>\n       <use x=\"352.412109\" xlink:href=\"#DejaVuSans-117\"/>\n       <use x=\"415.791016\" xlink:href=\"#DejaVuSans-114\"/>\n       <use x=\"456.873047\" xlink:href=\"#DejaVuSans-101\"/>\n      </g>\n     </g>\n    </g>\n    <g id=\"ytick_15\">\n     <g id=\"line2d_21\">\n      <g>\n       <use style=\"stroke:#000000;stroke-width:0.8;\" x=\"81.521875\" xlink:href=\"#m78960188f5\" y=\"81.327273\"/>\n      </g>\n     </g>\n     <g id=\"text_21\">\n      <!-- RdSurface -->\n      <defs>\n       <path d=\"M 53.515625 70.515625 \nL 53.515625 60.890625 \nQ 47.90625 63.578125 42.921875 64.890625 \nQ 37.9375 66.21875 33.296875 66.21875 \nQ 25.25 66.21875 20.875 63.09375 \nQ 16.5 59.96875 16.5 54.203125 \nQ 16.5 49.359375 19.40625 46.890625 \nQ 22.3125 44.4375 30.421875 42.921875 \nL 36.375 41.703125 \nQ 47.40625 39.59375 52.65625 34.296875 \nQ 57.90625 29 57.90625 20.125 \nQ 57.90625 9.515625 50.796875 4.046875 \nQ 43.703125 -1.421875 29.984375 -1.421875 \nQ 24.8125 -1.421875 18.96875 -0.25 \nQ 13.140625 0.921875 6.890625 3.21875 \nL 6.890625 13.375 \nQ 12.890625 10.015625 18.65625 8.296875 \nQ 24.421875 6.59375 29.984375 6.59375 \nQ 38.421875 6.59375 43.015625 9.90625 \nQ 47.609375 13.234375 47.609375 19.390625 \nQ 47.609375 24.75 44.3125 27.78125 \nQ 41.015625 30.8125 33.5 32.328125 \nL 27.484375 33.5 \nQ 16.453125 35.6875 11.515625 40.375 \nQ 6.59375 45.0625 6.59375 53.421875 \nQ 6.59375 63.09375 13.40625 68.65625 \nQ 20.21875 74.21875 32.171875 74.21875 \nQ 37.3125 74.21875 42.625 73.28125 \nQ 47.953125 72.359375 53.515625 70.515625 \nz\n\" id=\"DejaVuSans-83\"/>\n      </defs>\n      <g transform=\"translate(23.128125 85.126491)scale(0.1 -0.1)\">\n       <use xlink:href=\"#DejaVuSans-82\"/>\n       <use x=\"69.482422\" xlink:href=\"#DejaVuSans-100\"/>\n       <use x=\"132.958984\" xlink:href=\"#DejaVuSans-83\"/>\n       <use x=\"196.435547\" xlink:href=\"#DejaVuSans-117\"/>\n       <use x=\"259.814453\" xlink:href=\"#DejaVuSans-114\"/>\n       <use x=\"300.927734\" xlink:href=\"#DejaVuSans-102\"/>\n       <use x=\"336.132812\" xlink:href=\"#DejaVuSans-97\"/>\n       <use x=\"397.412109\" xlink:href=\"#DejaVuSans-99\"/>\n       <use x=\"452.392578\" xlink:href=\"#DejaVuSans-101\"/>\n      </g>\n     </g>\n    </g>\n    <g id=\"ytick_16\">\n     <g id=\"line2d_22\">\n      <g>\n       <use style=\"stroke:#000000;stroke-width:0.8;\" x=\"81.521875\" xlink:href=\"#m78960188f5\" y=\"71.443636\"/>\n      </g>\n     </g>\n     <g id=\"text_22\">\n      <!-- Region -->\n      <g transform=\"translate(39.84375 75.242855)scale(0.1 -0.1)\">\n       <use xlink:href=\"#DejaVuSans-82\"/>\n       <use x=\"69.419922\" xlink:href=\"#DejaVuSans-101\"/>\n       <use x=\"130.943359\" xlink:href=\"#DejaVuSans-103\"/>\n       <use x=\"194.419922\" xlink:href=\"#DejaVuSans-105\"/>\n       <use x=\"222.203125\" xlink:href=\"#DejaVuSans-111\"/>\n       <use x=\"283.384766\" xlink:href=\"#DejaVuSans-110\"/>\n      </g>\n     </g>\n    </g>\n    <g id=\"ytick_17\">\n     <g id=\"line2d_23\">\n      <g>\n       <use style=\"stroke:#000000;stroke-width:0.8;\" x=\"81.521875\" xlink:href=\"#m78960188f5\" y=\"61.56\"/>\n      </g>\n     </g>\n     <g id=\"text_23\">\n      <!-- RuralUrban -->\n      <defs>\n       <path d=\"M 8.6875 72.90625 \nL 18.609375 72.90625 \nL 18.609375 28.609375 \nQ 18.609375 16.890625 22.84375 11.734375 \nQ 27.09375 6.59375 36.625 6.59375 \nQ 46.09375 6.59375 50.34375 11.734375 \nQ 54.59375 16.890625 54.59375 28.609375 \nL 54.59375 72.90625 \nL 64.5 72.90625 \nL 64.5 27.390625 \nQ 64.5 13.140625 57.4375 5.859375 \nQ 50.390625 -1.421875 36.625 -1.421875 \nQ 22.796875 -1.421875 15.734375 5.859375 \nQ 8.6875 13.140625 8.6875 27.390625 \nz\n\" id=\"DejaVuSans-85\"/>\n       <path d=\"M 48.6875 27.296875 \nQ 48.6875 37.203125 44.609375 42.84375 \nQ 40.53125 48.484375 33.40625 48.484375 \nQ 26.265625 48.484375 22.1875 42.84375 \nQ 18.109375 37.203125 18.109375 27.296875 \nQ 18.109375 17.390625 22.1875 11.75 \nQ 26.265625 6.109375 33.40625 6.109375 \nQ 40.53125 6.109375 44.609375 11.75 \nQ 48.6875 17.390625 48.6875 27.296875 \nz\nM 18.109375 46.390625 \nQ 20.953125 51.265625 25.265625 53.625 \nQ 29.59375 56 35.59375 56 \nQ 45.5625 56 51.78125 48.09375 \nQ 58.015625 40.1875 58.015625 27.296875 \nQ 58.015625 14.40625 51.78125 6.484375 \nQ 45.5625 -1.421875 35.59375 -1.421875 \nQ 29.59375 -1.421875 25.265625 0.953125 \nQ 20.953125 3.328125 18.109375 8.203125 \nL 18.109375 0 \nL 9.078125 0 \nL 9.078125 75.984375 \nL 18.109375 75.984375 \nz\n\" id=\"DejaVuSans-98\"/>\n      </defs>\n      <g transform=\"translate(17.98125 65.359219)scale(0.1 -0.1)\">\n       <use xlink:href=\"#DejaVuSans-82\"/>\n       <use x=\"69.419922\" xlink:href=\"#DejaVuSans-117\"/>\n       <use x=\"132.798828\" xlink:href=\"#DejaVuSans-114\"/>\n       <use x=\"173.912109\" xlink:href=\"#DejaVuSans-97\"/>\n       <use x=\"235.191406\" xlink:href=\"#DejaVuSans-108\"/>\n       <use x=\"262.974609\" xlink:href=\"#DejaVuSans-85\"/>\n       <use x=\"336.167969\" xlink:href=\"#DejaVuSans-114\"/>\n       <use x=\"377.28125\" xlink:href=\"#DejaVuSans-98\"/>\n       <use x=\"440.757812\" xlink:href=\"#DejaVuSans-97\"/>\n       <use x=\"502.037109\" xlink:href=\"#DejaVuSans-110\"/>\n      </g>\n     </g>\n    </g>\n    <g id=\"ytick_18\">\n     <g id=\"line2d_24\">\n      <g>\n       <use style=\"stroke:#000000;stroke-width:0.8;\" x=\"81.521875\" xlink:href=\"#m78960188f5\" y=\"51.676364\"/>\n      </g>\n     </g>\n     <g id=\"text_24\">\n      <!-- SpeedLimit -->\n      <g transform=\"translate(18.38125 55.475582)scale(0.1 -0.1)\">\n       <use xlink:href=\"#DejaVuSans-83\"/>\n       <use x=\"63.476562\" xlink:href=\"#DejaVuSans-112\"/>\n       <use x=\"126.953125\" xlink:href=\"#DejaVuSans-101\"/>\n       <use x=\"188.476562\" xlink:href=\"#DejaVuSans-101\"/>\n       <use x=\"250\" xlink:href=\"#DejaVuSans-100\"/>\n       <use x=\"313.476562\" xlink:href=\"#DejaVuSans-76\"/>\n       <use x=\"369.189453\" xlink:href=\"#DejaVuSans-105\"/>\n       <use x=\"396.972656\" xlink:href=\"#DejaVuSans-109\"/>\n       <use x=\"494.384766\" xlink:href=\"#DejaVuSans-105\"/>\n       <use x=\"522.167969\" xlink:href=\"#DejaVuSans-116\"/>\n      </g>\n     </g>\n    </g>\n    <g id=\"ytick_19\">\n     <g id=\"line2d_25\">\n      <g>\n       <use style=\"stroke:#000000;stroke-width:0.8;\" x=\"81.521875\" xlink:href=\"#m78960188f5\" y=\"41.792727\"/>\n      </g>\n     </g>\n     <g id=\"text_25\">\n      <!-- TraffCntrl -->\n      <defs>\n       <path d=\"M -0.296875 72.90625 \nL 61.375 72.90625 \nL 61.375 64.59375 \nL 35.5 64.59375 \nL 35.5 0 \nL 25.59375 0 \nL 25.59375 64.59375 \nL -0.296875 64.59375 \nz\n\" id=\"DejaVuSans-84\"/>\n      </defs>\n      <g transform=\"translate(27.026563 45.591946)scale(0.1 -0.1)\">\n       <use xlink:href=\"#DejaVuSans-84\"/>\n       <use x=\"60.865234\" xlink:href=\"#DejaVuSans-114\"/>\n       <use x=\"101.978516\" xlink:href=\"#DejaVuSans-97\"/>\n       <use x=\"163.257812\" xlink:href=\"#DejaVuSans-102\"/>\n       <use x=\"198.462891\" xlink:href=\"#DejaVuSans-102\"/>\n       <use x=\"233.667969\" xlink:href=\"#DejaVuSans-67\"/>\n       <use x=\"303.492188\" xlink:href=\"#DejaVuSans-110\"/>\n       <use x=\"366.871094\" xlink:href=\"#DejaVuSans-116\"/>\n       <use x=\"406.080078\" xlink:href=\"#DejaVuSans-114\"/>\n       <use x=\"447.193359\" xlink:href=\"#DejaVuSans-108\"/>\n      </g>\n     </g>\n    </g>\n    <g id=\"ytick_20\">\n     <g id=\"line2d_26\">\n      <g>\n       <use style=\"stroke:#000000;stroke-width:0.8;\" x=\"81.521875\" xlink:href=\"#m78960188f5\" y=\"31.909091\"/>\n      </g>\n     </g>\n     <g id=\"text_26\">\n      <!-- Weather -->\n      <defs>\n       <path d=\"M 3.328125 72.90625 \nL 13.28125 72.90625 \nL 28.609375 11.28125 \nL 43.890625 72.90625 \nL 54.984375 72.90625 \nL 70.3125 11.28125 \nL 85.59375 72.90625 \nL 95.609375 72.90625 \nL 77.296875 0 \nL 64.890625 0 \nL 49.515625 63.28125 \nL 33.984375 0 \nL 21.578125 0 \nz\n\" id=\"DejaVuSans-87\"/>\n      </defs>\n      <g transform=\"translate(31.839063 35.70831)scale(0.1 -0.1)\">\n       <use xlink:href=\"#DejaVuSans-87\"/>\n       <use x=\"98.798828\" xlink:href=\"#DejaVuSans-101\"/>\n       <use x=\"160.322266\" xlink:href=\"#DejaVuSans-97\"/>\n       <use x=\"221.601562\" xlink:href=\"#DejaVuSans-116\"/>\n       <use x=\"260.810547\" xlink:href=\"#DejaVuSans-104\"/>\n       <use x=\"324.189453\" xlink:href=\"#DejaVuSans-101\"/>\n       <use x=\"385.712891\" xlink:href=\"#DejaVuSans-114\"/>\n      </g>\n     </g>\n    </g>\n    <g id=\"ytick_21\">\n     <g id=\"line2d_27\">\n      <g>\n       <use style=\"stroke:#000000;stroke-width:0.8;\" x=\"81.521875\" xlink:href=\"#m78960188f5\" y=\"22.025455\"/>\n      </g>\n     </g>\n     <g id=\"text_27\">\n      <!-- Workzone -->\n      <defs>\n       <path d=\"M 9.078125 75.984375 \nL 18.109375 75.984375 \nL 18.109375 31.109375 \nL 44.921875 54.6875 \nL 56.390625 54.6875 \nL 27.390625 29.109375 \nL 57.625 0 \nL 45.90625 0 \nL 18.109375 26.703125 \nL 18.109375 0 \nL 9.078125 0 \nz\n\" id=\"DejaVuSans-107\"/>\n       <path d=\"M 5.515625 54.6875 \nL 48.1875 54.6875 \nL 48.1875 46.484375 \nL 14.40625 7.171875 \nL 48.1875 7.171875 \nL 48.1875 0 \nL 4.296875 0 \nL 4.296875 8.203125 \nL 38.09375 47.515625 \nL 5.515625 47.515625 \nz\n\" id=\"DejaVuSans-122\"/>\n      </defs>\n      <g transform=\"translate(24.764063 25.824673)scale(0.1 -0.1)\">\n       <use xlink:href=\"#DejaVuSans-87\"/>\n       <use x=\"98.798828\" xlink:href=\"#DejaVuSans-111\"/>\n       <use x=\"159.980469\" xlink:href=\"#DejaVuSans-114\"/>\n       <use x=\"201.09375\" xlink:href=\"#DejaVuSans-107\"/>\n       <use x=\"259.003906\" xlink:href=\"#DejaVuSans-122\"/>\n       <use x=\"311.494141\" xlink:href=\"#DejaVuSans-111\"/>\n       <use x=\"372.675781\" xlink:href=\"#DejaVuSans-110\"/>\n       <use x=\"436.054688\" xlink:href=\"#DejaVuSans-101\"/>\n      </g>\n     </g>\n    </g>\n    <g id=\"ytick_22\">\n     <g id=\"line2d_28\">\n      <g>\n       <use style=\"stroke:#000000;stroke-width:0.8;\" x=\"81.521875\" xlink:href=\"#m78960188f5\" y=\"12.141818\"/>\n      </g>\n     </g>\n     <g id=\"text_28\">\n      <!-- (y intercept) -->\n      <defs>\n       <path d=\"M 31 75.875 \nQ 24.46875 64.65625 21.28125 53.65625 \nQ 18.109375 42.671875 18.109375 31.390625 \nQ 18.109375 20.125 21.3125 9.0625 \nQ 24.515625 -2 31 -13.1875 \nL 23.1875 -13.1875 \nQ 15.875 -1.703125 12.234375 9.375 \nQ 8.59375 20.453125 8.59375 31.390625 \nQ 8.59375 42.28125 12.203125 53.3125 \nQ 15.828125 64.359375 23.1875 75.875 \nz\n\" id=\"DejaVuSans-40\"/>\n       <path id=\"DejaVuSans-32\"/>\n       <path d=\"M 8.015625 75.875 \nL 15.828125 75.875 \nQ 23.140625 64.359375 26.78125 53.3125 \nQ 30.421875 42.28125 30.421875 31.390625 \nQ 30.421875 20.453125 26.78125 9.375 \nQ 23.140625 -1.703125 15.828125 -13.1875 \nL 8.015625 -13.1875 \nQ 14.5 -2 17.703125 9.0625 \nQ 20.90625 20.125 20.90625 31.390625 \nQ 20.90625 42.671875 17.703125 53.65625 \nQ 14.5 64.65625 8.015625 75.875 \nz\n\" id=\"DejaVuSans-41\"/>\n      </defs>\n      <g transform=\"translate(12.404688 15.941037)scale(0.1 -0.1)\">\n       <use xlink:href=\"#DejaVuSans-40\"/>\n       <use x=\"39.013672\" xlink:href=\"#DejaVuSans-121\"/>\n       <use x=\"98.193359\" xlink:href=\"#DejaVuSans-32\"/>\n       <use x=\"129.980469\" xlink:href=\"#DejaVuSans-105\"/>\n       <use x=\"157.763672\" xlink:href=\"#DejaVuSans-110\"/>\n       <use x=\"221.142578\" xlink:href=\"#DejaVuSans-116\"/>\n       <use x=\"260.351562\" xlink:href=\"#DejaVuSans-101\"/>\n       <use x=\"321.875\" xlink:href=\"#DejaVuSans-114\"/>\n       <use x=\"362.957031\" xlink:href=\"#DejaVuSans-99\"/>\n       <use x=\"417.9375\" xlink:href=\"#DejaVuSans-101\"/>\n       <use x=\"479.460938\" xlink:href=\"#DejaVuSans-112\"/>\n       <use x=\"542.9375\" xlink:href=\"#DejaVuSans-116\"/>\n       <use x=\"582.146484\" xlink:href=\"#DejaVuSans-41\"/>\n      </g>\n     </g>\n    </g>\n   </g>\n   <g id=\"patch_25\">\n    <path d=\"M 81.521875 224.64 \nL 81.521875 7.2 \n\" style=\"fill:none;stroke:#000000;stroke-linecap:square;stroke-linejoin:miter;stroke-width:0.8;\"/>\n   </g>\n   <g id=\"patch_26\">\n    <path d=\"M 416.321875 224.64 \nL 416.321875 7.2 \n\" style=\"fill:none;stroke:#000000;stroke-linecap:square;stroke-linejoin:miter;stroke-width:0.8;\"/>\n   </g>\n   <g id=\"patch_27\">\n    <path d=\"M 81.521875 224.64 \nL 416.321875 224.64 \n\" style=\"fill:none;stroke:#000000;stroke-linecap:square;stroke-linejoin:miter;stroke-width:0.8;\"/>\n   </g>\n   <g id=\"patch_28\">\n    <path d=\"M 81.521875 7.2 \nL 416.321875 7.2 \n\" style=\"fill:none;stroke:#000000;stroke-linecap:square;stroke-linejoin:miter;stroke-width:0.8;\"/>\n   </g>\n  </g>\n </g>\n <defs>\n  <clipPath id=\"p88e6cd4361\">\n   <rect height=\"217.44\" width=\"334.8\" x=\"81.521875\" y=\"7.2\"/>\n  </clipPath>\n </defs>\n</svg>\n",
            "text/plain": [
              "<Figure size 432x288 with 1 Axes>"
            ]
          },
          "metadata": {
            "tags": [],
            "needs_background": "light"
          }
        }
      ]
    },
    {
      "cell_type": "code",
      "metadata": {
        "id": "KxQixCDh_fLO",
        "colab_type": "code",
        "colab": {},
        "outputId": "c2f3bba1-ecd6-4c1d-82a5-3703a9d5ddeb"
      },
      "source": [
        "coefficients"
      ],
      "execution_count": 0,
      "outputs": [
        {
          "output_type": "execute_result",
          "data": {
            "text/plain": [
              "City            -0.001330\n",
              "County           0.008261\n",
              "CrashHour       -0.010968\n",
              "CrashMonth      -0.009142\n",
              "Development      0.033361\n",
              "LightCond       -0.068097\n",
              "Locality         0.016585\n",
              "NumLanes         0.050360\n",
              "RdCharacte       0.027702\n",
              "RdClass          0.128074\n",
              "RdConditio       0.001557\n",
              "RdConfig         0.031567\n",
              "RdDefects       -0.001759\n",
              "RdFeature       -0.015087\n",
              "RdSurface       -0.004395\n",
              "Region           0.014589\n",
              "RuralUrban       0.031191\n",
              "SpeedLimit       0.066307\n",
              "TraffCntrl      -0.001861\n",
              "Weather          0.002165\n",
              "Workzone        -0.000079\n",
              "(y intercept)   -2.531621\n",
              "dtype: float64"
            ]
          },
          "metadata": {
            "tags": []
          },
          "execution_count": 65
        }
      ]
    },
    {
      "cell_type": "code",
      "metadata": {
        "id": "M8YiMi0C_fLS",
        "colab_type": "code",
        "colab": {},
        "outputId": "61500f30-0968-4a99-e047-45b79a2a4800"
      },
      "source": [
        "coefficients.sort_values(ascending=False)"
      ],
      "execution_count": 0,
      "outputs": [
        {
          "output_type": "execute_result",
          "data": {
            "text/plain": [
              "RdClass          0.128074\n",
              "SpeedLimit       0.066307\n",
              "NumLanes         0.050360\n",
              "Development      0.033361\n",
              "RdConfig         0.031567\n",
              "RuralUrban       0.031191\n",
              "RdCharacte       0.027702\n",
              "Locality         0.016585\n",
              "Region           0.014589\n",
              "County           0.008261\n",
              "Weather          0.002165\n",
              "RdConditio       0.001557\n",
              "Workzone        -0.000079\n",
              "City            -0.001330\n",
              "RdDefects       -0.001759\n",
              "TraffCntrl      -0.001861\n",
              "RdSurface       -0.004395\n",
              "CrashMonth      -0.009142\n",
              "CrashHour       -0.010968\n",
              "RdFeature       -0.015087\n",
              "LightCond       -0.068097\n",
              "(y intercept)   -2.531621\n",
              "dtype: float64"
            ]
          },
          "metadata": {
            "tags": []
          },
          "execution_count": 66
        }
      ]
    },
    {
      "cell_type": "code",
      "metadata": {
        "id": "kDg0U7O__fLV",
        "colab_type": "code",
        "colab": {}
      },
      "source": [
        ""
      ],
      "execution_count": 0,
      "outputs": []
    }
  ]
}